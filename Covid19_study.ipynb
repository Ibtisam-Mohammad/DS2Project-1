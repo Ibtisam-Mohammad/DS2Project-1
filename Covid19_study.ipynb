{
  "cells": [
    {
      "cell_type": "markdown",
      "metadata": {
        "id": "view-in-github",
        "colab_type": "text"
      },
      "source": [
        "<a href=\"https://colab.research.google.com/github/Ibtisam-Mohammad/DS2Project-1/blob/main/Covid19_study.ipynb\" target=\"_parent\"><img src=\"https://colab.research.google.com/assets/colab-badge.svg\" alt=\"Open In Colab\"/></a>"
      ]
    },
    {
      "cell_type": "markdown",
      "metadata": {
        "id": "AwO3vwU3HigI"
      },
      "source": [
        "## **Covid-19 Study**\n"
      ]
    },
    {
      "cell_type": "markdown",
      "metadata": {
        "id": "pzYN98woHsXZ"
      },
      "source": [
        "### **Team:**"
      ]
    },
    {
      "cell_type": "markdown",
      "metadata": {
        "id": "Kgx5Swn1HvCY"
      },
      "source": [
        "  * Ananya Sadana\n",
        "  * Ibtisam \n",
        "  * Jai Aravind\n",
        "  * Raghav Sahni"
      ]
    },
    {
      "cell_type": "markdown",
      "metadata": {
        "id": "mJ1tI5D5-W9p"
      },
      "source": [
        "## Importing Libraries"
      ]
    },
    {
      "cell_type": "code",
      "execution_count": null,
      "metadata": {
        "id": "1S-l7XLpmW09"
      },
      "outputs": [],
      "source": [
        "import requests\n",
        "from IPython.core.display import HTML\n",
        "from statistics import mode"
      ]
    },
    {
      "cell_type": "code",
      "execution_count": null,
      "metadata": {
        "id": "EL5-qOM8XmMK"
      },
      "outputs": [],
      "source": [
        "# Import libraries\n",
        "%matplotlib inline\n",
        "import math\n",
        "import numpy as np\n",
        "import pandas as pd\n",
        "import seaborn as sns\n",
        "from collections import Counter\n",
        "import matplotlib.pyplot as plt\n",
        "from sklearn.utils import shuffle\n",
        "from sklearn import base\n",
        "from sklearn.linear_model import Lasso\n",
        "from sklearn import preprocessing\n",
        "from sklearn.preprocessing import StandardScaler\n",
        "from sklearn.metrics import mean_squared_error\n",
        "from sklearn.linear_model import LinearRegression\n",
        "from sklearn.pipeline import Pipeline\n",
        "from sklearn.model_selection import cross_validate\n",
        "from sklearn.model_selection import train_test_split\n",
        "from sklearn.preprocessing import PolynomialFeatures\n",
        "from sklearn.linear_model import LogisticRegression\n",
        "from sklearn.model_selection import cross_val_score\n",
        "from sklearn.metrics import accuracy_score\n",
        "from sklearn.model_selection import KFold\n",
        "from sklearn.metrics import roc_auc_score\n",
        "from sklearn.metrics import roc_curve\n",
        "sns.set()\n",
        "import tensorflow as tf\n",
        "from datetime import datetime\n",
        "from sklearn.metrics import mean_absolute_error\n",
        "tf.keras.backend.clear_session()\n",
        "\n",
        "import warnings"
      ]
    },
    {
      "cell_type": "markdown",
      "metadata": {
        "id": "3yctbr2zogTi"
      },
      "source": [
        "#Italy"
      ]
    },
    {
      "cell_type": "markdown",
      "metadata": {
        "id": "kG_0rnAjI3fp"
      },
      "source": [
        "## Data Exploration"
      ]
    },
    {
      "cell_type": "code",
      "execution_count": null,
      "metadata": {
        "colab": {
          "base_uri": "https://localhost:8080/",
          "height": 310
        },
        "id": "YOWnTChuamy2",
        "outputId": "89fc496d-28ae-46e3-fcd8-5221eb14da07"
      },
      "outputs": [
        {
          "data": {
            "text/html": [
              "<div>\n",
              "<style scoped>\n",
              "    .dataframe tbody tr th:only-of-type {\n",
              "        vertical-align: middle;\n",
              "    }\n",
              "\n",
              "    .dataframe tbody tr th {\n",
              "        vertical-align: top;\n",
              "    }\n",
              "\n",
              "    .dataframe thead th {\n",
              "        text-align: right;\n",
              "    }\n",
              "</style>\n",
              "<table border=\"1\" class=\"dataframe\">\n",
              "  <thead>\n",
              "    <tr style=\"text-align: right;\">\n",
              "      <th></th>\n",
              "      <th>SNo</th>\n",
              "      <th>Date</th>\n",
              "      <th>Country</th>\n",
              "      <th>RegionCode</th>\n",
              "      <th>RegionName</th>\n",
              "      <th>Latitude</th>\n",
              "      <th>Longitude</th>\n",
              "      <th>HospitalizedPatients</th>\n",
              "      <th>IntensiveCarePatients</th>\n",
              "      <th>TotalHospitalizedPatients</th>\n",
              "      <th>HomeConfinement</th>\n",
              "      <th>CurrentPositiveCases</th>\n",
              "      <th>NewPositiveCases</th>\n",
              "      <th>Recovered</th>\n",
              "      <th>Deaths</th>\n",
              "      <th>TotalPositiveCases</th>\n",
              "      <th>TestsPerformed</th>\n",
              "    </tr>\n",
              "  </thead>\n",
              "  <tbody>\n",
              "    <tr>\n",
              "      <th>0</th>\n",
              "      <td>0</td>\n",
              "      <td>2020-02-24T18:00:00</td>\n",
              "      <td>ITA</td>\n",
              "      <td>13</td>\n",
              "      <td>Abruzzo</td>\n",
              "      <td>42.351222</td>\n",
              "      <td>13.398438</td>\n",
              "      <td>0</td>\n",
              "      <td>0</td>\n",
              "      <td>0</td>\n",
              "      <td>0</td>\n",
              "      <td>0</td>\n",
              "      <td>0</td>\n",
              "      <td>0</td>\n",
              "      <td>0</td>\n",
              "      <td>0</td>\n",
              "      <td>NaN</td>\n",
              "    </tr>\n",
              "    <tr>\n",
              "      <th>1</th>\n",
              "      <td>1</td>\n",
              "      <td>2020-02-24T18:00:00</td>\n",
              "      <td>ITA</td>\n",
              "      <td>17</td>\n",
              "      <td>Basilicata</td>\n",
              "      <td>40.639471</td>\n",
              "      <td>15.805148</td>\n",
              "      <td>0</td>\n",
              "      <td>0</td>\n",
              "      <td>0</td>\n",
              "      <td>0</td>\n",
              "      <td>0</td>\n",
              "      <td>0</td>\n",
              "      <td>0</td>\n",
              "      <td>0</td>\n",
              "      <td>0</td>\n",
              "      <td>NaN</td>\n",
              "    </tr>\n",
              "    <tr>\n",
              "      <th>2</th>\n",
              "      <td>2</td>\n",
              "      <td>2020-02-24T18:00:00</td>\n",
              "      <td>ITA</td>\n",
              "      <td>18</td>\n",
              "      <td>Calabria</td>\n",
              "      <td>38.905976</td>\n",
              "      <td>16.594402</td>\n",
              "      <td>0</td>\n",
              "      <td>0</td>\n",
              "      <td>0</td>\n",
              "      <td>0</td>\n",
              "      <td>0</td>\n",
              "      <td>0</td>\n",
              "      <td>0</td>\n",
              "      <td>0</td>\n",
              "      <td>0</td>\n",
              "      <td>NaN</td>\n",
              "    </tr>\n",
              "    <tr>\n",
              "      <th>3</th>\n",
              "      <td>3</td>\n",
              "      <td>2020-02-24T18:00:00</td>\n",
              "      <td>ITA</td>\n",
              "      <td>15</td>\n",
              "      <td>Campania</td>\n",
              "      <td>40.839566</td>\n",
              "      <td>14.250850</td>\n",
              "      <td>0</td>\n",
              "      <td>0</td>\n",
              "      <td>0</td>\n",
              "      <td>0</td>\n",
              "      <td>0</td>\n",
              "      <td>0</td>\n",
              "      <td>0</td>\n",
              "      <td>0</td>\n",
              "      <td>0</td>\n",
              "      <td>NaN</td>\n",
              "    </tr>\n",
              "    <tr>\n",
              "      <th>4</th>\n",
              "      <td>4</td>\n",
              "      <td>2020-02-24T18:00:00</td>\n",
              "      <td>ITA</td>\n",
              "      <td>8</td>\n",
              "      <td>Emilia-Romagna</td>\n",
              "      <td>44.494367</td>\n",
              "      <td>11.341721</td>\n",
              "      <td>10</td>\n",
              "      <td>2</td>\n",
              "      <td>12</td>\n",
              "      <td>6</td>\n",
              "      <td>18</td>\n",
              "      <td>18</td>\n",
              "      <td>0</td>\n",
              "      <td>0</td>\n",
              "      <td>18</td>\n",
              "      <td>NaN</td>\n",
              "    </tr>\n",
              "  </tbody>\n",
              "</table>\n",
              "</div>"
            ],
            "text/plain": [
              "   SNo                 Date Country  ...  Deaths TotalPositiveCases  TestsPerformed\n",
              "0    0  2020-02-24T18:00:00     ITA  ...       0                  0             NaN\n",
              "1    1  2020-02-24T18:00:00     ITA  ...       0                  0             NaN\n",
              "2    2  2020-02-24T18:00:00     ITA  ...       0                  0             NaN\n",
              "3    3  2020-02-24T18:00:00     ITA  ...       0                  0             NaN\n",
              "4    4  2020-02-24T18:00:00     ITA  ...       0                 18             NaN\n",
              "\n",
              "[5 rows x 17 columns]"
            ]
          },
          "execution_count": 3,
          "metadata": {},
          "output_type": "execute_result"
        }
      ],
      "source": [
        "df = pd.read_csv(\"covid19_italy_region.csv\")\n",
        "df.head()"
      ]
    },
    {
      "cell_type": "code",
      "execution_count": null,
      "metadata": {
        "colab": {
          "base_uri": "https://localhost:8080/"
        },
        "id": "IL70R_TVb9yQ",
        "outputId": "2ccfb316-02cb-41d0-ab42-9138b454b3b8"
      },
      "outputs": [
        {
          "data": {
            "text/plain": [
              "(4242, 17)"
            ]
          },
          "execution_count": 4,
          "metadata": {},
          "output_type": "execute_result"
        }
      ],
      "source": [
        "df.shape"
      ]
    },
    {
      "cell_type": "code",
      "execution_count": null,
      "metadata": {
        "colab": {
          "base_uri": "https://localhost:8080/"
        },
        "id": "vwb7kN13ccSd",
        "outputId": "85200918-30bf-4f56-d6ad-389ac6014226"
      },
      "outputs": [
        {
          "data": {
            "text/plain": [
              "Puglia                   202\n",
              "Valle d'Aosta            202\n",
              "Emilia-Romagna           202\n",
              "Calabria                 202\n",
              "P.A. Trento              202\n",
              "Sardegna                 202\n",
              "Molise                   202\n",
              "Veneto                   202\n",
              "Campania                 202\n",
              "Friuli Venezia Giulia    202\n",
              "P.A. Bolzano             202\n",
              "Lombardia                202\n",
              "Basilicata               202\n",
              "Marche                   202\n",
              "Umbria                   202\n",
              "Piemonte                 202\n",
              "Toscana                  202\n",
              "Liguria                  202\n",
              "Lazio                    202\n",
              "Abruzzo                  202\n",
              "Sicilia                  202\n",
              "Name: RegionName, dtype: int64"
            ]
          },
          "execution_count": 5,
          "metadata": {},
          "output_type": "execute_result"
        }
      ],
      "source": [
        "df[\"RegionName\"].value_counts()"
      ]
    },
    {
      "cell_type": "code",
      "execution_count": null,
      "metadata": {
        "colab": {
          "base_uri": "https://localhost:8080/",
          "height": 173
        },
        "id": "OiwSWqEvctRg",
        "outputId": "47b99a9e-9e53-41d3-c76b-199a076aa86d"
      },
      "outputs": [
        {
          "data": {
            "text/html": [
              "<div>\n",
              "<style scoped>\n",
              "    .dataframe tbody tr th:only-of-type {\n",
              "        vertical-align: middle;\n",
              "    }\n",
              "\n",
              "    .dataframe tbody tr th {\n",
              "        vertical-align: top;\n",
              "    }\n",
              "\n",
              "    .dataframe thead th {\n",
              "        text-align: right;\n",
              "    }\n",
              "</style>\n",
              "<table border=\"1\" class=\"dataframe\">\n",
              "  <thead>\n",
              "    <tr style=\"text-align: right;\">\n",
              "      <th></th>\n",
              "      <th>Date</th>\n",
              "      <th>Country</th>\n",
              "      <th>RegionName</th>\n",
              "    </tr>\n",
              "  </thead>\n",
              "  <tbody>\n",
              "    <tr>\n",
              "      <th>count</th>\n",
              "      <td>4242</td>\n",
              "      <td>4242</td>\n",
              "      <td>4242</td>\n",
              "    </tr>\n",
              "    <tr>\n",
              "      <th>unique</th>\n",
              "      <td>202</td>\n",
              "      <td>1</td>\n",
              "      <td>21</td>\n",
              "    </tr>\n",
              "    <tr>\n",
              "      <th>top</th>\n",
              "      <td>2020-07-27T17:00:00</td>\n",
              "      <td>ITA</td>\n",
              "      <td>Puglia</td>\n",
              "    </tr>\n",
              "    <tr>\n",
              "      <th>freq</th>\n",
              "      <td>21</td>\n",
              "      <td>4242</td>\n",
              "      <td>202</td>\n",
              "    </tr>\n",
              "  </tbody>\n",
              "</table>\n",
              "</div>"
            ],
            "text/plain": [
              "                       Date Country RegionName\n",
              "count                  4242    4242       4242\n",
              "unique                  202       1         21\n",
              "top     2020-07-27T17:00:00     ITA     Puglia\n",
              "freq                     21    4242        202"
            ]
          },
          "execution_count": 6,
          "metadata": {},
          "output_type": "execute_result"
        }
      ],
      "source": [
        "#Describes categotical columns\n",
        "df.describe(include = \"O\") "
      ]
    },
    {
      "cell_type": "code",
      "execution_count": null,
      "metadata": {
        "colab": {
          "base_uri": "https://localhost:8080/"
        },
        "id": "rVsHQzZ0c5Ug",
        "outputId": "cedc4c40-0a35-489c-8b97-5d044ee5ead8"
      },
      "outputs": [
        {
          "data": {
            "text/plain": [
              "SNo                          False\n",
              "Date                         False\n",
              "Country                      False\n",
              "RegionCode                   False\n",
              "RegionName                   False\n",
              "Latitude                     False\n",
              "Longitude                    False\n",
              "HospitalizedPatients         False\n",
              "IntensiveCarePatients        False\n",
              "TotalHospitalizedPatients    False\n",
              "HomeConfinement              False\n",
              "CurrentPositiveCases         False\n",
              "NewPositiveCases             False\n",
              "Recovered                    False\n",
              "Deaths                       False\n",
              "TotalPositiveCases           False\n",
              "TestsPerformed                True\n",
              "dtype: bool"
            ]
          },
          "execution_count": 7,
          "metadata": {},
          "output_type": "execute_result"
        }
      ],
      "source": [
        "#Checks for null values in all columns\n",
        "df.isna().any()"
      ]
    },
    {
      "cell_type": "code",
      "execution_count": null,
      "metadata": {
        "colab": {
          "base_uri": "https://localhost:8080/",
          "height": 310
        },
        "id": "lB0PQztIdXSZ",
        "outputId": "1111e6bc-36b6-47f5-ca89-37c111b92719"
      },
      "outputs": [
        {
          "data": {
            "text/html": [
              "<div>\n",
              "<style scoped>\n",
              "    .dataframe tbody tr th:only-of-type {\n",
              "        vertical-align: middle;\n",
              "    }\n",
              "\n",
              "    .dataframe tbody tr th {\n",
              "        vertical-align: top;\n",
              "    }\n",
              "\n",
              "    .dataframe thead th {\n",
              "        text-align: right;\n",
              "    }\n",
              "</style>\n",
              "<table border=\"1\" class=\"dataframe\">\n",
              "  <thead>\n",
              "    <tr style=\"text-align: right;\">\n",
              "      <th></th>\n",
              "      <th>SNo</th>\n",
              "      <th>Date</th>\n",
              "      <th>Country</th>\n",
              "      <th>RegionCode</th>\n",
              "      <th>RegionName</th>\n",
              "      <th>Latitude</th>\n",
              "      <th>Longitude</th>\n",
              "      <th>HospitalizedPatients</th>\n",
              "      <th>IntensiveCarePatients</th>\n",
              "      <th>TotalHospitalizedPatients</th>\n",
              "      <th>HomeConfinement</th>\n",
              "      <th>CurrentPositiveCases</th>\n",
              "      <th>NewPositiveCases</th>\n",
              "      <th>Recovered</th>\n",
              "      <th>Deaths</th>\n",
              "      <th>TotalPositiveCases</th>\n",
              "      <th>TestsPerformed</th>\n",
              "    </tr>\n",
              "  </thead>\n",
              "  <tbody>\n",
              "    <tr>\n",
              "      <th>4237</th>\n",
              "      <td>4237</td>\n",
              "      <td>2020-09-12T17:00:00</td>\n",
              "      <td>ITA</td>\n",
              "      <td>19</td>\n",
              "      <td>Sicilia</td>\n",
              "      <td>38.115697</td>\n",
              "      <td>13.362357</td>\n",
              "      <td>116</td>\n",
              "      <td>18</td>\n",
              "      <td>134</td>\n",
              "      <td>1613</td>\n",
              "      <td>1747</td>\n",
              "      <td>44</td>\n",
              "      <td>3144</td>\n",
              "      <td>289</td>\n",
              "      <td>5180</td>\n",
              "      <td>298359.0</td>\n",
              "    </tr>\n",
              "    <tr>\n",
              "      <th>4238</th>\n",
              "      <td>4238</td>\n",
              "      <td>2020-09-12T17:00:00</td>\n",
              "      <td>ITA</td>\n",
              "      <td>9</td>\n",
              "      <td>Toscana</td>\n",
              "      <td>43.769231</td>\n",
              "      <td>11.255889</td>\n",
              "      <td>74</td>\n",
              "      <td>18</td>\n",
              "      <td>92</td>\n",
              "      <td>2310</td>\n",
              "      <td>2402</td>\n",
              "      <td>138</td>\n",
              "      <td>9473</td>\n",
              "      <td>1148</td>\n",
              "      <td>13023</td>\n",
              "      <td>419422.0</td>\n",
              "    </tr>\n",
              "    <tr>\n",
              "      <th>4239</th>\n",
              "      <td>4239</td>\n",
              "      <td>2020-09-12T17:00:00</td>\n",
              "      <td>ITA</td>\n",
              "      <td>10</td>\n",
              "      <td>Umbria</td>\n",
              "      <td>43.106758</td>\n",
              "      <td>12.388247</td>\n",
              "      <td>18</td>\n",
              "      <td>4</td>\n",
              "      <td>22</td>\n",
              "      <td>397</td>\n",
              "      <td>419</td>\n",
              "      <td>33</td>\n",
              "      <td>1542</td>\n",
              "      <td>81</td>\n",
              "      <td>2042</td>\n",
              "      <td>106482.0</td>\n",
              "    </tr>\n",
              "    <tr>\n",
              "      <th>4240</th>\n",
              "      <td>4240</td>\n",
              "      <td>2020-09-12T17:00:00</td>\n",
              "      <td>ITA</td>\n",
              "      <td>2</td>\n",
              "      <td>Valle d'Aosta</td>\n",
              "      <td>45.737503</td>\n",
              "      <td>7.320149</td>\n",
              "      <td>3</td>\n",
              "      <td>0</td>\n",
              "      <td>3</td>\n",
              "      <td>31</td>\n",
              "      <td>34</td>\n",
              "      <td>1</td>\n",
              "      <td>1078</td>\n",
              "      <td>146</td>\n",
              "      <td>1258</td>\n",
              "      <td>18424.0</td>\n",
              "    </tr>\n",
              "    <tr>\n",
              "      <th>4241</th>\n",
              "      <td>4241</td>\n",
              "      <td>2020-09-12T17:00:00</td>\n",
              "      <td>ITA</td>\n",
              "      <td>5</td>\n",
              "      <td>Veneto</td>\n",
              "      <td>45.434905</td>\n",
              "      <td>12.338452</td>\n",
              "      <td>99</td>\n",
              "      <td>12</td>\n",
              "      <td>111</td>\n",
              "      <td>2829</td>\n",
              "      <td>2940</td>\n",
              "      <td>138</td>\n",
              "      <td>19586</td>\n",
              "      <td>2141</td>\n",
              "      <td>24667</td>\n",
              "      <td>668332.0</td>\n",
              "    </tr>\n",
              "  </tbody>\n",
              "</table>\n",
              "</div>"
            ],
            "text/plain": [
              "       SNo                 Date  ... TotalPositiveCases  TestsPerformed\n",
              "4237  4237  2020-09-12T17:00:00  ...               5180        298359.0\n",
              "4238  4238  2020-09-12T17:00:00  ...              13023        419422.0\n",
              "4239  4239  2020-09-12T17:00:00  ...               2042        106482.0\n",
              "4240  4240  2020-09-12T17:00:00  ...               1258         18424.0\n",
              "4241  4241  2020-09-12T17:00:00  ...              24667        668332.0\n",
              "\n",
              "[5 rows x 17 columns]"
            ]
          },
          "execution_count": 8,
          "metadata": {},
          "output_type": "execute_result"
        }
      ],
      "source": [
        "df.tail()"
      ]
    },
    {
      "cell_type": "code",
      "execution_count": null,
      "metadata": {
        "colab": {
          "base_uri": "https://localhost:8080/"
        },
        "id": "aajRE8TWflj2",
        "outputId": "528cf4d5-363f-404b-b5ef-fc49c9cdca0b"
      },
      "outputs": [
        {
          "name": "stderr",
          "output_type": "stream",
          "text": [
            "No handles with labels found to put in legend.\n"
          ]
        },
        {
          "data": {
            "image/png": "[encoded data removed]",
            "text/plain": [
              "<Figure size 1080x720 with 1 Axes>"
            ]
          },
          "metadata": {},
          "output_type": "display_data"
        }
      ],
      "source": [
        "#To check the trend of new cases per day\n",
        "import seaborn as sns\n",
        "sns.set(rc = {\"figure.figsize\":(15,10)})\n",
        "sns.lineplot(x = \"Date\", y = \"NewPositiveCases\",data = df)\n",
        "plt.legend()\n",
        "plt.show()"
      ]
    },
    {
      "cell_type": "code",
      "execution_count": null,
      "metadata": {
        "id": "e8GvzF3Ngaie"
      },
      "outputs": [],
      "source": [
        "#Plotting to see how the total cases increase everyday\n",
        "sns.set(rc = {\"figure.figsize\":(15,10)})\n",
        "sns.lineplot(x = \"Date\", y = \"TotalPositiveCases\",data = df)\n",
        "plt.show()"
      ]
    },
    {
      "cell_type": "code",
      "execution_count": null,
      "metadata": {
        "id": "U0AEfzcCkfMG"
      },
      "outputs": [],
      "source": [
        "brazil = pd.read_csv(\"brazil_covid19_macro.csv\")\n",
        "brazil.head()"
      ]
    },
    {
      "cell_type": "code",
      "execution_count": null,
      "metadata": {
        "id": "TF9YzQcmniaV"
      },
      "outputs": [],
      "source": [
        "#Checking for Null Values\n",
        "brazil.isna().any()"
      ]
    },
    {
      "cell_type": "code",
      "execution_count": null,
      "metadata": {
        "id": "HUMU0n6jlfTd"
      },
      "outputs": [],
      "source": [
        "#Plotting to see how the total cases increase everyday\n",
        "sns.set(rc = {\"figure.figsize\":(15,10)})\n",
        "sns.lineplot(x = \"date\", y = \"cases\",data = brazil)\n",
        "plt.show()"
      ]
    },
    {
      "cell_type": "code",
      "execution_count": null,
      "metadata": {
        "id": "y_HFxrHdmfYB"
      },
      "outputs": [],
      "source": [
        "import datetime as dt\n",
        "df[\"Date\"] = pd.to_datetime(df[\"Date\"])\n",
        "df.head()"
      ]
    },
    {
      "cell_type": "code",
      "execution_count": null,
      "metadata": {
        "id": "OlC0Luckrb1B"
      },
      "outputs": [],
      "source": [
        "df[\"Date\"] = df[\"Date\"].map(dt.datetime.toordinal)\n",
        "df.head()"
      ]
    },
    {
      "cell_type": "code",
      "execution_count": null,
      "metadata": {
        "id": "Xfm2g2PNqKQV"
      },
      "outputs": [],
      "source": [
        "brazil[\"date\"] = pd.to_datetime(brazil[\"date\"])\n",
        "brazil[\"date\"] = brazil[\"date\"].map(dt.datetime.toordinal)\n",
        "brazil.head()"
      ]
    },
    {
      "cell_type": "code",
      "execution_count": null,
      "metadata": {
        "id": "L6vkY6WgrK_L"
      },
      "outputs": [],
      "source": [
        "brazil.tail()"
      ]
    },
    {
      "cell_type": "markdown",
      "metadata": {
        "id": "AlA4O34kldyY"
      },
      "source": [
        "## Polynomial Regression "
      ]
    },
    {
      "cell_type": "code",
      "execution_count": null,
      "metadata": {
        "id": "uf-YwVZMTVlC"
      },
      "outputs": [],
      "source": [
        "Italy  = {}\n",
        "for ind, i in enumerate(df[\"Date\"].values):\n",
        "    if i in Italy.keys():\n",
        "        Italy[i] += df[\"TotalPositiveCases\"].values[ind]\n",
        "    else:\n",
        "        Italy[i] = df[\"TotalPositiveCases\"].values[ind]"
      ]
    },
    {
      "cell_type": "code",
      "execution_count": null,
      "metadata": {
        "id": "WEGgOMqCrzT8"
      },
      "outputs": [],
      "source": [
        "#Define predictor and variable to be predicted\n",
        "x = np.fromiter(Italy.keys(), dtype=int)\n",
        "y = np.fromiter(Italy.values(), dtype=int)"
      ]
    },
    {
      "cell_type": "code",
      "execution_count": null,
      "metadata": {
        "id": "1EKOrSVPYd7w"
      },
      "outputs": [],
      "source": [
        "sns.set(rc = {\"figure.figsize\":(15,10)})\n",
        "sns.lineplot(x = x, y = y)\n",
        "plt.show()"
      ]
    },
    {
      "cell_type": "code",
      "execution_count": null,
      "metadata": {
        "id": "3Stb7fXhsO2x"
      },
      "outputs": [],
      "source": [
        "x_train,x_val,y_train,y_val = train_test_split(x,y,train_size = 0.8)"
      ]
    },
    {
      "cell_type": "code",
      "execution_count": null,
      "metadata": {
        "id": "EIBG7hyZmq7M"
      },
      "outputs": [],
      "source": [
        "X_poly_train = PolynomialFeatures(3).fit_transform(x_train.reshape(-1,1))\n",
        "X_poly_val = PolynomialFeatures(3).fit_transform(x_val.reshape(-1,1))\n"
      ]
    },
    {
      "cell_type": "code",
      "execution_count": null,
      "metadata": {
        "id": "96VIE1Iepnd0"
      },
      "outputs": [],
      "source": [
        "len(X_poly_train)"
      ]
    },
    {
      "cell_type": "code",
      "execution_count": null,
      "metadata": {
        "id": "pIpH_mftpczg"
      },
      "outputs": [],
      "source": [
        "linreg = LinearRegression()\n",
        "linreg.fit(X_poly_train, y_train)\n",
        "y_val_pred = linreg.predict(X_poly_val)\n",
        "mse_final = mean_squared_error(y_val, y_val_pred)"
      ]
    },
    {
      "cell_type": "code",
      "execution_count": null,
      "metadata": {
        "id": "Hy8e_lPSpt5Z"
      },
      "outputs": [],
      "source": [
        "print(mse_final)"
      ]
    },
    {
      "cell_type": "code",
      "execution_count": null,
      "metadata": {
        "id": "ny_QMgTIZE78"
      },
      "outputs": [],
      "source": [
        "X_t = x_val.reshape(-1,1)"
      ]
    },
    {
      "cell_type": "code",
      "execution_count": null,
      "metadata": {
        "id": "9VDfavacZKqO"
      },
      "outputs": [],
      "source": [
        "idx = np.argsort(X_t[:,0])\n",
        "x_t = X_t[idx]\n",
        "y_v = y_val_pred[idx]"
      ]
    },
    {
      "cell_type": "code",
      "execution_count": null,
      "metadata": {
        "id": "FL7S0wcdZOBm"
      },
      "outputs": [],
      "source": [
        "plt.close()\n",
        "plt.scatter(x, y)\n",
        "plt.plot(x_t,y_v, color = \"red\",label=\"Polynomial fit\", alpha=0.6)\n",
        "plt.xlabel(\"Spreading Factor\")\n",
        "plt.ylabel(\"Perc_population\")\n",
        "plt.title(\"Scatter plot showing relationship between Spreading factor and perc_population\")\n",
        "plt.legend()\n",
        "plt.show()"
      ]
    },
    {
      "cell_type": "code",
      "execution_count": null,
      "metadata": {
        "id": "pb_c60l8qeJz"
      },
      "outputs": [],
      "source": [
        "# your code here\n",
        "maxdeg = 30\n",
        "alpha = [0.001,0.01,0.1,1,10,100,1000]"
      ]
    },
    {
      "cell_type": "code",
      "execution_count": null,
      "metadata": {
        "id": "FHfPOV5RqC0k"
      },
      "outputs": [],
      "source": [
        "training_mse, validation_mse = [],[]\n",
        "cve_mean = {}\n",
        "for a in alpha:\n",
        "    X_poly = PolynomialFeatures(maxdeg).fit_transform(x.reshape(-1,1))\n",
        "    X_poly_train =  PolynomialFeatures(maxdeg).fit_transform(x_train.reshape(-1,1))\n",
        "    X_poly_val= PolynomialFeatures(maxdeg).fit_transform(x_val.reshape(-1,1))\n",
        "    lasso_reg = Lasso(alpha=a,fit_intercept=True)\n",
        "    lasso_reg.fit(X_poly_train, y_train)\n",
        "    y_train_pred = lasso_reg.predict(X_poly_train)\n",
        "    y_val_pred = lasso_reg.predict(X_poly_val)\n",
        "    training_mse.append(mean_squared_error(y_train_pred, y_train))\n",
        "    validation_mse.append(mean_squared_error(y_val, y_val_pred))\n",
        "    mse_score = cross_validate(estimator = lasso_reg,X = X_poly,y = y, scoring = \"neg_mean_squared_error\", cv = 10)\n",
        "    cve_mean[abs(mse_score[\"test_score\"].mean())] = a\n",
        "    \n",
        "best_alpha = cve_mean[min(cve_mean.keys())]"
      ]
    },
    {
      "cell_type": "code",
      "execution_count": null,
      "metadata": {
        "id": "JvFhUweTJvt0"
      },
      "outputs": [],
      "source": [
        "best_alpha"
      ]
    },
    {
      "cell_type": "code",
      "execution_count": null,
      "metadata": {
        "id": "iQEBzeSsm471"
      },
      "outputs": [],
      "source": [
        "cve_mean"
      ]
    },
    {
      "cell_type": "code",
      "execution_count": null,
      "metadata": {
        "id": "FGrBbGrzqusI"
      },
      "outputs": [],
      "source": [
        "# your code here\n",
        "degree=30\n",
        "significant_degrees = {}\n",
        "for i in range(degree):\n",
        "    X_poly_train =  PolynomialFeatures(degree).fit_transform(x_train.reshape(-1,1))\n",
        "    X_poly_val= PolynomialFeatures(degree).fit_transform(x_val.reshape(-1,1))\n",
        "    lasso_reg = Lasso(alpha=0.01,fit_intercept=False)\n",
        "    lasso_reg.fit(X_poly_train, y_train) \n",
        "    y_train_pred = lasso_reg.predict(X_poly_train) \n",
        "    y_val_pred = lasso_reg.predict(X_poly_val)\n",
        "    for  i,beta in enumerate(lasso_reg.coef_):\n",
        "        if abs(beta) > 0.1:\n",
        "            if i in significant_degrees.keys():\n",
        "                significant_degrees[i] = significant_degrees[i] + 1\n",
        "            else:\n",
        "                significant_degrees[i] = 1"
      ]
    },
    {
      "cell_type": "code",
      "execution_count": null,
      "metadata": {
        "id": "EfCkK3dFrBxh"
      },
      "outputs": [],
      "source": [
        "significant_degrees"
      ]
    },
    {
      "cell_type": "code",
      "execution_count": null,
      "metadata": {
        "id": "6YotCQLrnSai"
      },
      "outputs": [],
      "source": [
        "plt.bar(significant_degrees.keys(), significant_degrees.values(), width = 0.1, color = \"blue\")\n",
        "plt.xlabel(\"Degrees\")\n",
        "plt.ylabel(\"Frequencies\")"
      ]
    },
    {
      "cell_type": "code",
      "execution_count": null,
      "metadata": {
        "colab": {
          "background_save": true
        },
        "id": "9ceSpUuJntGs",
        "outputId": "bd1338d0-b797-46c4-c17f-8e0dd7c2d138"
      },
      "outputs": [
        {
          "name": "stdout",
          "output_type": "stream",
          "text": [
            "The plot will be linear\n"
          ]
        }
      ],
      "source": [
        "print(\"The plot will be linear\")"
      ]
    },
    {
      "cell_type": "code",
      "execution_count": null,
      "metadata": {
        "colab": {
          "background_save": true
        },
        "id": "PDZXiZVFrWLI",
        "outputId": "7c2575b8-8ae2-446b-e341-e9d50a698b61"
      },
      "outputs": [
        {
          "name": "stdout",
          "output_type": "stream",
          "text": [
            "5904391138.394933\n"
          ]
        }
      ],
      "source": [
        "X_poly_train =  PolynomialFeatures(0).fit_transform(x_train.reshape(-1,1))\n",
        "X_poly_val= PolynomialFeatures(0).fit_transform(x_val.reshape(-1,1))\n",
        "lasso_reg = Lasso(alpha=0.01,fit_intercept=False)\n",
        "lasso_reg.fit(X_poly_train, y_train)\n",
        "y_train_pred = lasso_reg.predict(X_poly_train)\n",
        "y_val_pred = lasso_reg.predict(X_poly_val)\n",
        "mse = mean_squared_error(y_val, y_val_pred)\n",
        "print(mse)"
      ]
    },
    {
      "cell_type": "code",
      "execution_count": null,
      "metadata": {
        "colab": {
          "background_save": true
        },
        "id": "hbGMRvbgsmqn"
      },
      "outputs": [],
      "source": [
        "X_t = x_val.reshape(-1,1)"
      ]
    },
    {
      "cell_type": "code",
      "execution_count": null,
      "metadata": {
        "colab": {
          "background_save": true
        },
        "id": "1rXI4EXrrrLX"
      },
      "outputs": [],
      "source": [
        "idx = np.argsort(X_t[:,0])\n",
        "x_t = X_t[idx]\n",
        "y_v = y_val_pred[idx]"
      ]
    },
    {
      "cell_type": "code",
      "execution_count": null,
      "metadata": {
        "colab": {
          "background_save": true
        },
        "id": "Oy4cw_sMsX08",
        "outputId": "d010df0c-d997-4179-fdae-daa2d3cca66f"
      },
      "outputs": [
        {
          "data": {
            "image/png": "[encoded data removed]",
            "text/plain": [
              "<Figure size 1080x720 with 1 Axes>"
            ]
          },
          "metadata": {},
          "output_type": "display_data"
        }
      ],
      "source": [
        "plt.close()\n",
        "plt.scatter(x, y)\n",
        "plt.plot(x_t,y_v, color = \"red\",label=\"Polynomial fit\", alpha=0.6)\n",
        "plt.xlabel(\"Spreading Factor\")\n",
        "plt.ylabel(\"Perc_population\")\n",
        "plt.title(\"Scatter plot showing relationship between Spreading factor and perc_population\")\n",
        "plt.legend()\n",
        "plt.show()"
      ]
    },
    {
      "cell_type": "code",
      "execution_count": null,
      "metadata": {
        "colab": {
          "background_save": true
        },
        "id": "K4mtxqepsbof"
      },
      "outputs": [],
      "source": [
        ""
      ]
    },
    {
      "cell_type": "markdown",
      "metadata": {
        "id": "wYXLEfn593vy"
      },
      "source": [
        "## Time Series Pipeline"
      ]
    },
    {
      "cell_type": "code",
      "execution_count": null,
      "metadata": {
        "colab": {
          "background_save": true
        },
        "id": "zDfgNH7zW1n3"
      },
      "outputs": [],
      "source": [
        "class ToSupervised(base.BaseEstimator,base.TransformerMixin):\n",
        "    \n",
        "    def __init__(self,col,groupCol,numLags,dropna=False):\n",
        "        \n",
        "        self.col = col\n",
        "        self.groupCol = groupCol\n",
        "        self.numLags = numLags\n",
        "        self.dropna = dropna\n",
        "        \n",
        "    def fit(self,X,y=None):\n",
        "        self.X = X\n",
        "        return self\n",
        "    \n",
        "    def transform(self,X):\n",
        "        tmp = self.X.copy()\n",
        "        for i in range(1,self.numLags+1):\n",
        "            tmp[str(i)+'_Week_Ago'+\"_\"+self.col] = tmp.groupby([self.groupCol])[self.col].shift(i) \n",
        "            \n",
        "        if self.dropna:\n",
        "            tmp = tmp.dropna()\n",
        "            tmp = tmp.reset_index(drop=True)\n",
        "            \n",
        "        \n",
        "            \n",
        "        return tmp"
      ]
    },
    {
      "cell_type": "code",
      "execution_count": null,
      "metadata": {
        "colab": {
          "background_save": true
        },
        "id": "kyaC9qSkVp9d"
      },
      "outputs": [],
      "source": [
        "class ToSupervisedDiff(base.BaseEstimator,base.TransformerMixin):\n",
        "    \n",
        "    def __init__(self,col,groupCol,numLags,dropna=False):\n",
        "        \n",
        "        self.col = col\n",
        "        self.groupCol = groupCol\n",
        "        self.numLags = numLags\n",
        "        self.dropna = dropna\n",
        "        \n",
        "    def fit(self,X,y=None):\n",
        "        self.X = X\n",
        "        return self\n",
        "    \n",
        "    def transform(self,X):\n",
        "        tmp = self.X.copy()\n",
        "        for i in range(1,self.numLags+1):\n",
        "            tmp[str(i)+'_Week_Ago_Diff_'+\"_\"+self.col] = tmp.groupby([self.groupCol])[self.col].diff(i) \n",
        "            \n",
        "        if self.dropna:\n",
        "            tmp = tmp.dropna()\n",
        "            tmp = tmp.reset_index(drop=True)\n",
        "            \n",
        "        return tmp"
      ]
    },
    {
      "cell_type": "code",
      "execution_count": null,
      "metadata": {
        "colab": {
          "background_save": true
        },
        "id": "np4zxxN0Vt8q"
      },
      "outputs": [],
      "source": [
        "from itertools import chain\n",
        "class Kfold_time(object):\n",
        "    \n",
        "    def __init__(self,**options):\n",
        "        \n",
        "        \n",
        "        self.target     = options.pop('target', None)\n",
        "        self.date_col   = options.pop('date_col', None)\n",
        "        self.date_init  = options.pop('date_init', None)\n",
        "        self.date_final = options.pop('date_final', None)\n",
        "\n",
        "        if options:\n",
        "            raise TypeError(\"Invalid parameters passed: %s\" % str(options))\n",
        "            \n",
        "        if ((self.target==None )| (self.date_col==None )| (self.date_init==None ) | (self.date_final==None )):\n",
        "            raise TypeError(\"Incomplete inputs\")\n",
        "    \n",
        "    def _train_test_split_time(self,X):\n",
        "        n_arrays = len(X)\n",
        "        if n_arrays == 0:\n",
        "            raise ValueError(\"At least one array required as input\")\n",
        "\n",
        "        for i in range(self.date_init,self.date_final):\n",
        "\n",
        "            train = X[X[self.date_col] < i]\n",
        "            val   = X[X[self.date_col] == i]\n",
        "\n",
        "            X_train, X_test = train.drop([self.target], axis=1), val.drop([self.target], axis=1)\n",
        "            y_train, y_test = train[self.target].values, val[self.target].values\n",
        "\n",
        "            yield X_train, X_test, y_train, y_test\n",
        "\n",
        "    \n",
        "    def split(self,X):\n",
        "        cv_t = self._train_test_split_time(X)\n",
        "        return chain(cv_t)"
      ]
    },
    {
      "cell_type": "code",
      "execution_count": null,
      "metadata": {
        "colab": {
          "background_save": true
        },
        "id": "Xc9qrAfoWMIc"
      },
      "outputs": [],
      "source": [
        "class TimeSeriesRegressor(base.BaseEstimator, base.RegressorMixin):\n",
        "    \n",
        "    def __init__(self,model,cv,scoring,verbosity=True):\n",
        "        self.model = model\n",
        "        self.cv = cv\n",
        "        self.verbosity = verbosity\n",
        "        self.scoring = scoring \n",
        "        \n",
        "            \n",
        "    def fit(self,X,y=None):\n",
        "        return self\n",
        "        \n",
        "    \n",
        "    def predict(self,X=None):\n",
        "        \n",
        "        pred = {}\n",
        "        for indx,fold in enumerate(self.cv.split(X)):\n",
        "\n",
        "            X_train, X_test, y_train, y_test = fold    \n",
        "            self.model.fit(X_train, y_train)\n",
        "            pred[str(indx)+'_fold'] = self.model.predict(X_test)\n",
        "            \n",
        "        prediction = pd.DataFrame(pred)\n",
        "    \n",
        "        return prediction\n",
        "    \n",
        "\n",
        "    def score(self,X,y=None):\n",
        "\n",
        "\n",
        "        errors = []\n",
        "        for indx,fold in enumerate(self.cv.split(X)):\n",
        "\n",
        "            X_train, X_test, y_train, y_test = fold    \n",
        "            self.model.fit(X_train, y_train)\n",
        "            prediction = self.model.predict(X_test)\n",
        "            error = self.scoring(y_test, prediction)\n",
        "            errors.append(error)\n",
        "\n",
        "            if self.verbosity:\n",
        "                print(\"Fold: {}, Error: {:.4f}\".format(indx,error))\n",
        "\n",
        "        if self.verbosity:\n",
        "            print('Total Error {:.4f}'.format(np.mean(errors)))\n",
        "\n",
        "        return errors"
      ]
    },
    {
      "cell_type": "code",
      "execution_count": null,
      "metadata": {
        "colab": {
          "background_save": true
        },
        "id": "cp7N-HiFl6BN"
      },
      "outputs": [],
      "source": [
        "def getDataFramePipeline(i):\n",
        "    steps = [(str(i)+'_step',ToSupervised('TotalPositiveCases','RegionCode',i))]\n",
        "    for j in range(1,i+1):\n",
        "        if i==j:\n",
        "\n",
        "            pp = (str(j)+'_step_diff',\n",
        "                  ToSupervisedDiff(str(i)+'_Week_Ago_TotalPositiveCases','RegionCode',1,dropna=True))\n",
        "            steps.append(pp)\n",
        "        else:\n",
        "\n",
        "            pp = (str(j)+'_step_diff',\n",
        "                  ToSupervisedDiff(str(i)+'_Week_Ago_TotalPositiveCases','RegionCode',1))\n",
        "            steps.append(pp)\n",
        "            \n",
        "    return steps"
      ]
    },
    {
      "cell_type": "code",
      "execution_count": null,
      "metadata": {
        "colab": {
          "background_save": true
        },
        "id": "zAcirbRqmuAx"
      },
      "outputs": [],
      "source": [
        "df = df.drop(['Country', 'RegionName'], axis=1)"
      ]
    },
    {
      "cell_type": "code",
      "execution_count": null,
      "metadata": {
        "colab": {
          "background_save": true
        },
        "id": "PfF2N546Z0cX"
      },
      "outputs": [],
      "source": [
        "steps = [('1_step',ToSupervised('TotalPositiveCases', 'RegionCode',1)),\n",
        "         ('1_step_diff',ToSupervisedDiff('1_Week_Ago_TotalPositiveCases', 'RegionCode',1,dropna=True))]\n",
        "super_1 = Pipeline(steps).fit_transform(df)"
      ]
    },
    {
      "cell_type": "code",
      "execution_count": null,
      "metadata": {
        "colab": {
          "background_save": true
        },
        "id": "LjZcYLmKc8Ar",
        "outputId": "d25bf6f1-60d0-42d9-f79e-e6ee23a52443"
      },
      "outputs": [
        {
          "data": {
            "text/html": [
              "<div>\n",
              "<style scoped>\n",
              "    .dataframe tbody tr th:only-of-type {\n",
              "        vertical-align: middle;\n",
              "    }\n",
              "\n",
              "    .dataframe tbody tr th {\n",
              "        vertical-align: top;\n",
              "    }\n",
              "\n",
              "    .dataframe thead th {\n",
              "        text-align: right;\n",
              "    }\n",
              "</style>\n",
              "<table border=\"1\" class=\"dataframe\">\n",
              "  <thead>\n",
              "    <tr style=\"text-align: right;\">\n",
              "      <th></th>\n",
              "      <th>SNo</th>\n",
              "      <th>Date</th>\n",
              "      <th>RegionCode</th>\n",
              "      <th>Latitude</th>\n",
              "      <th>Longitude</th>\n",
              "      <th>HospitalizedPatients</th>\n",
              "      <th>IntensiveCarePatients</th>\n",
              "      <th>TotalHospitalizedPatients</th>\n",
              "      <th>HomeConfinement</th>\n",
              "      <th>CurrentPositiveCases</th>\n",
              "      <th>NewPositiveCases</th>\n",
              "      <th>Recovered</th>\n",
              "      <th>Deaths</th>\n",
              "      <th>TotalPositiveCases</th>\n",
              "      <th>TestsPerformed</th>\n",
              "      <th>1_Week_Ago_TotalPositiveCases</th>\n",
              "      <th>1_Week_Ago_Diff__1_Week_Ago_TotalPositiveCases</th>\n",
              "    </tr>\n",
              "  </thead>\n",
              "  <tbody>\n",
              "    <tr>\n",
              "      <th>0</th>\n",
              "      <td>1155</td>\n",
              "      <td>737534</td>\n",
              "      <td>13</td>\n",
              "      <td>42.351222</td>\n",
              "      <td>13.398438</td>\n",
              "      <td>317</td>\n",
              "      <td>40</td>\n",
              "      <td>357</td>\n",
              "      <td>1630</td>\n",
              "      <td>1987</td>\n",
              "      <td>34</td>\n",
              "      <td>276</td>\n",
              "      <td>258</td>\n",
              "      <td>2521</td>\n",
              "      <td>22424.0</td>\n",
              "      <td>2487.0</td>\n",
              "      <td>44.0</td>\n",
              "    </tr>\n",
              "    <tr>\n",
              "      <th>1</th>\n",
              "      <td>1156</td>\n",
              "      <td>737534</td>\n",
              "      <td>17</td>\n",
              "      <td>40.639471</td>\n",
              "      <td>15.805148</td>\n",
              "      <td>59</td>\n",
              "      <td>8</td>\n",
              "      <td>67</td>\n",
              "      <td>180</td>\n",
              "      <td>247</td>\n",
              "      <td>3</td>\n",
              "      <td>71</td>\n",
              "      <td>24</td>\n",
              "      <td>342</td>\n",
              "      <td>6528.0</td>\n",
              "      <td>339.0</td>\n",
              "      <td>2.0</td>\n",
              "    </tr>\n",
              "    <tr>\n",
              "      <th>2</th>\n",
              "      <td>1157</td>\n",
              "      <td>737534</td>\n",
              "      <td>18</td>\n",
              "      <td>38.905976</td>\n",
              "      <td>16.594402</td>\n",
              "      <td>142</td>\n",
              "      <td>6</td>\n",
              "      <td>148</td>\n",
              "      <td>696</td>\n",
              "      <td>844</td>\n",
              "      <td>24</td>\n",
              "      <td>116</td>\n",
              "      <td>75</td>\n",
              "      <td>1035</td>\n",
              "      <td>22234.0</td>\n",
              "      <td>1011.0</td>\n",
              "      <td>20.0</td>\n",
              "    </tr>\n",
              "    <tr>\n",
              "      <th>3</th>\n",
              "      <td>1158</td>\n",
              "      <td>737534</td>\n",
              "      <td>15</td>\n",
              "      <td>40.839566</td>\n",
              "      <td>14.250850</td>\n",
              "      <td>590</td>\n",
              "      <td>61</td>\n",
              "      <td>651</td>\n",
              "      <td>2371</td>\n",
              "      <td>3022</td>\n",
              "      <td>41</td>\n",
              "      <td>703</td>\n",
              "      <td>304</td>\n",
              "      <td>4029</td>\n",
              "      <td>34994.0</td>\n",
              "      <td>3988.0</td>\n",
              "      <td>37.0</td>\n",
              "    </tr>\n",
              "    <tr>\n",
              "      <th>4</th>\n",
              "      <td>1159</td>\n",
              "      <td>737534</td>\n",
              "      <td>8</td>\n",
              "      <td>44.494367</td>\n",
              "      <td>11.341721</td>\n",
              "      <td>3166</td>\n",
              "      <td>289</td>\n",
              "      <td>3455</td>\n",
              "      <td>10097</td>\n",
              "      <td>13552</td>\n",
              "      <td>376</td>\n",
              "      <td>5985</td>\n",
              "      <td>3023</td>\n",
              "      <td>22560</td>\n",
              "      <td>88776.0</td>\n",
              "      <td>22184.0</td>\n",
              "      <td>350.0</td>\n",
              "    </tr>\n",
              "  </tbody>\n",
              "</table>\n",
              "</div>"
            ],
            "text/plain": [
              "    SNo  ...  1_Week_Ago_Diff__1_Week_Ago_TotalPositiveCases\n",
              "0  1155  ...                                            44.0\n",
              "1  1156  ...                                             2.0\n",
              "2  1157  ...                                            20.0\n",
              "3  1158  ...                                            37.0\n",
              "4  1159  ...                                           350.0\n",
              "\n",
              "[5 rows x 17 columns]"
            ]
          },
          "execution_count": null,
          "metadata": {},
          "output_type": "execute_result"
        }
      ],
      "source": [
        "super_1.head()"
      ]
    },
    {
      "cell_type": "code",
      "execution_count": null,
      "metadata": {
        "colab": {
          "background_save": true
        },
        "id": "7NWtKHiGeqwR",
        "outputId": "67250391-b47f-4bc9-fde0-7b87f0f88023"
      },
      "outputs": [
        {
          "data": {
            "text/html": [
              "<div>\n",
              "<style scoped>\n",
              "    .dataframe tbody tr th:only-of-type {\n",
              "        vertical-align: middle;\n",
              "    }\n",
              "\n",
              "    .dataframe tbody tr th {\n",
              "        vertical-align: top;\n",
              "    }\n",
              "\n",
              "    .dataframe thead th {\n",
              "        text-align: right;\n",
              "    }\n",
              "</style>\n",
              "<table border=\"1\" class=\"dataframe\">\n",
              "  <thead>\n",
              "    <tr style=\"text-align: right;\">\n",
              "      <th></th>\n",
              "      <th>SNo</th>\n",
              "      <th>Date</th>\n",
              "      <th>RegionCode</th>\n",
              "      <th>Latitude</th>\n",
              "      <th>Longitude</th>\n",
              "      <th>HospitalizedPatients</th>\n",
              "      <th>IntensiveCarePatients</th>\n",
              "      <th>TotalHospitalizedPatients</th>\n",
              "      <th>HomeConfinement</th>\n",
              "      <th>CurrentPositiveCases</th>\n",
              "      <th>NewPositiveCases</th>\n",
              "      <th>Recovered</th>\n",
              "      <th>Deaths</th>\n",
              "      <th>TotalPositiveCases</th>\n",
              "      <th>TestsPerformed</th>\n",
              "      <th>1_Week_Ago_TotalPositiveCases</th>\n",
              "      <th>1_Week_Ago_Diff__1_Week_Ago_TotalPositiveCases</th>\n",
              "    </tr>\n",
              "  </thead>\n",
              "  <tbody>\n",
              "    <tr>\n",
              "      <th>0</th>\n",
              "      <td>1155</td>\n",
              "      <td>737534</td>\n",
              "      <td>13</td>\n",
              "      <td>42.351222</td>\n",
              "      <td>13.398438</td>\n",
              "      <td>317</td>\n",
              "      <td>40</td>\n",
              "      <td>357</td>\n",
              "      <td>1630</td>\n",
              "      <td>1987</td>\n",
              "      <td>34</td>\n",
              "      <td>276</td>\n",
              "      <td>258</td>\n",
              "      <td>2521</td>\n",
              "      <td>22424.0</td>\n",
              "      <td>2487.0</td>\n",
              "      <td>44.0</td>\n",
              "    </tr>\n",
              "    <tr>\n",
              "      <th>1</th>\n",
              "      <td>1156</td>\n",
              "      <td>737534</td>\n",
              "      <td>17</td>\n",
              "      <td>40.639471</td>\n",
              "      <td>15.805148</td>\n",
              "      <td>59</td>\n",
              "      <td>8</td>\n",
              "      <td>67</td>\n",
              "      <td>180</td>\n",
              "      <td>247</td>\n",
              "      <td>3</td>\n",
              "      <td>71</td>\n",
              "      <td>24</td>\n",
              "      <td>342</td>\n",
              "      <td>6528.0</td>\n",
              "      <td>339.0</td>\n",
              "      <td>2.0</td>\n",
              "    </tr>\n",
              "    <tr>\n",
              "      <th>2</th>\n",
              "      <td>1157</td>\n",
              "      <td>737534</td>\n",
              "      <td>18</td>\n",
              "      <td>38.905976</td>\n",
              "      <td>16.594402</td>\n",
              "      <td>142</td>\n",
              "      <td>6</td>\n",
              "      <td>148</td>\n",
              "      <td>696</td>\n",
              "      <td>844</td>\n",
              "      <td>24</td>\n",
              "      <td>116</td>\n",
              "      <td>75</td>\n",
              "      <td>1035</td>\n",
              "      <td>22234.0</td>\n",
              "      <td>1011.0</td>\n",
              "      <td>20.0</td>\n",
              "    </tr>\n",
              "    <tr>\n",
              "      <th>3</th>\n",
              "      <td>1158</td>\n",
              "      <td>737534</td>\n",
              "      <td>15</td>\n",
              "      <td>40.839566</td>\n",
              "      <td>14.250850</td>\n",
              "      <td>590</td>\n",
              "      <td>61</td>\n",
              "      <td>651</td>\n",
              "      <td>2371</td>\n",
              "      <td>3022</td>\n",
              "      <td>41</td>\n",
              "      <td>703</td>\n",
              "      <td>304</td>\n",
              "      <td>4029</td>\n",
              "      <td>34994.0</td>\n",
              "      <td>3988.0</td>\n",
              "      <td>37.0</td>\n",
              "    </tr>\n",
              "    <tr>\n",
              "      <th>4</th>\n",
              "      <td>1159</td>\n",
              "      <td>737534</td>\n",
              "      <td>8</td>\n",
              "      <td>44.494367</td>\n",
              "      <td>11.341721</td>\n",
              "      <td>3166</td>\n",
              "      <td>289</td>\n",
              "      <td>3455</td>\n",
              "      <td>10097</td>\n",
              "      <td>13552</td>\n",
              "      <td>376</td>\n",
              "      <td>5985</td>\n",
              "      <td>3023</td>\n",
              "      <td>22560</td>\n",
              "      <td>88776.0</td>\n",
              "      <td>22184.0</td>\n",
              "      <td>350.0</td>\n",
              "    </tr>\n",
              "  </tbody>\n",
              "</table>\n",
              "</div>"
            ],
            "text/plain": [
              "    SNo  ...  1_Week_Ago_Diff__1_Week_Ago_TotalPositiveCases\n",
              "0  1155  ...                                            44.0\n",
              "1  1156  ...                                             2.0\n",
              "2  1157  ...                                            20.0\n",
              "3  1158  ...                                            37.0\n",
              "4  1159  ...                                           350.0\n",
              "\n",
              "[5 rows x 17 columns]"
            ]
          },
          "execution_count": null,
          "metadata": {},
          "output_type": "execute_result"
        }
      ],
      "source": [
        "super_1.drop([0])\n",
        "super_1.head()"
      ]
    },
    {
      "cell_type": "code",
      "execution_count": null,
      "metadata": {
        "colab": {
          "background_save": true
        },
        "id": "aXBQGWSXi7m6",
        "outputId": "689c3092-3a8f-4450-e51a-45cd26caad99"
      },
      "outputs": [
        {
          "data": {
            "text/html": [
              "<div>\n",
              "<style scoped>\n",
              "    .dataframe tbody tr th:only-of-type {\n",
              "        vertical-align: middle;\n",
              "    }\n",
              "\n",
              "    .dataframe tbody tr th {\n",
              "        vertical-align: top;\n",
              "    }\n",
              "\n",
              "    .dataframe thead th {\n",
              "        text-align: right;\n",
              "    }\n",
              "</style>\n",
              "<table border=\"1\" class=\"dataframe\">\n",
              "  <thead>\n",
              "    <tr style=\"text-align: right;\">\n",
              "      <th></th>\n",
              "      <th>SNo</th>\n",
              "      <th>Date</th>\n",
              "      <th>RegionCode</th>\n",
              "      <th>Latitude</th>\n",
              "      <th>Longitude</th>\n",
              "      <th>HospitalizedPatients</th>\n",
              "      <th>IntensiveCarePatients</th>\n",
              "      <th>TotalHospitalizedPatients</th>\n",
              "      <th>HomeConfinement</th>\n",
              "      <th>CurrentPositiveCases</th>\n",
              "      <th>NewPositiveCases</th>\n",
              "      <th>Recovered</th>\n",
              "      <th>Deaths</th>\n",
              "      <th>TotalPositiveCases</th>\n",
              "      <th>TestsPerformed</th>\n",
              "      <th>1_Week_Ago_TotalPositiveCases</th>\n",
              "      <th>1_Week_Ago_Diff__1_Week_Ago_TotalPositiveCases</th>\n",
              "    </tr>\n",
              "  </thead>\n",
              "  <tbody>\n",
              "    <tr>\n",
              "      <th>3082</th>\n",
              "      <td>4237</td>\n",
              "      <td>737680</td>\n",
              "      <td>19</td>\n",
              "      <td>38.115697</td>\n",
              "      <td>13.362357</td>\n",
              "      <td>116</td>\n",
              "      <td>18</td>\n",
              "      <td>134</td>\n",
              "      <td>1613</td>\n",
              "      <td>1747</td>\n",
              "      <td>44</td>\n",
              "      <td>3144</td>\n",
              "      <td>289</td>\n",
              "      <td>5180</td>\n",
              "      <td>298359.0</td>\n",
              "      <td>5136.0</td>\n",
              "      <td>104.0</td>\n",
              "    </tr>\n",
              "    <tr>\n",
              "      <th>3083</th>\n",
              "      <td>4238</td>\n",
              "      <td>737680</td>\n",
              "      <td>9</td>\n",
              "      <td>43.769231</td>\n",
              "      <td>11.255889</td>\n",
              "      <td>74</td>\n",
              "      <td>18</td>\n",
              "      <td>92</td>\n",
              "      <td>2310</td>\n",
              "      <td>2402</td>\n",
              "      <td>138</td>\n",
              "      <td>9473</td>\n",
              "      <td>1148</td>\n",
              "      <td>13023</td>\n",
              "      <td>419422.0</td>\n",
              "      <td>12885.0</td>\n",
              "      <td>147.0</td>\n",
              "    </tr>\n",
              "    <tr>\n",
              "      <th>3084</th>\n",
              "      <td>4239</td>\n",
              "      <td>737680</td>\n",
              "      <td>10</td>\n",
              "      <td>43.106758</td>\n",
              "      <td>12.388247</td>\n",
              "      <td>18</td>\n",
              "      <td>4</td>\n",
              "      <td>22</td>\n",
              "      <td>397</td>\n",
              "      <td>419</td>\n",
              "      <td>33</td>\n",
              "      <td>1542</td>\n",
              "      <td>81</td>\n",
              "      <td>2042</td>\n",
              "      <td>106482.0</td>\n",
              "      <td>2009.0</td>\n",
              "      <td>17.0</td>\n",
              "    </tr>\n",
              "    <tr>\n",
              "      <th>3085</th>\n",
              "      <td>4240</td>\n",
              "      <td>737680</td>\n",
              "      <td>2</td>\n",
              "      <td>45.737503</td>\n",
              "      <td>7.320149</td>\n",
              "      <td>3</td>\n",
              "      <td>0</td>\n",
              "      <td>3</td>\n",
              "      <td>31</td>\n",
              "      <td>34</td>\n",
              "      <td>1</td>\n",
              "      <td>1078</td>\n",
              "      <td>146</td>\n",
              "      <td>1258</td>\n",
              "      <td>18424.0</td>\n",
              "      <td>1257.0</td>\n",
              "      <td>3.0</td>\n",
              "    </tr>\n",
              "    <tr>\n",
              "      <th>3086</th>\n",
              "      <td>4241</td>\n",
              "      <td>737680</td>\n",
              "      <td>5</td>\n",
              "      <td>45.434905</td>\n",
              "      <td>12.338452</td>\n",
              "      <td>99</td>\n",
              "      <td>12</td>\n",
              "      <td>111</td>\n",
              "      <td>2829</td>\n",
              "      <td>2940</td>\n",
              "      <td>138</td>\n",
              "      <td>19586</td>\n",
              "      <td>2141</td>\n",
              "      <td>24667</td>\n",
              "      <td>668332.0</td>\n",
              "      <td>24529.0</td>\n",
              "      <td>173.0</td>\n",
              "    </tr>\n",
              "  </tbody>\n",
              "</table>\n",
              "</div>"
            ],
            "text/plain": [
              "       SNo  ...  1_Week_Ago_Diff__1_Week_Ago_TotalPositiveCases\n",
              "3082  4237  ...                                           104.0\n",
              "3083  4238  ...                                           147.0\n",
              "3084  4239  ...                                            17.0\n",
              "3085  4240  ...                                             3.0\n",
              "3086  4241  ...                                           173.0\n",
              "\n",
              "[5 rows x 17 columns]"
            ]
          },
          "execution_count": null,
          "metadata": {},
          "output_type": "execute_result"
        }
      ],
      "source": [
        "super_1.tail()"
      ]
    },
    {
      "cell_type": "code",
      "execution_count": null,
      "metadata": {
        "colab": {
          "background_save": true
        },
        "id": "StgwkCXNiW76"
      },
      "outputs": [],
      "source": [
        "model = LinearRegression()"
      ]
    },
    {
      "cell_type": "code",
      "execution_count": null,
      "metadata": {
        "colab": {
          "background_save": true
        },
        "id": "4Suc8_lri0Lq"
      },
      "outputs": [],
      "source": [
        "kf = Kfold_time(target='TotalPositiveCases',date_col = 'Date',date_init=737534,date_final=737754)"
      ]
    },
    {
      "cell_type": "code",
      "execution_count": null,
      "metadata": {
        "colab": {
          "background_save": true
        },
        "id": "zPhhZMyGhlc6"
      },
      "outputs": [],
      "source": [
        "steps_3 = [('1_step',ToSupervised('TotalPositiveCases','RegionCode',3)),\n",
        "         ('1_step_diff',ToSupervisedDiff('1_Week_Ago_TotalPositiveCases','RegionCode',1)),\n",
        "         ('2_step_diff',ToSupervisedDiff('2_Week_Ago_TotalPositiveCases','RegionCode',1)),\n",
        "         ('3_step_diff',ToSupervisedDiff('3_Week_Ago_TotalPositiveCases','RegionCode',1,dropna=True)),\n",
        "         ('predic_3',TimeSeriesRegressor(model=model,cv=kf,scoring=mean_squared_error))]\n",
        "super_3_p = Pipeline(steps_3).fit(df)"
      ]
    },
    {
      "cell_type": "code",
      "execution_count": null,
      "metadata": {
        "colab": {
          "background_save": true
        },
        "id": "Iz74AFWRjOUW"
      },
      "outputs": [],
      "source": [
        "kf_test = Kfold_time(target='TotalPositiveCases',date_col = 'Date',date_init=737755,date_final=737765)"
      ]
    },
    {
      "cell_type": "code",
      "execution_count": null,
      "metadata": {
        "colab": {
          "background_save": true
        },
        "id": "xoxPLVwtjkVD"
      },
      "outputs": [],
      "source": [
        "steps_10 = getDataFramePipeline(10)\n",
        "super_10 = Pipeline(steps_10).fit_transform(df)\n",
        "T = TimeSeriesRegressor(model=model,cv=kf_test,scoring=mean_squared_error, verbosity=True)\n",
        "T.fit(super_10)\n",
        "prediction =T.predict(super_10)"
      ]
    },
    {
      "cell_type": "code",
      "execution_count": null,
      "metadata": {
        "colab": {
          "background_save": true
        },
        "id": "Jn7dgZxDnLnY"
      },
      "outputs": [],
      "source": [
        "prediction.head()"
      ]
    },
    {
      "cell_type": "code",
      "execution_count": null,
      "metadata": {
        "colab": {
          "background_save": true
        },
        "id": "HfTolHp7pzDx"
      },
      "outputs": [],
      "source": [
        "T.score(super_10)"
      ]
    },
    {
      "cell_type": "code",
      "execution_count": null,
      "metadata": {
        "colab": {
          "background_save": true
        },
        "id": "FazMY8tkz6RK"
      },
      "outputs": [],
      "source": [
        "plt.figure(figsize=(8,8))\n",
        "plt.scatter(prediction['0_fold'], df[df['Date']==737755].TotalPositiveCases)\n",
        "plt.scatter(prediction['9_fold'], df[df['Date']==737765].TotalPositiveCases)\n",
        "plt.xlabel('Total Positive Cases',fontsize=14)\n",
        "plt.ylabel('Prediction',fontsize=14)\n",
        "plt.title('Predicted vs Actual cases',fontsize=18)\n",
        "plt.show()"
      ]
    },
    {
      "cell_type": "code",
      "execution_count": null,
      "metadata": {
        "colab": {
          "background_save": true
        },
        "id": "zYVyVrs1j4lt"
      },
      "outputs": [],
      "source": [
        "df[df['Date']==737755].TotalPositiveCases"
      ]
    },
    {
      "cell_type": "markdown",
      "metadata": {
        "id": "5UIWJi_t9TjX"
      },
      "source": [
        "Testing on Brazil's dataset"
      ]
    },
    {
      "cell_type": "code",
      "execution_count": null,
      "metadata": {
        "colab": {
          "background_save": true
        },
        "id": "CZz6C23ft57E"
      },
      "outputs": [],
      "source": [
        "brazil.rename(columns = {'country':'RegionCode'}, inplace = True)\n",
        "brazil.rename(columns = {'cases':'TotalPositiveCases'}, inplace = True)\n",
        "brazil.rename(columns = {'date':'Date'}, inplace = True)"
      ]
    },
    {
      "cell_type": "code",
      "execution_count": null,
      "metadata": {
        "colab": {
          "background_save": true
        },
        "id": "h0D6Mh2d1ivU"
      },
      "outputs": [],
      "source": [
        "brazil = brazil.drop(['recovered', 'monitoring'], axis=1)"
      ]
    },
    {
      "cell_type": "code",
      "execution_count": null,
      "metadata": {
        "colab": {
          "background_save": true
        },
        "id": "Cd_OdEsR2vG2"
      },
      "outputs": [],
      "source": [
        "le = preprocessing.LabelEncoder()\n",
        "brazil['RegionCode'] = le.fit_transform(brazil['RegionCode'])"
      ]
    },
    {
      "cell_type": "code",
      "execution_count": null,
      "metadata": {
        "colab": {
          "background_save": true
        },
        "id": "FV6GdZjqtHm9"
      },
      "outputs": [],
      "source": [
        "steps_2 = [('1_step',ToSupervised('TotalPositiveCases', 'RegionCode',1)),\n",
        "         ('1_step_diff',ToSupervisedDiff('1_Week_Ago_TotalPositiveCases', 'RegionCode',1,dropna=True))]\n",
        "super_2 = Pipeline(steps).fit_transform(brazil)"
      ]
    },
    {
      "cell_type": "code",
      "execution_count": null,
      "metadata": {
        "colab": {
          "background_save": true
        },
        "id": "xdqno0nq1J4K"
      },
      "outputs": [],
      "source": [
        "super_2.head()"
      ]
    },
    {
      "cell_type": "code",
      "execution_count": null,
      "metadata": {
        "colab": {
          "background_save": true
        },
        "id": "KjqRG_Pv5Ko7"
      },
      "outputs": [],
      "source": [
        "steps_50_b = getDataFramePipeline(50)\n",
        "super_50_b = Pipeline(steps_50_b).fit_transform(brazil)\n",
        "predict_brazil =T.predict(super_50_b)\n",
        "predict_brazil.head()"
      ]
    },
    {
      "cell_type": "code",
      "execution_count": null,
      "metadata": {
        "colab": {
          "background_save": true
        },
        "id": "I1G3PLbn5hA6"
      },
      "outputs": [],
      "source": [
        "T.score(super_50_b)"
      ]
    },
    {
      "cell_type": "code",
      "execution_count": null,
      "metadata": {
        "colab": {
          "background_save": true
        },
        "id": "QECykdRgela_"
      },
      "outputs": [],
      "source": [
        "plt.figure(figsize=(8,8))\n",
        "plt.scatter(predict_brazil['0_fold'], brazil[brazil['Date']==737755].TotalPositiveCases)\n",
        "plt.scatter(predict_brazil['9_fold'], brazil[brazil['Date']==737765].TotalPositiveCases)\n",
        "plt.xlabel('Total Positive Cases',fontsize=14)\n",
        "plt.ylabel('Prediction',fontsize=14)\n",
        "plt.title('Predicted vs Actual cases',fontsize=18)\n",
        "plt.show()"
      ]
    },
    {
      "cell_type": "code",
      "execution_count": null,
      "metadata": {
        "colab": {
          "background_save": true
        },
        "id": "n802ZTw5kwfm"
      },
      "outputs": [],
      "source": [
        "print(f\"Actual Case recorded: {brazil[brazil['Date']==737755].TotalPositiveCases.values[0]}\\nPrediction for that date: {predict_brazil['0_fold'].values[0]}\")"
      ]
    },
    {
      "cell_type": "code",
      "execution_count": null,
      "metadata": {
        "colab": {
          "background_save": true
        },
        "id": "P2SRWmw4kw0l"
      },
      "outputs": [],
      "source": [
        "print(f\"Actual Case recorded: {brazil[brazil['Date']==737765].TotalPositiveCases.values[0]}\\nPrediction for that date: {predict_brazil['9_fold'].values[0]}\")"
      ]
    },
    {
      "cell_type": "markdown",
      "metadata": {
        "id": "zm-4VbVli6pj"
      },
      "source": [
        "# **India** \n",
        "\n",
        "---\n",
        " **Taking a look at the future cases in India and judging the future of Brazil**"
      ]
    },
    {
      "cell_type": "markdown",
      "metadata": {
        "id": "XA0o0o1OxDO6"
      },
      "source": [
        "Region wise italian data"
      ]
    },
    {
      "cell_type": "code",
      "execution_count": null,
      "metadata": {
        "colab": {
          "background_save": true
        },
        "id": "chy99jdeTZCu"
      },
      "outputs": [],
      "source": [
        "ity_reg=pd.read_csv('covid19_italy_region.csv')\n",
        "#cleaning data\n",
        "ity_reg['Date']=pd.to_datetime(ity_reg['Date']).dt.date\n",
        "ity_reg=ity_reg.sort_values(by=['RegionName','Date']).reset_index(drop=True)\n",
        "ity_reg=ity_reg.drop(['Latitude',\n",
        "       'Longitude', 'HospitalizedPatients', 'IntensiveCarePatients',\n",
        "       'TotalHospitalizedPatients', 'HomeConfinement','Recovered','TestsPerformed','Country'],axis=1)"
      ]
    },
    {
      "cell_type": "markdown",
      "metadata": {
        "id": "LKfWBJxQxHyS"
      },
      "source": [
        "Brazil covid data"
      ]
    },
    {
      "cell_type": "code",
      "execution_count": null,
      "metadata": {
        "colab": {
          "background_save": true
        },
        "id": "H6Ntfh2LZi5H"
      },
      "outputs": [],
      "source": [
        "br_state=pd.read_csv('brazil_covid19.csv')\n",
        "#cleaning data\n",
        "br_state.dropna(inplace=True)\n",
        "br_state['date'] = pd.to_datetime(br_state['date']).dt.date\n",
        "br_state=br_state.sort_values(by=['state','date']).reset_index(drop=True)\n"
      ]
    },
    {
      "cell_type": "markdown",
      "metadata": {
        "id": "hVfagXX8xLV9"
      },
      "source": [
        "Brazil old covid data"
      ]
    },
    {
      "cell_type": "code",
      "execution_count": null,
      "metadata": {
        "colab": {
          "background_save": true
        },
        "id": "iS3v2sBnURYI"
      },
      "outputs": [],
      "source": [
        "br_old=pd.read_csv('brazil_covid19_old.csv')\n",
        "#cleaning data\n",
        "br_old['date'] = pd.to_datetime(br_old['date']).dt.date\n",
        "br_old=br_old.sort_values(by=['state','date']).reset_index(drop=True)\n",
        "br_old=br_old.drop(['suspects','refuses','hour'],axis=1)\n",
        "br_old"
      ]
    },
    {
      "cell_type": "markdown",
      "metadata": {
        "id": "Ix-Fk1p5xSyj"
      },
      "source": [
        "For plotting deaths vs cases and dates for old Brazillian data"
      ]
    },
    {
      "cell_type": "code",
      "execution_count": null,
      "metadata": {
        "colab": {
          "background_save": true
        },
        "id": "LYRtVzpNaijZ"
      },
      "outputs": [],
      "source": [
        "fig,(ax0,ax1)=plt.subplots(1,2,figsize=(20,10))\n",
        "sns.lineplot(x='date',y=\"deaths\",data=br_old,ax=ax0,color='maroon')\n",
        "ax1.axes.get_xaxis().set_ticks([])\n",
        "sns.lineplot(x='cases',y=\"deaths\",data=br_old,ax=ax1)\n",
        "fig.autofmt_xdate()\n",
        "plt.show"
      ]
    },
    {
      "cell_type": "markdown",
      "metadata": {
        "id": "tTctXDtCxc0q"
      },
      "source": [
        "Brazil covid data city wise"
      ]
    },
    {
      "cell_type": "code",
      "execution_count": null,
      "metadata": {
        "colab": {
          "background_save": true
        },
        "id": "wc7jsdx3i6qV"
      },
      "outputs": [],
      "source": [
        "\n",
        "br_city=pd.read_csv('brazil_covid19_cities.csv')\n",
        "#cleaning data\n",
        "br_city.dropna(inplace=True)\n",
        "\n",
        "# br_city['date'] = pd.to_datetime(br_city['date']).dt.date\n",
        "# br_city=br_city.sort_values(by=['code','date'])"
      ]
    },
    {
      "cell_type": "markdown",
      "metadata": {
        "id": "XwXQ-0BwxmEc"
      },
      "source": [
        "Indian data state wise"
      ]
    },
    {
      "cell_type": "code",
      "execution_count": null,
      "metadata": {
        "colab": {
          "background_save": true
        },
        "id": "_XLpMH-TpYtL"
      },
      "outputs": [],
      "source": [
        "df_ind=pd.read_csv('covid_19_india.csv')\n",
        "#cleaning data\n",
        "from datetime import datetime\n",
        "df_ind.dropna(inplace=True)\n",
        "df_ind=df_ind.drop(['ConfirmedIndianNational','ConfirmedForeignNational','Cured','Time'],axis=1)\n",
        "\n",
        "# df_ind['Date'] = pd.to_datetime(df_ind['Date']).dt.date\n",
        "# df_ind=df_ind.sort_values(by=['State/UnionTerritory','Date']).reset_index(drop=True)"
      ]
    },
    {
      "cell_type": "markdown",
      "metadata": {
        "id": "9mk9sf9Vxt9e"
      },
      "source": [
        "Increase in deaths and cases with time in India"
      ]
    },
    {
      "cell_type": "code",
      "execution_count": null,
      "metadata": {
        "colab": {
          "background_save": true
        },
        "id": "CpPNiArahkUL"
      },
      "outputs": [],
      "source": [
        "fig,(ax0,ax1)=plt.subplots(1,2,figsize=(20,10))\n",
        "sns.lineplot(x='Date',y=\"Deaths\",data=df_ind,ax=ax0,color='maroon')\n",
        "sns.lineplot(x='Date',y=\"Confirmed\",data=df_ind,ax=ax1,color='blue')\n",
        "\n",
        "plt.show"
      ]
    },
    {
      "cell_type": "markdown",
      "metadata": {
        "id": "KK3JoMWYyR83"
      },
      "source": [
        "Date on which to impose Lockdown in Brazil based on Future India"
      ]
    },
    {
      "cell_type": "code",
      "execution_count": null,
      "metadata": {
        "colab": {
          "background_save": true
        },
        "id": "OkIFe2rMqjoK"
      },
      "outputs": [],
      "source": [
        "# Date on which to impose Lockdown in Brazil based on Future India\n",
        "c,d =pd.DataFrame(),pd.DataFrame()\n",
        "\n",
        "c=c.append(df_ind[df_ind['Date']=='25/03/20'],ignore_index=True)# lockdown date in India\n",
        "d=d.append(df_ind[df_ind['Date']=='31/05/20'],ignore_index=True) # lockdown lifting date in India\n",
        "\n",
        "ind_lock_death,ind_lock_case=c[\"Deaths\"].sum(),c['Confirmed'].sum()\n",
        "ind_end_death,ind_end_case=d[\"Deaths\"].sum(),d['Confirmed'].sum()\n",
        "\n",
        "j=0\n",
        "for i in br_city['date'].unique():\n",
        "  b=pd.DataFrame()\n",
        "  b=b.append(br_city[br_city['date']==i],ignore_index=True)\n",
        "  br_lock_death,br_lock_case = b[\"deaths\"].sum(),b['cases'].sum()\n",
        "    \n",
        "  \n",
        "  if (b[\"deaths\"].sum()>ind_lock_death or b['cases'].sum()>ind_lock_case)and j==0:\n",
        "    date_start=i\n",
        "    print('Impose Lockdown on:',i,'as deaths are:',br_lock_death,'and cases are:',br_lock_case)\n",
        "    j=j+1\n",
        "  if b['cases'].sum()>ind_end_case:\n",
        "    date_end=i\n",
        "    print('Lift Lockdown on:',i,'as deaths are:',br_lock_death,'and cases are:',br_lock_case)\n",
        "    break\n",
        "    "
      ]
    },
    {
      "cell_type": "markdown",
      "metadata": {
        "id": "F6RPYhHAweO_"
      },
      "source": [
        "Getting capital cities of Brazil using br_cord"
      ]
    },
    {
      "cell_type": "code",
      "execution_count": null,
      "metadata": {
        "colab": {
          "background_save": true
        },
        "id": "ZNd09OUsU1bE"
      },
      "outputs": [],
      "source": [
        "# Brazil data from where to get the capital cities\n",
        "br_cord=pd.read_csv('/content/Data/Brazil/brazil_cities_coordinates.csv')\n",
        "br_cord.dropna(inplace=True)\n",
        "\n",
        "cap_city_br=br_cord[br_cord['capital']==True]['city_name'].values\n",
        "br_cap_city=br_city[br_city['name'].isin(cap_city_br)]\n",
        "br_cap_city['date'] = pd.to_datetime(br_cap_city['date']).dt.date\n",
        "br_cap_city_daily=br_cap_city.copy()\n",
        "#getting daily cases in capital cities\n",
        "# br_cap_city_daily['daily cases']=br_cap_city.cases.diff()\n",
        "# br_cap_city_daily['daily deaths']=br_cap_city.deaths.diff()\n",
        "# a=(br_cap_city_daily[br_cap_city_daily['daily cases']<0]).index.tolist()\n",
        "# b=(br_cap_city_daily[br_cap_city_daily['daily deaths']<0]).index.tolist()\n",
        "# br_cap_city_daily=br_cap_city_daily.drop(a)\n",
        "# br_cap_city_daily=br_cap_city_daily.drop(b,errors='ignore')\n",
        "# br_cap_city_daily.dropna(inplace=True)"
      ]
    },
    {
      "cell_type": "markdown",
      "metadata": {
        "id": "opMIzoVrwXR7"
      },
      "source": [
        "Plotting cases and deaths vs dates for capital cities"
      ]
    },
    {
      "cell_type": "code",
      "execution_count": null,
      "metadata": {
        "colab": {
          "background_save": true
        },
        "id": "Fa2ODrBSgQYG"
      },
      "outputs": [],
      "source": [
        "fig,(ax0,ax1)=plt.subplots(1,2,figsize=(20,10))\n",
        "\n",
        "sns.lineplot(x='date',y=\"deaths\",data=br_cap_city,ax=ax0,color='maroon',hue='name',legend=False)\n",
        "ax0.axvline(x=datetime.strptime(date_start, \"%Y-%m-%d\"),color='red',label='Impose strict Lockdown')\n",
        "ax0.axvline(x=datetime.strptime(date_end, \"%Y-%m-%d\"),color='green',label='Lift Lockdown')\n",
        "\n",
        "sns.lineplot(x='date',y=\"cases\",data=br_cap_city_daily,ax=ax1,color='blue')\n",
        "ax1.axvline(x=datetime.strptime(date_start, \"%Y-%m-%d\"),color='red',label='Impose strict Lockdown')\n",
        "ax1.axvline(x=datetime.strptime(date_end, \"%Y-%m-%d\"),color='green',label='Lift Lockdown')\n",
        "\n",
        "fig.suptitle('Graphs showing at which point should Brazil impose and lift Lockdown')\n",
        "\n",
        "ax0.legend()\n",
        "ax1.legend()\n",
        "plt.show"
      ]
    },
    {
      "cell_type": "markdown",
      "metadata": {
        "id": "UkoM-jDtwJMy"
      },
      "source": [
        "For plotting cases vs deaths in each brazillian capital"
      ]
    },
    {
      "cell_type": "code",
      "execution_count": null,
      "metadata": {
        "colab": {
          "background_save": true
        },
        "id": "MOnElbzvYR-t"
      },
      "outputs": [],
      "source": [
        "fig, axes = plt.subplots(9,3, figsize=(20,20))\n",
        "i =br_cap_city['name'].unique()\n",
        "j=0\n",
        "for ax in axes.ravel():\n",
        "  b=br_cap_city[br_cap_city['name']==i[j]]\n",
        "  sns.lineplot(x='cases',y='deaths',data=b,ax=ax)\n",
        "  ax.set_title(i[j])\n",
        "fig.tight_layout()\n",
        "plt.show()"
      ]
    },
    {
      "cell_type": "markdown",
      "metadata": {
        "id": "Z3YrAnJKwFSJ"
      },
      "source": [
        "For plotting covid state wise data of india"
      ]
    },
    {
      "cell_type": "code",
      "execution_count": null,
      "metadata": {
        "colab": {
          "background_save": true
        },
        "id": "D0Do2GrZp7Ul"
      },
      "outputs": [],
      "source": [
        "fig, axes = plt.subplots(int((len(df_ind['State/UnionTerritory'].unique())-4)/3),3, figsize=(30,50))\n",
        "i=df_ind['State/UnionTerritory'].unique()\n",
        "j=0\n",
        "for ax in axes.ravel():\n",
        "\n",
        "    if i[j] in ['Cases being reassigned to states','Telangana***', 'Telengana***','Unassigned']:\n",
        "      continue\n",
        "    \n",
        "    b=df_ind[df_ind['State/UnionTerritory']==i[j]]\n",
        "    sns.lineplot(x='Confirmed',y='Deaths',data=b,ax=ax)\n",
        "    ax.set_title(i[j])\n",
        "    j+=1\n",
        "fig.tight_layout()\n",
        "plt.show()"
      ]
    },
    {
      "cell_type": "markdown",
      "metadata": {
        "id": "2UGT-XQsv-qF"
      },
      "source": [
        "Predicting brazillian state covid data using linear regression from Indian state"
      ]
    },
    {
      "cell_type": "code",
      "execution_count": null,
      "metadata": {
        "colab": {
          "background_save": true
        },
        "id": "JMHr7Lg-mlFj"
      },
      "outputs": [],
      "source": [
        "min_mse2=[]\n",
        "\n",
        "for j in br_state['state'].unique():\n",
        "  mse={}\n",
        "  x_test=br_state[br_state['state']==j][['cases']]\n",
        "  y_test=br_state[br_state['state']==j][['deaths']]\n",
        "  for i in df_ind['State/UnionTerritory'].unique():\n",
        "    x_train=df_ind[df_ind['State/UnionTerritory']==i][['Confirmed']]\n",
        "    y_train=df_ind[df_ind['State/UnionTerritory']==i]['Deaths']\n",
        "\n",
        "    lreg=LinearRegression()\n",
        "    \n",
        "    x_train_poly=PolynomialFeatures(degree=1).fit_transform(x_train)\n",
        "    x_test_poly=PolynomialFeatures(degree=1).fit_transform(x_test)\n",
        "    lreg.fit(x_train_poly,y_train)\n",
        "    y_pred=lreg.predict(x_test_poly)\n",
        "\n",
        "    mse[i]=mean_absolute_error(y_test,y_pred)\n",
        "  ke=[k for k,v in mse.items() if v==min(mse.values())][0]\n",
        "  min_mse2.append( [ke,j,min(mse.values()) ])\n",
        "pd.DataFrame(min_mse2,columns=['Best State for prediction','State','Error'])"
      ]
    },
    {
      "cell_type": "markdown",
      "metadata": {
        "id": "1h4Epk8SvoJO"
      },
      "source": [
        "Predicting using simple Linear regression for India and Brazil"
      ]
    },
    {
      "cell_type": "code",
      "execution_count": null,
      "metadata": {
        "colab": {
          "background_save": true
        },
        "id": "1ob5PmVakTVs"
      },
      "outputs": [],
      "source": [
        "min_mse3=[]\n",
        "\n",
        "for j in br_cap_city_daily['name'].unique()[:20]:   # increase the number of cities here\n",
        "  mse={}\n",
        "  x_test=br_cap_city_daily[br_cap_city['name']==j][['cases']]\n",
        "  y_test=br_cap_city_daily[br_cap_city['name']==j]['deaths']\n",
        "  for i in df_ind['State/UnionTerritory'].unique():\n",
        "    x_train=df_ind[df_ind['State/UnionTerritory']==i][['cases']]\n",
        "    y_train=df_ind[df_ind['State/UnionTerritory']==i]['deaths']\n",
        "\n",
        "    lreg=LinearRegression()\n",
        "    lreg.fit(x_train,y_train)\n",
        "    y_pred=lreg.predict(x_test)\n",
        "\n",
        "    mse[i]=mean_absolute_error(y_test,y_pred)\n",
        "  ke=[k for k,v in mse.items() if v==min(mse.values())][0]\n",
        "  min_mse3.append( [ke,j,min(mse.values()) ])\n",
        "pd.DataFrame(min_mse3,columns=['Best State for prediction','City','Error'])"
      ]
    },
    {
      "cell_type": "markdown",
      "metadata": {
        "id": "vAf2xYOKvTVK"
      },
      "source": [
        "Trying Polynomial regression of daily cases vs daily deaths of India and Brazil"
      ]
    },
    {
      "cell_type": "code",
      "execution_count": null,
      "metadata": {
        "colab": {
          "background_save": true
        },
        "id": "l6QccnUKiDsI"
      },
      "outputs": [],
      "source": [
        "min_mse2=[]\n",
        "lreg=LinearRegression()\n",
        "\n",
        "for j in br_cap_city_daily['state'].unique():\n",
        "  mse={}\n",
        "  mse_deg={}\n",
        "  x_test=br_cap_city_daily[br_cap_city_daily['state']==j][['daily cases']]\n",
        "  y_test=br_cap_city_daily[br_cap_city_daily['state']==j]['daily deaths']\n",
        "  for i in df_ind['State/UnionTerritory'].unique():\n",
        "    x_train=df_ind[df_ind['State/UnionTerritory']==i][['Confirmed']]\n",
        "    y_train=df_ind[df_ind['State/UnionTerritory']==i]['Deaths']\n",
        "\n",
        "    \n",
        "    for deg in range(20):\n",
        "      x_train_poly=PolynomialFeatures(degree=deg).fit_transform(x_train)\n",
        "      x_test_poly=PolynomialFeatures(degree=deg).fit_transform(x_test)\n",
        "\n",
        "      lreg.fit(x_train_poly,y_train)\n",
        "      y_pred_poly=lreg.predict(x_test_poly)\n",
        "      mse_deg[deg]=mean_absolute_error(y_test,y_pred_poly)\n",
        "    \n",
        "    deg_ke,val=[[k,v] for k,v in mse_deg.items() if v==min(mse_deg.values())][0]\n",
        "    \n",
        "    mse[deg_ke]=val# trying Polynomial regression of daily cases vs daily deaths of India and Brazil\n",
        "  ke=[k for k,v in mse.items() if v==min(mse.values())][0]\n",
        "  min_mse2.append( [ke,j,min(mse.values()) ])\n",
        "pd.DataFrame(min_mse2,columns=['Best Degree','State','Error'])"
      ]
    },
    {
      "cell_type": "code",
      "execution_count": null,
      "metadata": {
        "colab": {
          "background_save": true
        },
        "id": "gmtNd6NaVy3O"
      },
      "outputs": [],
      "source": [
        "# trying Polynomial regression of daily cases vs daily deaths of Italy and Brazil\n",
        "min_mse2=[]\n",
        "lreg=LinearRegression()\n",
        "\n",
        "for j in br_cap_city_daily['name'].unique():\n",
        "  mse={}\n",
        "  mse_deg={}\n",
        "  x_test=br_cap_city_daily[br_cap_city_daily['name']==j][['daily cases']]\n",
        "  y_test=br_cap_city_daily[br_cap_city_daily['name']==j]['daily deaths']\n",
        "  for i in ity_reg['RegionName'].unique():\n",
        "    x_train=ity_reg[ity_reg['RegionName']==i][['TotalPositiveCases']]\n",
        "    y_train=ity_reg[ity_reg['RegionName']==i]['Deaths']\n",
        "\n",
        "    \n",
        "    for deg in range(20):\n",
        "      x_train_poly=PolynomialFeatures(degree=deg).fit_transform(x_train)\n",
        "      x_test_poly=PolynomialFeatures(degree=deg).fit_transform(x_test)\n",
        "\n",
        "      lreg.fit(x_train_poly,y_train)\n",
        "      y_pred_poly=lreg.predict(x_test_poly)\n",
        "      mse_deg[deg]=mean_absolute_error(y_test,y_pred_poly)\n",
        "    \n",
        "    deg_ke,val=[[k,v] for k,v in mse_deg.items() if v==min(mse_deg.values())][0]\n",
        "    \n",
        "    mse[deg_ke]=val\n",
        "  ke=[k for k,v in mse.items() if v==min(mse.values())][0]\n",
        "  min_mse2.append( [ke,j,min(mse.values()) ])\n",
        "print('The data shows that Brazil covid cases can not be predicted by Italy due to different rise in cases')\n",
        "pd.DataFrame(min_mse2,columns=['Best Degree','City','MSE'])"
      ]
    },
    {
      "cell_type": "code",
      "execution_count": null,
      "metadata": {
        "colab": {
          "background_save": true
        },
        "id": "RQfJ-vmeL87g"
      },
      "outputs": [],
      "source": [
        "  min_mse2=[]\n",
        "  lreg=LinearRegression()\n",
        "  X=df_ind[df_ind['State/UnionTerritory']=='Delhi'][['Confirmed']]\n",
        "  y=df_ind[df_ind['State/UnionTerritory']=='Delhi']['Deaths']\n",
        "  x_train,x_test,y_train,y_test=train_test_split(X,y,train_size=.8)\n",
        "  mse_deg={}\n",
        "  for deg in range(20):\n",
        "    x_train_poly=PolynomialFeatures(degree=deg).fit_transform(x_train)\n",
        "    x_test_poly=PolynomialFeatures(degree=deg).fit_transform(x_test)\n",
        "\n",
        "    lreg.fit(x_train_poly,y_train)\n",
        "    y_pred_poly=lreg.predict(x_test_poly)\n",
        "    mse_deg[deg]=mean_absolute_error(y_test,y_pred_poly)\n",
        "  best_deg=[k for k,v in mse_deg.items() if v==min(mse_deg.values())][0]\n",
        "  x_train_poly=PolynomialFeatures(degree=best_deg).fit_transform(x_train)\n",
        "  x_test_poly=PolynomialFeatures(degree=best_deg).fit_transform(x_test)\n",
        "\n",
        "  lreg.fit(x_train_poly,y_train)\n",
        "  y_pred_poly=lreg.predict(x_test_poly)\n",
        "  plt.scatter(x_train,y_train,s=5)\n",
        "  plt.scatter(x_test,y_test)\n",
        "  plt.scatter(x_test,y_pred_poly,color='maroon')"
      ]
    },
    {
      "cell_type": "code",
      "execution_count": null,
      "metadata": {
        "colab": {
          "background_save": true
        },
        "id": "I_rDF_EDKHT5"
      },
      "outputs": [],
      "source": [
        "#Plot of brazil_old dataset \n",
        "'''                                     Useless : very little data                  '''\n",
        "# for i in br_old['state'].unique():\n",
        "#   b=br_old[br_old['state']==i]\n",
        "#   plt.figure()\n",
        "#   sns.lineplot(x='cases',y='deaths',data=b)\n",
        "#   plt.title(i)\n",
        "#   # plt.xlabel('Cases')\n",
        "#   # plt.ylabel('Deaths')\n",
        "  \n",
        "# plt.show()"
      ]
    },
    {
      "cell_type": "code",
      "execution_count": null,
      "metadata": {
        "colab": {
          "background_save": true
        },
        "id": "5ufOmS52EqB2"
      },
      "outputs": [],
      "source": [
        "# trying Neural Network--> of daily cases vs daily deaths of India and Brazil\n",
        "# tf.keras.backend.clear_session()\n",
        "# x_train=df_ind_daily[['daily cases']]\n",
        "# y_train=df_ind_daily['daily deaths']\n",
        "# x_test=br_cap_city_daily[['cases']]\n",
        "# y_test=br_cap_city_daily['deaths']\n",
        "\n",
        "# model = tf.keras.models.Sequential(name='TLP')\n",
        "# n_hidden = 100\n",
        "# n_input = x_train.shape[1]\n",
        "# n_output = 1\n",
        "# model.add(tf.keras.layers.Dense(n_hidden,input_dim=n_input,activation='relu',name='hidden'))\n",
        "# model.add(tf.keras.layers.Dense(n_hidden,activation='relu'))\n",
        "# model.add(tf.keras.layers.Dense(n_output,activation='relu',name='output'))\n",
        "# model.compile(optimizer='sgd',\n",
        "#               loss='mean_absolute_error',\n",
        "#               metrics=['accuracy'])\n",
        "# history = model.fit(x_train, y_train, epochs = 500, validation_split=0.2, batch_size = 16, verbose=0)\n",
        "# train_accuracy = model.evaluate(x_train,y_train)[1]\n",
        "# test_accuracy = model.evaluate(x_test,y_test)[1]\n",
        "# print(f'The training set accuracy for the model is {train_accuracy:0.3f}\\\n",
        "#     \\n The test set accuracy for the model is {test_accuracy:0.3f}')"
      ]
    },
    {
      "cell_type": "code",
      "execution_count": null,
      "metadata": {
        "colab": {
          "background_save": true
        },
        "id": "DMAHGQFoeITZ"
      },
      "outputs": [],
      "source": [
        "# # getting daily cases and deaths for India using ---> .diff()\n",
        "# df_ind_daily=df_ind.copy()\n",
        "# # df_ind_daily=df_ind_daily.sort_values(by=['State/UnionTerritory','Date']).reset_index(drop=True)\n",
        "# df_ind_daily['daily cases']=df_ind_daily.Confirmed.diff()\n",
        "# df_ind_daily['daily deaths']=df_ind_daily.Deaths.diff()\n",
        "\n",
        "# a=(df_ind_daily[df_ind_daily['daily cases']<0]).index.tolist()\n",
        "# df_ind_daily=df_ind_daily.drop(a)\n",
        "# b=(df_ind_daily[df_ind_daily['daily deaths']<0]).index.tolist()\n",
        "# df_ind_daily=df_ind_daily.drop(b)\n",
        "# df_ind_daily.dropna(inplace=True)"
      ]
    },
    {
      "cell_type": "code",
      "execution_count": null,
      "metadata": {
        "colab": {
          "background_save": true
        },
        "id": "M9R0xSkbi6qO"
      },
      "outputs": [],
      "source": [
        "# with ZipFile('/content/drive/MyDrive/Colab Notebooks/Data.zip','r') as zip:\n",
        "#     zip.extractall(path='/content')"
      ]
    },
    {
      "cell_type": "markdown",
      "metadata": {
        "id": "cyXj_JTajI4_"
      },
      "source": [
        "# South Korea - EDA\n",
        "\n",
        "---\n",
        "\n",
        "\n",
        "**EXPLORATORY DATA ANALYSIS - SOUTH KOREA**\n"
      ]
    },
    {
      "cell_type": "code",
      "execution_count": null,
      "metadata": {
        "colab": {
          "background_save": true
        },
        "id": "38UsVXzFjVR0"
      },
      "outputs": [],
      "source": [
        "data = pd.read_csv('C:/Users/test/Downloads/archive(2)/PatientInfo.csv')\n",
        "# To display the top 5 rows\n",
        "data.head(5)"
      ]
    },
    {
      "cell_type": "code",
      "execution_count": null,
      "metadata": {
        "colab": {
          "background_save": true
        },
        "id": "4tY5IKfjzXh9"
      },
      "outputs": [],
      "source": [
        "data.shape"
      ]
    },
    {
      "cell_type": "markdown",
      "metadata": {
        "id": "yYN79EKEL1G4"
      },
      "source": [
        "The data consists of 5165 rows and 14 columns."
      ]
    },
    {
      "cell_type": "code",
      "execution_count": null,
      "metadata": {
        "colab": {
          "background_save": true
        },
        "id": "-TL9L7m-zZiG"
      },
      "outputs": [],
      "source": [
        "data.info"
      ]
    },
    {
      "cell_type": "markdown",
      "metadata": {
        "id": "LXcFRAk1QsLQ"
      },
      "source": [
        "The detailed info of data."
      ]
    },
    {
      "cell_type": "code",
      "execution_count": null,
      "metadata": {
        "colab": {
          "background_save": true
        },
        "id": "6ddP8qmh5Dc9"
      },
      "outputs": [],
      "source": [
        "data.dtypes"
      ]
    },
    {
      "cell_type": "markdown",
      "metadata": {
        "id": "todVkGUtQw22"
      },
      "source": [
        "The data types of various columns."
      ]
    },
    {
      "cell_type": "markdown",
      "metadata": {
        "id": "VLzb_D0k1Inv"
      },
      "source": [
        "## ***Cleaning data*** "
      ]
    },
    {
      "cell_type": "code",
      "execution_count": null,
      "metadata": {
        "colab": {
          "background_save": true
        },
        "id": "nNccJD9y1X72"
      },
      "outputs": [],
      "source": [
        "data.isnull().sum()"
      ]
    },
    {
      "cell_type": "markdown",
      "metadata": {
        "id": "Qtcogh5PQ5iK"
      },
      "source": [
        "The sum of null values are depicted above."
      ]
    },
    {
      "cell_type": "markdown",
      "metadata": {
        "id": "pY4CljnftolS"
      },
      "source": [
        "<br><b>Extracting the numeric value from range -</b>"
      ]
    },
    {
      "cell_type": "code",
      "execution_count": null,
      "metadata": {
        "colab": {
          "background_save": true
        },
        "id": "PPvvQh2RX0TW"
      },
      "outputs": [],
      "source": [
        "data['age_range_numeric'] = data.age.str[:2]\n",
        "data.head()"
      ]
    },
    {
      "cell_type": "markdown",
      "metadata": {
        "id": "O5tu4yNItolZ"
      },
      "source": [
        "<br><br><b>Converting the numerical value to float: </b>"
      ]
    },
    {
      "cell_type": "code",
      "execution_count": null,
      "metadata": {
        "colab": {
          "background_save": true
        },
        "id": "jp6HY28IYxSE"
      },
      "outputs": [],
      "source": [
        "def stringremover(doc):\n",
        "    l = doc.split()\n",
        "    for i in l:\n",
        "        try:\n",
        "            num = float(i)\n",
        "            return num\n",
        "        except:\n",
        "            continue"
      ]
    },
    {
      "cell_type": "code",
      "execution_count": null,
      "metadata": {
        "colab": {
          "background_save": true
        },
        "id": "899eUvJbq516"
      },
      "outputs": [],
      "source": [
        "contactn=[]\n",
        "data['contact_number'] = data['contact_number'].fillna(\"0.0\")\n",
        "for i in range(len(data['contact_number'])):\n",
        "    doc = data['contact_number'][i]\n",
        "    res = stringremover(doc)\n",
        "    contactn.append(res)\n",
        "data['contact_number']=contactn"
      ]
    },
    {
      "cell_type": "code",
      "execution_count": null,
      "metadata": {
        "colab": {
          "background_save": true
        },
        "id": "axyL2cQMYyDu"
      },
      "outputs": [],
      "source": [
        "age = []\n",
        "data['age_range_numeric'] = data['age_range_numeric'].fillna(\"0.0\")\n",
        "for i in range(len(data['age_range_numeric'])):\n",
        "    doc = data['age_range_numeric'][i]\n",
        "    res = stringremover(doc)\n",
        "    age.append(res)\n",
        "data['age_range_numeric'] = age\n"
      ]
    },
    {
      "cell_type": "code",
      "execution_count": null,
      "metadata": {
        "colab": {
          "background_save": true
        },
        "id": "D1pYlFe8hAoj"
      },
      "outputs": [],
      "source": [
        "data.drop(data[data['age'] == \"0s\"].index, inplace = True)\n",
        "data.drop(data[data['age_range_numeric'] == 0.0].index, inplace = True)\n",
        "data.drop(data[data['contact_number'] == 0.0].index, inplace = True)"
      ]
    },
    {
      "cell_type": "markdown",
      "metadata": {
        "id": "ZES6hCUi3MRy"
      },
      "source": [
        "<br><b>ANALYSIS ON INFECTION CASE</b>"
      ]
    },
    {
      "cell_type": "code",
      "execution_count": null,
      "metadata": {
        "colab": {
          "background_save": true
        },
        "id": "fbWQp2Ws1ZIJ"
      },
      "outputs": [],
      "source": [
        "data['infection_case'].unique()"
      ]
    },
    {
      "cell_type": "markdown",
      "metadata": {
        "id": "R6rYC_zSP-hN"
      },
      "source": [
        "This is the list of factors of infection."
      ]
    },
    {
      "cell_type": "code",
      "execution_count": null,
      "metadata": {
        "colab": {
          "background_save": true
        },
        "id": "mLAEZD8G2Ced"
      },
      "outputs": [],
      "source": [
        "data.infection_case.value_counts().plot.bar()\n",
        "plt.title(\"INFECTION CASE\")\n",
        "plt.xlabel(\"infection case\")\n",
        "plt.ylabel(\"count\")"
      ]
    },
    {
      "cell_type": "markdown",
      "metadata": {
        "id": "Dl1BlPMTEeR4"
      },
      "source": [
        "The graph shows the various infection cases from which people got infected and their respective frequency.\n",
        "On analyzing the infection case, it can be observed that more number of patients are affected by coming in contact with the other patients followed by overseas inflow"
      ]
    },
    {
      "cell_type": "markdown",
      "metadata": {
        "id": "19jJbrMP9xzg"
      },
      "source": [
        "<br><b>ANALYSIS ON GENDER</b>"
      ]
    },
    {
      "cell_type": "code",
      "execution_count": null,
      "metadata": {
        "colab": {
          "background_save": true
        },
        "id": "fZxNDA0z2cFX"
      },
      "outputs": [],
      "source": [
        "data.sex.value_counts().plot.pie(autopct=\"%0.2f%%\")\n",
        "plt.title(\"Gender ratio\")"
      ]
    },
    {
      "cell_type": "markdown",
      "metadata": {
        "id": "pS2S-0oFEwby"
      },
      "source": [
        "The plot gives us an understanding of sex ratio of patients. It can be noticed that nearly equal number of men and women are becoming victim of this pandemic."
      ]
    },
    {
      "cell_type": "markdown",
      "metadata": {
        "id": "FcmeY_PW3Vuu"
      },
      "source": [
        "<br><b>ANALYSIS ON CITY</b>"
      ]
    },
    {
      "cell_type": "code",
      "execution_count": null,
      "metadata": {
        "colab": {
          "background_save": true
        },
        "id": "64NP1w423Y-4"
      },
      "outputs": [],
      "source": [
        "data['city'].unique()"
      ]
    },
    {
      "cell_type": "code",
      "execution_count": null,
      "metadata": {
        "colab": {
          "background_save": true
        },
        "id": "7PSKTa--Pr6J"
      },
      "outputs": [],
      "source": [
        "data['city'].nunique()"
      ]
    },
    {
      "cell_type": "markdown",
      "metadata": {
        "id": "j8uqUmYlPxB5"
      },
      "source": [
        "There are total 67 cities from which people are affected."
      ]
    },
    {
      "cell_type": "code",
      "execution_count": null,
      "metadata": {
        "colab": {
          "background_save": true
        },
        "id": "VXqtrQQU3fyW"
      },
      "outputs": [],
      "source": [
        "plt.figure(figsize=(25,50))\n",
        "data.city.value_counts().plot(kind='barh')\n",
        "plt.title(\"City count\")\n",
        "plt.xlabel(\"count\")\n",
        "plt.ylabel(\"city\")"
      ]
    },
    {
      "cell_type": "markdown",
      "metadata": {
        "id": "G5OkOl2jE0Th"
      },
      "source": [
        "The above bar graph represents the number of people affected city wise.\n",
        "It can be observed that Songpa-gu is the least affected and Cheonan-si  is the most affected(approx 70 people)."
      ]
    },
    {
      "cell_type": "markdown",
      "metadata": {
        "id": "DQqyPn8A32eE"
      },
      "source": [
        "<br><b>ANALYSIS ON COUNTRY</b>"
      ]
    },
    {
      "cell_type": "code",
      "execution_count": null,
      "metadata": {
        "colab": {
          "background_save": true
        },
        "id": "YDJd8zhJ34N4"
      },
      "outputs": [],
      "source": [
        "data.country.value_counts().plot.bar()\n",
        "plt.title(\"Most affected Country\")\n",
        "plt.xlabel(\"country\")\n",
        "plt.ylabel(\"count\")"
      ]
    },
    {
      "cell_type": "markdown",
      "metadata": {
        "id": "_ii5szFYE2OA"
      },
      "source": [
        "The graph shows - Country wise no. of patients. Korea is the most affected country which can be observed on the Y-axis. The number of people from other countries are almost negligible probably because the survey was conducted in Korea."
      ]
    },
    {
      "cell_type": "markdown",
      "metadata": {
        "id": "pAOlGhCQ9-rp"
      },
      "source": [
        "<br><b>ANALYSIS ON STATE</b>"
      ]
    },
    {
      "cell_type": "code",
      "execution_count": null,
      "metadata": {
        "colab": {
          "background_save": true
        },
        "id": "J-ygGdJv369l"
      },
      "outputs": [],
      "source": [
        "plt.title(\"State ratio\")\n",
        "data.state.value_counts().plot.pie()\n",
        "centre_circle = plt.Circle((0,0),0.5,color='black', fc='white',linewidth=1.25)\n",
        "fig = plt.gcf()\n",
        "fig.gca().add_artist(centre_circle)"
      ]
    },
    {
      "cell_type": "markdown",
      "metadata": {
        "id": "efD_T5f2E6Q4"
      },
      "source": [
        "The donut plot gives information about the number of patients released, deceased and isolated. It can be seen that more number of patients are released from the isolation center, then comes the number of patients being isolated and very less number of patients died."
      ]
    },
    {
      "cell_type": "markdown",
      "metadata": {
        "id": "vTSgKzC5979a"
      },
      "source": [
        "<br><b>ANALYSIS ON AGE</b>"
      ]
    },
    {
      "cell_type": "code",
      "execution_count": null,
      "metadata": {
        "colab": {
          "background_save": true
        },
        "id": "uz-QjRuN4d34"
      },
      "outputs": [],
      "source": [
        "data.age_range_numeric.plot.hist()\n",
        "plt.title(\"Age Histogram\")\n",
        "plt.xlabel(\"Age range\")"
      ]
    },
    {
      "cell_type": "markdown",
      "metadata": {
        "id": "YCKH3IDvE9Gi"
      },
      "source": [
        "It can be observed that people who belong to the age in the range of 20’s are most affected.There is nobody affected in the range of 40 to 50."
      ]
    },
    {
      "cell_type": "code",
      "execution_count": null,
      "metadata": {
        "colab": {
          "background_save": true
        },
        "id": "8dUDMMLsshjs"
      },
      "outputs": [],
      "source": [
        "sns.distplot(data['age_range_numeric'])\n",
        "plt.title(\"Age distribution plot\")"
      ]
    },
    {
      "cell_type": "markdown",
      "metadata": {
        "id": "U6WAHYlVOUnp"
      },
      "source": [
        "The graph shows the propbability of the ages and the line in the graph the maximum concentration in that particular range."
      ]
    },
    {
      "cell_type": "markdown",
      "metadata": {
        "id": "YKvlQE-ofYWA"
      },
      "source": [
        "<br><b>ANALYSIS ON PROVINCE</b>"
      ]
    },
    {
      "cell_type": "code",
      "execution_count": null,
      "metadata": {
        "colab": {
          "background_save": true
        },
        "id": "5jB3VlX6_FMe"
      },
      "outputs": [],
      "source": [
        "plt.figure(figsize=(20,5))\n",
        "data.province.value_counts().plot.bar()\n",
        "plt.xlabel(\"Province\")\n",
        "plt.ylabel(\"count\")\n",
        "plt.title(\"Province with the respective patient count\")"
      ]
    },
    {
      "cell_type": "markdown",
      "metadata": {
        "id": "XgJDhXbMFG4e"
      },
      "source": [
        "Gyeonggi-do is the most affected province while Jeju-do is least affected. The graph is clearly decreasing in nature."
      ]
    },
    {
      "cell_type": "markdown",
      "metadata": {
        "id": "uNoV3107fgnc"
      },
      "source": [
        "<br><b>ANALYSIS ON CONTACT NUMBER</b>"
      ]
    },
    {
      "cell_type": "code",
      "execution_count": null,
      "metadata": {
        "colab": {
          "background_save": true
        },
        "id": "mKayldr0DYZk"
      },
      "outputs": [],
      "source": [
        "plt.figure(figsize=(25,10))\n",
        "data.contact_number.value_counts().plot.bar()\n",
        "plt.title(\"The count of Number of people patients made contact with\")"
      ]
    },
    {
      "cell_type": "markdown",
      "metadata": {
        "id": "07pYtL2bG5qA"
      },
      "source": [
        "This shows that most of the patients made contact with at least 2 people."
      ]
    },
    {
      "cell_type": "markdown",
      "metadata": {
        "id": "o7CoGDcUa559"
      },
      "source": [
        "<br><b>CONVERTING CATEGORICAL TO NUMERICAL VARIABLES</b>"
      ]
    },
    {
      "cell_type": "code",
      "execution_count": null,
      "metadata": {
        "colab": {
          "background_save": true
        },
        "id": "zcXzOjOjR1qa"
      },
      "outputs": [],
      "source": [
        "data[\"infection_case\"] = data[\"infection_case\"].astype('category')\n",
        "data[\"infection_case\"] = data[\"infection_case\"].cat.codes\n",
        "data.head()"
      ]
    },
    {
      "cell_type": "code",
      "execution_count": null,
      "metadata": {
        "colab": {
          "background_save": true
        },
        "id": "tbUfsEKIzeUf"
      },
      "outputs": [],
      "source": [
        "data.describe()"
      ]
    },
    {
      "cell_type": "code",
      "execution_count": null,
      "metadata": {
        "colab": {
          "background_save": true
        },
        "id": "Q_kTykkfhl3b"
      },
      "outputs": [],
      "source": [
        "data.groupby('sex')['contact_number'].mean().plot.bar()\n",
        "plt.ylabel(\"Contact numbers mean\")\n",
        "plt.title(\"Male vs Female wrt Contact number\")"
      ]
    },
    {
      "cell_type": "markdown",
      "metadata": {
        "id": "YMTkhIQ7lzyD"
      },
      "source": [
        "The graph gives us an idea of the gender wise mean of the number of people who came in contact with patients. The males have greater contact numbers that means the number of people who came in contact with males is higher than in female."
      ]
    },
    {
      "cell_type": "code",
      "execution_count": null,
      "metadata": {
        "colab": {
          "background_save": true
        },
        "id": "7BYxUWQ-Dj3W"
      },
      "outputs": [],
      "source": [
        "plt.figure(figsize=(20,10))\n",
        "plt.title('age wise state frequency',fontsize = 15)\n",
        "sns.countplot(y='age', hue='state',data=data)"
      ]
    },
    {
      "cell_type": "markdown",
      "metadata": {
        "id": "5vMyzDrYHkT7"
      },
      "source": [
        "This graph depicts that most of the people in their 20's are released or are isolated while the maximum number of deceased people were in their 70s and 80s  "
      ]
    },
    {
      "cell_type": "code",
      "execution_count": null,
      "metadata": {
        "colab": {
          "background_save": true
        },
        "id": "ZjSE1QvRbBz-"
      },
      "outputs": [],
      "source": [
        "sns.countplot(data=data, x='age', hue='sex')\n",
        "plt.title(\"age wise sex ratio\")"
      ]
    },
    {
      "cell_type": "markdown",
      "metadata": {
        "id": "tDk1T5X6IcBh"
      },
      "source": [
        "This shows that how many male and female are there in a particular age range. The maximum number of males and females who were tested COVID19 are in their 20s. Also, in almost every age group there are more females affected than males."
      ]
    },
    {
      "cell_type": "markdown",
      "metadata": {
        "id": "9jilPKFXtonU"
      },
      "source": [
        "<br><br><b>Cases trend and timeline of policy implementation</b>"
      ]
    },
    {
      "cell_type": "code",
      "execution_count": null,
      "metadata": {
        "colab": {
          "background_save": true
        },
        "id": "b5vLNYj-tonW"
      },
      "outputs": [],
      "source": [
        "df_policy = pd.read_csv('C:/Users/test/Downloads/archive(2)/Policy.csv')\n",
        "df_time = pd.read_csv('C:/Users/test/Downloads/archive(2)/Time.csv')\n",
        "df_patient_info = pd.read_csv('C:/Users/test/Downloads/archive(2)/PatientInfo.csv')\n",
        "\n"
      ]
    },
    {
      "cell_type": "code",
      "execution_count": null,
      "metadata": {
        "colab": {
          "background_save": true
        },
        "id": "JtmdapuGtona"
      },
      "outputs": [],
      "source": [
        "df_policy.dropna(inplace=True)\n",
        "\n",
        "\n",
        "df_policy.head()\n",
        "\n"
      ]
    },
    {
      "cell_type": "code",
      "execution_count": null,
      "metadata": {
        "colab": {
          "background_save": true
        },
        "id": "CHHsG0WBtond"
      },
      "outputs": [],
      "source": [
        "from datetime import datetime\n",
        "def convertDate(date):\n",
        "    d = datetime.fromisoformat(date)\n",
        "    return d"
      ]
    },
    {
      "cell_type": "code",
      "execution_count": null,
      "metadata": {
        "colab": {
          "background_save": true
        },
        "id": "fDN5gZ5Utonh"
      },
      "outputs": [],
      "source": [
        "df_time['date'] = df_time.date.apply(lambda d: (datetime.strptime(d, \"%Y-%m-%d\")))"
      ]
    },
    {
      "cell_type": "code",
      "execution_count": null,
      "metadata": {
        "colab": {
          "background_save": true
        },
        "id": "OihCtLnttoni"
      },
      "outputs": [],
      "source": [
        "df_time.head()"
      ]
    },
    {
      "cell_type": "code",
      "execution_count": null,
      "metadata": {
        "colab": {
          "background_save": true
        },
        "id": "ehOFK0DBtonl"
      },
      "outputs": [],
      "source": [
        "\n",
        "###Plot - Cases trend and timeline of policy implementation in Korea\n",
        "\n",
        "plt.figure(figsize=(15,6))\n",
        "\n",
        "plt.axvline(x=datetime.strptime('2020-01-03', \"%Y-%m-%d\"), label='Level 1 Alert Start time', color='blue')\n",
        "plt.axvline(x=datetime.strptime('2020-01-19', \"%Y-%m-%d\"), label='Level 1 Alert End time', color='blue')\n",
        "\n",
        "plt.axvline(x=datetime.strptime('2020-01-20', \"%Y-%m-%d\"), label='Level 2 Alert Start time', color='yellow')\n",
        "plt.axvline(x=datetime.strptime('2020-01-27', \"%Y-%m-%d\"), label='Level 2 Alert End time', color='yellow')\n",
        "\n",
        "plt.axvline(x=datetime.strptime('2020-01-28', \"%Y-%m-%d\"), label='Level 3 Alert Start time', color='brown')\n",
        "plt.axvline(x=datetime.strptime('2020-02-22', \"%Y-%m-%d\"), label='Level 3 Alert End time', color='brown')\n",
        "\n",
        "plt.axvline(x=datetime.strptime('2020-02-29', \"%Y-%m-%d\"), label='Social Distancing Campaign 1 Start time', color='red')\n",
        "plt.axvline(x=datetime.strptime('2020-03-21', \"%Y-%m-%d\"), label='Social Distancing Campaign 1 End time', color='red')\n",
        "\n",
        "plt.axvline(x=datetime.strptime('2020-03-22', \"%Y-%m-%d\"), label='Social Distancing Campaign 2 Start time', color='grey')\n",
        "plt.axvline(x=datetime.strptime('2020-04-19', \"%Y-%m-%d\"), label='Social Distancing Campaign 2 End time', color='grey')\n",
        "\n",
        "plt.xlabel('Date', size=20)\n",
        "plt.ylabel('Number of cases', size=20)\n",
        "plt.xticks(size=15)\n",
        "plt.yticks(size=15)\n",
        "plt.title(\"Covid cases trend with policy timelines\", size=25)\n",
        "\n",
        "plt.legend(loc = \"best\"\n",
        "           , frameon = True\n",
        "           , fancybox = True\n",
        "           , framealpha = 0.95\n",
        "           , shadow = True\n",
        "           , borderpad = 1\n",
        "           , prop={'size': 12})\n",
        "\n",
        "plt.plot(df_time.date, df_time.confirmed, color='black')\n",
        "plt.show()\n",
        "\n"
      ]
    },
    {
      "cell_type": "markdown",
      "metadata": {
        "id": "d9dlj8DDtonn"
      },
      "source": [
        "\n",
        "\n",
        "We can notice that the following policies have had a huge positive impact in containing the spread of COVID-19 in South Korea:\n",
        "\n",
        "    Level 1 Alert - Blue zone\n",
        "    Level 2 Alert - Yellow zone\n",
        "    Level 3 Alert - Orange zone\n",
        "    Social Distancing campaign 1\n",
        "    Social Distancing campaign 2\n",
        "\n",
        "From the above plot, we can see that the rate of growth of cases reduced After Social Distancing Campaign was implemented in South Korea.\n"
      ]
    },
    {
      "cell_type": "markdown",
      "metadata": {
        "id": "3bVB09_Jtono"
      },
      "source": [
        "\n",
        "<b>Infection spread due to close contact</b>"
      ]
    },
    {
      "cell_type": "code",
      "execution_count": null,
      "metadata": {
        "colab": {
          "background_save": true
        },
        "id": "BQ1KRfdMtonr"
      },
      "outputs": [],
      "source": [
        "df_patient_info = df_patient_info[df_patient_info['infected_by'].notna()]\n",
        "df_patient_by_infected = pd.DataFrame(df_patient_info[['contact_number', 'infected_by', 'patient_id']]).groupby(df_patient_info['infected_by']).agg('count')"
      ]
    },
    {
      "cell_type": "markdown",
      "metadata": {
        "id": "oOGQEca9tont"
      },
      "source": [
        "<br><b>\n",
        "\n",
        "Aggregating the total number of infected patients due to close contact</b>"
      ]
    },
    {
      "cell_type": "code",
      "execution_count": null,
      "metadata": {
        "colab": {
          "background_save": true
        },
        "id": "-kokk1TQtonv"
      },
      "outputs": [],
      "source": [
        "mean_infected_number = df_patient_by_infected['infected_by'].mean()\n",
        "\n",
        "print('Average transmission rate is {:.2f}'.format(mean_infected_number))"
      ]
    },
    {
      "cell_type": "markdown",
      "metadata": {
        "id": "iIlyYOv2tony"
      },
      "source": [
        "We can notice that, on an average, one person is spreading the infection to 3 more people. This rate of spread is very low when compared to other countries. And the population of Brazil is 5x of South Korea's. And also the Demographics change between them. As the Trasnmition rate is very low than that of world average, we can conclude that this close contact tracing cant be applied with that of Brazil's case. \n",
        "<br>\n",
        "Because Brazil has more population than that of South Korea's, So the Transmission rate will be much more and would be a tedious process to implement it at a scale of that of Brazil."
      ]
    }
  ],
  "metadata": {
    "colab": {
      "collapsed_sections": [
        "AlA4O34kldyY"
      ],
      "name": "Covid19 study.ipynb",
      "provenance": [],
      "include_colab_link": true
    },
    "kernelspec": {
      "display_name": "Python 3",
      "name": "python3"
    },
    "language_info": {
      "name": "python"
    }
  },
  "nbformat": 4,
  "nbformat_minor": 0
}