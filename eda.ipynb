{
 "cells": [
  {
   "cell_type": "code",
   "execution_count": 9,
   "metadata": {},
   "outputs": [],
   "source": [
    "import numpy as np\n",
    "import pandas as pd\n",
    "import matplotlib.pyplot as plt\n",
    "import seaborn as sns\n",
    "%matplotlib inline"
   ]
  },
  {
   "cell_type": "code",
   "execution_count": 2,
   "metadata": {},
   "outputs": [],
   "source": [
    "df=pd.read_csv('masterDataCleaned.csv')"
   ]
  },
  {
   "cell_type": "code",
   "execution_count": 3,
   "metadata": {},
   "outputs": [
    {
     "data": {
      "text/html": [
       "<div>\n",
       "<style scoped>\n",
       "    .dataframe tbody tr th:only-of-type {\n",
       "        vertical-align: middle;\n",
       "    }\n",
       "\n",
       "    .dataframe tbody tr th {\n",
       "        vertical-align: top;\n",
       "    }\n",
       "\n",
       "    .dataframe thead th {\n",
       "        text-align: right;\n",
       "    }\n",
       "</style>\n",
       "<table border=\"1\" class=\"dataframe\">\n",
       "  <thead>\n",
       "    <tr style=\"text-align: right;\">\n",
       "      <th></th>\n",
       "      <th>Price</th>\n",
       "      <th>Area</th>\n",
       "      <th>Location</th>\n",
       "      <th>No. of Bedrooms</th>\n",
       "      <th>Resale</th>\n",
       "      <th>MaintenanceStaff</th>\n",
       "      <th>Gymnasium</th>\n",
       "      <th>SwimmingPool</th>\n",
       "      <th>LandscapedGardens</th>\n",
       "      <th>JoggingTrack</th>\n",
       "      <th>...</th>\n",
       "      <th>BED</th>\n",
       "      <th>VaastuCompliant</th>\n",
       "      <th>Microwave</th>\n",
       "      <th>GolfCourse</th>\n",
       "      <th>TV</th>\n",
       "      <th>DiningTable</th>\n",
       "      <th>Sofa</th>\n",
       "      <th>Wardrobe</th>\n",
       "      <th>Refrigerator</th>\n",
       "      <th>city</th>\n",
       "    </tr>\n",
       "  </thead>\n",
       "  <tbody>\n",
       "    <tr>\n",
       "      <th>0</th>\n",
       "      <td>30000000</td>\n",
       "      <td>3340</td>\n",
       "      <td>JP Nagar Phase 1</td>\n",
       "      <td>4</td>\n",
       "      <td>0</td>\n",
       "      <td>1</td>\n",
       "      <td>1</td>\n",
       "      <td>1</td>\n",
       "      <td>1</td>\n",
       "      <td>1</td>\n",
       "      <td>...</td>\n",
       "      <td>0</td>\n",
       "      <td>0</td>\n",
       "      <td>0</td>\n",
       "      <td>0</td>\n",
       "      <td>0</td>\n",
       "      <td>0</td>\n",
       "      <td>0</td>\n",
       "      <td>0</td>\n",
       "      <td>0</td>\n",
       "      <td>Bangalore</td>\n",
       "    </tr>\n",
       "    <tr>\n",
       "      <th>1</th>\n",
       "      <td>7888000</td>\n",
       "      <td>1045</td>\n",
       "      <td>Dasarahalli on Tumkur Road</td>\n",
       "      <td>2</td>\n",
       "      <td>0</td>\n",
       "      <td>0</td>\n",
       "      <td>1</td>\n",
       "      <td>1</td>\n",
       "      <td>1</td>\n",
       "      <td>1</td>\n",
       "      <td>...</td>\n",
       "      <td>0</td>\n",
       "      <td>1</td>\n",
       "      <td>0</td>\n",
       "      <td>0</td>\n",
       "      <td>0</td>\n",
       "      <td>0</td>\n",
       "      <td>0</td>\n",
       "      <td>0</td>\n",
       "      <td>0</td>\n",
       "      <td>Bangalore</td>\n",
       "    </tr>\n",
       "    <tr>\n",
       "      <th>2</th>\n",
       "      <td>4866000</td>\n",
       "      <td>1179</td>\n",
       "      <td>Kannur on Thanisandra Main Road</td>\n",
       "      <td>2</td>\n",
       "      <td>0</td>\n",
       "      <td>0</td>\n",
       "      <td>1</td>\n",
       "      <td>1</td>\n",
       "      <td>1</td>\n",
       "      <td>1</td>\n",
       "      <td>...</td>\n",
       "      <td>0</td>\n",
       "      <td>0</td>\n",
       "      <td>0</td>\n",
       "      <td>0</td>\n",
       "      <td>0</td>\n",
       "      <td>0</td>\n",
       "      <td>0</td>\n",
       "      <td>0</td>\n",
       "      <td>0</td>\n",
       "      <td>Bangalore</td>\n",
       "    </tr>\n",
       "    <tr>\n",
       "      <th>3</th>\n",
       "      <td>8358000</td>\n",
       "      <td>1675</td>\n",
       "      <td>Doddanekundi</td>\n",
       "      <td>3</td>\n",
       "      <td>0</td>\n",
       "      <td>0</td>\n",
       "      <td>0</td>\n",
       "      <td>0</td>\n",
       "      <td>0</td>\n",
       "      <td>0</td>\n",
       "      <td>...</td>\n",
       "      <td>0</td>\n",
       "      <td>0</td>\n",
       "      <td>0</td>\n",
       "      <td>0</td>\n",
       "      <td>0</td>\n",
       "      <td>0</td>\n",
       "      <td>0</td>\n",
       "      <td>0</td>\n",
       "      <td>0</td>\n",
       "      <td>Bangalore</td>\n",
       "    </tr>\n",
       "    <tr>\n",
       "      <th>4</th>\n",
       "      <td>6845000</td>\n",
       "      <td>1670</td>\n",
       "      <td>Kengeri</td>\n",
       "      <td>3</td>\n",
       "      <td>0</td>\n",
       "      <td>1</td>\n",
       "      <td>1</td>\n",
       "      <td>1</td>\n",
       "      <td>1</td>\n",
       "      <td>1</td>\n",
       "      <td>...</td>\n",
       "      <td>0</td>\n",
       "      <td>0</td>\n",
       "      <td>0</td>\n",
       "      <td>0</td>\n",
       "      <td>0</td>\n",
       "      <td>0</td>\n",
       "      <td>0</td>\n",
       "      <td>0</td>\n",
       "      <td>0</td>\n",
       "      <td>Bangalore</td>\n",
       "    </tr>\n",
       "  </tbody>\n",
       "</table>\n",
       "<p>5 rows × 41 columns</p>\n",
       "</div>"
      ],
      "text/plain": [
       "      Price  Area                         Location  No. of Bedrooms  Resale  \\\n",
       "0  30000000  3340                 JP Nagar Phase 1                4       0   \n",
       "1   7888000  1045       Dasarahalli on Tumkur Road                2       0   \n",
       "2   4866000  1179  Kannur on Thanisandra Main Road                2       0   \n",
       "3   8358000  1675                     Doddanekundi                3       0   \n",
       "4   6845000  1670                          Kengeri                3       0   \n",
       "\n",
       "   MaintenanceStaff  Gymnasium  SwimmingPool  LandscapedGardens  JoggingTrack  \\\n",
       "0                 1          1             1                  1             1   \n",
       "1                 0          1             1                  1             1   \n",
       "2                 0          1             1                  1             1   \n",
       "3                 0          0             0                  0             0   \n",
       "4                 1          1             1                  1             1   \n",
       "\n",
       "   ...  BED  VaastuCompliant  Microwave  GolfCourse  TV  DiningTable  Sofa  \\\n",
       "0  ...    0                0          0           0   0            0     0   \n",
       "1  ...    0                1          0           0   0            0     0   \n",
       "2  ...    0                0          0           0   0            0     0   \n",
       "3  ...    0                0          0           0   0            0     0   \n",
       "4  ...    0                0          0           0   0            0     0   \n",
       "\n",
       "   Wardrobe  Refrigerator       city  \n",
       "0         0             0  Bangalore  \n",
       "1         0             0  Bangalore  \n",
       "2         0             0  Bangalore  \n",
       "3         0             0  Bangalore  \n",
       "4         0             0  Bangalore  \n",
       "\n",
       "[5 rows x 41 columns]"
      ]
     },
     "execution_count": 3,
     "metadata": {},
     "output_type": "execute_result"
    }
   ],
   "source": [
    "df.head()"
   ]
  },
  {
   "cell_type": "code",
   "execution_count": 4,
   "metadata": {},
   "outputs": [
    {
     "data": {
      "text/plain": [
       "<AxesSubplot:xlabel='Area', ylabel='Count'>"
      ]
     },
     "execution_count": 4,
     "metadata": {},
     "output_type": "execute_result"
    },
    {
     "data": {
      "image/png": "[encoded data removed]",
      "text/plain": [
       "<Figure size 432x288 with 1 Axes>"
      ]
     },
     "metadata": {
      "needs_background": "light"
     },
     "output_type": "display_data"
    }
   ],
   "source": [
    "sns.histplot(np.log(df.Area))"
   ]
  },
  {
   "cell_type": "code",
   "execution_count": 5,
   "metadata": {},
   "outputs": [
    {
     "data": {
      "text/plain": [
       "0.46633385811153527"
      ]
     },
     "execution_count": 5,
     "metadata": {},
     "output_type": "execute_result"
    }
   ],
   "source": [
    "np.log(df.Area).std()"
   ]
  },
  {
   "cell_type": "code",
   "execution_count": 6,
   "metadata": {},
   "outputs": [
    {
     "data": {
      "text/plain": [
       "7.046369030712827"
      ]
     },
     "execution_count": 6,
     "metadata": {},
     "output_type": "execute_result"
    }
   ],
   "source": [
    "np.log(df.Area).mean()"
   ]
  },
  {
   "cell_type": "code",
   "execution_count": 7,
   "metadata": {},
   "outputs": [
    {
     "data": {
      "text/plain": [
       "1293.3621939750628"
      ]
     },
     "execution_count": 7,
     "metadata": {},
     "output_type": "execute_result"
    }
   ],
   "source": [
    "df.Area.mean()"
   ]
  },
  {
   "cell_type": "code",
   "execution_count": 8,
   "metadata": {},
   "outputs": [
    {
     "data": {
      "text/plain": [
       "Index(['Price', 'Area', 'Location', 'No. of Bedrooms', 'Resale',\n",
       "       'MaintenanceStaff', 'Gymnasium', 'SwimmingPool', 'LandscapedGardens',\n",
       "       'JoggingTrack', 'RainWaterHarvesting', 'IndoorGames', 'ShoppingMall',\n",
       "       'Intercom', 'SportsFacility', 'ATM', 'ClubHouse', 'School',\n",
       "       '24X7Security', 'PowerBackup', 'CarParking', 'StaffQuarter',\n",
       "       'Cafeteria', 'MultipurposeRoom', 'Hospital', 'WashingMachine',\n",
       "       'Gasconnection', 'AC', 'Wifi', 'Children'splayarea', 'LiftAvailable',\n",
       "       'BED', 'VaastuCompliant', 'Microwave', 'GolfCourse', 'TV',\n",
       "       'DiningTable', 'Sofa', 'Wardrobe', 'Refrigerator', 'city'],\n",
       "      dtype='object')"
      ]
     },
     "execution_count": 8,
     "metadata": {},
     "output_type": "execute_result"
    }
   ],
   "source": [
    "df.columns"
   ]
  },
  {
   "cell_type": "code",
   "execution_count": 9,
   "metadata": {},
   "outputs": [
    {
     "data": {
      "text/plain": [
       "1776"
      ]
     },
     "execution_count": 9,
     "metadata": {},
     "output_type": "execute_result"
    }
   ],
   "source": [
    "df.Location.nunique()"
   ]
  },
  {
   "cell_type": "code",
   "execution_count": 10,
   "metadata": {},
   "outputs": [
    {
     "data": {
      "text/plain": [
       "(32963, 41)"
      ]
     },
     "execution_count": 10,
     "metadata": {},
     "output_type": "execute_result"
    }
   ],
   "source": [
    "df.shape"
   ]
  },
  {
   "cell_type": "code",
   "execution_count": 11,
   "metadata": {},
   "outputs": [
    {
     "data": {
      "text/plain": [
       "city\n",
       "Bangalore    16.174958\n",
       "Chennai      15.982421\n",
       "Delhi        16.580973\n",
       "Hyderabad    16.099767\n",
       "Kolkata      15.956584\n",
       "Mumbai       16.527662\n",
       "Name: Price, dtype: float64"
      ]
     },
     "execution_count": 11,
     "metadata": {},
     "output_type": "execute_result"
    }
   ],
   "source": [
    "np.log(df.groupby('city').Price.mean())"
   ]
  },
  {
   "cell_type": "code",
   "execution_count": 12,
   "metadata": {},
   "outputs": [
    {
     "data": {
      "text/plain": [
       "city\n",
       "Bangalore    0.938816\n",
       "Chennai      0.859925\n",
       "Delhi        0.977522\n",
       "Hyderabad    0.964513\n",
       "Kolkata      0.967427\n",
       "Mumbai       0.648846\n",
       "Name: No. of Bedrooms, dtype: float64"
      ]
     },
     "execution_count": 12,
     "metadata": {},
     "output_type": "execute_result"
    }
   ],
   "source": [
    "np.log(df.groupby('city')['No. of Bedrooms'].mean())"
   ]
  },
  {
   "cell_type": "code",
   "execution_count": 13,
   "metadata": {},
   "outputs": [
    {
     "name": "stderr",
     "output_type": "stream",
     "text": [
      "C:\\Users\\Aamir\\anaconda3\\envs\\tf\\lib\\site-packages\\seaborn\\_decorators.py:36: FutureWarning: Pass the following variable as a keyword arg: x. From version 0.12, the only valid positional argument will be `data`, and passing other arguments without an explicit keyword will result in an error or misinterpretation.\n",
      "  warnings.warn(\n"
     ]
    },
    {
     "data": {
      "text/plain": [
       "<AxesSubplot:xlabel='Area'>"
      ]
     },
     "execution_count": 13,
     "metadata": {},
     "output_type": "execute_result"
    },
    {
     "data": {
      "image/png": "[encoded data removed]",
      "text/plain": [
       "<Figure size 432x288 with 1 Axes>"
      ]
     },
     "metadata": {
      "needs_background": "light"
     },
     "output_type": "display_data"
    }
   ],
   "source": [
    "sns.boxplot(np.log(df['Area']))"
   ]
  },
  {
   "cell_type": "code",
   "execution_count": 14,
   "metadata": {},
   "outputs": [
    {
     "name": "stdout",
     "output_type": "stream",
     "text": [
      "907\n"
     ]
    }
   ],
   "source": [
    "def countOutliers(feature):\n",
    "    lowerQuantile,higherQuantile = np.quantile(feature,[0.25,0.75])\n",
    "    IQR=higherQuantile-lowerQuantile\n",
    "    lowerLimit=lowerQuantile-1.5*IQR\n",
    "    upperLimit=higherQuantile+1.5*IQR\n",
    "    total=feature[(feature>=upperLimit) | (feature<=lowerLimit)]\n",
    "    print(len(total))\n",
    "\n",
    "countOutliers(np.log(df['Area']))"
   ]
  },
  {
   "cell_type": "code",
   "execution_count": 15,
   "metadata": {},
   "outputs": [],
   "source": [
    "df['Area']=np.log(df['Area'])"
   ]
  },
  {
   "cell_type": "code",
   "execution_count": 16,
   "metadata": {},
   "outputs": [
    {
     "data": {
      "text/plain": [
       "0        8.113726\n",
       "1        6.951772\n",
       "2        7.072422\n",
       "3        7.423568\n",
       "4        7.420579\n",
       "           ...   \n",
       "32958    7.073270\n",
       "32959    6.272877\n",
       "32960    6.551080\n",
       "32961    6.902743\n",
       "32962    6.927558\n",
       "Name: Area, Length: 32963, dtype: float64"
      ]
     },
     "execution_count": 16,
     "metadata": {},
     "output_type": "execute_result"
    }
   ],
   "source": [
    "df['Area']"
   ]
  },
  {
   "cell_type": "code",
   "execution_count": 17,
   "metadata": {},
   "outputs": [],
   "source": [
    "tf,ff, sf=np.quantile(df['Area'],[0.25,0.5,0.75])"
   ]
  },
  {
   "cell_type": "code",
   "execution_count": 18,
   "metadata": {},
   "outputs": [
    {
     "name": "stderr",
     "output_type": "stream",
     "text": [
      "C:\\Users\\Aamir\\AppData\\Local\\Temp/ipykernel_19432/1669681743.py:3: UserWarning: Boolean Series key will be reindexed to match DataFrame index.\n",
      "  bin1=len(df[df['Area']<=tf][df[i]==1])\n",
      "C:\\Users\\Aamir\\AppData\\Local\\Temp/ipykernel_19432/1669681743.py:4: UserWarning: Boolean Series key will be reindexed to match DataFrame index.\n",
      "  bin2=len(df[(df['Area']>=tf) & (df['Area']<=ff)][df[i]==1])\n",
      "C:\\Users\\Aamir\\AppData\\Local\\Temp/ipykernel_19432/1669681743.py:5: UserWarning: Boolean Series key will be reindexed to match DataFrame index.\n",
      "  bin3=len(df[(df['Area']>ff) & (df['Area']<=sf)][df[i]==1])\n",
      "C:\\Users\\Aamir\\AppData\\Local\\Temp/ipykernel_19432/1669681743.py:6: UserWarning: Boolean Series key will be reindexed to match DataFrame index.\n",
      "  bin4=len(df[df['Area']>sf][df[i]==1])\n"
     ]
    },
    {
     "name": "stdout",
     "output_type": "stream",
     "text": [
      "{'Resale': {'verySmall': 4147, 'small': 2827, 'medium': 2478, 'large': 3121}, 'MaintenanceStaff': {'verySmall': 455, 'small': 324, 'medium': 395, 'large': 546}, 'Gymnasium': {'verySmall': 509, 'small': 879, 'medium': 1713, 'large': 2155}, 'SwimmingPool': {'verySmall': 327, 'small': 509, 'medium': 1468, 'large': 1884}, 'LandscapedGardens': {'verySmall': 340, 'small': 451, 'medium': 1160, 'large': 1572}, 'JoggingTrack': {'verySmall': 285, 'small': 451, 'medium': 1143, 'large': 1485}, 'RainWaterHarvesting': {'verySmall': 401, 'small': 583, 'medium': 1194, 'large': 1533}, 'IndoorGames': {'verySmall': 179, 'small': 377, 'medium': 930, 'large': 1283}, 'ShoppingMall': {'verySmall': 82, 'small': 98, 'medium': 254, 'large': 318}, 'Intercom': {'verySmall': 514, 'small': 733, 'medium': 1365, 'large': 1948}, 'SportsFacility': {'verySmall': 143, 'small': 366, 'medium': 912, 'large': 1350}, 'ATM': {'verySmall': 148, 'small': 129, 'medium': 323, 'large': 421}, 'ClubHouse': {'verySmall': 381, 'small': 602, 'medium': 1323, 'large': 1931}, 'School': {'verySmall': 117, 'small': 92, 'medium': 247, 'large': 282}, '24X7Security': {'verySmall': 666, 'small': 715, 'medium': 1362, 'large': 1800}, 'PowerBackup': {'verySmall': 863, 'small': 1245, 'medium': 1935, 'large': 2550}, 'CarParking': {'verySmall': 852, 'small': 734, 'medium': 1316, 'large': 1795}, 'StaffQuarter': {'verySmall': 160, 'small': 115, 'medium': 410, 'large': 632}, 'Cafeteria': {'verySmall': 97, 'small': 156, 'medium': 396, 'large': 533}, 'MultipurposeRoom': {'verySmall': 149, 'small': 308, 'medium': 861, 'large': 1120}, 'Hospital': {'verySmall': 119, 'small': 70, 'medium': 162, 'large': 223}, 'WashingMachine': {'verySmall': 22, 'small': 49, 'medium': 141, 'large': 219}, 'Gasconnection': {'verySmall': 183, 'small': 214, 'medium': 467, 'large': 907}, 'AC': {'verySmall': 50, 'small': 75, 'medium': 163, 'large': 340}, 'Wifi': {'verySmall': 45, 'small': 35, 'medium': 58, 'large': 59}, \"Children'splayarea\": {'verySmall': 433, 'small': 837, 'medium': 1652, 'large': 2260}, 'LiftAvailable': {'verySmall': 1285, 'small': 1400, 'medium': 1980, 'large': 2567}, 'BED': {'verySmall': 204, 'small': 161, 'medium': 219, 'large': 335}, 'VaastuCompliant': {'verySmall': 431, 'small': 408, 'medium': 850, 'large': 1318}, 'Microwave': {'verySmall': 22, 'small': 75, 'medium': 149, 'large': 245}, 'GolfCourse': {'verySmall': 14, 'small': 21, 'medium': 87, 'large': 96}, 'TV': {'verySmall': 53, 'small': 109, 'medium': 163, 'large': 236}, 'DiningTable': {'verySmall': 38, 'small': 89, 'medium': 163, 'large': 242}, 'Sofa': {'verySmall': 46, 'small': 65, 'medium': 159, 'large': 244}, 'Wardrobe': {'verySmall': 27, 'small': 47, 'medium': 53, 'large': 84}, 'Refrigerator': {'verySmall': 43, 'small': 83, 'medium': 159, 'large': 234}}\n"
     ]
    }
   ],
   "source": [
    "data={}\n",
    "for i in df.columns[4:-1]:\n",
    "    bin1=len(df[df['Area']<=tf][df[i]==1])\n",
    "    bin2=len(df[(df['Area']>=tf) & (df['Area']<=ff)][df[i]==1])\n",
    "    bin3=len(df[(df['Area']>ff) & (df['Area']<=sf)][df[i]==1])\n",
    "    bin4=len(df[df['Area']>sf][df[i]==1])\n",
    "    data[i]={'verySmall':bin1,'small':bin2,'medium':bin3,'large':bin4}\n",
    "\n",
    "print(data)\n",
    "\n"
   ]
  },
  {
   "cell_type": "code",
   "execution_count": 19,
   "metadata": {},
   "outputs": [
    {
     "data": {
      "image/png": "[encoded data removed]",
      "text/plain": [
       "<Figure size 3168x3168 with 36 Axes>"
      ]
     },
     "metadata": {
      "needs_background": "light"
     },
     "output_type": "display_data"
    }
   ],
   "source": [
    "fig,ax=plt.subplots(6,6,figsize=(44,44))\n",
    "ax=ax.flatten()\n",
    "for axes,i in zip(ax,data.keys()):\n",
    "    keys=data[i].keys()\n",
    "    vals=data[i].values()\n",
    "    axes.bar(keys,vals)\n",
    "    axes.set_title(i)"
   ]
  },
  {
   "cell_type": "code",
   "execution_count": null,
   "metadata": {},
   "outputs": [],
   "source": []
  },
  {
   "cell_type": "code",
   "execution_count": 20,
   "metadata": {},
   "outputs": [],
   "source": [
    "df.loc[df[df['Area']<1000]['SwimmingPool'].isna(),'SwimmingPool']=1000"
   ]
  },
  {
   "cell_type": "code",
   "execution_count": 21,
   "metadata": {},
   "outputs": [
    {
     "data": {
      "text/plain": [
       "0"
      ]
     },
     "execution_count": 21,
     "metadata": {},
     "output_type": "execute_result"
    }
   ],
   "source": [
    "df['SwimmingPool'].isna().sum()"
   ]
  },
  {
   "cell_type": "code",
   "execution_count": 22,
   "metadata": {},
   "outputs": [
    {
     "data": {
      "text/plain": [
       "True"
      ]
     },
     "execution_count": 22,
     "metadata": {},
     "output_type": "execute_result"
    }
   ],
   "source": [
    "df.index.is_unique\n"
   ]
  },
  {
   "cell_type": "code",
   "execution_count": 10,
   "metadata": {},
   "outputs": [
    {
     "data": {
      "text/html": [
       "<div>\n",
       "<style scoped>\n",
       "    .dataframe tbody tr th:only-of-type {\n",
       "        vertical-align: middle;\n",
       "    }\n",
       "\n",
       "    .dataframe tbody tr th {\n",
       "        vertical-align: top;\n",
       "    }\n",
       "\n",
       "    .dataframe thead th {\n",
       "        text-align: right;\n",
       "    }\n",
       "</style>\n",
       "<table border=\"1\" class=\"dataframe\">\n",
       "  <thead>\n",
       "    <tr style=\"text-align: right;\">\n",
       "      <th></th>\n",
       "      <th>Unnamed: 0</th>\n",
       "      <th>Area</th>\n",
       "      <th>No. of Bedrooms</th>\n",
       "      <th>Resale</th>\n",
       "      <th>MaintenanceStaff</th>\n",
       "      <th>Gymnasium</th>\n",
       "      <th>SwimmingPool</th>\n",
       "      <th>LandscapedGardens</th>\n",
       "      <th>JoggingTrack</th>\n",
       "      <th>RainWaterHarvesting</th>\n",
       "      <th>...</th>\n",
       "      <th>Sofa</th>\n",
       "      <th>Wardrobe</th>\n",
       "      <th>Refrigerator</th>\n",
       "      <th>AreaType</th>\n",
       "      <th>Bangalore</th>\n",
       "      <th>Chennai</th>\n",
       "      <th>Delhi</th>\n",
       "      <th>Hyderabad</th>\n",
       "      <th>Kolkata</th>\n",
       "      <th>Mumbai</th>\n",
       "    </tr>\n",
       "  </thead>\n",
       "  <tbody>\n",
       "    <tr>\n",
       "      <th>32958</th>\n",
       "      <td>7714</td>\n",
       "      <td>1180.0</td>\n",
       "      <td>2.0</td>\n",
       "      <td>0</td>\n",
       "      <td>0.0</td>\n",
       "      <td>1.0</td>\n",
       "      <td>0.0</td>\n",
       "      <td>0.0</td>\n",
       "      <td>0.0</td>\n",
       "      <td>0.0</td>\n",
       "      <td>...</td>\n",
       "      <td>0.0</td>\n",
       "      <td>0.0</td>\n",
       "      <td>0.0</td>\n",
       "      <td>3</td>\n",
       "      <td>0</td>\n",
       "      <td>0</td>\n",
       "      <td>0</td>\n",
       "      <td>0</td>\n",
       "      <td>0</td>\n",
       "      <td>1</td>\n",
       "    </tr>\n",
       "    <tr>\n",
       "      <th>32959</th>\n",
       "      <td>7715</td>\n",
       "      <td>530.0</td>\n",
       "      <td>1.0</td>\n",
       "      <td>1</td>\n",
       "      <td>0.0</td>\n",
       "      <td>1.0</td>\n",
       "      <td>0.0</td>\n",
       "      <td>0.0</td>\n",
       "      <td>0.0</td>\n",
       "      <td>0.0</td>\n",
       "      <td>...</td>\n",
       "      <td>0.0</td>\n",
       "      <td>0.0</td>\n",
       "      <td>0.0</td>\n",
       "      <td>1</td>\n",
       "      <td>0</td>\n",
       "      <td>0</td>\n",
       "      <td>0</td>\n",
       "      <td>0</td>\n",
       "      <td>0</td>\n",
       "      <td>1</td>\n",
       "    </tr>\n",
       "    <tr>\n",
       "      <th>32960</th>\n",
       "      <td>7716</td>\n",
       "      <td>700.0</td>\n",
       "      <td>1.0</td>\n",
       "      <td>0</td>\n",
       "      <td>0.0</td>\n",
       "      <td>1.0</td>\n",
       "      <td>0.0</td>\n",
       "      <td>0.0</td>\n",
       "      <td>0.0</td>\n",
       "      <td>0.0</td>\n",
       "      <td>...</td>\n",
       "      <td>0.0</td>\n",
       "      <td>0.0</td>\n",
       "      <td>0.0</td>\n",
       "      <td>1</td>\n",
       "      <td>0</td>\n",
       "      <td>0</td>\n",
       "      <td>0</td>\n",
       "      <td>0</td>\n",
       "      <td>0</td>\n",
       "      <td>1</td>\n",
       "    </tr>\n",
       "    <tr>\n",
       "      <th>32961</th>\n",
       "      <td>7717</td>\n",
       "      <td>995.0</td>\n",
       "      <td>2.0</td>\n",
       "      <td>0</td>\n",
       "      <td>0.0</td>\n",
       "      <td>1.0</td>\n",
       "      <td>0.0</td>\n",
       "      <td>0.0</td>\n",
       "      <td>0.0</td>\n",
       "      <td>0.0</td>\n",
       "      <td>...</td>\n",
       "      <td>0.0</td>\n",
       "      <td>0.0</td>\n",
       "      <td>0.0</td>\n",
       "      <td>2</td>\n",
       "      <td>0</td>\n",
       "      <td>0</td>\n",
       "      <td>0</td>\n",
       "      <td>0</td>\n",
       "      <td>0</td>\n",
       "      <td>1</td>\n",
       "    </tr>\n",
       "    <tr>\n",
       "      <th>32962</th>\n",
       "      <td>7718</td>\n",
       "      <td>1020.0</td>\n",
       "      <td>2.0</td>\n",
       "      <td>0</td>\n",
       "      <td>0.0</td>\n",
       "      <td>1.0</td>\n",
       "      <td>0.0</td>\n",
       "      <td>0.0</td>\n",
       "      <td>0.0</td>\n",
       "      <td>0.0</td>\n",
       "      <td>...</td>\n",
       "      <td>0.0</td>\n",
       "      <td>0.0</td>\n",
       "      <td>0.0</td>\n",
       "      <td>2</td>\n",
       "      <td>0</td>\n",
       "      <td>0</td>\n",
       "      <td>0</td>\n",
       "      <td>0</td>\n",
       "      <td>0</td>\n",
       "      <td>1</td>\n",
       "    </tr>\n",
       "  </tbody>\n",
       "</table>\n",
       "<p>5 rows × 46 columns</p>\n",
       "</div>"
      ],
      "text/plain": [
       "       Unnamed: 0    Area  No. of Bedrooms  Resale  MaintenanceStaff  \\\n",
       "32958        7714  1180.0              2.0       0               0.0   \n",
       "32959        7715   530.0              1.0       1               0.0   \n",
       "32960        7716   700.0              1.0       0               0.0   \n",
       "32961        7717   995.0              2.0       0               0.0   \n",
       "32962        7718  1020.0              2.0       0               0.0   \n",
       "\n",
       "       Gymnasium  SwimmingPool  LandscapedGardens  JoggingTrack  \\\n",
       "32958        1.0           0.0                0.0           0.0   \n",
       "32959        1.0           0.0                0.0           0.0   \n",
       "32960        1.0           0.0                0.0           0.0   \n",
       "32961        1.0           0.0                0.0           0.0   \n",
       "32962        1.0           0.0                0.0           0.0   \n",
       "\n",
       "       RainWaterHarvesting  ...  Sofa  Wardrobe  Refrigerator  AreaType  \\\n",
       "32958                  0.0  ...   0.0       0.0           0.0         3   \n",
       "32959                  0.0  ...   0.0       0.0           0.0         1   \n",
       "32960                  0.0  ...   0.0       0.0           0.0         1   \n",
       "32961                  0.0  ...   0.0       0.0           0.0         2   \n",
       "32962                  0.0  ...   0.0       0.0           0.0         2   \n",
       "\n",
       "       Bangalore  Chennai  Delhi  Hyderabad  Kolkata  Mumbai  \n",
       "32958          0        0      0          0        0       1  \n",
       "32959          0        0      0          0        0       1  \n",
       "32960          0        0      0          0        0       1  \n",
       "32961          0        0      0          0        0       1  \n",
       "32962          0        0      0          0        0       1  \n",
       "\n",
       "[5 rows x 46 columns]"
      ]
     },
     "execution_count": 10,
     "metadata": {},
     "output_type": "execute_result"
    }
   ],
   "source": [
    "df.tail()"
   ]
  },
  {
   "cell_type": "code",
   "execution_count": 13,
   "metadata": {},
   "outputs": [],
   "source": [
    "array=df.values"
   ]
  },
  {
   "cell_type": "code",
   "execution_count": 23,
   "metadata": {},
   "outputs": [
    {
     "data": {
      "text/plain": [
       "array([2.64892472e+03, 1.26517553e+03, 2.40108881e+00, 4.07906846e-01,\n",
       "       1.13482685e-01, 9.03545119e-01, 2.84840891e-01, 2.48188555e-01,\n",
       "       2.45682560e-01, 2.56263907e-01, 2.02605371e-01, 6.61064184e-02,\n",
       "       2.77387716e-01, 1.91725896e-01, 8.52686383e-02, 2.88271512e-01,\n",
       "       6.27017218e-02, 2.98416470e-01, 9.41160967e-01, 2.90544190e-01,\n",
       "       1.13180237e-01, 9.05960379e-02, 1.79952040e-01, 4.97656031e-02,\n",
       "       4.06100801e-02, 1.04685778e-01, 5.02624814e-02, 1.62673637e-02,\n",
       "       8.93387198e-01, 9.42612716e-01, 6.24122362e-02, 2.06973579e-01,\n",
       "       4.27574586e-02, 2.07911167e-02, 4.48443475e-02, 4.56091080e-02,\n",
       "       4.55356564e-02, 1.37829722e-02, 4.48659509e-02, 2.57039037e+00,\n",
       "       2.19071486e-01, 1.38028473e-01, 1.35617533e-01, 9.41303549e-02,\n",
       "       1.56598760e-01, 2.56553393e-01])"
      ]
     },
     "execution_count": 23,
     "metadata": {},
     "output_type": "execute_result"
    }
   ],
   "source": [
    "array[np.where(array[:-7]==1)[0]].mean(axis=0)"
   ]
  },
  {
   "cell_type": "code",
   "execution_count": 3,
   "metadata": {},
   "outputs": [],
   "source": [
    "df['IQR']=np.nan"
   ]
  },
  {
   "cell_type": "code",
   "execution_count": 5,
   "metadata": {},
   "outputs": [
    {
     "name": "stderr",
     "output_type": "stream",
     "text": [
      "C:\\Users\\Aamir\\AppData\\Local\\Temp/ipykernel_17496/2005501739.py:1: SettingWithCopyWarning: \n",
      "A value is trying to be set on a copy of a slice from a DataFrame.\n",
      "Try using .loc[row_indexer,col_indexer] = value instead\n",
      "\n",
      "See the caveats in the documentation: https://pandas.pydata.org/pandas-docs/stable/user_guide/indexing.html#returning-a-view-versus-a-copy\n",
      "  df[df['Delhi']==1]['IQR']=5\n"
     ]
    }
   ],
   "source": [
    "df[df['Delhi']==1]['IQR']=5"
   ]
  },
  {
   "cell_type": "code",
   "execution_count": 7,
   "metadata": {},
   "outputs": [],
   "source": [
    "df.loc[df['Delhi']==1,'IQR']=5"
   ]
  },
  {
   "cell_type": "code",
   "execution_count": 11,
   "metadata": {},
   "outputs": [],
   "source": [
    "city=pd.read_csv('partAB.csv')"
   ]
  },
  {
   "cell_type": "code",
   "execution_count": 12,
   "metadata": {},
   "outputs": [
    {
     "data": {
      "text/html": [
       "<div>\n",
       "<style scoped>\n",
       "    .dataframe tbody tr th:only-of-type {\n",
       "        vertical-align: middle;\n",
       "    }\n",
       "\n",
       "    .dataframe tbody tr th {\n",
       "        vertical-align: top;\n",
       "    }\n",
       "\n",
       "    .dataframe thead th {\n",
       "        text-align: right;\n",
       "    }\n",
       "</style>\n",
       "<table border=\"1\" class=\"dataframe\">\n",
       "  <thead>\n",
       "    <tr style=\"text-align: right;\">\n",
       "      <th></th>\n",
       "      <th>Unnamed: 0_level_0</th>\n",
       "      <th>Unnamed: 0_level_1</th>\n",
       "      <th>Unnamed: 1_level_1</th>\n",
       "      <th>Unnamed: 2_level_1</th>\n",
       "      <th>Unnamed: 3_level_1</th>\n",
       "      <th>Unnamed: 4_level_1</th>\n",
       "      <th>Unnamed: 5_level_1</th>\n",
       "      <th>Unnamed: 6_level_1</th>\n",
       "      <th>Unnamed: 7_level_1</th>\n",
       "      <th>Unnamed: 8_level_1</th>\n",
       "      <th>...</th>\n",
       "      <th>Car/ Jeep/Van</th>\n",
       "      <th>Households with TV, Computer/Laptop, Telephone/mobile phone and Scooter/ Car</th>\n",
       "      <th>None of the assets specified in col. 10 to 19</th>\n",
       "      <th>Unnamed: 139_level_1</th>\n",
       "      <th>Unnamed: 140_level_1</th>\n",
       "      <th>Unnamed: 141_level_1</th>\n",
       "      <th>Unnamed: 142_level_1</th>\n",
       "      <th>Unnamed: 143_level_1</th>\n",
       "      <th>Unnamed: 144_level_1</th>\n",
       "      <th>city</th>\n",
       "    </tr>\n",
       "  </thead>\n",
       "  <tbody>\n",
       "    <tr>\n",
       "      <th>0</th>\n",
       "      <td>Unnamed: 0_level_1</td>\n",
       "      <td>Unnamed: 0_level_2</td>\n",
       "      <td>Unnamed: 1_level_2</td>\n",
       "      <td>Unnamed: 2_level_2</td>\n",
       "      <td>Unnamed: 3_level_2</td>\n",
       "      <td>Unnamed: 4_level_2</td>\n",
       "      <td>Unnamed: 5_level_2</td>\n",
       "      <td>Unnamed: 6_level_2</td>\n",
       "      <td>Unnamed: 7_level_2</td>\n",
       "      <td>Unnamed: 8_level_2</td>\n",
       "      <td>...</td>\n",
       "      <td>Unnamed: 136_level_2</td>\n",
       "      <td>Unnamed: 137_level_2</td>\n",
       "      <td>Unnamed: 138_level_2</td>\n",
       "      <td>Permanent</td>\n",
       "      <td>Semi-Permanent</td>\n",
       "      <td>Total Temporary</td>\n",
       "      <td>Serviceable</td>\n",
       "      <td>Non-Serviceable</td>\n",
       "      <td>Unclassifiable</td>\n",
       "      <td>NaN</td>\n",
       "    </tr>\n",
       "    <tr>\n",
       "      <th>1</th>\n",
       "      <td>0</td>\n",
       "      <td>27</td>\n",
       "      <td>MAHARASHTRA</td>\n",
       "      <td>519</td>\n",
       "      <td>Mumbai</td>\n",
       "      <td>0</td>\n",
       "      <td>Mumbai</td>\n",
       "      <td>0</td>\n",
       "      <td>0</td>\n",
       "      <td>District - Mumbai</td>\n",
       "      <td>...</td>\n",
       "      <td>12.6</td>\n",
       "      <td>15.7</td>\n",
       "      <td>2.2</td>\n",
       "      <td>93.9</td>\n",
       "      <td>3.9</td>\n",
       "      <td>0.8</td>\n",
       "      <td>0.4</td>\n",
       "      <td>0.4</td>\n",
       "      <td>1.4</td>\n",
       "      <td>MUMBAI</td>\n",
       "    </tr>\n",
       "    <tr>\n",
       "      <th>2</th>\n",
       "      <td>1</td>\n",
       "      <td>27</td>\n",
       "      <td>MAHARASHTRA</td>\n",
       "      <td>519</td>\n",
       "      <td>Mumbai</td>\n",
       "      <td>0</td>\n",
       "      <td>Mumbai</td>\n",
       "      <td>0</td>\n",
       "      <td>0</td>\n",
       "      <td>District - Mumbai</td>\n",
       "      <td>...</td>\n",
       "      <td>12.6</td>\n",
       "      <td>15.7</td>\n",
       "      <td>2.2</td>\n",
       "      <td>93.9</td>\n",
       "      <td>3.9</td>\n",
       "      <td>0.8</td>\n",
       "      <td>0.4</td>\n",
       "      <td>0.4</td>\n",
       "      <td>1.4</td>\n",
       "      <td>MUMBAI</td>\n",
       "    </tr>\n",
       "    <tr>\n",
       "      <th>3</th>\n",
       "      <td>2</td>\n",
       "      <td>27</td>\n",
       "      <td>MAHARASHTRA</td>\n",
       "      <td>519</td>\n",
       "      <td>Mumbai</td>\n",
       "      <td>99999</td>\n",
       "      <td>Area not under any Sub-district</td>\n",
       "      <td>0</td>\n",
       "      <td>0</td>\n",
       "      <td>Sub-Dist - Area not under any Sub-district</td>\n",
       "      <td>...</td>\n",
       "      <td>12.6</td>\n",
       "      <td>15.7</td>\n",
       "      <td>2.2</td>\n",
       "      <td>93.9</td>\n",
       "      <td>3.9</td>\n",
       "      <td>0.8</td>\n",
       "      <td>0.4</td>\n",
       "      <td>0.4</td>\n",
       "      <td>1.4</td>\n",
       "      <td>MUMBAI</td>\n",
       "    </tr>\n",
       "    <tr>\n",
       "      <th>4</th>\n",
       "      <td>3</td>\n",
       "      <td>27</td>\n",
       "      <td>MAHARASHTRA</td>\n",
       "      <td>519</td>\n",
       "      <td>Mumbai</td>\n",
       "      <td>99999</td>\n",
       "      <td>Area not under any Sub-district</td>\n",
       "      <td>0</td>\n",
       "      <td>0</td>\n",
       "      <td>Sub-Dist - Area not under any Sub-district</td>\n",
       "      <td>...</td>\n",
       "      <td>12.6</td>\n",
       "      <td>15.7</td>\n",
       "      <td>2.2</td>\n",
       "      <td>93.9</td>\n",
       "      <td>3.9</td>\n",
       "      <td>0.8</td>\n",
       "      <td>0.4</td>\n",
       "      <td>0.4</td>\n",
       "      <td>1.4</td>\n",
       "      <td>MUMBAI</td>\n",
       "    </tr>\n",
       "  </tbody>\n",
       "</table>\n",
       "<p>5 rows × 147 columns</p>\n",
       "</div>"
      ],
      "text/plain": [
       "   Unnamed: 0_level_0  Unnamed: 0_level_1  Unnamed: 1_level_1  \\\n",
       "0  Unnamed: 0_level_1  Unnamed: 0_level_2  Unnamed: 1_level_2   \n",
       "1                   0                  27         MAHARASHTRA   \n",
       "2                   1                  27         MAHARASHTRA   \n",
       "3                   2                  27         MAHARASHTRA   \n",
       "4                   3                  27         MAHARASHTRA   \n",
       "\n",
       "   Unnamed: 2_level_1  Unnamed: 3_level_1  Unnamed: 4_level_1  \\\n",
       "0  Unnamed: 2_level_2  Unnamed: 3_level_2  Unnamed: 4_level_2   \n",
       "1                 519              Mumbai                   0   \n",
       "2                 519              Mumbai                   0   \n",
       "3                 519              Mumbai               99999   \n",
       "4                 519              Mumbai               99999   \n",
       "\n",
       "                Unnamed: 5_level_1  Unnamed: 6_level_1  Unnamed: 7_level_1  \\\n",
       "0               Unnamed: 5_level_2  Unnamed: 6_level_2  Unnamed: 7_level_2   \n",
       "1                           Mumbai                   0                   0   \n",
       "2                           Mumbai                   0                   0   \n",
       "3  Area not under any Sub-district                   0                   0   \n",
       "4  Area not under any Sub-district                   0                   0   \n",
       "\n",
       "                           Unnamed: 8_level_1  ...         Car/ Jeep/Van  \\\n",
       "0                          Unnamed: 8_level_2  ...  Unnamed: 136_level_2   \n",
       "1                           District - Mumbai  ...                  12.6   \n",
       "2                           District - Mumbai  ...                  12.6   \n",
       "3  Sub-Dist - Area not under any Sub-district  ...                  12.6   \n",
       "4  Sub-Dist - Area not under any Sub-district  ...                  12.6   \n",
       "\n",
       "  Households with TV, Computer/Laptop, Telephone/mobile phone and Scooter/ Car  \\\n",
       "0                               Unnamed: 137_level_2                             \n",
       "1                                               15.7                             \n",
       "2                                               15.7                             \n",
       "3                                               15.7                             \n",
       "4                                               15.7                             \n",
       "\n",
       "  None of the assets specified in col. 10 to 19 Unnamed: 139_level_1  \\\n",
       "0                          Unnamed: 138_level_2            Permanent   \n",
       "1                                           2.2                 93.9   \n",
       "2                                           2.2                 93.9   \n",
       "3                                           2.2                 93.9   \n",
       "4                                           2.2                 93.9   \n",
       "\n",
       "  Unnamed: 140_level_1 Unnamed: 141_level_1 Unnamed: 142_level_1  \\\n",
       "0       Semi-Permanent      Total Temporary          Serviceable   \n",
       "1                  3.9                  0.8                  0.4   \n",
       "2                  3.9                  0.8                  0.4   \n",
       "3                  3.9                  0.8                  0.4   \n",
       "4                  3.9                  0.8                  0.4   \n",
       "\n",
       "  Unnamed: 143_level_1 Unnamed: 144_level_1    city  \n",
       "0      Non-Serviceable       Unclassifiable     NaN  \n",
       "1                  0.4                  1.4  MUMBAI  \n",
       "2                  0.4                  1.4  MUMBAI  \n",
       "3                  0.4                  1.4  MUMBAI  \n",
       "4                  0.4                  1.4  MUMBAI  \n",
       "\n",
       "[5 rows x 147 columns]"
      ]
     },
     "execution_count": 12,
     "metadata": {},
     "output_type": "execute_result"
    }
   ],
   "source": [
    "city.head()"
   ]
  },
  {
   "cell_type": "code",
   "execution_count": null,
   "metadata": {},
   "outputs": [],
   "source": [
    "[82,85,91,106,124,103,104,127,114]\n",
    "\n",
    "[128,129,132,133,134,135,136,137,130,131]"
   ]
  },
  {
   "cell_type": "code",
   "execution_count": 47,
   "metadata": {},
   "outputs": [],
   "source": [
    "BAI=city.iloc[:,[82,85,91,106,124,103,104,127,114,-1]].drop(0)"
   ]
  },
  {
   "cell_type": "code",
   "execution_count": 49,
   "metadata": {},
   "outputs": [],
   "source": [
    "for i in BAI:\n",
    "    if i !='city':\n",
    "        BAI[i]=BAI[i].astype('float')\n"
   ]
  },
  {
   "cell_type": "code",
   "execution_count": 51,
   "metadata": {},
   "outputs": [],
   "source": [
    "BAI=BAI.groupby('city').mean()"
   ]
  },
  {
   "cell_type": "code",
   "execution_count": 52,
   "metadata": {},
   "outputs": [
    {
     "data": {
      "text/html": [
       "<div>\n",
       "<style scoped>\n",
       "    .dataframe tbody tr th:only-of-type {\n",
       "        vertical-align: middle;\n",
       "    }\n",
       "\n",
       "    .dataframe tbody tr th {\n",
       "        vertical-align: top;\n",
       "    }\n",
       "\n",
       "    .dataframe thead th {\n",
       "        text-align: right;\n",
       "    }\n",
       "</style>\n",
       "<table border=\"1\" class=\"dataframe\">\n",
       "  <thead>\n",
       "    <tr style=\"text-align: right;\">\n",
       "      <th></th>\n",
       "      <th>Within premises</th>\n",
       "      <th>Electricity</th>\n",
       "      <th>Unnamed: 90_level_1</th>\n",
       "      <th>Closed drainage</th>\n",
       "      <th>Has Kitchen.1</th>\n",
       "      <th>Yes</th>\n",
       "      <th>Yes.1</th>\n",
       "      <th>Unnamed: 126_level_1</th>\n",
       "      <th>LPG/PNG</th>\n",
       "    </tr>\n",
       "    <tr>\n",
       "      <th>city</th>\n",
       "      <th></th>\n",
       "      <th></th>\n",
       "      <th></th>\n",
       "      <th></th>\n",
       "      <th></th>\n",
       "      <th></th>\n",
       "      <th></th>\n",
       "      <th></th>\n",
       "      <th></th>\n",
       "    </tr>\n",
       "  </thead>\n",
       "  <tbody>\n",
       "    <tr>\n",
       "      <th>BANGLORE</th>\n",
       "      <td>47.838232</td>\n",
       "      <td>96.012545</td>\n",
       "      <td>72.805496</td>\n",
       "      <td>32.821266</td>\n",
       "      <td>0.665114</td>\n",
       "      <td>86.528196</td>\n",
       "      <td>4.976464</td>\n",
       "      <td>55.420072</td>\n",
       "      <td>51.012425</td>\n",
       "    </tr>\n",
       "    <tr>\n",
       "      <th>CHENNAI</th>\n",
       "      <td>75.590625</td>\n",
       "      <td>98.945000</td>\n",
       "      <td>94.558125</td>\n",
       "      <td>95.670625</td>\n",
       "      <td>0.476250</td>\n",
       "      <td>94.740000</td>\n",
       "      <td>1.453750</td>\n",
       "      <td>70.844375</td>\n",
       "      <td>82.204375</td>\n",
       "    </tr>\n",
       "    <tr>\n",
       "      <th>DELHI</th>\n",
       "      <td>76.502384</td>\n",
       "      <td>98.369934</td>\n",
       "      <td>86.481325</td>\n",
       "      <td>49.108609</td>\n",
       "      <td>0.476159</td>\n",
       "      <td>84.887152</td>\n",
       "      <td>4.995762</td>\n",
       "      <td>77.575762</td>\n",
       "      <td>86.239073</td>\n",
       "    </tr>\n",
       "    <tr>\n",
       "      <th>HYDERABAD</th>\n",
       "      <td>91.577987</td>\n",
       "      <td>98.684277</td>\n",
       "      <td>98.249057</td>\n",
       "      <td>96.172327</td>\n",
       "      <td>0.381761</td>\n",
       "      <td>97.601258</td>\n",
       "      <td>1.311950</td>\n",
       "      <td>59.837107</td>\n",
       "      <td>66.686164</td>\n",
       "    </tr>\n",
       "    <tr>\n",
       "      <th>KOLKATA</th>\n",
       "      <td>75.656164</td>\n",
       "      <td>96.285616</td>\n",
       "      <td>94.915068</td>\n",
       "      <td>84.288356</td>\n",
       "      <td>0.662329</td>\n",
       "      <td>82.656164</td>\n",
       "      <td>7.805479</td>\n",
       "      <td>84.508904</td>\n",
       "      <td>64.612329</td>\n",
       "    </tr>\n",
       "    <tr>\n",
       "      <th>MUMBAI</th>\n",
       "      <td>88.877273</td>\n",
       "      <td>98.484091</td>\n",
       "      <td>76.915909</td>\n",
       "      <td>93.909091</td>\n",
       "      <td>0.295455</td>\n",
       "      <td>92.131818</td>\n",
       "      <td>4.240909</td>\n",
       "      <td>89.306818</td>\n",
       "      <td>82.459091</td>\n",
       "    </tr>\n",
       "  </tbody>\n",
       "</table>\n",
       "</div>"
      ],
      "text/plain": [
       "           Within premises  Electricity  Unnamed: 90_level_1  Closed drainage  \\\n",
       "city                                                                            \n",
       "BANGLORE         47.838232    96.012545            72.805496        32.821266   \n",
       "CHENNAI          75.590625    98.945000            94.558125        95.670625   \n",
       "DELHI            76.502384    98.369934            86.481325        49.108609   \n",
       "HYDERABAD        91.577987    98.684277            98.249057        96.172327   \n",
       "KOLKATA          75.656164    96.285616            94.915068        84.288356   \n",
       "MUMBAI           88.877273    98.484091            76.915909        93.909091   \n",
       "\n",
       "           Has Kitchen.1        Yes     Yes.1  Unnamed: 126_level_1    LPG/PNG  \n",
       "city                                                                            \n",
       "BANGLORE        0.665114  86.528196  4.976464             55.420072  51.012425  \n",
       "CHENNAI         0.476250  94.740000  1.453750             70.844375  82.204375  \n",
       "DELHI           0.476159  84.887152  4.995762             77.575762  86.239073  \n",
       "HYDERABAD       0.381761  97.601258  1.311950             59.837107  66.686164  \n",
       "KOLKATA         0.662329  82.656164  7.805479             84.508904  64.612329  \n",
       "MUMBAI          0.295455  92.131818  4.240909             89.306818  82.459091  "
      ]
     },
     "execution_count": 52,
     "metadata": {},
     "output_type": "execute_result"
    }
   ],
   "source": [
    "BAI"
   ]
  },
  {
   "cell_type": "code",
   "execution_count": 61,
   "metadata": {},
   "outputs": [],
   "source": [
    "BAI['bathroom']=BAI.iloc[:,-5]+BAI.iloc[:,-4]\n",
    "BAI.drop(['Yes','Yes.1'],inplace=True,axis=1)"
   ]
  },
  {
   "cell_type": "code",
   "execution_count": 63,
   "metadata": {},
   "outputs": [],
   "source": [
    "BAI.to_csv('BAI.csv')"
   ]
  },
  {
   "cell_type": "code",
   "execution_count": 77,
   "metadata": {},
   "outputs": [],
   "source": []
  },
  {
   "cell_type": "code",
   "execution_count": 82,
   "metadata": {},
   "outputs": [],
   "source": [
    "AI=city.iloc[:,[128,129,132,133,134,135,136,137,130,131,-1]].drop(0)"
   ]
  },
  {
   "cell_type": "code",
   "execution_count": 83,
   "metadata": {},
   "outputs": [],
   "source": [
    "for i in AI:\n",
    "    if i !='city':\n",
    "        AI[i]=AI[i].astype('float')\n"
   ]
  },
  {
   "cell_type": "code",
   "execution_count": 84,
   "metadata": {},
   "outputs": [
    {
     "data": {
      "text/plain": [
       "Index(['Radio/\\nTransistor', 'Television', 'Telephone/Mobile Phone',\n",
       "       'Telephone/Mobile Phone.1', 'Telephone/Mobile Phone.2', 'Bicycle',\n",
       "       'Scooter/ Motorcycle/Moped', 'Car/ Jeep/Van', 'Computer/Laptop',\n",
       "       'Computer/Laptop.1', 'city', 'tele/mobile', 'comp/laptop'],\n",
       "      dtype='object')"
      ]
     },
     "execution_count": 84,
     "metadata": {},
     "output_type": "execute_result"
    }
   ],
   "source": [
    "AI['tele/mobile']=AI.iloc[:,2]+AI.iloc[:,3]+AI.iloc[:,4]\n",
    "AI['comp/laptop']=AI.iloc[:,-4]+AI.iloc[:,-3]\n",
    "AI.columns"
   ]
  },
  {
   "cell_type": "code",
   "execution_count": 85,
   "metadata": {},
   "outputs": [],
   "source": [
    "AI.drop(['Computer/Laptop','Computer/Laptop.1','Telephone/Mobile Phone','Telephone/Mobile Phone.1', 'Telephone/Mobile Phone.2'],axis=1,inplace=True)"
   ]
  },
  {
   "cell_type": "code",
   "execution_count": 89,
   "metadata": {},
   "outputs": [],
   "source": [
    "AI=AI.groupby('city').mean()"
   ]
  },
  {
   "cell_type": "code",
   "execution_count": 90,
   "metadata": {},
   "outputs": [
    {
     "data": {
      "text/html": [
       "<div>\n",
       "<style scoped>\n",
       "    .dataframe tbody tr th:only-of-type {\n",
       "        vertical-align: middle;\n",
       "    }\n",
       "\n",
       "    .dataframe tbody tr th {\n",
       "        vertical-align: top;\n",
       "    }\n",
       "\n",
       "    .dataframe thead th {\n",
       "        text-align: right;\n",
       "    }\n",
       "</style>\n",
       "<table border=\"1\" class=\"dataframe\">\n",
       "  <thead>\n",
       "    <tr style=\"text-align: right;\">\n",
       "      <th></th>\n",
       "      <th>Radio/\\nTransistor</th>\n",
       "      <th>Television</th>\n",
       "      <th>Bicycle</th>\n",
       "      <th>Scooter/ Motorcycle/Moped</th>\n",
       "      <th>Car/ Jeep/Van</th>\n",
       "      <th>tele/mobile</th>\n",
       "      <th>comp/laptop</th>\n",
       "    </tr>\n",
       "    <tr>\n",
       "      <th>city</th>\n",
       "      <th></th>\n",
       "      <th></th>\n",
       "      <th></th>\n",
       "      <th></th>\n",
       "      <th></th>\n",
       "      <th></th>\n",
       "      <th></th>\n",
       "    </tr>\n",
       "  </thead>\n",
       "  <tbody>\n",
       "    <tr>\n",
       "      <th>BANGLORE</th>\n",
       "      <td>35.115293</td>\n",
       "      <td>77.147790</td>\n",
       "      <td>31.297133</td>\n",
       "      <td>38.028076</td>\n",
       "      <td>9.963680</td>\n",
       "      <td>82.588889</td>\n",
       "      <td>16.867025</td>\n",
       "    </tr>\n",
       "    <tr>\n",
       "      <th>CHENNAI</th>\n",
       "      <td>35.148125</td>\n",
       "      <td>95.545625</td>\n",
       "      <td>35.096250</td>\n",
       "      <td>45.407500</td>\n",
       "      <td>12.754375</td>\n",
       "      <td>91.445625</td>\n",
       "      <td>32.025625</td>\n",
       "    </tr>\n",
       "    <tr>\n",
       "      <th>DELHI</th>\n",
       "      <td>32.741987</td>\n",
       "      <td>86.585033</td>\n",
       "      <td>33.362252</td>\n",
       "      <td>39.259868</td>\n",
       "      <td>19.559603</td>\n",
       "      <td>89.665430</td>\n",
       "      <td>26.296159</td>\n",
       "    </tr>\n",
       "    <tr>\n",
       "      <th>HYDERABAD</th>\n",
       "      <td>32.527673</td>\n",
       "      <td>84.972956</td>\n",
       "      <td>26.381761</td>\n",
       "      <td>50.685535</td>\n",
       "      <td>14.407547</td>\n",
       "      <td>90.616981</td>\n",
       "      <td>31.620126</td>\n",
       "    </tr>\n",
       "    <tr>\n",
       "      <th>KOLKATA</th>\n",
       "      <td>47.773973</td>\n",
       "      <td>84.256849</td>\n",
       "      <td>22.794521</td>\n",
       "      <td>11.480137</td>\n",
       "      <td>8.850685</td>\n",
       "      <td>89.469863</td>\n",
       "      <td>26.396575</td>\n",
       "    </tr>\n",
       "    <tr>\n",
       "      <th>MUMBAI</th>\n",
       "      <td>36.870455</td>\n",
       "      <td>86.036364</td>\n",
       "      <td>8.972727</td>\n",
       "      <td>19.945455</td>\n",
       "      <td>14.040909</td>\n",
       "      <td>94.961364</td>\n",
       "      <td>35.875000</td>\n",
       "    </tr>\n",
       "  </tbody>\n",
       "</table>\n",
       "</div>"
      ],
      "text/plain": [
       "           Radio/\\nTransistor  Television    Bicycle  \\\n",
       "city                                                   \n",
       "BANGLORE            35.115293   77.147790  31.297133   \n",
       "CHENNAI             35.148125   95.545625  35.096250   \n",
       "DELHI               32.741987   86.585033  33.362252   \n",
       "HYDERABAD           32.527673   84.972956  26.381761   \n",
       "KOLKATA             47.773973   84.256849  22.794521   \n",
       "MUMBAI              36.870455   86.036364   8.972727   \n",
       "\n",
       "           Scooter/ Motorcycle/Moped  Car/ Jeep/Van  tele/mobile  comp/laptop  \n",
       "city                                                                           \n",
       "BANGLORE                   38.028076       9.963680    82.588889    16.867025  \n",
       "CHENNAI                    45.407500      12.754375    91.445625    32.025625  \n",
       "DELHI                      39.259868      19.559603    89.665430    26.296159  \n",
       "HYDERABAD                  50.685535      14.407547    90.616981    31.620126  \n",
       "KOLKATA                    11.480137       8.850685    89.469863    26.396575  \n",
       "MUMBAI                     19.945455      14.040909    94.961364    35.875000  "
      ]
     },
     "execution_count": 90,
     "metadata": {},
     "output_type": "execute_result"
    }
   ],
   "source": [
    "AI"
   ]
  },
  {
   "cell_type": "code",
   "execution_count": 98,
   "metadata": {},
   "outputs": [],
   "source": [
    "np.random.seed(2022)"
   ]
  },
  {
   "cell_type": "code",
   "execution_count": 100,
   "metadata": {},
   "outputs": [
    {
     "data": {
      "text/plain": [
       "array([ 0.54029727,  0.37349729,  0.37781339, -0.09021319, -2.30594327,\n",
       "        1.14276002, -1.53565429])"
      ]
     },
     "execution_count": 100,
     "metadata": {},
     "output_type": "execute_result"
    }
   ],
   "source": [
    "np.random.normal(0,1,7)"
   ]
  },
  {
   "cell_type": "code",
   "execution_count": 101,
   "metadata": {},
   "outputs": [
    {
     "data": {
      "text/html": [
       "<div>\n",
       "<style scoped>\n",
       "    .dataframe tbody tr th:only-of-type {\n",
       "        vertical-align: middle;\n",
       "    }\n",
       "\n",
       "    .dataframe tbody tr th {\n",
       "        vertical-align: top;\n",
       "    }\n",
       "\n",
       "    .dataframe thead th {\n",
       "        text-align: right;\n",
       "    }\n",
       "</style>\n",
       "<table border=\"1\" class=\"dataframe\">\n",
       "  <thead>\n",
       "    <tr style=\"text-align: right;\">\n",
       "      <th></th>\n",
       "      <th>Within premises</th>\n",
       "      <th>Electricity</th>\n",
       "      <th>Unnamed: 90_level_1</th>\n",
       "      <th>Closed drainage</th>\n",
       "      <th>Has Kitchen.1</th>\n",
       "      <th>Unnamed: 126_level_1</th>\n",
       "      <th>LPG/PNG</th>\n",
       "      <th>bathroom</th>\n",
       "    </tr>\n",
       "    <tr>\n",
       "      <th>city</th>\n",
       "      <th></th>\n",
       "      <th></th>\n",
       "      <th></th>\n",
       "      <th></th>\n",
       "      <th></th>\n",
       "      <th></th>\n",
       "      <th></th>\n",
       "      <th></th>\n",
       "    </tr>\n",
       "  </thead>\n",
       "  <tbody>\n",
       "    <tr>\n",
       "      <th>BANGLORE</th>\n",
       "      <td>47.838232</td>\n",
       "      <td>96.012545</td>\n",
       "      <td>72.805496</td>\n",
       "      <td>32.821266</td>\n",
       "      <td>0.665114</td>\n",
       "      <td>55.420072</td>\n",
       "      <td>51.012425</td>\n",
       "      <td>91.504659</td>\n",
       "    </tr>\n",
       "    <tr>\n",
       "      <th>CHENNAI</th>\n",
       "      <td>75.590625</td>\n",
       "      <td>98.945000</td>\n",
       "      <td>94.558125</td>\n",
       "      <td>95.670625</td>\n",
       "      <td>0.476250</td>\n",
       "      <td>70.844375</td>\n",
       "      <td>82.204375</td>\n",
       "      <td>96.193750</td>\n",
       "    </tr>\n",
       "    <tr>\n",
       "      <th>DELHI</th>\n",
       "      <td>76.502384</td>\n",
       "      <td>98.369934</td>\n",
       "      <td>86.481325</td>\n",
       "      <td>49.108609</td>\n",
       "      <td>0.476159</td>\n",
       "      <td>77.575762</td>\n",
       "      <td>86.239073</td>\n",
       "      <td>89.882914</td>\n",
       "    </tr>\n",
       "    <tr>\n",
       "      <th>HYDERABAD</th>\n",
       "      <td>91.577987</td>\n",
       "      <td>98.684277</td>\n",
       "      <td>98.249057</td>\n",
       "      <td>96.172327</td>\n",
       "      <td>0.381761</td>\n",
       "      <td>59.837107</td>\n",
       "      <td>66.686164</td>\n",
       "      <td>98.913208</td>\n",
       "    </tr>\n",
       "    <tr>\n",
       "      <th>KOLKATA</th>\n",
       "      <td>75.656164</td>\n",
       "      <td>96.285616</td>\n",
       "      <td>94.915068</td>\n",
       "      <td>84.288356</td>\n",
       "      <td>0.662329</td>\n",
       "      <td>84.508904</td>\n",
       "      <td>64.612329</td>\n",
       "      <td>90.461644</td>\n",
       "    </tr>\n",
       "    <tr>\n",
       "      <th>MUMBAI</th>\n",
       "      <td>88.877273</td>\n",
       "      <td>98.484091</td>\n",
       "      <td>76.915909</td>\n",
       "      <td>93.909091</td>\n",
       "      <td>0.295455</td>\n",
       "      <td>89.306818</td>\n",
       "      <td>82.459091</td>\n",
       "      <td>96.372727</td>\n",
       "    </tr>\n",
       "  </tbody>\n",
       "</table>\n",
       "</div>"
      ],
      "text/plain": [
       "           Within premises  Electricity  Unnamed: 90_level_1  Closed drainage  \\\n",
       "city                                                                            \n",
       "BANGLORE         47.838232    96.012545            72.805496        32.821266   \n",
       "CHENNAI          75.590625    98.945000            94.558125        95.670625   \n",
       "DELHI            76.502384    98.369934            86.481325        49.108609   \n",
       "HYDERABAD        91.577987    98.684277            98.249057        96.172327   \n",
       "KOLKATA          75.656164    96.285616            94.915068        84.288356   \n",
       "MUMBAI           88.877273    98.484091            76.915909        93.909091   \n",
       "\n",
       "           Has Kitchen.1  Unnamed: 126_level_1    LPG/PNG   bathroom  \n",
       "city                                                                  \n",
       "BANGLORE        0.665114             55.420072  51.012425  91.504659  \n",
       "CHENNAI         0.476250             70.844375  82.204375  96.193750  \n",
       "DELHI           0.476159             77.575762  86.239073  89.882914  \n",
       "HYDERABAD       0.381761             59.837107  66.686164  98.913208  \n",
       "KOLKATA         0.662329             84.508904  64.612329  90.461644  \n",
       "MUMBAI          0.295455             89.306818  82.459091  96.372727  "
      ]
     },
     "execution_count": 101,
     "metadata": {},
     "output_type": "execute_result"
    }
   ],
   "source": [
    "BAI"
   ]
  },
  {
   "cell_type": "code",
   "execution_count": 102,
   "metadata": {},
   "outputs": [],
   "source": [
    "QHI=pd.read_csv('QHI.csv')"
   ]
  },
  {
   "cell_type": "code",
   "execution_count": 125,
   "metadata": {},
   "outputs": [
    {
     "data": {
      "text/html": [
       "<div>\n",
       "<style scoped>\n",
       "    .dataframe tbody tr th:only-of-type {\n",
       "        vertical-align: middle;\n",
       "    }\n",
       "\n",
       "    .dataframe tbody tr th {\n",
       "        vertical-align: top;\n",
       "    }\n",
       "\n",
       "    .dataframe thead th {\n",
       "        text-align: right;\n",
       "    }\n",
       "</style>\n",
       "<table border=\"1\" class=\"dataframe\">\n",
       "  <thead>\n",
       "    <tr style=\"text-align: right;\">\n",
       "      <th></th>\n",
       "      <th>Unnamed: 0</th>\n",
       "      <th>Total</th>\n",
       "      <th>Owned</th>\n",
       "      <th>Unnamed: 139_level_1</th>\n",
       "      <th>No exclusive room</th>\n",
       "      <th>Atleast2Rooms</th>\n",
       "    </tr>\n",
       "  </thead>\n",
       "  <tbody>\n",
       "    <tr>\n",
       "      <th>0</th>\n",
       "      <td>NaN</td>\n",
       "      <td>Good</td>\n",
       "      <td>Unnamed: 62_level_2</td>\n",
       "      <td>Permanent</td>\n",
       "      <td>Unnamed: 48_level_2</td>\n",
       "      <td>NaN</td>\n",
       "    </tr>\n",
       "    <tr>\n",
       "      <th>1</th>\n",
       "      <td>('city', '')</td>\n",
       "      <td>NaN</td>\n",
       "      <td>NaN</td>\n",
       "      <td>NaN</td>\n",
       "      <td>NaN</td>\n",
       "      <td>NaN</td>\n",
       "    </tr>\n",
       "    <tr>\n",
       "      <th>2</th>\n",
       "      <td>BANGLORE</td>\n",
       "      <td>69.76009557945042</td>\n",
       "      <td>59.15985663082438</td>\n",
       "      <td>83.46917562724013</td>\n",
       "      <td>11.776463560334527</td>\n",
       "      <td>50.427838</td>\n",
       "    </tr>\n",
       "    <tr>\n",
       "      <th>3</th>\n",
       "      <td>CHENNAI</td>\n",
       "      <td>80.05625</td>\n",
       "      <td>45.795625</td>\n",
       "      <td>94.09375</td>\n",
       "      <td>2.2725</td>\n",
       "      <td>59.238125</td>\n",
       "    </tr>\n",
       "    <tr>\n",
       "      <th>4</th>\n",
       "      <td>DELHI</td>\n",
       "      <td>63.36543046357616</td>\n",
       "      <td>68.29549668874172</td>\n",
       "      <td>94.68781456953643</td>\n",
       "      <td>1.417615894039735</td>\n",
       "      <td>67.068079</td>\n",
       "    </tr>\n",
       "  </tbody>\n",
       "</table>\n",
       "</div>"
      ],
      "text/plain": [
       "     Unnamed: 0              Total               Owned  Unnamed: 139_level_1  \\\n",
       "0           NaN               Good  Unnamed: 62_level_2            Permanent   \n",
       "1  ('city', '')                NaN                  NaN                  NaN   \n",
       "2      BANGLORE  69.76009557945042    59.15985663082438    83.46917562724013   \n",
       "3       CHENNAI           80.05625            45.795625             94.09375   \n",
       "4         DELHI  63.36543046357616    68.29549668874172    94.68781456953643   \n",
       "\n",
       "     No exclusive room  Atleast2Rooms  \n",
       "0  Unnamed: 48_level_2            NaN  \n",
       "1                  NaN            NaN  \n",
       "2   11.776463560334527      50.427838  \n",
       "3               2.2725      59.238125  \n",
       "4    1.417615894039735      67.068079  "
      ]
     },
     "execution_count": 125,
     "metadata": {},
     "output_type": "execute_result"
    }
   ],
   "source": [
    "QHI.head()"
   ]
  },
  {
   "cell_type": "code",
   "execution_count": 136,
   "metadata": {},
   "outputs": [],
   "source": [
    "def weighted_sum(data):\n",
    "    np.random.seed(2022)\n",
    "    result={}\n",
    "    weights=np.asarray(np.random.normal(0,1,data.shape[1]))\n",
    "    for i in data.index:\n",
    "        array=data.loc[i].values\n",
    "        print(array)\n",
    "        result[i]=np.sum(weights*array)\n",
    "    return result\n"
   ]
  },
  {
   "cell_type": "code",
   "execution_count": 137,
   "metadata": {},
   "outputs": [
    {
     "data": {
      "text/plain": [
       "array([35.11529271, 77.14778973, 31.29713262, 38.02807646,  9.96367981,\n",
       "       82.58888889, 16.86702509])"
      ]
     },
     "execution_count": 137,
     "metadata": {},
     "output_type": "execute_result"
    }
   ],
   "source": [
    "AI.loc['BANGLORE',:].values"
   ]
  },
  {
   "cell_type": "code",
   "execution_count": 138,
   "metadata": {},
   "outputs": [
    {
     "name": "stdout",
     "output_type": "stream",
     "text": [
      "[35.11529271 77.14778973 31.29713262 38.02807646  9.96367981 82.58888889\n",
      " 16.86702509]\n",
      "[35.148125 95.545625 35.09625  45.4075   12.754375 91.445625 32.025625]\n",
      "[32.74198675 86.58503311 33.36225166 39.25986755 19.55960265 89.66543046\n",
      " 26.29615894]\n",
      "[32.52767296 84.97295597 26.38176101 50.68553459 14.40754717 90.61698113\n",
      " 31.62012579]\n",
      "[47.7739726  84.25684932 22.79452055 11.48013699  8.85068493 89.46986301\n",
      " 26.39657534]\n",
      "[36.87045455 86.03636364  8.97272727 19.94545455 14.04090909 94.96136364\n",
      " 35.875     ]\n"
     ]
    }
   ],
   "source": [
    "res=weighted_sum(AI)"
   ]
  },
  {
   "cell_type": "code",
   "execution_count": 139,
   "metadata": {},
   "outputs": [
    {
     "data": {
      "text/plain": [
       "{'BANGLORE': 120.6098366179014,\n",
       " 'CHENNAI': 141.75692810006427,\n",
       " 'DELHI': 131.1028445533481,\n",
       " 'HYDERABAD': 156.06768595374538,\n",
       " 'KOLKATA': 74.9331643976931,\n",
       " 'MUMBAI': 101.67092748540654}"
      ]
     },
     "execution_count": 139,
     "metadata": {},
     "output_type": "execute_result"
    }
   ],
   "source": [
    "res"
   ]
  },
  {
   "cell_type": "code",
   "execution_count": 147,
   "metadata": {},
   "outputs": [],
   "source": [
    "QHI=city.iloc[:,[12,63,51,52,53,54,55,140,49,-1]].drop(0).rename({'Unnamed: 139_level_1':'Permanent'},axis=1)"
   ]
  },
  {
   "cell_type": "code",
   "execution_count": 150,
   "metadata": {},
   "outputs": [
    {
     "data": {
      "text/html": [
       "<div>\n",
       "<style scoped>\n",
       "    .dataframe tbody tr th:only-of-type {\n",
       "        vertical-align: middle;\n",
       "    }\n",
       "\n",
       "    .dataframe tbody tr th {\n",
       "        vertical-align: top;\n",
       "    }\n",
       "\n",
       "    .dataframe thead th {\n",
       "        text-align: right;\n",
       "    }\n",
       "</style>\n",
       "<table border=\"1\" class=\"dataframe\">\n",
       "  <thead>\n",
       "    <tr style=\"text-align: right;\">\n",
       "      <th></th>\n",
       "      <th>Total.1</th>\n",
       "      <th>Owned</th>\n",
       "      <th>Two rooms</th>\n",
       "      <th>Three rooms</th>\n",
       "      <th>Four rooms</th>\n",
       "      <th>Five rooms</th>\n",
       "      <th>Six rooms and above</th>\n",
       "      <th>Permanent</th>\n",
       "      <th>No exclusive room</th>\n",
       "      <th>city</th>\n",
       "    </tr>\n",
       "  </thead>\n",
       "  <tbody>\n",
       "    <tr>\n",
       "      <th>1</th>\n",
       "      <td>72.2</td>\n",
       "      <td>67.1</td>\n",
       "      <td>15.8</td>\n",
       "      <td>7.7</td>\n",
       "      <td>2.9</td>\n",
       "      <td>0.8</td>\n",
       "      <td>0.7</td>\n",
       "      <td>93.9</td>\n",
       "      <td>9.3</td>\n",
       "      <td>MUMBAI</td>\n",
       "    </tr>\n",
       "    <tr>\n",
       "      <th>2</th>\n",
       "      <td>72.2</td>\n",
       "      <td>67.1</td>\n",
       "      <td>15.8</td>\n",
       "      <td>7.7</td>\n",
       "      <td>2.9</td>\n",
       "      <td>0.8</td>\n",
       "      <td>0.7</td>\n",
       "      <td>93.9</td>\n",
       "      <td>9.3</td>\n",
       "      <td>MUMBAI</td>\n",
       "    </tr>\n",
       "    <tr>\n",
       "      <th>3</th>\n",
       "      <td>72.2</td>\n",
       "      <td>67.1</td>\n",
       "      <td>15.8</td>\n",
       "      <td>7.7</td>\n",
       "      <td>2.9</td>\n",
       "      <td>0.8</td>\n",
       "      <td>0.7</td>\n",
       "      <td>93.9</td>\n",
       "      <td>9.3</td>\n",
       "      <td>MUMBAI</td>\n",
       "    </tr>\n",
       "    <tr>\n",
       "      <th>4</th>\n",
       "      <td>72.2</td>\n",
       "      <td>67.1</td>\n",
       "      <td>15.8</td>\n",
       "      <td>7.7</td>\n",
       "      <td>2.9</td>\n",
       "      <td>0.8</td>\n",
       "      <td>0.7</td>\n",
       "      <td>93.9</td>\n",
       "      <td>9.3</td>\n",
       "      <td>MUMBAI</td>\n",
       "    </tr>\n",
       "    <tr>\n",
       "      <th>5</th>\n",
       "      <td>72.2</td>\n",
       "      <td>67.1</td>\n",
       "      <td>15.8</td>\n",
       "      <td>7.7</td>\n",
       "      <td>2.9</td>\n",
       "      <td>0.8</td>\n",
       "      <td>0.7</td>\n",
       "      <td>93.9</td>\n",
       "      <td>9.3</td>\n",
       "      <td>MUMBAI</td>\n",
       "    </tr>\n",
       "    <tr>\n",
       "      <th>...</th>\n",
       "      <td>...</td>\n",
       "      <td>...</td>\n",
       "      <td>...</td>\n",
       "      <td>...</td>\n",
       "      <td>...</td>\n",
       "      <td>...</td>\n",
       "      <td>...</td>\n",
       "      <td>...</td>\n",
       "      <td>...</td>\n",
       "      <td>...</td>\n",
       "    </tr>\n",
       "    <tr>\n",
       "      <th>2097</th>\n",
       "      <td>88.9</td>\n",
       "      <td>64.2</td>\n",
       "      <td>19.2</td>\n",
       "      <td>33.6</td>\n",
       "      <td>16.3</td>\n",
       "      <td>4.4</td>\n",
       "      <td>3.8</td>\n",
       "      <td>96.3</td>\n",
       "      <td>1.5</td>\n",
       "      <td>CHENNAI</td>\n",
       "    </tr>\n",
       "    <tr>\n",
       "      <th>2098</th>\n",
       "      <td>84.9</td>\n",
       "      <td>53.9</td>\n",
       "      <td>21.3</td>\n",
       "      <td>23.1</td>\n",
       "      <td>14.7</td>\n",
       "      <td>6.1</td>\n",
       "      <td>3.3</td>\n",
       "      <td>92.6</td>\n",
       "      <td>2.0</td>\n",
       "      <td>CHENNAI</td>\n",
       "    </tr>\n",
       "    <tr>\n",
       "      <th>2099</th>\n",
       "      <td>87.6</td>\n",
       "      <td>52.9</td>\n",
       "      <td>27.4</td>\n",
       "      <td>28.3</td>\n",
       "      <td>10.5</td>\n",
       "      <td>2.6</td>\n",
       "      <td>1.1</td>\n",
       "      <td>95.5</td>\n",
       "      <td>3.0</td>\n",
       "      <td>CHENNAI</td>\n",
       "    </tr>\n",
       "    <tr>\n",
       "      <th>2100</th>\n",
       "      <td>82.6</td>\n",
       "      <td>55.8</td>\n",
       "      <td>26.3</td>\n",
       "      <td>14.7</td>\n",
       "      <td>4.2</td>\n",
       "      <td>1.1</td>\n",
       "      <td>0.8</td>\n",
       "      <td>89.7</td>\n",
       "      <td>3.3</td>\n",
       "      <td>CHENNAI</td>\n",
       "    </tr>\n",
       "    <tr>\n",
       "      <th>2101</th>\n",
       "      <td>89.0</td>\n",
       "      <td>54.3</td>\n",
       "      <td>26.1</td>\n",
       "      <td>25.0</td>\n",
       "      <td>11.0</td>\n",
       "      <td>3.1</td>\n",
       "      <td>1.9</td>\n",
       "      <td>93.1</td>\n",
       "      <td>3.1</td>\n",
       "      <td>CHENNAI</td>\n",
       "    </tr>\n",
       "  </tbody>\n",
       "</table>\n",
       "<p>2101 rows × 10 columns</p>\n",
       "</div>"
      ],
      "text/plain": [
       "      Total.1  Owned   Two rooms  Three rooms  Four rooms  Five rooms  \\\n",
       "1        72.2    67.1       15.8          7.7         2.9         0.8   \n",
       "2        72.2    67.1       15.8          7.7         2.9         0.8   \n",
       "3        72.2    67.1       15.8          7.7         2.9         0.8   \n",
       "4        72.2    67.1       15.8          7.7         2.9         0.8   \n",
       "5        72.2    67.1       15.8          7.7         2.9         0.8   \n",
       "...       ...     ...        ...          ...         ...         ...   \n",
       "2097     88.9    64.2       19.2         33.6        16.3         4.4   \n",
       "2098     84.9    53.9       21.3         23.1        14.7         6.1   \n",
       "2099     87.6    52.9       27.4         28.3        10.5         2.6   \n",
       "2100     82.6    55.8       26.3         14.7         4.2         1.1   \n",
       "2101     89.0    54.3       26.1         25.0        11.0         3.1   \n",
       "\n",
       "      Six rooms and above  Permanent  No exclusive room     city  \n",
       "1                     0.7       93.9                9.3   MUMBAI  \n",
       "2                     0.7       93.9                9.3   MUMBAI  \n",
       "3                     0.7       93.9                9.3   MUMBAI  \n",
       "4                     0.7       93.9                9.3   MUMBAI  \n",
       "5                     0.7       93.9                9.3   MUMBAI  \n",
       "...                   ...        ...                ...      ...  \n",
       "2097                  3.8       96.3                1.5  CHENNAI  \n",
       "2098                  3.3       92.6                2.0  CHENNAI  \n",
       "2099                  1.1       95.5                3.0  CHENNAI  \n",
       "2100                  0.8       89.7                3.3  CHENNAI  \n",
       "2101                  1.9       93.1                3.1  CHENNAI  \n",
       "\n",
       "[2101 rows x 10 columns]"
      ]
     },
     "execution_count": 150,
     "metadata": {},
     "output_type": "execute_result"
    }
   ],
   "source": [
    "QHI"
   ]
  },
  {
   "cell_type": "code",
   "execution_count": 149,
   "metadata": {},
   "outputs": [],
   "source": [
    "for i in QHI:\n",
    "    if i !='city':\n",
    "        QHI[i]=QHI[i].astype('float')\n"
   ]
  },
  {
   "cell_type": "code",
   "execution_count": 151,
   "metadata": {},
   "outputs": [],
   "source": [
    "QHI['MoreThan2BedRooms']=QHI.iloc[:,2]+QHI.iloc[:,3]+QHI.iloc[:,4]+QHI.iloc[:,5]+QHI.iloc[:,6]"
   ]
  },
  {
   "cell_type": "code",
   "execution_count": 153,
   "metadata": {},
   "outputs": [
    {
     "data": {
      "text/plain": [
       "Index(['Total.1', 'Owned ', 'Two rooms', 'Three rooms', 'Four rooms',\n",
       "       'Five rooms', 'Six rooms and above', 'Permanent', 'No exclusive room',\n",
       "       'city', 'MoreThan2BedRooms'],\n",
       "      dtype='object')"
      ]
     },
     "execution_count": 153,
     "metadata": {},
     "output_type": "execute_result"
    }
   ],
   "source": [
    "QHI.columns"
   ]
  },
  {
   "cell_type": "code",
   "execution_count": 154,
   "metadata": {},
   "outputs": [],
   "source": [
    "QHI.drop(['Two rooms', 'Three rooms', 'Four rooms',\n",
    "       'Five rooms', 'Six rooms and above'],axis=1,inplace=True)"
   ]
  },
  {
   "cell_type": "code",
   "execution_count": 156,
   "metadata": {},
   "outputs": [],
   "source": [
    "QHI.groupby('city').mean().to_csv('QHI.csv')"
   ]
  },
  {
   "cell_type": "code",
   "execution_count": 163,
   "metadata": {},
   "outputs": [],
   "source": [
    "QHI=pd.read_csv('BAI.csv',index_col='city')"
   ]
  },
  {
   "cell_type": "code",
   "execution_count": 164,
   "metadata": {},
   "outputs": [
    {
     "data": {
      "text/html": [
       "<div>\n",
       "<style scoped>\n",
       "    .dataframe tbody tr th:only-of-type {\n",
       "        vertical-align: middle;\n",
       "    }\n",
       "\n",
       "    .dataframe tbody tr th {\n",
       "        vertical-align: top;\n",
       "    }\n",
       "\n",
       "    .dataframe thead th {\n",
       "        text-align: right;\n",
       "    }\n",
       "</style>\n",
       "<table border=\"1\" class=\"dataframe\">\n",
       "  <thead>\n",
       "    <tr style=\"text-align: right;\">\n",
       "      <th></th>\n",
       "      <th>Within premises</th>\n",
       "      <th>Electricity</th>\n",
       "      <th>Unnamed: 90_level_1</th>\n",
       "      <th>Closed drainage</th>\n",
       "      <th>Has Kitchen.1</th>\n",
       "      <th>Unnamed: 126_level_1</th>\n",
       "      <th>LPG/PNG</th>\n",
       "      <th>bathroom</th>\n",
       "    </tr>\n",
       "    <tr>\n",
       "      <th>city</th>\n",
       "      <th></th>\n",
       "      <th></th>\n",
       "      <th></th>\n",
       "      <th></th>\n",
       "      <th></th>\n",
       "      <th></th>\n",
       "      <th></th>\n",
       "      <th></th>\n",
       "    </tr>\n",
       "  </thead>\n",
       "  <tbody>\n",
       "    <tr>\n",
       "      <th>BANGLORE</th>\n",
       "      <td>47.838232</td>\n",
       "      <td>96.012545</td>\n",
       "      <td>72.805496</td>\n",
       "      <td>32.821266</td>\n",
       "      <td>0.665114</td>\n",
       "      <td>55.420072</td>\n",
       "      <td>51.012425</td>\n",
       "      <td>91.504659</td>\n",
       "    </tr>\n",
       "    <tr>\n",
       "      <th>CHENNAI</th>\n",
       "      <td>75.590625</td>\n",
       "      <td>98.945000</td>\n",
       "      <td>94.558125</td>\n",
       "      <td>95.670625</td>\n",
       "      <td>0.476250</td>\n",
       "      <td>70.844375</td>\n",
       "      <td>82.204375</td>\n",
       "      <td>96.193750</td>\n",
       "    </tr>\n",
       "    <tr>\n",
       "      <th>DELHI</th>\n",
       "      <td>76.502384</td>\n",
       "      <td>98.369934</td>\n",
       "      <td>86.481325</td>\n",
       "      <td>49.108609</td>\n",
       "      <td>0.476159</td>\n",
       "      <td>77.575762</td>\n",
       "      <td>86.239073</td>\n",
       "      <td>89.882914</td>\n",
       "    </tr>\n",
       "    <tr>\n",
       "      <th>HYDERABAD</th>\n",
       "      <td>91.577987</td>\n",
       "      <td>98.684277</td>\n",
       "      <td>98.249057</td>\n",
       "      <td>96.172327</td>\n",
       "      <td>0.381761</td>\n",
       "      <td>59.837107</td>\n",
       "      <td>66.686164</td>\n",
       "      <td>98.913208</td>\n",
       "    </tr>\n",
       "    <tr>\n",
       "      <th>KOLKATA</th>\n",
       "      <td>75.656164</td>\n",
       "      <td>96.285616</td>\n",
       "      <td>94.915068</td>\n",
       "      <td>84.288356</td>\n",
       "      <td>0.662329</td>\n",
       "      <td>84.508904</td>\n",
       "      <td>64.612329</td>\n",
       "      <td>90.461644</td>\n",
       "    </tr>\n",
       "    <tr>\n",
       "      <th>MUMBAI</th>\n",
       "      <td>88.877273</td>\n",
       "      <td>98.484091</td>\n",
       "      <td>76.915909</td>\n",
       "      <td>93.909091</td>\n",
       "      <td>0.295455</td>\n",
       "      <td>89.306818</td>\n",
       "      <td>82.459091</td>\n",
       "      <td>96.372727</td>\n",
       "    </tr>\n",
       "  </tbody>\n",
       "</table>\n",
       "</div>"
      ],
      "text/plain": [
       "           Within premises  Electricity  Unnamed: 90_level_1  Closed drainage  \\\n",
       "city                                                                            \n",
       "BANGLORE         47.838232    96.012545            72.805496        32.821266   \n",
       "CHENNAI          75.590625    98.945000            94.558125        95.670625   \n",
       "DELHI            76.502384    98.369934            86.481325        49.108609   \n",
       "HYDERABAD        91.577987    98.684277            98.249057        96.172327   \n",
       "KOLKATA          75.656164    96.285616            94.915068        84.288356   \n",
       "MUMBAI           88.877273    98.484091            76.915909        93.909091   \n",
       "\n",
       "           Has Kitchen.1  Unnamed: 126_level_1    LPG/PNG   bathroom  \n",
       "city                                                                  \n",
       "BANGLORE        0.665114             55.420072  51.012425  91.504659  \n",
       "CHENNAI         0.476250             70.844375  82.204375  96.193750  \n",
       "DELHI           0.476159             77.575762  86.239073  89.882914  \n",
       "HYDERABAD       0.381761             59.837107  66.686164  98.913208  \n",
       "KOLKATA         0.662329             84.508904  64.612329  90.461644  \n",
       "MUMBAI          0.295455             89.306818  82.459091  96.372727  "
      ]
     },
     "execution_count": 164,
     "metadata": {},
     "output_type": "execute_result"
    }
   ],
   "source": [
    "QHI"
   ]
  },
  {
   "cell_type": "code",
   "execution_count": null,
   "metadata": {},
   "outputs": [],
   "source": []
  }
 ],
 "metadata": {
  "interpreter": {
   "hash": "423d5580e5a70cfacc6726872e3658ff2836f3f7c1fd3c3256b5e5f36e2fe05e"
  },
  "kernelspec": {
   "display_name": "Python 3.9.7 ('tf')",
   "language": "python",
   "name": "python3"
  },
  "language_info": {
   "codemirror_mode": {
    "name": "ipython",
    "version": 3
   },
   "file_extension": ".py",
   "mimetype": "text/x-python",
   "name": "python",
   "nbconvert_exporter": "python",
   "pygments_lexer": "ipython3",
   "version": "3.9.7"
  },
  "orig_nbformat": 4
 },
 "nbformat": 4,
 "nbformat_minor": 2
}
