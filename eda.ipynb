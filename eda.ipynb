{
 "cells": [
  {
   "cell_type": "code",
   "execution_count": 2,
   "metadata": {},
   "outputs": [],
   "source": [
    "import numpy as np\n",
    "import pandas as pd\n",
    "import matplotlib.pyplot as plt\n",
    "import seaborn as sns\n",
    "%matplotlib inline"
   ]
  },
  {
   "cell_type": "code",
   "execution_count": 2,
   "metadata": {},
   "outputs": [
    {
     "name": "stdout",
     "output_type": "stream",
     "text": [
      "Collecting catboost\n",
      "  Downloading catboost-1.0.4-cp39-none-win_amd64.whl (73.5 MB)\n",
      "Requirement already satisfied: plotly in c:\\users\\aamir\\anaconda3\\envs\\tf\\lib\\site-packages (from catboost) (5.3.1)\n",
      "Requirement already satisfied: matplotlib in c:\\users\\aamir\\anaconda3\\envs\\tf\\lib\\site-packages (from catboost) (3.4.3)\n",
      "Requirement already satisfied: six in c:\\users\\aamir\\anaconda3\\envs\\tf\\lib\\site-packages (from catboost) (1.16.0)\n",
      "Requirement already satisfied: pandas>=0.24.0 in c:\\users\\aamir\\anaconda3\\envs\\tf\\lib\\site-packages (from catboost) (1.4.1)\n",
      "Requirement already satisfied: numpy>=1.16.0 in c:\\users\\aamir\\anaconda3\\envs\\tf\\lib\\site-packages (from catboost) (1.21.2)\n",
      "Collecting graphviz\n",
      "  Downloading graphviz-0.19.1-py3-none-any.whl (46 kB)\n",
      "Requirement already satisfied: scipy in c:\\users\\aamir\\anaconda3\\envs\\tf\\lib\\site-packages (from catboost) (1.7.1)\n",
      "Requirement already satisfied: python-dateutil>=2.8.1 in c:\\users\\aamir\\anaconda3\\envs\\tf\\lib\\site-packages (from pandas>=0.24.0->catboost) (2.8.2)\n",
      "Requirement already satisfied: pytz>=2020.1 in c:\\users\\aamir\\anaconda3\\envs\\tf\\lib\\site-packages (from pandas>=0.24.0->catboost) (2021.3)\n",
      "Requirement already satisfied: cycler>=0.10 in c:\\users\\aamir\\anaconda3\\envs\\tf\\lib\\site-packages (from matplotlib->catboost) (0.10.0)\n",
      "Requirement already satisfied: pyparsing>=2.2.1 in c:\\users\\aamir\\anaconda3\\envs\\tf\\lib\\site-packages (from matplotlib->catboost) (3.0.4)\n",
      "Requirement already satisfied: pillow>=6.2.0 in c:\\users\\aamir\\anaconda3\\envs\\tf\\lib\\site-packages (from matplotlib->catboost) (8.4.0)\n",
      "Requirement already satisfied: kiwisolver>=1.0.1 in c:\\users\\aamir\\anaconda3\\envs\\tf\\lib\\site-packages (from matplotlib->catboost) (1.3.2)\n",
      "Requirement already satisfied: tenacity>=6.2.0 in c:\\users\\aamir\\anaconda3\\envs\\tf\\lib\\site-packages (from plotly->catboost) (8.0.1)\n",
      "Installing collected packages: graphviz, catboost\n",
      "Successfully installed catboost-1.0.4 graphviz-0.19.1\n"
     ]
    }
   ],
   "source": [
    "%pip install catboost"
   ]
  },
  {
   "cell_type": "code",
   "execution_count": 3,
   "metadata": {},
   "outputs": [],
   "source": [
    "import catboost as cb"
   ]
  },
  {
   "cell_type": "code",
   "execution_count": 2,
   "metadata": {},
   "outputs": [],
   "source": [
    "df=pd.read_csv('masterDataCleaned.csv')"
   ]
  },
  {
   "cell_type": "code",
   "execution_count": 3,
   "metadata": {},
   "outputs": [
    {
     "data": {
      "text/html": [
       "<div>\n",
       "<style scoped>\n",
       "    .dataframe tbody tr th:only-of-type {\n",
       "        vertical-align: middle;\n",
       "    }\n",
       "\n",
       "    .dataframe tbody tr th {\n",
       "        vertical-align: top;\n",
       "    }\n",
       "\n",
       "    .dataframe thead th {\n",
       "        text-align: right;\n",
       "    }\n",
       "</style>\n",
       "<table border=\"1\" class=\"dataframe\">\n",
       "  <thead>\n",
       "    <tr style=\"text-align: right;\">\n",
       "      <th></th>\n",
       "      <th>Price</th>\n",
       "      <th>Area</th>\n",
       "      <th>Location</th>\n",
       "      <th>No. of Bedrooms</th>\n",
       "      <th>Resale</th>\n",
       "      <th>MaintenanceStaff</th>\n",
       "      <th>Gymnasium</th>\n",
       "      <th>SwimmingPool</th>\n",
       "      <th>LandscapedGardens</th>\n",
       "      <th>JoggingTrack</th>\n",
       "      <th>...</th>\n",
       "      <th>BED</th>\n",
       "      <th>VaastuCompliant</th>\n",
       "      <th>Microwave</th>\n",
       "      <th>GolfCourse</th>\n",
       "      <th>TV</th>\n",
       "      <th>DiningTable</th>\n",
       "      <th>Sofa</th>\n",
       "      <th>Wardrobe</th>\n",
       "      <th>Refrigerator</th>\n",
       "      <th>city</th>\n",
       "    </tr>\n",
       "  </thead>\n",
       "  <tbody>\n",
       "    <tr>\n",
       "      <th>0</th>\n",
       "      <td>30000000</td>\n",
       "      <td>3340</td>\n",
       "      <td>JP Nagar Phase 1</td>\n",
       "      <td>4</td>\n",
       "      <td>0</td>\n",
       "      <td>1</td>\n",
       "      <td>1</td>\n",
       "      <td>1</td>\n",
       "      <td>1</td>\n",
       "      <td>1</td>\n",
       "      <td>...</td>\n",
       "      <td>0</td>\n",
       "      <td>0</td>\n",
       "      <td>0</td>\n",
       "      <td>0</td>\n",
       "      <td>0</td>\n",
       "      <td>0</td>\n",
       "      <td>0</td>\n",
       "      <td>0</td>\n",
       "      <td>0</td>\n",
       "      <td>Bangalore</td>\n",
       "    </tr>\n",
       "    <tr>\n",
       "      <th>1</th>\n",
       "      <td>7888000</td>\n",
       "      <td>1045</td>\n",
       "      <td>Dasarahalli on Tumkur Road</td>\n",
       "      <td>2</td>\n",
       "      <td>0</td>\n",
       "      <td>0</td>\n",
       "      <td>1</td>\n",
       "      <td>1</td>\n",
       "      <td>1</td>\n",
       "      <td>1</td>\n",
       "      <td>...</td>\n",
       "      <td>0</td>\n",
       "      <td>1</td>\n",
       "      <td>0</td>\n",
       "      <td>0</td>\n",
       "      <td>0</td>\n",
       "      <td>0</td>\n",
       "      <td>0</td>\n",
       "      <td>0</td>\n",
       "      <td>0</td>\n",
       "      <td>Bangalore</td>\n",
       "    </tr>\n",
       "    <tr>\n",
       "      <th>2</th>\n",
       "      <td>4866000</td>\n",
       "      <td>1179</td>\n",
       "      <td>Kannur on Thanisandra Main Road</td>\n",
       "      <td>2</td>\n",
       "      <td>0</td>\n",
       "      <td>0</td>\n",
       "      <td>1</td>\n",
       "      <td>1</td>\n",
       "      <td>1</td>\n",
       "      <td>1</td>\n",
       "      <td>...</td>\n",
       "      <td>0</td>\n",
       "      <td>0</td>\n",
       "      <td>0</td>\n",
       "      <td>0</td>\n",
       "      <td>0</td>\n",
       "      <td>0</td>\n",
       "      <td>0</td>\n",
       "      <td>0</td>\n",
       "      <td>0</td>\n",
       "      <td>Bangalore</td>\n",
       "    </tr>\n",
       "    <tr>\n",
       "      <th>3</th>\n",
       "      <td>8358000</td>\n",
       "      <td>1675</td>\n",
       "      <td>Doddanekundi</td>\n",
       "      <td>3</td>\n",
       "      <td>0</td>\n",
       "      <td>0</td>\n",
       "      <td>0</td>\n",
       "      <td>0</td>\n",
       "      <td>0</td>\n",
       "      <td>0</td>\n",
       "      <td>...</td>\n",
       "      <td>0</td>\n",
       "      <td>0</td>\n",
       "      <td>0</td>\n",
       "      <td>0</td>\n",
       "      <td>0</td>\n",
       "      <td>0</td>\n",
       "      <td>0</td>\n",
       "      <td>0</td>\n",
       "      <td>0</td>\n",
       "      <td>Bangalore</td>\n",
       "    </tr>\n",
       "    <tr>\n",
       "      <th>4</th>\n",
       "      <td>6845000</td>\n",
       "      <td>1670</td>\n",
       "      <td>Kengeri</td>\n",
       "      <td>3</td>\n",
       "      <td>0</td>\n",
       "      <td>1</td>\n",
       "      <td>1</td>\n",
       "      <td>1</td>\n",
       "      <td>1</td>\n",
       "      <td>1</td>\n",
       "      <td>...</td>\n",
       "      <td>0</td>\n",
       "      <td>0</td>\n",
       "      <td>0</td>\n",
       "      <td>0</td>\n",
       "      <td>0</td>\n",
       "      <td>0</td>\n",
       "      <td>0</td>\n",
       "      <td>0</td>\n",
       "      <td>0</td>\n",
       "      <td>Bangalore</td>\n",
       "    </tr>\n",
       "  </tbody>\n",
       "</table>\n",
       "<p>5 rows × 41 columns</p>\n",
       "</div>"
      ],
      "text/plain": [
       "      Price  Area                         Location  No. of Bedrooms  Resale  \\\n",
       "0  30000000  3340                 JP Nagar Phase 1                4       0   \n",
       "1   7888000  1045       Dasarahalli on Tumkur Road                2       0   \n",
       "2   4866000  1179  Kannur on Thanisandra Main Road                2       0   \n",
       "3   8358000  1675                     Doddanekundi                3       0   \n",
       "4   6845000  1670                          Kengeri                3       0   \n",
       "\n",
       "   MaintenanceStaff  Gymnasium  SwimmingPool  LandscapedGardens  JoggingTrack  \\\n",
       "0                 1          1             1                  1             1   \n",
       "1                 0          1             1                  1             1   \n",
       "2                 0          1             1                  1             1   \n",
       "3                 0          0             0                  0             0   \n",
       "4                 1          1             1                  1             1   \n",
       "\n",
       "   ...  BED  VaastuCompliant  Microwave  GolfCourse  TV  DiningTable  Sofa  \\\n",
       "0  ...    0                0          0           0   0            0     0   \n",
       "1  ...    0                1          0           0   0            0     0   \n",
       "2  ...    0                0          0           0   0            0     0   \n",
       "3  ...    0                0          0           0   0            0     0   \n",
       "4  ...    0                0          0           0   0            0     0   \n",
       "\n",
       "   Wardrobe  Refrigerator       city  \n",
       "0         0             0  Bangalore  \n",
       "1         0             0  Bangalore  \n",
       "2         0             0  Bangalore  \n",
       "3         0             0  Bangalore  \n",
       "4         0             0  Bangalore  \n",
       "\n",
       "[5 rows x 41 columns]"
      ]
     },
     "execution_count": 3,
     "metadata": {},
     "output_type": "execute_result"
    }
   ],
   "source": [
    "df.head()"
   ]
  },
  {
   "cell_type": "code",
   "execution_count": 4,
   "metadata": {},
   "outputs": [
    {
     "data": {
      "text/plain": [
       "<AxesSubplot:xlabel='Area', ylabel='Count'>"
      ]
     },
     "execution_count": 4,
     "metadata": {},
     "output_type": "execute_result"
    },
    {
     "data": {
      "image/png": "[encoded data removed]",
      "text/plain": [
       "<Figure size 432x288 with 1 Axes>"
      ]
     },
     "metadata": {
      "needs_background": "light"
     },
     "output_type": "display_data"
    }
   ],
   "source": [
    "sns.histplot(np.log(df.Area))"
   ]
  },
  {
   "cell_type": "code",
   "execution_count": 5,
   "metadata": {},
   "outputs": [
    {
     "data": {
      "text/plain": [
       "0.46633385811153527"
      ]
     },
     "execution_count": 5,
     "metadata": {},
     "output_type": "execute_result"
    }
   ],
   "source": [
    "np.log(df.Area).std()"
   ]
  },
  {
   "cell_type": "code",
   "execution_count": 6,
   "metadata": {},
   "outputs": [
    {
     "data": {
      "text/plain": [
       "7.046369030712827"
      ]
     },
     "execution_count": 6,
     "metadata": {},
     "output_type": "execute_result"
    }
   ],
   "source": [
    "np.log(df.Area).mean()"
   ]
  },
  {
   "cell_type": "code",
   "execution_count": 7,
   "metadata": {},
   "outputs": [
    {
     "data": {
      "text/plain": [
       "1293.3621939750628"
      ]
     },
     "execution_count": 7,
     "metadata": {},
     "output_type": "execute_result"
    }
   ],
   "source": [
    "df.Area.mean()"
   ]
  },
  {
   "cell_type": "code",
   "execution_count": 8,
   "metadata": {},
   "outputs": [
    {
     "data": {
      "text/plain": [
       "Index(['Price', 'Area', 'Location', 'No. of Bedrooms', 'Resale',\n",
       "       'MaintenanceStaff', 'Gymnasium', 'SwimmingPool', 'LandscapedGardens',\n",
       "       'JoggingTrack', 'RainWaterHarvesting', 'IndoorGames', 'ShoppingMall',\n",
       "       'Intercom', 'SportsFacility', 'ATM', 'ClubHouse', 'School',\n",
       "       '24X7Security', 'PowerBackup', 'CarParking', 'StaffQuarter',\n",
       "       'Cafeteria', 'MultipurposeRoom', 'Hospital', 'WashingMachine',\n",
       "       'Gasconnection', 'AC', 'Wifi', 'Children'splayarea', 'LiftAvailable',\n",
       "       'BED', 'VaastuCompliant', 'Microwave', 'GolfCourse', 'TV',\n",
       "       'DiningTable', 'Sofa', 'Wardrobe', 'Refrigerator', 'city'],\n",
       "      dtype='object')"
      ]
     },
     "execution_count": 8,
     "metadata": {},
     "output_type": "execute_result"
    }
   ],
   "source": [
    "df.columns"
   ]
  },
  {
   "cell_type": "code",
   "execution_count": 9,
   "metadata": {},
   "outputs": [
    {
     "data": {
      "text/plain": [
       "1776"
      ]
     },
     "execution_count": 9,
     "metadata": {},
     "output_type": "execute_result"
    }
   ],
   "source": [
    "df.Location.nunique()"
   ]
  },
  {
   "cell_type": "code",
   "execution_count": 10,
   "metadata": {},
   "outputs": [
    {
     "data": {
      "text/plain": [
       "(32963, 41)"
      ]
     },
     "execution_count": 10,
     "metadata": {},
     "output_type": "execute_result"
    }
   ],
   "source": [
    "df.shape"
   ]
  },
  {
   "cell_type": "code",
   "execution_count": 11,
   "metadata": {},
   "outputs": [
    {
     "data": {
      "text/plain": [
       "city\n",
       "Bangalore    16.174958\n",
       "Chennai      15.982421\n",
       "Delhi        16.580973\n",
       "Hyderabad    16.099767\n",
       "Kolkata      15.956584\n",
       "Mumbai       16.527662\n",
       "Name: Price, dtype: float64"
      ]
     },
     "execution_count": 11,
     "metadata": {},
     "output_type": "execute_result"
    }
   ],
   "source": [
    "np.log(df.groupby('city').Price.mean())"
   ]
  },
  {
   "cell_type": "code",
   "execution_count": 12,
   "metadata": {},
   "outputs": [
    {
     "data": {
      "text/plain": [
       "city\n",
       "Bangalore    0.938816\n",
       "Chennai      0.859925\n",
       "Delhi        0.977522\n",
       "Hyderabad    0.964513\n",
       "Kolkata      0.967427\n",
       "Mumbai       0.648846\n",
       "Name: No. of Bedrooms, dtype: float64"
      ]
     },
     "execution_count": 12,
     "metadata": {},
     "output_type": "execute_result"
    }
   ],
   "source": [
    "np.log(df.groupby('city')['No. of Bedrooms'].mean())"
   ]
  },
  {
   "cell_type": "code",
   "execution_count": 13,
   "metadata": {},
   "outputs": [
    {
     "name": "stderr",
     "output_type": "stream",
     "text": [
      "C:\\Users\\Aamir\\anaconda3\\envs\\tf\\lib\\site-packages\\seaborn\\_decorators.py:36: FutureWarning: Pass the following variable as a keyword arg: x. From version 0.12, the only valid positional argument will be `data`, and passing other arguments without an explicit keyword will result in an error or misinterpretation.\n",
      "  warnings.warn(\n"
     ]
    },
    {
     "data": {
      "text/plain": [
       "<AxesSubplot:xlabel='Area'>"
      ]
     },
     "execution_count": 13,
     "metadata": {},
     "output_type": "execute_result"
    },
    {
     "data": {
      "image/png": "[encoded data removed]",
      "text/plain": [
       "<Figure size 432x288 with 1 Axes>"
      ]
     },
     "metadata": {
      "needs_background": "light"
     },
     "output_type": "display_data"
    }
   ],
   "source": [
    "sns.boxplot(np.log(df['Area']))"
   ]
  },
  {
   "cell_type": "code",
   "execution_count": 14,
   "metadata": {},
   "outputs": [
    {
     "name": "stdout",
     "output_type": "stream",
     "text": [
      "907\n"
     ]
    }
   ],
   "source": [
    "def countOutliers(feature):\n",
    "    lowerQuantile,higherQuantile = np.quantile(feature,[0.25,0.75])\n",
    "    IQR=higherQuantile-lowerQuantile\n",
    "    lowerLimit=lowerQuantile-1.5*IQR\n",
    "    upperLimit=higherQuantile+1.5*IQR\n",
    "    total=feature[(feature>=upperLimit) | (feature<=lowerLimit)]\n",
    "    print(len(total))\n",
    "\n",
    "countOutliers(np.log(df['Area']))"
   ]
  },
  {
   "cell_type": "code",
   "execution_count": 15,
   "metadata": {},
   "outputs": [],
   "source": [
    "df['Area']=np.log(df['Area'])"
   ]
  },
  {
   "cell_type": "code",
   "execution_count": 16,
   "metadata": {},
   "outputs": [
    {
     "data": {
      "text/plain": [
       "0        8.113726\n",
       "1        6.951772\n",
       "2        7.072422\n",
       "3        7.423568\n",
       "4        7.420579\n",
       "           ...   \n",
       "32958    7.073270\n",
       "32959    6.272877\n",
       "32960    6.551080\n",
       "32961    6.902743\n",
       "32962    6.927558\n",
       "Name: Area, Length: 32963, dtype: float64"
      ]
     },
     "execution_count": 16,
     "metadata": {},
     "output_type": "execute_result"
    }
   ],
   "source": [
    "df['Area']"
   ]
  },
  {
   "cell_type": "code",
   "execution_count": 17,
   "metadata": {},
   "outputs": [],
   "source": [
    "tf,ff, sf=np.quantile(df['Area'],[0.25,0.5,0.75])"
   ]
  },
  {
   "cell_type": "code",
   "execution_count": 18,
   "metadata": {},
   "outputs": [
    {
     "name": "stderr",
     "output_type": "stream",
     "text": [
      "C:\\Users\\Aamir\\AppData\\Local\\Temp/ipykernel_19432/1669681743.py:3: UserWarning: Boolean Series key will be reindexed to match DataFrame index.\n",
      "  bin1=len(df[df['Area']<=tf][df[i]==1])\n",
      "C:\\Users\\Aamir\\AppData\\Local\\Temp/ipykernel_19432/1669681743.py:4: UserWarning: Boolean Series key will be reindexed to match DataFrame index.\n",
      "  bin2=len(df[(df['Area']>=tf) & (df['Area']<=ff)][df[i]==1])\n",
      "C:\\Users\\Aamir\\AppData\\Local\\Temp/ipykernel_19432/1669681743.py:5: UserWarning: Boolean Series key will be reindexed to match DataFrame index.\n",
      "  bin3=len(df[(df['Area']>ff) & (df['Area']<=sf)][df[i]==1])\n",
      "C:\\Users\\Aamir\\AppData\\Local\\Temp/ipykernel_19432/1669681743.py:6: UserWarning: Boolean Series key will be reindexed to match DataFrame index.\n",
      "  bin4=len(df[df['Area']>sf][df[i]==1])\n"
     ]
    },
    {
     "name": "stdout",
     "output_type": "stream",
     "text": [
      "{'Resale': {'verySmall': 4147, 'small': 2827, 'medium': 2478, 'large': 3121}, 'MaintenanceStaff': {'verySmall': 455, 'small': 324, 'medium': 395, 'large': 546}, 'Gymnasium': {'verySmall': 509, 'small': 879, 'medium': 1713, 'large': 2155}, 'SwimmingPool': {'verySmall': 327, 'small': 509, 'medium': 1468, 'large': 1884}, 'LandscapedGardens': {'verySmall': 340, 'small': 451, 'medium': 1160, 'large': 1572}, 'JoggingTrack': {'verySmall': 285, 'small': 451, 'medium': 1143, 'large': 1485}, 'RainWaterHarvesting': {'verySmall': 401, 'small': 583, 'medium': 1194, 'large': 1533}, 'IndoorGames': {'verySmall': 179, 'small': 377, 'medium': 930, 'large': 1283}, 'ShoppingMall': {'verySmall': 82, 'small': 98, 'medium': 254, 'large': 318}, 'Intercom': {'verySmall': 514, 'small': 733, 'medium': 1365, 'large': 1948}, 'SportsFacility': {'verySmall': 143, 'small': 366, 'medium': 912, 'large': 1350}, 'ATM': {'verySmall': 148, 'small': 129, 'medium': 323, 'large': 421}, 'ClubHouse': {'verySmall': 381, 'small': 602, 'medium': 1323, 'large': 1931}, 'School': {'verySmall': 117, 'small': 92, 'medium': 247, 'large': 282}, '24X7Security': {'verySmall': 666, 'small': 715, 'medium': 1362, 'large': 1800}, 'PowerBackup': {'verySmall': 863, 'small': 1245, 'medium': 1935, 'large': 2550}, 'CarParking': {'verySmall': 852, 'small': 734, 'medium': 1316, 'large': 1795}, 'StaffQuarter': {'verySmall': 160, 'small': 115, 'medium': 410, 'large': 632}, 'Cafeteria': {'verySmall': 97, 'small': 156, 'medium': 396, 'large': 533}, 'MultipurposeRoom': {'verySmall': 149, 'small': 308, 'medium': 861, 'large': 1120}, 'Hospital': {'verySmall': 119, 'small': 70, 'medium': 162, 'large': 223}, 'WashingMachine': {'verySmall': 22, 'small': 49, 'medium': 141, 'large': 219}, 'Gasconnection': {'verySmall': 183, 'small': 214, 'medium': 467, 'large': 907}, 'AC': {'verySmall': 50, 'small': 75, 'medium': 163, 'large': 340}, 'Wifi': {'verySmall': 45, 'small': 35, 'medium': 58, 'large': 59}, \"Children'splayarea\": {'verySmall': 433, 'small': 837, 'medium': 1652, 'large': 2260}, 'LiftAvailable': {'verySmall': 1285, 'small': 1400, 'medium': 1980, 'large': 2567}, 'BED': {'verySmall': 204, 'small': 161, 'medium': 219, 'large': 335}, 'VaastuCompliant': {'verySmall': 431, 'small': 408, 'medium': 850, 'large': 1318}, 'Microwave': {'verySmall': 22, 'small': 75, 'medium': 149, 'large': 245}, 'GolfCourse': {'verySmall': 14, 'small': 21, 'medium': 87, 'large': 96}, 'TV': {'verySmall': 53, 'small': 109, 'medium': 163, 'large': 236}, 'DiningTable': {'verySmall': 38, 'small': 89, 'medium': 163, 'large': 242}, 'Sofa': {'verySmall': 46, 'small': 65, 'medium': 159, 'large': 244}, 'Wardrobe': {'verySmall': 27, 'small': 47, 'medium': 53, 'large': 84}, 'Refrigerator': {'verySmall': 43, 'small': 83, 'medium': 159, 'large': 234}}\n"
     ]
    }
   ],
   "source": [
    "data={}\n",
    "for i in df.columns[4:-1]:\n",
    "    bin1=len(df[df['Area']<=tf][df[i]==1])\n",
    "    bin2=len(df[(df['Area']>=tf) & (df['Area']<=ff)][df[i]==1])\n",
    "    bin3=len(df[(df['Area']>ff) & (df['Area']<=sf)][df[i]==1])\n",
    "    bin4=len(df[df['Area']>sf][df[i]==1])\n",
    "    data[i]={'verySmall':bin1,'small':bin2,'medium':bin3,'large':bin4}\n",
    "\n",
    "print(data)\n",
    "\n"
   ]
  },
  {
   "cell_type": "code",
   "execution_count": 19,
   "metadata": {},
   "outputs": [
    {
     "data": {
      "image/png": "[encoded data removed]",
      "text/plain": [
       "<Figure size 3168x3168 with 36 Axes>"
      ]
     },
     "metadata": {
      "needs_background": "light"
     },
     "output_type": "display_data"
    }
   ],
   "source": [
    "fig,ax=plt.subplots(6,6,figsize=(44,44))\n",
    "ax=ax.flatten()\n",
    "for axes,i in zip(ax,data.keys()):\n",
    "    keys=data[i].keys()\n",
    "    vals=data[i].values()\n",
    "    axes.bar(keys,vals)\n",
    "    axes.set_title(i)"
   ]
  },
  {
   "cell_type": "code",
   "execution_count": null,
   "metadata": {},
   "outputs": [],
   "source": []
  },
  {
   "cell_type": "code",
   "execution_count": 20,
   "metadata": {},
   "outputs": [],
   "source": [
    "df.loc[df[df['Area']<1000]['SwimmingPool'].isna(),'SwimmingPool']=1000"
   ]
  },
  {
   "cell_type": "code",
   "execution_count": 21,
   "metadata": {},
   "outputs": [
    {
     "data": {
      "text/plain": [
       "0"
      ]
     },
     "execution_count": 21,
     "metadata": {},
     "output_type": "execute_result"
    }
   ],
   "source": [
    "df['SwimmingPool'].isna().sum()"
   ]
  },
  {
   "cell_type": "code",
   "execution_count": 22,
   "metadata": {},
   "outputs": [
    {
     "data": {
      "text/plain": [
       "True"
      ]
     },
     "execution_count": 22,
     "metadata": {},
     "output_type": "execute_result"
    }
   ],
   "source": [
    "df.index.is_unique\n"
   ]
  },
  {
   "cell_type": "code",
   "execution_count": 10,
   "metadata": {},
   "outputs": [
    {
     "data": {
      "text/html": [
       "<div>\n",
       "<style scoped>\n",
       "    .dataframe tbody tr th:only-of-type {\n",
       "        vertical-align: middle;\n",
       "    }\n",
       "\n",
       "    .dataframe tbody tr th {\n",
       "        vertical-align: top;\n",
       "    }\n",
       "\n",
       "    .dataframe thead th {\n",
       "        text-align: right;\n",
       "    }\n",
       "</style>\n",
       "<table border=\"1\" class=\"dataframe\">\n",
       "  <thead>\n",
       "    <tr style=\"text-align: right;\">\n",
       "      <th></th>\n",
       "      <th>Unnamed: 0</th>\n",
       "      <th>Area</th>\n",
       "      <th>No. of Bedrooms</th>\n",
       "      <th>Resale</th>\n",
       "      <th>MaintenanceStaff</th>\n",
       "      <th>Gymnasium</th>\n",
       "      <th>SwimmingPool</th>\n",
       "      <th>LandscapedGardens</th>\n",
       "      <th>JoggingTrack</th>\n",
       "      <th>RainWaterHarvesting</th>\n",
       "      <th>...</th>\n",
       "      <th>Sofa</th>\n",
       "      <th>Wardrobe</th>\n",
       "      <th>Refrigerator</th>\n",
       "      <th>AreaType</th>\n",
       "      <th>Bangalore</th>\n",
       "      <th>Chennai</th>\n",
       "      <th>Delhi</th>\n",
       "      <th>Hyderabad</th>\n",
       "      <th>Kolkata</th>\n",
       "      <th>Mumbai</th>\n",
       "    </tr>\n",
       "  </thead>\n",
       "  <tbody>\n",
       "    <tr>\n",
       "      <th>32958</th>\n",
       "      <td>7714</td>\n",
       "      <td>1180.0</td>\n",
       "      <td>2.0</td>\n",
       "      <td>0</td>\n",
       "      <td>0.0</td>\n",
       "      <td>1.0</td>\n",
       "      <td>0.0</td>\n",
       "      <td>0.0</td>\n",
       "      <td>0.0</td>\n",
       "      <td>0.0</td>\n",
       "      <td>...</td>\n",
       "      <td>0.0</td>\n",
       "      <td>0.0</td>\n",
       "      <td>0.0</td>\n",
       "      <td>3</td>\n",
       "      <td>0</td>\n",
       "      <td>0</td>\n",
       "      <td>0</td>\n",
       "      <td>0</td>\n",
       "      <td>0</td>\n",
       "      <td>1</td>\n",
       "    </tr>\n",
       "    <tr>\n",
       "      <th>32959</th>\n",
       "      <td>7715</td>\n",
       "      <td>530.0</td>\n",
       "      <td>1.0</td>\n",
       "      <td>1</td>\n",
       "      <td>0.0</td>\n",
       "      <td>1.0</td>\n",
       "      <td>0.0</td>\n",
       "      <td>0.0</td>\n",
       "      <td>0.0</td>\n",
       "      <td>0.0</td>\n",
       "      <td>...</td>\n",
       "      <td>0.0</td>\n",
       "      <td>0.0</td>\n",
       "      <td>0.0</td>\n",
       "      <td>1</td>\n",
       "      <td>0</td>\n",
       "      <td>0</td>\n",
       "      <td>0</td>\n",
       "      <td>0</td>\n",
       "      <td>0</td>\n",
       "      <td>1</td>\n",
       "    </tr>\n",
       "    <tr>\n",
       "      <th>32960</th>\n",
       "      <td>7716</td>\n",
       "      <td>700.0</td>\n",
       "      <td>1.0</td>\n",
       "      <td>0</td>\n",
       "      <td>0.0</td>\n",
       "      <td>1.0</td>\n",
       "      <td>0.0</td>\n",
       "      <td>0.0</td>\n",
       "      <td>0.0</td>\n",
       "      <td>0.0</td>\n",
       "      <td>...</td>\n",
       "      <td>0.0</td>\n",
       "      <td>0.0</td>\n",
       "      <td>0.0</td>\n",
       "      <td>1</td>\n",
       "      <td>0</td>\n",
       "      <td>0</td>\n",
       "      <td>0</td>\n",
       "      <td>0</td>\n",
       "      <td>0</td>\n",
       "      <td>1</td>\n",
       "    </tr>\n",
       "    <tr>\n",
       "      <th>32961</th>\n",
       "      <td>7717</td>\n",
       "      <td>995.0</td>\n",
       "      <td>2.0</td>\n",
       "      <td>0</td>\n",
       "      <td>0.0</td>\n",
       "      <td>1.0</td>\n",
       "      <td>0.0</td>\n",
       "      <td>0.0</td>\n",
       "      <td>0.0</td>\n",
       "      <td>0.0</td>\n",
       "      <td>...</td>\n",
       "      <td>0.0</td>\n",
       "      <td>0.0</td>\n",
       "      <td>0.0</td>\n",
       "      <td>2</td>\n",
       "      <td>0</td>\n",
       "      <td>0</td>\n",
       "      <td>0</td>\n",
       "      <td>0</td>\n",
       "      <td>0</td>\n",
       "      <td>1</td>\n",
       "    </tr>\n",
       "    <tr>\n",
       "      <th>32962</th>\n",
       "      <td>7718</td>\n",
       "      <td>1020.0</td>\n",
       "      <td>2.0</td>\n",
       "      <td>0</td>\n",
       "      <td>0.0</td>\n",
       "      <td>1.0</td>\n",
       "      <td>0.0</td>\n",
       "      <td>0.0</td>\n",
       "      <td>0.0</td>\n",
       "      <td>0.0</td>\n",
       "      <td>...</td>\n",
       "      <td>0.0</td>\n",
       "      <td>0.0</td>\n",
       "      <td>0.0</td>\n",
       "      <td>2</td>\n",
       "      <td>0</td>\n",
       "      <td>0</td>\n",
       "      <td>0</td>\n",
       "      <td>0</td>\n",
       "      <td>0</td>\n",
       "      <td>1</td>\n",
       "    </tr>\n",
       "  </tbody>\n",
       "</table>\n",
       "<p>5 rows × 46 columns</p>\n",
       "</div>"
      ],
      "text/plain": [
       "       Unnamed: 0    Area  No. of Bedrooms  Resale  MaintenanceStaff  \\\n",
       "32958        7714  1180.0              2.0       0               0.0   \n",
       "32959        7715   530.0              1.0       1               0.0   \n",
       "32960        7716   700.0              1.0       0               0.0   \n",
       "32961        7717   995.0              2.0       0               0.0   \n",
       "32962        7718  1020.0              2.0       0               0.0   \n",
       "\n",
       "       Gymnasium  SwimmingPool  LandscapedGardens  JoggingTrack  \\\n",
       "32958        1.0           0.0                0.0           0.0   \n",
       "32959        1.0           0.0                0.0           0.0   \n",
       "32960        1.0           0.0                0.0           0.0   \n",
       "32961        1.0           0.0                0.0           0.0   \n",
       "32962        1.0           0.0                0.0           0.0   \n",
       "\n",
       "       RainWaterHarvesting  ...  Sofa  Wardrobe  Refrigerator  AreaType  \\\n",
       "32958                  0.0  ...   0.0       0.0           0.0         3   \n",
       "32959                  0.0  ...   0.0       0.0           0.0         1   \n",
       "32960                  0.0  ...   0.0       0.0           0.0         1   \n",
       "32961                  0.0  ...   0.0       0.0           0.0         2   \n",
       "32962                  0.0  ...   0.0       0.0           0.0         2   \n",
       "\n",
       "       Bangalore  Chennai  Delhi  Hyderabad  Kolkata  Mumbai  \n",
       "32958          0        0      0          0        0       1  \n",
       "32959          0        0      0          0        0       1  \n",
       "32960          0        0      0          0        0       1  \n",
       "32961          0        0      0          0        0       1  \n",
       "32962          0        0      0          0        0       1  \n",
       "\n",
       "[5 rows x 46 columns]"
      ]
     },
     "execution_count": 10,
     "metadata": {},
     "output_type": "execute_result"
    }
   ],
   "source": [
    "df.tail()"
   ]
  },
  {
   "cell_type": "code",
   "execution_count": 13,
   "metadata": {},
   "outputs": [],
   "source": [
    "array=df.values"
   ]
  },
  {
   "cell_type": "code",
   "execution_count": 23,
   "metadata": {},
   "outputs": [
    {
     "data": {
      "text/plain": [
       "array([2.64892472e+03, 1.26517553e+03, 2.40108881e+00, 4.07906846e-01,\n",
       "       1.13482685e-01, 9.03545119e-01, 2.84840891e-01, 2.48188555e-01,\n",
       "       2.45682560e-01, 2.56263907e-01, 2.02605371e-01, 6.61064184e-02,\n",
       "       2.77387716e-01, 1.91725896e-01, 8.52686383e-02, 2.88271512e-01,\n",
       "       6.27017218e-02, 2.98416470e-01, 9.41160967e-01, 2.90544190e-01,\n",
       "       1.13180237e-01, 9.05960379e-02, 1.79952040e-01, 4.97656031e-02,\n",
       "       4.06100801e-02, 1.04685778e-01, 5.02624814e-02, 1.62673637e-02,\n",
       "       8.93387198e-01, 9.42612716e-01, 6.24122362e-02, 2.06973579e-01,\n",
       "       4.27574586e-02, 2.07911167e-02, 4.48443475e-02, 4.56091080e-02,\n",
       "       4.55356564e-02, 1.37829722e-02, 4.48659509e-02, 2.57039037e+00,\n",
       "       2.19071486e-01, 1.38028473e-01, 1.35617533e-01, 9.41303549e-02,\n",
       "       1.56598760e-01, 2.56553393e-01])"
      ]
     },
     "execution_count": 23,
     "metadata": {},
     "output_type": "execute_result"
    }
   ],
   "source": [
    "array[np.where(array[:-7]==1)[0]].mean(axis=0)"
   ]
  },
  {
   "cell_type": "code",
   "execution_count": 3,
   "metadata": {},
   "outputs": [],
   "source": [
    "df['IQR']=np.nan"
   ]
  },
  {
   "cell_type": "code",
   "execution_count": 5,
   "metadata": {},
   "outputs": [
    {
     "name": "stderr",
     "output_type": "stream",
     "text": [
      "C:\\Users\\Aamir\\AppData\\Local\\Temp/ipykernel_17496/2005501739.py:1: SettingWithCopyWarning: \n",
      "A value is trying to be set on a copy of a slice from a DataFrame.\n",
      "Try using .loc[row_indexer,col_indexer] = value instead\n",
      "\n",
      "See the caveats in the documentation: https://pandas.pydata.org/pandas-docs/stable/user_guide/indexing.html#returning-a-view-versus-a-copy\n",
      "  df[df['Delhi']==1]['IQR']=5\n"
     ]
    }
   ],
   "source": [
    "df[df['Delhi']==1]['IQR']=5"
   ]
  },
  {
   "cell_type": "code",
   "execution_count": 7,
   "metadata": {},
   "outputs": [],
   "source": [
    "df.loc[df['Delhi']==1,'IQR']=5"
   ]
  },
  {
   "cell_type": "code",
   "execution_count": 11,
   "metadata": {},
   "outputs": [],
   "source": [
    "city=pd.read_csv('partAB.csv')"
   ]
  },
  {
   "cell_type": "code",
   "execution_count": 12,
   "metadata": {},
   "outputs": [
    {
     "data": {
      "text/html": [
       "<div>\n",
       "<style scoped>\n",
       "    .dataframe tbody tr th:only-of-type {\n",
       "        vertical-align: middle;\n",
       "    }\n",
       "\n",
       "    .dataframe tbody tr th {\n",
       "        vertical-align: top;\n",
       "    }\n",
       "\n",
       "    .dataframe thead th {\n",
       "        text-align: right;\n",
       "    }\n",
       "</style>\n",
       "<table border=\"1\" class=\"dataframe\">\n",
       "  <thead>\n",
       "    <tr style=\"text-align: right;\">\n",
       "      <th></th>\n",
       "      <th>Unnamed: 0_level_0</th>\n",
       "      <th>Unnamed: 0_level_1</th>\n",
       "      <th>Unnamed: 1_level_1</th>\n",
       "      <th>Unnamed: 2_level_1</th>\n",
       "      <th>Unnamed: 3_level_1</th>\n",
       "      <th>Unnamed: 4_level_1</th>\n",
       "      <th>Unnamed: 5_level_1</th>\n",
       "      <th>Unnamed: 6_level_1</th>\n",
       "      <th>Unnamed: 7_level_1</th>\n",
       "      <th>Unnamed: 8_level_1</th>\n",
       "      <th>...</th>\n",
       "      <th>Car/ Jeep/Van</th>\n",
       "      <th>Households with TV, Computer/Laptop, Telephone/mobile phone and Scooter/ Car</th>\n",
       "      <th>None of the assets specified in col. 10 to 19</th>\n",
       "      <th>Unnamed: 139_level_1</th>\n",
       "      <th>Unnamed: 140_level_1</th>\n",
       "      <th>Unnamed: 141_level_1</th>\n",
       "      <th>Unnamed: 142_level_1</th>\n",
       "      <th>Unnamed: 143_level_1</th>\n",
       "      <th>Unnamed: 144_level_1</th>\n",
       "      <th>city</th>\n",
       "    </tr>\n",
       "  </thead>\n",
       "  <tbody>\n",
       "    <tr>\n",
       "      <th>0</th>\n",
       "      <td>Unnamed: 0_level_1</td>\n",
       "      <td>Unnamed: 0_level_2</td>\n",
       "      <td>Unnamed: 1_level_2</td>\n",
       "      <td>Unnamed: 2_level_2</td>\n",
       "      <td>Unnamed: 3_level_2</td>\n",
       "      <td>Unnamed: 4_level_2</td>\n",
       "      <td>Unnamed: 5_level_2</td>\n",
       "      <td>Unnamed: 6_level_2</td>\n",
       "      <td>Unnamed: 7_level_2</td>\n",
       "      <td>Unnamed: 8_level_2</td>\n",
       "      <td>...</td>\n",
       "      <td>Unnamed: 136_level_2</td>\n",
       "      <td>Unnamed: 137_level_2</td>\n",
       "      <td>Unnamed: 138_level_2</td>\n",
       "      <td>Permanent</td>\n",
       "      <td>Semi-Permanent</td>\n",
       "      <td>Total Temporary</td>\n",
       "      <td>Serviceable</td>\n",
       "      <td>Non-Serviceable</td>\n",
       "      <td>Unclassifiable</td>\n",
       "      <td>NaN</td>\n",
       "    </tr>\n",
       "    <tr>\n",
       "      <th>1</th>\n",
       "      <td>0</td>\n",
       "      <td>27</td>\n",
       "      <td>MAHARASHTRA</td>\n",
       "      <td>519</td>\n",
       "      <td>Mumbai</td>\n",
       "      <td>0</td>\n",
       "      <td>Mumbai</td>\n",
       "      <td>0</td>\n",
       "      <td>0</td>\n",
       "      <td>District - Mumbai</td>\n",
       "      <td>...</td>\n",
       "      <td>12.6</td>\n",
       "      <td>15.7</td>\n",
       "      <td>2.2</td>\n",
       "      <td>93.9</td>\n",
       "      <td>3.9</td>\n",
       "      <td>0.8</td>\n",
       "      <td>0.4</td>\n",
       "      <td>0.4</td>\n",
       "      <td>1.4</td>\n",
       "      <td>MUMBAI</td>\n",
       "    </tr>\n",
       "    <tr>\n",
       "      <th>2</th>\n",
       "      <td>1</td>\n",
       "      <td>27</td>\n",
       "      <td>MAHARASHTRA</td>\n",
       "      <td>519</td>\n",
       "      <td>Mumbai</td>\n",
       "      <td>0</td>\n",
       "      <td>Mumbai</td>\n",
       "      <td>0</td>\n",
       "      <td>0</td>\n",
       "      <td>District - Mumbai</td>\n",
       "      <td>...</td>\n",
       "      <td>12.6</td>\n",
       "      <td>15.7</td>\n",
       "      <td>2.2</td>\n",
       "      <td>93.9</td>\n",
       "      <td>3.9</td>\n",
       "      <td>0.8</td>\n",
       "      <td>0.4</td>\n",
       "      <td>0.4</td>\n",
       "      <td>1.4</td>\n",
       "      <td>MUMBAI</td>\n",
       "    </tr>\n",
       "    <tr>\n",
       "      <th>3</th>\n",
       "      <td>2</td>\n",
       "      <td>27</td>\n",
       "      <td>MAHARASHTRA</td>\n",
       "      <td>519</td>\n",
       "      <td>Mumbai</td>\n",
       "      <td>99999</td>\n",
       "      <td>Area not under any Sub-district</td>\n",
       "      <td>0</td>\n",
       "      <td>0</td>\n",
       "      <td>Sub-Dist - Area not under any Sub-district</td>\n",
       "      <td>...</td>\n",
       "      <td>12.6</td>\n",
       "      <td>15.7</td>\n",
       "      <td>2.2</td>\n",
       "      <td>93.9</td>\n",
       "      <td>3.9</td>\n",
       "      <td>0.8</td>\n",
       "      <td>0.4</td>\n",
       "      <td>0.4</td>\n",
       "      <td>1.4</td>\n",
       "      <td>MUMBAI</td>\n",
       "    </tr>\n",
       "    <tr>\n",
       "      <th>4</th>\n",
       "      <td>3</td>\n",
       "      <td>27</td>\n",
       "      <td>MAHARASHTRA</td>\n",
       "      <td>519</td>\n",
       "      <td>Mumbai</td>\n",
       "      <td>99999</td>\n",
       "      <td>Area not under any Sub-district</td>\n",
       "      <td>0</td>\n",
       "      <td>0</td>\n",
       "      <td>Sub-Dist - Area not under any Sub-district</td>\n",
       "      <td>...</td>\n",
       "      <td>12.6</td>\n",
       "      <td>15.7</td>\n",
       "      <td>2.2</td>\n",
       "      <td>93.9</td>\n",
       "      <td>3.9</td>\n",
       "      <td>0.8</td>\n",
       "      <td>0.4</td>\n",
       "      <td>0.4</td>\n",
       "      <td>1.4</td>\n",
       "      <td>MUMBAI</td>\n",
       "    </tr>\n",
       "  </tbody>\n",
       "</table>\n",
       "<p>5 rows × 147 columns</p>\n",
       "</div>"
      ],
      "text/plain": [
       "   Unnamed: 0_level_0  Unnamed: 0_level_1  Unnamed: 1_level_1  \\\n",
       "0  Unnamed: 0_level_1  Unnamed: 0_level_2  Unnamed: 1_level_2   \n",
       "1                   0                  27         MAHARASHTRA   \n",
       "2                   1                  27         MAHARASHTRA   \n",
       "3                   2                  27         MAHARASHTRA   \n",
       "4                   3                  27         MAHARASHTRA   \n",
       "\n",
       "   Unnamed: 2_level_1  Unnamed: 3_level_1  Unnamed: 4_level_1  \\\n",
       "0  Unnamed: 2_level_2  Unnamed: 3_level_2  Unnamed: 4_level_2   \n",
       "1                 519              Mumbai                   0   \n",
       "2                 519              Mumbai                   0   \n",
       "3                 519              Mumbai               99999   \n",
       "4                 519              Mumbai               99999   \n",
       "\n",
       "                Unnamed: 5_level_1  Unnamed: 6_level_1  Unnamed: 7_level_1  \\\n",
       "0               Unnamed: 5_level_2  Unnamed: 6_level_2  Unnamed: 7_level_2   \n",
       "1                           Mumbai                   0                   0   \n",
       "2                           Mumbai                   0                   0   \n",
       "3  Area not under any Sub-district                   0                   0   \n",
       "4  Area not under any Sub-district                   0                   0   \n",
       "\n",
       "                           Unnamed: 8_level_1  ...         Car/ Jeep/Van  \\\n",
       "0                          Unnamed: 8_level_2  ...  Unnamed: 136_level_2   \n",
       "1                           District - Mumbai  ...                  12.6   \n",
       "2                           District - Mumbai  ...                  12.6   \n",
       "3  Sub-Dist - Area not under any Sub-district  ...                  12.6   \n",
       "4  Sub-Dist - Area not under any Sub-district  ...                  12.6   \n",
       "\n",
       "  Households with TV, Computer/Laptop, Telephone/mobile phone and Scooter/ Car  \\\n",
       "0                               Unnamed: 137_level_2                             \n",
       "1                                               15.7                             \n",
       "2                                               15.7                             \n",
       "3                                               15.7                             \n",
       "4                                               15.7                             \n",
       "\n",
       "  None of the assets specified in col. 10 to 19 Unnamed: 139_level_1  \\\n",
       "0                          Unnamed: 138_level_2            Permanent   \n",
       "1                                           2.2                 93.9   \n",
       "2                                           2.2                 93.9   \n",
       "3                                           2.2                 93.9   \n",
       "4                                           2.2                 93.9   \n",
       "\n",
       "  Unnamed: 140_level_1 Unnamed: 141_level_1 Unnamed: 142_level_1  \\\n",
       "0       Semi-Permanent      Total Temporary          Serviceable   \n",
       "1                  3.9                  0.8                  0.4   \n",
       "2                  3.9                  0.8                  0.4   \n",
       "3                  3.9                  0.8                  0.4   \n",
       "4                  3.9                  0.8                  0.4   \n",
       "\n",
       "  Unnamed: 143_level_1 Unnamed: 144_level_1    city  \n",
       "0      Non-Serviceable       Unclassifiable     NaN  \n",
       "1                  0.4                  1.4  MUMBAI  \n",
       "2                  0.4                  1.4  MUMBAI  \n",
       "3                  0.4                  1.4  MUMBAI  \n",
       "4                  0.4                  1.4  MUMBAI  \n",
       "\n",
       "[5 rows x 147 columns]"
      ]
     },
     "execution_count": 12,
     "metadata": {},
     "output_type": "execute_result"
    }
   ],
   "source": [
    "city.head()"
   ]
  },
  {
   "cell_type": "code",
   "execution_count": null,
   "metadata": {},
   "outputs": [],
   "source": [
    "[82,85,91,106,124,103,104,127,114]\n",
    "\n",
    "[128,129,132,133,134,135,136,137,130,131]"
   ]
  },
  {
   "cell_type": "code",
   "execution_count": 47,
   "metadata": {},
   "outputs": [],
   "source": [
    "BAI=city.iloc[:,[82,85,91,106,124,103,104,127,114,-1]].drop(0)"
   ]
  },
  {
   "cell_type": "code",
   "execution_count": 49,
   "metadata": {},
   "outputs": [],
   "source": [
    "for i in BAI:\n",
    "    if i !='city':\n",
    "        BAI[i]=BAI[i].astype('float')\n"
   ]
  },
  {
   "cell_type": "code",
   "execution_count": 51,
   "metadata": {},
   "outputs": [],
   "source": [
    "BAI=BAI.groupby('city').mean()"
   ]
  },
  {
   "cell_type": "code",
   "execution_count": 52,
   "metadata": {},
   "outputs": [
    {
     "data": {
      "text/html": [
       "<div>\n",
       "<style scoped>\n",
       "    .dataframe tbody tr th:only-of-type {\n",
       "        vertical-align: middle;\n",
       "    }\n",
       "\n",
       "    .dataframe tbody tr th {\n",
       "        vertical-align: top;\n",
       "    }\n",
       "\n",
       "    .dataframe thead th {\n",
       "        text-align: right;\n",
       "    }\n",
       "</style>\n",
       "<table border=\"1\" class=\"dataframe\">\n",
       "  <thead>\n",
       "    <tr style=\"text-align: right;\">\n",
       "      <th></th>\n",
       "      <th>Within premises</th>\n",
       "      <th>Electricity</th>\n",
       "      <th>Unnamed: 90_level_1</th>\n",
       "      <th>Closed drainage</th>\n",
       "      <th>Has Kitchen.1</th>\n",
       "      <th>Yes</th>\n",
       "      <th>Yes.1</th>\n",
       "      <th>Unnamed: 126_level_1</th>\n",
       "      <th>LPG/PNG</th>\n",
       "    </tr>\n",
       "    <tr>\n",
       "      <th>city</th>\n",
       "      <th></th>\n",
       "      <th></th>\n",
       "      <th></th>\n",
       "      <th></th>\n",
       "      <th></th>\n",
       "      <th></th>\n",
       "      <th></th>\n",
       "      <th></th>\n",
       "      <th></th>\n",
       "    </tr>\n",
       "  </thead>\n",
       "  <tbody>\n",
       "    <tr>\n",
       "      <th>BANGLORE</th>\n",
       "      <td>47.838232</td>\n",
       "      <td>96.012545</td>\n",
       "      <td>72.805496</td>\n",
       "      <td>32.821266</td>\n",
       "      <td>0.665114</td>\n",
       "      <td>86.528196</td>\n",
       "      <td>4.976464</td>\n",
       "      <td>55.420072</td>\n",
       "      <td>51.012425</td>\n",
       "    </tr>\n",
       "    <tr>\n",
       "      <th>CHENNAI</th>\n",
       "      <td>75.590625</td>\n",
       "      <td>98.945000</td>\n",
       "      <td>94.558125</td>\n",
       "      <td>95.670625</td>\n",
       "      <td>0.476250</td>\n",
       "      <td>94.740000</td>\n",
       "      <td>1.453750</td>\n",
       "      <td>70.844375</td>\n",
       "      <td>82.204375</td>\n",
       "    </tr>\n",
       "    <tr>\n",
       "      <th>DELHI</th>\n",
       "      <td>76.502384</td>\n",
       "      <td>98.369934</td>\n",
       "      <td>86.481325</td>\n",
       "      <td>49.108609</td>\n",
       "      <td>0.476159</td>\n",
       "      <td>84.887152</td>\n",
       "      <td>4.995762</td>\n",
       "      <td>77.575762</td>\n",
       "      <td>86.239073</td>\n",
       "    </tr>\n",
       "    <tr>\n",
       "      <th>HYDERABAD</th>\n",
       "      <td>91.577987</td>\n",
       "      <td>98.684277</td>\n",
       "      <td>98.249057</td>\n",
       "      <td>96.172327</td>\n",
       "      <td>0.381761</td>\n",
       "      <td>97.601258</td>\n",
       "      <td>1.311950</td>\n",
       "      <td>59.837107</td>\n",
       "      <td>66.686164</td>\n",
       "    </tr>\n",
       "    <tr>\n",
       "      <th>KOLKATA</th>\n",
       "      <td>75.656164</td>\n",
       "      <td>96.285616</td>\n",
       "      <td>94.915068</td>\n",
       "      <td>84.288356</td>\n",
       "      <td>0.662329</td>\n",
       "      <td>82.656164</td>\n",
       "      <td>7.805479</td>\n",
       "      <td>84.508904</td>\n",
       "      <td>64.612329</td>\n",
       "    </tr>\n",
       "    <tr>\n",
       "      <th>MUMBAI</th>\n",
       "      <td>88.877273</td>\n",
       "      <td>98.484091</td>\n",
       "      <td>76.915909</td>\n",
       "      <td>93.909091</td>\n",
       "      <td>0.295455</td>\n",
       "      <td>92.131818</td>\n",
       "      <td>4.240909</td>\n",
       "      <td>89.306818</td>\n",
       "      <td>82.459091</td>\n",
       "    </tr>\n",
       "  </tbody>\n",
       "</table>\n",
       "</div>"
      ],
      "text/plain": [
       "           Within premises  Electricity  Unnamed: 90_level_1  Closed drainage  \\\n",
       "city                                                                            \n",
       "BANGLORE         47.838232    96.012545            72.805496        32.821266   \n",
       "CHENNAI          75.590625    98.945000            94.558125        95.670625   \n",
       "DELHI            76.502384    98.369934            86.481325        49.108609   \n",
       "HYDERABAD        91.577987    98.684277            98.249057        96.172327   \n",
       "KOLKATA          75.656164    96.285616            94.915068        84.288356   \n",
       "MUMBAI           88.877273    98.484091            76.915909        93.909091   \n",
       "\n",
       "           Has Kitchen.1        Yes     Yes.1  Unnamed: 126_level_1    LPG/PNG  \n",
       "city                                                                            \n",
       "BANGLORE        0.665114  86.528196  4.976464             55.420072  51.012425  \n",
       "CHENNAI         0.476250  94.740000  1.453750             70.844375  82.204375  \n",
       "DELHI           0.476159  84.887152  4.995762             77.575762  86.239073  \n",
       "HYDERABAD       0.381761  97.601258  1.311950             59.837107  66.686164  \n",
       "KOLKATA         0.662329  82.656164  7.805479             84.508904  64.612329  \n",
       "MUMBAI          0.295455  92.131818  4.240909             89.306818  82.459091  "
      ]
     },
     "execution_count": 52,
     "metadata": {},
     "output_type": "execute_result"
    }
   ],
   "source": [
    "BAI"
   ]
  },
  {
   "cell_type": "code",
   "execution_count": 61,
   "metadata": {},
   "outputs": [],
   "source": [
    "BAI['bathroom']=BAI.iloc[:,-5]+BAI.iloc[:,-4]\n",
    "BAI.drop(['Yes','Yes.1'],inplace=True,axis=1)"
   ]
  },
  {
   "cell_type": "code",
   "execution_count": 63,
   "metadata": {},
   "outputs": [],
   "source": [
    "BAI.to_csv('BAI.csv')"
   ]
  },
  {
   "cell_type": "code",
   "execution_count": 77,
   "metadata": {},
   "outputs": [],
   "source": []
  },
  {
   "cell_type": "code",
   "execution_count": 82,
   "metadata": {},
   "outputs": [],
   "source": [
    "AI=city.iloc[:,[128,129,132,133,134,135,136,137,130,131,-1]].drop(0)"
   ]
  },
  {
   "cell_type": "code",
   "execution_count": 83,
   "metadata": {},
   "outputs": [],
   "source": [
    "for i in AI:\n",
    "    if i !='city':\n",
    "        AI[i]=AI[i].astype('float')\n"
   ]
  },
  {
   "cell_type": "code",
   "execution_count": 84,
   "metadata": {},
   "outputs": [
    {
     "data": {
      "text/plain": [
       "Index(['Radio/\\nTransistor', 'Television', 'Telephone/Mobile Phone',\n",
       "       'Telephone/Mobile Phone.1', 'Telephone/Mobile Phone.2', 'Bicycle',\n",
       "       'Scooter/ Motorcycle/Moped', 'Car/ Jeep/Van', 'Computer/Laptop',\n",
       "       'Computer/Laptop.1', 'city', 'tele/mobile', 'comp/laptop'],\n",
       "      dtype='object')"
      ]
     },
     "execution_count": 84,
     "metadata": {},
     "output_type": "execute_result"
    }
   ],
   "source": [
    "AI['tele/mobile']=AI.iloc[:,2]+AI.iloc[:,3]+AI.iloc[:,4]\n",
    "AI['comp/laptop']=AI.iloc[:,-4]+AI.iloc[:,-3]\n",
    "AI.columns"
   ]
  },
  {
   "cell_type": "code",
   "execution_count": 85,
   "metadata": {},
   "outputs": [],
   "source": [
    "AI.drop(['Computer/Laptop','Computer/Laptop.1','Telephone/Mobile Phone','Telephone/Mobile Phone.1', 'Telephone/Mobile Phone.2'],axis=1,inplace=True)"
   ]
  },
  {
   "cell_type": "code",
   "execution_count": 89,
   "metadata": {},
   "outputs": [],
   "source": [
    "AI=AI.groupby('city').mean()"
   ]
  },
  {
   "cell_type": "code",
   "execution_count": 90,
   "metadata": {},
   "outputs": [
    {
     "data": {
      "text/html": [
       "<div>\n",
       "<style scoped>\n",
       "    .dataframe tbody tr th:only-of-type {\n",
       "        vertical-align: middle;\n",
       "    }\n",
       "\n",
       "    .dataframe tbody tr th {\n",
       "        vertical-align: top;\n",
       "    }\n",
       "\n",
       "    .dataframe thead th {\n",
       "        text-align: right;\n",
       "    }\n",
       "</style>\n",
       "<table border=\"1\" class=\"dataframe\">\n",
       "  <thead>\n",
       "    <tr style=\"text-align: right;\">\n",
       "      <th></th>\n",
       "      <th>Radio/\\nTransistor</th>\n",
       "      <th>Television</th>\n",
       "      <th>Bicycle</th>\n",
       "      <th>Scooter/ Motorcycle/Moped</th>\n",
       "      <th>Car/ Jeep/Van</th>\n",
       "      <th>tele/mobile</th>\n",
       "      <th>comp/laptop</th>\n",
       "    </tr>\n",
       "    <tr>\n",
       "      <th>city</th>\n",
       "      <th></th>\n",
       "      <th></th>\n",
       "      <th></th>\n",
       "      <th></th>\n",
       "      <th></th>\n",
       "      <th></th>\n",
       "      <th></th>\n",
       "    </tr>\n",
       "  </thead>\n",
       "  <tbody>\n",
       "    <tr>\n",
       "      <th>BANGLORE</th>\n",
       "      <td>35.115293</td>\n",
       "      <td>77.147790</td>\n",
       "      <td>31.297133</td>\n",
       "      <td>38.028076</td>\n",
       "      <td>9.963680</td>\n",
       "      <td>82.588889</td>\n",
       "      <td>16.867025</td>\n",
       "    </tr>\n",
       "    <tr>\n",
       "      <th>CHENNAI</th>\n",
       "      <td>35.148125</td>\n",
       "      <td>95.545625</td>\n",
       "      <td>35.096250</td>\n",
       "      <td>45.407500</td>\n",
       "      <td>12.754375</td>\n",
       "      <td>91.445625</td>\n",
       "      <td>32.025625</td>\n",
       "    </tr>\n",
       "    <tr>\n",
       "      <th>DELHI</th>\n",
       "      <td>32.741987</td>\n",
       "      <td>86.585033</td>\n",
       "      <td>33.362252</td>\n",
       "      <td>39.259868</td>\n",
       "      <td>19.559603</td>\n",
       "      <td>89.665430</td>\n",
       "      <td>26.296159</td>\n",
       "    </tr>\n",
       "    <tr>\n",
       "      <th>HYDERABAD</th>\n",
       "      <td>32.527673</td>\n",
       "      <td>84.972956</td>\n",
       "      <td>26.381761</td>\n",
       "      <td>50.685535</td>\n",
       "      <td>14.407547</td>\n",
       "      <td>90.616981</td>\n",
       "      <td>31.620126</td>\n",
       "    </tr>\n",
       "    <tr>\n",
       "      <th>KOLKATA</th>\n",
       "      <td>47.773973</td>\n",
       "      <td>84.256849</td>\n",
       "      <td>22.794521</td>\n",
       "      <td>11.480137</td>\n",
       "      <td>8.850685</td>\n",
       "      <td>89.469863</td>\n",
       "      <td>26.396575</td>\n",
       "    </tr>\n",
       "    <tr>\n",
       "      <th>MUMBAI</th>\n",
       "      <td>36.870455</td>\n",
       "      <td>86.036364</td>\n",
       "      <td>8.972727</td>\n",
       "      <td>19.945455</td>\n",
       "      <td>14.040909</td>\n",
       "      <td>94.961364</td>\n",
       "      <td>35.875000</td>\n",
       "    </tr>\n",
       "  </tbody>\n",
       "</table>\n",
       "</div>"
      ],
      "text/plain": [
       "           Radio/\\nTransistor  Television    Bicycle  \\\n",
       "city                                                   \n",
       "BANGLORE            35.115293   77.147790  31.297133   \n",
       "CHENNAI             35.148125   95.545625  35.096250   \n",
       "DELHI               32.741987   86.585033  33.362252   \n",
       "HYDERABAD           32.527673   84.972956  26.381761   \n",
       "KOLKATA             47.773973   84.256849  22.794521   \n",
       "MUMBAI              36.870455   86.036364   8.972727   \n",
       "\n",
       "           Scooter/ Motorcycle/Moped  Car/ Jeep/Van  tele/mobile  comp/laptop  \n",
       "city                                                                           \n",
       "BANGLORE                   38.028076       9.963680    82.588889    16.867025  \n",
       "CHENNAI                    45.407500      12.754375    91.445625    32.025625  \n",
       "DELHI                      39.259868      19.559603    89.665430    26.296159  \n",
       "HYDERABAD                  50.685535      14.407547    90.616981    31.620126  \n",
       "KOLKATA                    11.480137       8.850685    89.469863    26.396575  \n",
       "MUMBAI                     19.945455      14.040909    94.961364    35.875000  "
      ]
     },
     "execution_count": 90,
     "metadata": {},
     "output_type": "execute_result"
    }
   ],
   "source": [
    "AI"
   ]
  },
  {
   "cell_type": "code",
   "execution_count": 98,
   "metadata": {},
   "outputs": [],
   "source": [
    "np.random.seed(2022)"
   ]
  },
  {
   "cell_type": "code",
   "execution_count": 100,
   "metadata": {},
   "outputs": [
    {
     "data": {
      "text/plain": [
       "array([ 0.54029727,  0.37349729,  0.37781339, -0.09021319, -2.30594327,\n",
       "        1.14276002, -1.53565429])"
      ]
     },
     "execution_count": 100,
     "metadata": {},
     "output_type": "execute_result"
    }
   ],
   "source": [
    "np.random.normal(0,1,7)"
   ]
  },
  {
   "cell_type": "code",
   "execution_count": 101,
   "metadata": {},
   "outputs": [
    {
     "data": {
      "text/html": [
       "<div>\n",
       "<style scoped>\n",
       "    .dataframe tbody tr th:only-of-type {\n",
       "        vertical-align: middle;\n",
       "    }\n",
       "\n",
       "    .dataframe tbody tr th {\n",
       "        vertical-align: top;\n",
       "    }\n",
       "\n",
       "    .dataframe thead th {\n",
       "        text-align: right;\n",
       "    }\n",
       "</style>\n",
       "<table border=\"1\" class=\"dataframe\">\n",
       "  <thead>\n",
       "    <tr style=\"text-align: right;\">\n",
       "      <th></th>\n",
       "      <th>Within premises</th>\n",
       "      <th>Electricity</th>\n",
       "      <th>Unnamed: 90_level_1</th>\n",
       "      <th>Closed drainage</th>\n",
       "      <th>Has Kitchen.1</th>\n",
       "      <th>Unnamed: 126_level_1</th>\n",
       "      <th>LPG/PNG</th>\n",
       "      <th>bathroom</th>\n",
       "    </tr>\n",
       "    <tr>\n",
       "      <th>city</th>\n",
       "      <th></th>\n",
       "      <th></th>\n",
       "      <th></th>\n",
       "      <th></th>\n",
       "      <th></th>\n",
       "      <th></th>\n",
       "      <th></th>\n",
       "      <th></th>\n",
       "    </tr>\n",
       "  </thead>\n",
       "  <tbody>\n",
       "    <tr>\n",
       "      <th>BANGLORE</th>\n",
       "      <td>47.838232</td>\n",
       "      <td>96.012545</td>\n",
       "      <td>72.805496</td>\n",
       "      <td>32.821266</td>\n",
       "      <td>0.665114</td>\n",
       "      <td>55.420072</td>\n",
       "      <td>51.012425</td>\n",
       "      <td>91.504659</td>\n",
       "    </tr>\n",
       "    <tr>\n",
       "      <th>CHENNAI</th>\n",
       "      <td>75.590625</td>\n",
       "      <td>98.945000</td>\n",
       "      <td>94.558125</td>\n",
       "      <td>95.670625</td>\n",
       "      <td>0.476250</td>\n",
       "      <td>70.844375</td>\n",
       "      <td>82.204375</td>\n",
       "      <td>96.193750</td>\n",
       "    </tr>\n",
       "    <tr>\n",
       "      <th>DELHI</th>\n",
       "      <td>76.502384</td>\n",
       "      <td>98.369934</td>\n",
       "      <td>86.481325</td>\n",
       "      <td>49.108609</td>\n",
       "      <td>0.476159</td>\n",
       "      <td>77.575762</td>\n",
       "      <td>86.239073</td>\n",
       "      <td>89.882914</td>\n",
       "    </tr>\n",
       "    <tr>\n",
       "      <th>HYDERABAD</th>\n",
       "      <td>91.577987</td>\n",
       "      <td>98.684277</td>\n",
       "      <td>98.249057</td>\n",
       "      <td>96.172327</td>\n",
       "      <td>0.381761</td>\n",
       "      <td>59.837107</td>\n",
       "      <td>66.686164</td>\n",
       "      <td>98.913208</td>\n",
       "    </tr>\n",
       "    <tr>\n",
       "      <th>KOLKATA</th>\n",
       "      <td>75.656164</td>\n",
       "      <td>96.285616</td>\n",
       "      <td>94.915068</td>\n",
       "      <td>84.288356</td>\n",
       "      <td>0.662329</td>\n",
       "      <td>84.508904</td>\n",
       "      <td>64.612329</td>\n",
       "      <td>90.461644</td>\n",
       "    </tr>\n",
       "    <tr>\n",
       "      <th>MUMBAI</th>\n",
       "      <td>88.877273</td>\n",
       "      <td>98.484091</td>\n",
       "      <td>76.915909</td>\n",
       "      <td>93.909091</td>\n",
       "      <td>0.295455</td>\n",
       "      <td>89.306818</td>\n",
       "      <td>82.459091</td>\n",
       "      <td>96.372727</td>\n",
       "    </tr>\n",
       "  </tbody>\n",
       "</table>\n",
       "</div>"
      ],
      "text/plain": [
       "           Within premises  Electricity  Unnamed: 90_level_1  Closed drainage  \\\n",
       "city                                                                            \n",
       "BANGLORE         47.838232    96.012545            72.805496        32.821266   \n",
       "CHENNAI          75.590625    98.945000            94.558125        95.670625   \n",
       "DELHI            76.502384    98.369934            86.481325        49.108609   \n",
       "HYDERABAD        91.577987    98.684277            98.249057        96.172327   \n",
       "KOLKATA          75.656164    96.285616            94.915068        84.288356   \n",
       "MUMBAI           88.877273    98.484091            76.915909        93.909091   \n",
       "\n",
       "           Has Kitchen.1  Unnamed: 126_level_1    LPG/PNG   bathroom  \n",
       "city                                                                  \n",
       "BANGLORE        0.665114             55.420072  51.012425  91.504659  \n",
       "CHENNAI         0.476250             70.844375  82.204375  96.193750  \n",
       "DELHI           0.476159             77.575762  86.239073  89.882914  \n",
       "HYDERABAD       0.381761             59.837107  66.686164  98.913208  \n",
       "KOLKATA         0.662329             84.508904  64.612329  90.461644  \n",
       "MUMBAI          0.295455             89.306818  82.459091  96.372727  "
      ]
     },
     "execution_count": 101,
     "metadata": {},
     "output_type": "execute_result"
    }
   ],
   "source": [
    "BAI"
   ]
  },
  {
   "cell_type": "code",
   "execution_count": 102,
   "metadata": {},
   "outputs": [],
   "source": [
    "QHI=pd.read_csv('QHI.csv')"
   ]
  },
  {
   "cell_type": "code",
   "execution_count": 125,
   "metadata": {},
   "outputs": [
    {
     "data": {
      "text/html": [
       "<div>\n",
       "<style scoped>\n",
       "    .dataframe tbody tr th:only-of-type {\n",
       "        vertical-align: middle;\n",
       "    }\n",
       "\n",
       "    .dataframe tbody tr th {\n",
       "        vertical-align: top;\n",
       "    }\n",
       "\n",
       "    .dataframe thead th {\n",
       "        text-align: right;\n",
       "    }\n",
       "</style>\n",
       "<table border=\"1\" class=\"dataframe\">\n",
       "  <thead>\n",
       "    <tr style=\"text-align: right;\">\n",
       "      <th></th>\n",
       "      <th>Unnamed: 0</th>\n",
       "      <th>Total</th>\n",
       "      <th>Owned</th>\n",
       "      <th>Unnamed: 139_level_1</th>\n",
       "      <th>No exclusive room</th>\n",
       "      <th>Atleast2Rooms</th>\n",
       "    </tr>\n",
       "  </thead>\n",
       "  <tbody>\n",
       "    <tr>\n",
       "      <th>0</th>\n",
       "      <td>NaN</td>\n",
       "      <td>Good</td>\n",
       "      <td>Unnamed: 62_level_2</td>\n",
       "      <td>Permanent</td>\n",
       "      <td>Unnamed: 48_level_2</td>\n",
       "      <td>NaN</td>\n",
       "    </tr>\n",
       "    <tr>\n",
       "      <th>1</th>\n",
       "      <td>('city', '')</td>\n",
       "      <td>NaN</td>\n",
       "      <td>NaN</td>\n",
       "      <td>NaN</td>\n",
       "      <td>NaN</td>\n",
       "      <td>NaN</td>\n",
       "    </tr>\n",
       "    <tr>\n",
       "      <th>2</th>\n",
       "      <td>BANGLORE</td>\n",
       "      <td>69.76009557945042</td>\n",
       "      <td>59.15985663082438</td>\n",
       "      <td>83.46917562724013</td>\n",
       "      <td>11.776463560334527</td>\n",
       "      <td>50.427838</td>\n",
       "    </tr>\n",
       "    <tr>\n",
       "      <th>3</th>\n",
       "      <td>CHENNAI</td>\n",
       "      <td>80.05625</td>\n",
       "      <td>45.795625</td>\n",
       "      <td>94.09375</td>\n",
       "      <td>2.2725</td>\n",
       "      <td>59.238125</td>\n",
       "    </tr>\n",
       "    <tr>\n",
       "      <th>4</th>\n",
       "      <td>DELHI</td>\n",
       "      <td>63.36543046357616</td>\n",
       "      <td>68.29549668874172</td>\n",
       "      <td>94.68781456953643</td>\n",
       "      <td>1.417615894039735</td>\n",
       "      <td>67.068079</td>\n",
       "    </tr>\n",
       "  </tbody>\n",
       "</table>\n",
       "</div>"
      ],
      "text/plain": [
       "     Unnamed: 0              Total               Owned  Unnamed: 139_level_1  \\\n",
       "0           NaN               Good  Unnamed: 62_level_2            Permanent   \n",
       "1  ('city', '')                NaN                  NaN                  NaN   \n",
       "2      BANGLORE  69.76009557945042    59.15985663082438    83.46917562724013   \n",
       "3       CHENNAI           80.05625            45.795625             94.09375   \n",
       "4         DELHI  63.36543046357616    68.29549668874172    94.68781456953643   \n",
       "\n",
       "     No exclusive room  Atleast2Rooms  \n",
       "0  Unnamed: 48_level_2            NaN  \n",
       "1                  NaN            NaN  \n",
       "2   11.776463560334527      50.427838  \n",
       "3               2.2725      59.238125  \n",
       "4    1.417615894039735      67.068079  "
      ]
     },
     "execution_count": 125,
     "metadata": {},
     "output_type": "execute_result"
    }
   ],
   "source": [
    "QHI.head()"
   ]
  },
  {
   "cell_type": "code",
   "execution_count": 136,
   "metadata": {},
   "outputs": [],
   "source": [
    "def weighted_sum(data):\n",
    "    np.random.seed(2022)\n",
    "    result={}\n",
    "    weights=np.asarray(np.random.normal(0,1,data.shape[1]))\n",
    "    for i in data.index:\n",
    "        array=data.loc[i].values\n",
    "        print(array)\n",
    "        result[i]=np.sum(weights*array)\n",
    "    return result\n"
   ]
  },
  {
   "cell_type": "code",
   "execution_count": 137,
   "metadata": {},
   "outputs": [
    {
     "data": {
      "text/plain": [
       "array([35.11529271, 77.14778973, 31.29713262, 38.02807646,  9.96367981,\n",
       "       82.58888889, 16.86702509])"
      ]
     },
     "execution_count": 137,
     "metadata": {},
     "output_type": "execute_result"
    }
   ],
   "source": [
    "AI.loc['BANGLORE',:].values"
   ]
  },
  {
   "cell_type": "code",
   "execution_count": 138,
   "metadata": {},
   "outputs": [
    {
     "name": "stdout",
     "output_type": "stream",
     "text": [
      "[35.11529271 77.14778973 31.29713262 38.02807646  9.96367981 82.58888889\n",
      " 16.86702509]\n",
      "[35.148125 95.545625 35.09625  45.4075   12.754375 91.445625 32.025625]\n",
      "[32.74198675 86.58503311 33.36225166 39.25986755 19.55960265 89.66543046\n",
      " 26.29615894]\n",
      "[32.52767296 84.97295597 26.38176101 50.68553459 14.40754717 90.61698113\n",
      " 31.62012579]\n",
      "[47.7739726  84.25684932 22.79452055 11.48013699  8.85068493 89.46986301\n",
      " 26.39657534]\n",
      "[36.87045455 86.03636364  8.97272727 19.94545455 14.04090909 94.96136364\n",
      " 35.875     ]\n"
     ]
    }
   ],
   "source": [
    "res=weighted_sum(AI)"
   ]
  },
  {
   "cell_type": "code",
   "execution_count": 139,
   "metadata": {},
   "outputs": [
    {
     "data": {
      "text/plain": [
       "{'BANGLORE': 120.6098366179014,\n",
       " 'CHENNAI': 141.75692810006427,\n",
       " 'DELHI': 131.1028445533481,\n",
       " 'HYDERABAD': 156.06768595374538,\n",
       " 'KOLKATA': 74.9331643976931,\n",
       " 'MUMBAI': 101.67092748540654}"
      ]
     },
     "execution_count": 139,
     "metadata": {},
     "output_type": "execute_result"
    }
   ],
   "source": [
    "res"
   ]
  },
  {
   "cell_type": "code",
   "execution_count": 147,
   "metadata": {},
   "outputs": [],
   "source": [
    "QHI=city.iloc[:,[12,63,51,52,53,54,55,140,49,-1]].drop(0).rename({'Unnamed: 139_level_1':'Permanent'},axis=1)"
   ]
  },
  {
   "cell_type": "code",
   "execution_count": 150,
   "metadata": {},
   "outputs": [
    {
     "data": {
      "text/html": [
       "<div>\n",
       "<style scoped>\n",
       "    .dataframe tbody tr th:only-of-type {\n",
       "        vertical-align: middle;\n",
       "    }\n",
       "\n",
       "    .dataframe tbody tr th {\n",
       "        vertical-align: top;\n",
       "    }\n",
       "\n",
       "    .dataframe thead th {\n",
       "        text-align: right;\n",
       "    }\n",
       "</style>\n",
       "<table border=\"1\" class=\"dataframe\">\n",
       "  <thead>\n",
       "    <tr style=\"text-align: right;\">\n",
       "      <th></th>\n",
       "      <th>Total.1</th>\n",
       "      <th>Owned</th>\n",
       "      <th>Two rooms</th>\n",
       "      <th>Three rooms</th>\n",
       "      <th>Four rooms</th>\n",
       "      <th>Five rooms</th>\n",
       "      <th>Six rooms and above</th>\n",
       "      <th>Permanent</th>\n",
       "      <th>No exclusive room</th>\n",
       "      <th>city</th>\n",
       "    </tr>\n",
       "  </thead>\n",
       "  <tbody>\n",
       "    <tr>\n",
       "      <th>1</th>\n",
       "      <td>72.2</td>\n",
       "      <td>67.1</td>\n",
       "      <td>15.8</td>\n",
       "      <td>7.7</td>\n",
       "      <td>2.9</td>\n",
       "      <td>0.8</td>\n",
       "      <td>0.7</td>\n",
       "      <td>93.9</td>\n",
       "      <td>9.3</td>\n",
       "      <td>MUMBAI</td>\n",
       "    </tr>\n",
       "    <tr>\n",
       "      <th>2</th>\n",
       "      <td>72.2</td>\n",
       "      <td>67.1</td>\n",
       "      <td>15.8</td>\n",
       "      <td>7.7</td>\n",
       "      <td>2.9</td>\n",
       "      <td>0.8</td>\n",
       "      <td>0.7</td>\n",
       "      <td>93.9</td>\n",
       "      <td>9.3</td>\n",
       "      <td>MUMBAI</td>\n",
       "    </tr>\n",
       "    <tr>\n",
       "      <th>3</th>\n",
       "      <td>72.2</td>\n",
       "      <td>67.1</td>\n",
       "      <td>15.8</td>\n",
       "      <td>7.7</td>\n",
       "      <td>2.9</td>\n",
       "      <td>0.8</td>\n",
       "      <td>0.7</td>\n",
       "      <td>93.9</td>\n",
       "      <td>9.3</td>\n",
       "      <td>MUMBAI</td>\n",
       "    </tr>\n",
       "    <tr>\n",
       "      <th>4</th>\n",
       "      <td>72.2</td>\n",
       "      <td>67.1</td>\n",
       "      <td>15.8</td>\n",
       "      <td>7.7</td>\n",
       "      <td>2.9</td>\n",
       "      <td>0.8</td>\n",
       "      <td>0.7</td>\n",
       "      <td>93.9</td>\n",
       "      <td>9.3</td>\n",
       "      <td>MUMBAI</td>\n",
       "    </tr>\n",
       "    <tr>\n",
       "      <th>5</th>\n",
       "      <td>72.2</td>\n",
       "      <td>67.1</td>\n",
       "      <td>15.8</td>\n",
       "      <td>7.7</td>\n",
       "      <td>2.9</td>\n",
       "      <td>0.8</td>\n",
       "      <td>0.7</td>\n",
       "      <td>93.9</td>\n",
       "      <td>9.3</td>\n",
       "      <td>MUMBAI</td>\n",
       "    </tr>\n",
       "    <tr>\n",
       "      <th>...</th>\n",
       "      <td>...</td>\n",
       "      <td>...</td>\n",
       "      <td>...</td>\n",
       "      <td>...</td>\n",
       "      <td>...</td>\n",
       "      <td>...</td>\n",
       "      <td>...</td>\n",
       "      <td>...</td>\n",
       "      <td>...</td>\n",
       "      <td>...</td>\n",
       "    </tr>\n",
       "    <tr>\n",
       "      <th>2097</th>\n",
       "      <td>88.9</td>\n",
       "      <td>64.2</td>\n",
       "      <td>19.2</td>\n",
       "      <td>33.6</td>\n",
       "      <td>16.3</td>\n",
       "      <td>4.4</td>\n",
       "      <td>3.8</td>\n",
       "      <td>96.3</td>\n",
       "      <td>1.5</td>\n",
       "      <td>CHENNAI</td>\n",
       "    </tr>\n",
       "    <tr>\n",
       "      <th>2098</th>\n",
       "      <td>84.9</td>\n",
       "      <td>53.9</td>\n",
       "      <td>21.3</td>\n",
       "      <td>23.1</td>\n",
       "      <td>14.7</td>\n",
       "      <td>6.1</td>\n",
       "      <td>3.3</td>\n",
       "      <td>92.6</td>\n",
       "      <td>2.0</td>\n",
       "      <td>CHENNAI</td>\n",
       "    </tr>\n",
       "    <tr>\n",
       "      <th>2099</th>\n",
       "      <td>87.6</td>\n",
       "      <td>52.9</td>\n",
       "      <td>27.4</td>\n",
       "      <td>28.3</td>\n",
       "      <td>10.5</td>\n",
       "      <td>2.6</td>\n",
       "      <td>1.1</td>\n",
       "      <td>95.5</td>\n",
       "      <td>3.0</td>\n",
       "      <td>CHENNAI</td>\n",
       "    </tr>\n",
       "    <tr>\n",
       "      <th>2100</th>\n",
       "      <td>82.6</td>\n",
       "      <td>55.8</td>\n",
       "      <td>26.3</td>\n",
       "      <td>14.7</td>\n",
       "      <td>4.2</td>\n",
       "      <td>1.1</td>\n",
       "      <td>0.8</td>\n",
       "      <td>89.7</td>\n",
       "      <td>3.3</td>\n",
       "      <td>CHENNAI</td>\n",
       "    </tr>\n",
       "    <tr>\n",
       "      <th>2101</th>\n",
       "      <td>89.0</td>\n",
       "      <td>54.3</td>\n",
       "      <td>26.1</td>\n",
       "      <td>25.0</td>\n",
       "      <td>11.0</td>\n",
       "      <td>3.1</td>\n",
       "      <td>1.9</td>\n",
       "      <td>93.1</td>\n",
       "      <td>3.1</td>\n",
       "      <td>CHENNAI</td>\n",
       "    </tr>\n",
       "  </tbody>\n",
       "</table>\n",
       "<p>2101 rows × 10 columns</p>\n",
       "</div>"
      ],
      "text/plain": [
       "      Total.1  Owned   Two rooms  Three rooms  Four rooms  Five rooms  \\\n",
       "1        72.2    67.1       15.8          7.7         2.9         0.8   \n",
       "2        72.2    67.1       15.8          7.7         2.9         0.8   \n",
       "3        72.2    67.1       15.8          7.7         2.9         0.8   \n",
       "4        72.2    67.1       15.8          7.7         2.9         0.8   \n",
       "5        72.2    67.1       15.8          7.7         2.9         0.8   \n",
       "...       ...     ...        ...          ...         ...         ...   \n",
       "2097     88.9    64.2       19.2         33.6        16.3         4.4   \n",
       "2098     84.9    53.9       21.3         23.1        14.7         6.1   \n",
       "2099     87.6    52.9       27.4         28.3        10.5         2.6   \n",
       "2100     82.6    55.8       26.3         14.7         4.2         1.1   \n",
       "2101     89.0    54.3       26.1         25.0        11.0         3.1   \n",
       "\n",
       "      Six rooms and above  Permanent  No exclusive room     city  \n",
       "1                     0.7       93.9                9.3   MUMBAI  \n",
       "2                     0.7       93.9                9.3   MUMBAI  \n",
       "3                     0.7       93.9                9.3   MUMBAI  \n",
       "4                     0.7       93.9                9.3   MUMBAI  \n",
       "5                     0.7       93.9                9.3   MUMBAI  \n",
       "...                   ...        ...                ...      ...  \n",
       "2097                  3.8       96.3                1.5  CHENNAI  \n",
       "2098                  3.3       92.6                2.0  CHENNAI  \n",
       "2099                  1.1       95.5                3.0  CHENNAI  \n",
       "2100                  0.8       89.7                3.3  CHENNAI  \n",
       "2101                  1.9       93.1                3.1  CHENNAI  \n",
       "\n",
       "[2101 rows x 10 columns]"
      ]
     },
     "execution_count": 150,
     "metadata": {},
     "output_type": "execute_result"
    }
   ],
   "source": [
    "QHI"
   ]
  },
  {
   "cell_type": "code",
   "execution_count": 149,
   "metadata": {},
   "outputs": [],
   "source": [
    "for i in QHI:\n",
    "    if i !='city':\n",
    "        QHI[i]=QHI[i].astype('float')\n"
   ]
  },
  {
   "cell_type": "code",
   "execution_count": 151,
   "metadata": {},
   "outputs": [],
   "source": [
    "QHI['MoreThan2BedRooms']=QHI.iloc[:,2]+QHI.iloc[:,3]+QHI.iloc[:,4]+QHI.iloc[:,5]+QHI.iloc[:,6]"
   ]
  },
  {
   "cell_type": "code",
   "execution_count": 153,
   "metadata": {},
   "outputs": [
    {
     "data": {
      "text/plain": [
       "Index(['Total.1', 'Owned ', 'Two rooms', 'Three rooms', 'Four rooms',\n",
       "       'Five rooms', 'Six rooms and above', 'Permanent', 'No exclusive room',\n",
       "       'city', 'MoreThan2BedRooms'],\n",
       "      dtype='object')"
      ]
     },
     "execution_count": 153,
     "metadata": {},
     "output_type": "execute_result"
    }
   ],
   "source": [
    "QHI.columns"
   ]
  },
  {
   "cell_type": "code",
   "execution_count": 154,
   "metadata": {},
   "outputs": [],
   "source": [
    "QHI.drop(['Two rooms', 'Three rooms', 'Four rooms',\n",
    "       'Five rooms', 'Six rooms and above'],axis=1,inplace=True)"
   ]
  },
  {
   "cell_type": "code",
   "execution_count": 156,
   "metadata": {},
   "outputs": [],
   "source": [
    "QHI.groupby('city').mean().to_csv('QHI.csv')"
   ]
  },
  {
   "cell_type": "code",
   "execution_count": 163,
   "metadata": {},
   "outputs": [],
   "source": [
    "QHI=pd.read_csv('BAI.csv',index_col='city')"
   ]
  },
  {
   "cell_type": "code",
   "execution_count": 164,
   "metadata": {},
   "outputs": [
    {
     "data": {
      "text/html": [
       "<div>\n",
       "<style scoped>\n",
       "    .dataframe tbody tr th:only-of-type {\n",
       "        vertical-align: middle;\n",
       "    }\n",
       "\n",
       "    .dataframe tbody tr th {\n",
       "        vertical-align: top;\n",
       "    }\n",
       "\n",
       "    .dataframe thead th {\n",
       "        text-align: right;\n",
       "    }\n",
       "</style>\n",
       "<table border=\"1\" class=\"dataframe\">\n",
       "  <thead>\n",
       "    <tr style=\"text-align: right;\">\n",
       "      <th></th>\n",
       "      <th>Within premises</th>\n",
       "      <th>Electricity</th>\n",
       "      <th>Unnamed: 90_level_1</th>\n",
       "      <th>Closed drainage</th>\n",
       "      <th>Has Kitchen.1</th>\n",
       "      <th>Unnamed: 126_level_1</th>\n",
       "      <th>LPG/PNG</th>\n",
       "      <th>bathroom</th>\n",
       "    </tr>\n",
       "    <tr>\n",
       "      <th>city</th>\n",
       "      <th></th>\n",
       "      <th></th>\n",
       "      <th></th>\n",
       "      <th></th>\n",
       "      <th></th>\n",
       "      <th></th>\n",
       "      <th></th>\n",
       "      <th></th>\n",
       "    </tr>\n",
       "  </thead>\n",
       "  <tbody>\n",
       "    <tr>\n",
       "      <th>BANGLORE</th>\n",
       "      <td>47.838232</td>\n",
       "      <td>96.012545</td>\n",
       "      <td>72.805496</td>\n",
       "      <td>32.821266</td>\n",
       "      <td>0.665114</td>\n",
       "      <td>55.420072</td>\n",
       "      <td>51.012425</td>\n",
       "      <td>91.504659</td>\n",
       "    </tr>\n",
       "    <tr>\n",
       "      <th>CHENNAI</th>\n",
       "      <td>75.590625</td>\n",
       "      <td>98.945000</td>\n",
       "      <td>94.558125</td>\n",
       "      <td>95.670625</td>\n",
       "      <td>0.476250</td>\n",
       "      <td>70.844375</td>\n",
       "      <td>82.204375</td>\n",
       "      <td>96.193750</td>\n",
       "    </tr>\n",
       "    <tr>\n",
       "      <th>DELHI</th>\n",
       "      <td>76.502384</td>\n",
       "      <td>98.369934</td>\n",
       "      <td>86.481325</td>\n",
       "      <td>49.108609</td>\n",
       "      <td>0.476159</td>\n",
       "      <td>77.575762</td>\n",
       "      <td>86.239073</td>\n",
       "      <td>89.882914</td>\n",
       "    </tr>\n",
       "    <tr>\n",
       "      <th>HYDERABAD</th>\n",
       "      <td>91.577987</td>\n",
       "      <td>98.684277</td>\n",
       "      <td>98.249057</td>\n",
       "      <td>96.172327</td>\n",
       "      <td>0.381761</td>\n",
       "      <td>59.837107</td>\n",
       "      <td>66.686164</td>\n",
       "      <td>98.913208</td>\n",
       "    </tr>\n",
       "    <tr>\n",
       "      <th>KOLKATA</th>\n",
       "      <td>75.656164</td>\n",
       "      <td>96.285616</td>\n",
       "      <td>94.915068</td>\n",
       "      <td>84.288356</td>\n",
       "      <td>0.662329</td>\n",
       "      <td>84.508904</td>\n",
       "      <td>64.612329</td>\n",
       "      <td>90.461644</td>\n",
       "    </tr>\n",
       "    <tr>\n",
       "      <th>MUMBAI</th>\n",
       "      <td>88.877273</td>\n",
       "      <td>98.484091</td>\n",
       "      <td>76.915909</td>\n",
       "      <td>93.909091</td>\n",
       "      <td>0.295455</td>\n",
       "      <td>89.306818</td>\n",
       "      <td>82.459091</td>\n",
       "      <td>96.372727</td>\n",
       "    </tr>\n",
       "  </tbody>\n",
       "</table>\n",
       "</div>"
      ],
      "text/plain": [
       "           Within premises  Electricity  Unnamed: 90_level_1  Closed drainage  \\\n",
       "city                                                                            \n",
       "BANGLORE         47.838232    96.012545            72.805496        32.821266   \n",
       "CHENNAI          75.590625    98.945000            94.558125        95.670625   \n",
       "DELHI            76.502384    98.369934            86.481325        49.108609   \n",
       "HYDERABAD        91.577987    98.684277            98.249057        96.172327   \n",
       "KOLKATA          75.656164    96.285616            94.915068        84.288356   \n",
       "MUMBAI           88.877273    98.484091            76.915909        93.909091   \n",
       "\n",
       "           Has Kitchen.1  Unnamed: 126_level_1    LPG/PNG   bathroom  \n",
       "city                                                                  \n",
       "BANGLORE        0.665114             55.420072  51.012425  91.504659  \n",
       "CHENNAI         0.476250             70.844375  82.204375  96.193750  \n",
       "DELHI           0.476159             77.575762  86.239073  89.882914  \n",
       "HYDERABAD       0.381761             59.837107  66.686164  98.913208  \n",
       "KOLKATA         0.662329             84.508904  64.612329  90.461644  \n",
       "MUMBAI          0.295455             89.306818  82.459091  96.372727  "
      ]
     },
     "execution_count": 164,
     "metadata": {},
     "output_type": "execute_result"
    }
   ],
   "source": [
    "QHI"
   ]
  },
  {
   "cell_type": "code",
   "execution_count": 4,
   "metadata": {},
   "outputs": [],
   "source": [
    "from sklearn.ensemble import GradientBoostingRegressor, RandomForestRegressor\n",
    "from sklearn.tree import DecisionTreeRegressor\n",
    "from sklearn.model_selection import GridSearchCV\n",
    "from sklearn.neighbors import KNeighborsRegressor\n"
   ]
  },
  {
   "cell_type": "code",
   "execution_count": 3,
   "metadata": {},
   "outputs": [],
   "source": [
    "train=pd.read_csv('train.csv')\n",
    "X_train=train.drop('Price',axis=1).values\n",
    "y_train=train['Price'].values\n",
    "\n",
    "\n",
    "test=pd.read_csv('test.csv')\n",
    "X_test=test.drop('Price',axis=1).values\n",
    "y_test=test['Price'].values"
   ]
  },
  {
   "cell_type": "code",
   "execution_count": 14,
   "metadata": {},
   "outputs": [
    {
     "data": {
      "text/plain": [
       "GridSearchCV(cv=10, estimator=GradientBoostingRegressor(),\n",
       "             param_grid={'max_depth': [1],\n",
       "                         'n_estimators': [100, 200, 500, 1000]},\n",
       "             return_train_score=True, scoring='r2')"
      ]
     },
     "execution_count": 14,
     "metadata": {},
     "output_type": "execute_result"
    }
   ],
   "source": [
    "boosted=GradientBoostingRegressor()\n",
    "\n",
    "search=GridSearchCV(estimator=boosted,param_grid={'max_depth':[1],'n_estimators':[100,200,500,1000]},scoring='r2',cv=10,return_train_score=True)\n",
    "search.fit(X_train, y_train)"
   ]
  },
  {
   "cell_type": "code",
   "execution_count": 15,
   "metadata": {},
   "outputs": [
    {
     "data": {
      "text/plain": [
       "{'mean_fit_time': array([ 3.7785486 ,  7.03455503, 16.81519983, 33.80754015]),\n",
       " 'std_fit_time': array([0.42596851, 0.21981731, 1.17452556, 2.36006207]),\n",
       " 'mean_score_time': array([0.00468922, 0.00515337, 0.0133426 , 0.02523336]),\n",
       " 'std_score_time': array([0.0071629 , 0.00796304, 0.00859674, 0.00687629]),\n",
       " 'param_max_depth': masked_array(data=[1, 1, 1, 1],\n",
       "              mask=[False, False, False, False],\n",
       "        fill_value='?',\n",
       "             dtype=object),\n",
       " 'param_n_estimators': masked_array(data=[100, 200, 500, 1000],\n",
       "              mask=[False, False, False, False],\n",
       "        fill_value='?',\n",
       "             dtype=object),\n",
       " 'params': [{'max_depth': 1, 'n_estimators': 100},\n",
       "  {'max_depth': 1, 'n_estimators': 200},\n",
       "  {'max_depth': 1, 'n_estimators': 500},\n",
       "  {'max_depth': 1, 'n_estimators': 1000}],\n",
       " 'split0_test_score': array([0.26528376, 0.27834631, 0.28878948, 0.29356341]),\n",
       " 'split1_test_score': array([0.25555003, 0.26632175, 0.27557776, 0.28082755]),\n",
       " 'split2_test_score': array([0.24911742, 0.26062703, 0.27050419, 0.27581164]),\n",
       " 'split3_test_score': array([0.24062567, 0.25237764, 0.26426114, 0.27366135]),\n",
       " 'split4_test_score': array([0.24584294, 0.25716254, 0.2675933 , 0.27273793]),\n",
       " 'split5_test_score': array([0.25482661, 0.26714176, 0.27894173, 0.28691876]),\n",
       " 'split6_test_score': array([0.24489366, 0.25634403, 0.26808989, 0.27667809]),\n",
       " 'split7_test_score': array([0.22474124, 0.23648223, 0.24730069, 0.25215018]),\n",
       " 'split8_test_score': array([0.26397396, 0.27584109, 0.28855658, 0.29584302]),\n",
       " 'split9_test_score': array([ 0.25837775,  0.2249207 , -0.71030714, -1.37926992]),\n",
       " 'mean_test_score': array([0.2503233 , 0.25755651, 0.17393076, 0.1128922 ]),\n",
       " 'std_test_score': array([0.01149836, 0.01575545, 0.29497041, 0.49752459]),\n",
       " 'rank_test_score': array([2, 1, 3, 4]),\n",
       " 'split0_train_score': array([0.25092163, 0.26345179, 0.27619876, 0.2839994 ]),\n",
       " 'split1_train_score': array([0.25221642, 0.26507581, 0.27809745, 0.2861334 ]),\n",
       " 'split2_train_score': array([0.25289271, 0.26555887, 0.27848997, 0.28651151]),\n",
       " 'split3_train_score': array([0.25397851, 0.2665316 , 0.2790407 , 0.28634716]),\n",
       " 'split4_train_score': array([0.25330067, 0.26611883, 0.27901607, 0.2869187 ]),\n",
       " 'split5_train_score': array([0.25223388, 0.26492037, 0.27752148, 0.28506978]),\n",
       " 'split6_train_score': array([0.25318962, 0.26581766, 0.27843112, 0.28583697]),\n",
       " 'split7_train_score': array([0.25586262, 0.26837655, 0.28100352, 0.28902549]),\n",
       " 'split8_train_score': array([0.25118583, 0.26377726, 0.27631545, 0.28389945]),\n",
       " 'split9_train_score': array([0.25178483, 0.26390116, 0.27627106, 0.28395192]),\n",
       " 'mean_train_score': array([0.25275667, 0.26535299, 0.27803856, 0.28576938]),\n",
       " 'std_train_score': array([0.00137791, 0.00140873, 0.00144422, 0.00152862])}"
      ]
     },
     "execution_count": 15,
     "metadata": {},
     "output_type": "execute_result"
    }
   ],
   "source": [
    "search.cv_results_"
   ]
  },
  {
   "cell_type": "code",
   "execution_count": 16,
   "metadata": {},
   "outputs": [],
   "source": [
    "estimator=search.best_estimator_"
   ]
  },
  {
   "cell_type": "code",
   "execution_count": 17,
   "metadata": {},
   "outputs": [],
   "source": [
    "preds=estimator.predict(X_test)"
   ]
  },
  {
   "cell_type": "code",
   "execution_count": 7,
   "metadata": {},
   "outputs": [],
   "source": [
    "from sklearn.metrics import mean_squared_error,r2_score"
   ]
  },
  {
   "cell_type": "code",
   "execution_count": 19,
   "metadata": {},
   "outputs": [
    {
     "data": {
      "text/plain": [
       "0.25112513145009785"
      ]
     },
     "execution_count": 19,
     "metadata": {},
     "output_type": "execute_result"
    }
   ],
   "source": [
    "r2_score(y_test,preds)"
   ]
  },
  {
   "cell_type": "code",
   "execution_count": 20,
   "metadata": {},
   "outputs": [
    {
     "data": {
      "text/plain": [
       "0.49733458890691534"
      ]
     },
     "execution_count": 20,
     "metadata": {},
     "output_type": "execute_result"
    }
   ],
   "source": [
    "mean_squared_error(y_test,preds)"
   ]
  },
  {
   "cell_type": "code",
   "execution_count": 21,
   "metadata": {},
   "outputs": [
    {
     "data": {
      "text/plain": [
       "{'max_depth': 1, 'n_estimators': 200}"
      ]
     },
     "execution_count": 21,
     "metadata": {},
     "output_type": "execute_result"
    }
   ],
   "source": [
    "search.best_params_"
   ]
  },
  {
   "cell_type": "code",
   "execution_count": 23,
   "metadata": {},
   "outputs": [],
   "source": [
    "rf=RandomForestRegressor(max_depth=5)"
   ]
  },
  {
   "cell_type": "code",
   "execution_count": 24,
   "metadata": {},
   "outputs": [
    {
     "data": {
      "text/plain": [
       "RandomForestRegressor(max_depth=5)"
      ]
     },
     "execution_count": 24,
     "metadata": {},
     "output_type": "execute_result"
    }
   ],
   "source": [
    "rf.fit(X_train,y_train)"
   ]
  },
  {
   "cell_type": "code",
   "execution_count": 25,
   "metadata": {},
   "outputs": [
    {
     "data": {
      "text/plain": [
       "0.304478087948336"
      ]
     },
     "execution_count": 25,
     "metadata": {},
     "output_type": "execute_result"
    }
   ],
   "source": [
    "preds1=rf.predict(X_test)\n",
    "r2_score(y_test,preds1)"
   ]
  },
  {
   "cell_type": "code",
   "execution_count": 55,
   "metadata": {},
   "outputs": [],
   "source": [
    "predsW=(preds+preds1)/2"
   ]
  },
  {
   "cell_type": "code",
   "execution_count": 56,
   "metadata": {},
   "outputs": [
    {
     "data": {
      "text/plain": [
       "0.29095855300509077"
      ]
     },
     "execution_count": 56,
     "metadata": {},
     "output_type": "execute_result"
    }
   ],
   "source": [
    "r2_score(y_test,predsW)"
   ]
  },
  {
   "cell_type": "code",
   "execution_count": 235,
   "metadata": {},
   "outputs": [
    {
     "name": "stdout",
     "output_type": "stream",
     "text": [
      "Learning rate set to 0.068662\n",
      "0:\tlearn: 0.8024711\ttotal: 12.2ms\tremaining: 12.1s\n",
      "1:\tlearn: 0.7902470\ttotal: 23.8ms\tremaining: 11.9s\n",
      "2:\tlearn: 0.7790721\ttotal: 43.8ms\tremaining: 14.6s\n",
      "3:\tlearn: 0.7693339\ttotal: 58.9ms\tremaining: 14.7s\n",
      "4:\tlearn: 0.7602751\ttotal: 66.7ms\tremaining: 13.3s\n",
      "5:\tlearn: 0.7528606\ttotal: 76.4ms\tremaining: 12.6s\n",
      "6:\tlearn: 0.7458283\ttotal: 83.6ms\tremaining: 11.9s\n",
      "7:\tlearn: 0.7396130\ttotal: 95.3ms\tremaining: 11.8s\n",
      "8:\tlearn: 0.7339946\ttotal: 108ms\tremaining: 11.9s\n",
      "9:\tlearn: 0.7290141\ttotal: 123ms\tremaining: 12.2s\n",
      "10:\tlearn: 0.7237952\ttotal: 138ms\tremaining: 12.4s\n",
      "11:\tlearn: 0.7195173\ttotal: 148ms\tremaining: 12.2s\n",
      "12:\tlearn: 0.7154350\ttotal: 156ms\tremaining: 11.8s\n",
      "13:\tlearn: 0.7120274\ttotal: 164ms\tremaining: 11.5s\n",
      "14:\tlearn: 0.7090776\ttotal: 187ms\tremaining: 12.3s\n",
      "15:\tlearn: 0.7063544\ttotal: 196ms\tremaining: 12.1s\n",
      "16:\tlearn: 0.7039487\ttotal: 223ms\tremaining: 12.9s\n",
      "17:\tlearn: 0.7017583\ttotal: 234ms\tremaining: 12.7s\n",
      "18:\tlearn: 0.6997285\ttotal: 258ms\tremaining: 13.3s\n",
      "19:\tlearn: 0.6974476\ttotal: 272ms\tremaining: 13.3s\n",
      "20:\tlearn: 0.6957583\ttotal: 310ms\tremaining: 14.4s\n",
      "21:\tlearn: 0.6941964\ttotal: 324ms\tremaining: 14.4s\n",
      "22:\tlearn: 0.6925261\ttotal: 341ms\tremaining: 14.5s\n",
      "23:\tlearn: 0.6908448\ttotal: 351ms\tremaining: 14.3s\n",
      "24:\tlearn: 0.6895494\ttotal: 382ms\tremaining: 14.9s\n",
      "25:\tlearn: 0.6884496\ttotal: 398ms\tremaining: 14.9s\n",
      "26:\tlearn: 0.6871193\ttotal: 412ms\tremaining: 14.8s\n",
      "27:\tlearn: 0.6859522\ttotal: 419ms\tremaining: 14.6s\n",
      "28:\tlearn: 0.6849068\ttotal: 426ms\tremaining: 14.3s\n",
      "29:\tlearn: 0.6839025\ttotal: 441ms\tremaining: 14.3s\n",
      "30:\tlearn: 0.6827518\ttotal: 472ms\tremaining: 14.8s\n",
      "31:\tlearn: 0.6819460\ttotal: 481ms\tremaining: 14.6s\n",
      "32:\tlearn: 0.6811422\ttotal: 502ms\tremaining: 14.7s\n",
      "33:\tlearn: 0.6803872\ttotal: 551ms\tremaining: 15.7s\n",
      "34:\tlearn: 0.6795986\ttotal: 602ms\tremaining: 16.6s\n",
      "35:\tlearn: 0.6789932\ttotal: 619ms\tremaining: 16.6s\n",
      "36:\tlearn: 0.6785030\ttotal: 634ms\tremaining: 16.5s\n",
      "37:\tlearn: 0.6779266\ttotal: 650ms\tremaining: 16.5s\n",
      "38:\tlearn: 0.6774540\ttotal: 661ms\tremaining: 16.3s\n",
      "39:\tlearn: 0.6768788\ttotal: 671ms\tremaining: 16.1s\n",
      "40:\tlearn: 0.6764844\ttotal: 681ms\tremaining: 15.9s\n",
      "41:\tlearn: 0.6759128\ttotal: 695ms\tremaining: 15.8s\n",
      "42:\tlearn: 0.6754655\ttotal: 701ms\tremaining: 15.6s\n",
      "43:\tlearn: 0.6747727\ttotal: 742ms\tremaining: 16.1s\n",
      "44:\tlearn: 0.6742518\ttotal: 772ms\tremaining: 16.4s\n",
      "45:\tlearn: 0.6739394\ttotal: 786ms\tremaining: 16.3s\n",
      "46:\tlearn: 0.6733995\ttotal: 830ms\tremaining: 16.8s\n",
      "47:\tlearn: 0.6729639\ttotal: 841ms\tremaining: 16.7s\n",
      "48:\tlearn: 0.6724159\ttotal: 855ms\tremaining: 16.6s\n",
      "49:\tlearn: 0.6721286\ttotal: 872ms\tremaining: 16.6s\n",
      "50:\tlearn: 0.6717491\ttotal: 902ms\tremaining: 16.8s\n",
      "51:\tlearn: 0.6714344\ttotal: 915ms\tremaining: 16.7s\n",
      "52:\tlearn: 0.6711329\ttotal: 931ms\tremaining: 16.6s\n",
      "53:\tlearn: 0.6705349\ttotal: 947ms\tremaining: 16.6s\n",
      "54:\tlearn: 0.6699821\ttotal: 978ms\tremaining: 16.8s\n",
      "55:\tlearn: 0.6697685\ttotal: 1.01s\tremaining: 17s\n",
      "56:\tlearn: 0.6694952\ttotal: 1.04s\tremaining: 17.2s\n",
      "57:\tlearn: 0.6692502\ttotal: 1.06s\tremaining: 17.2s\n",
      "58:\tlearn: 0.6689462\ttotal: 1.07s\tremaining: 17s\n",
      "59:\tlearn: 0.6687961\ttotal: 1.08s\tremaining: 16.9s\n",
      "60:\tlearn: 0.6686871\ttotal: 1.09s\tremaining: 16.9s\n",
      "61:\tlearn: 0.6683857\ttotal: 1.11s\tremaining: 16.8s\n",
      "62:\tlearn: 0.6681324\ttotal: 1.14s\tremaining: 16.9s\n",
      "63:\tlearn: 0.6679492\ttotal: 1.15s\tremaining: 16.9s\n",
      "64:\tlearn: 0.6678077\ttotal: 1.17s\tremaining: 16.8s\n",
      "65:\tlearn: 0.6674681\ttotal: 1.18s\tremaining: 16.6s\n",
      "66:\tlearn: 0.6671561\ttotal: 1.19s\tremaining: 16.6s\n",
      "67:\tlearn: 0.6670071\ttotal: 1.2s\tremaining: 16.5s\n",
      "68:\tlearn: 0.6668350\ttotal: 1.23s\tremaining: 16.6s\n",
      "69:\tlearn: 0.6667066\ttotal: 1.26s\tremaining: 16.7s\n",
      "70:\tlearn: 0.6665521\ttotal: 1.27s\tremaining: 16.6s\n",
      "71:\tlearn: 0.6663399\ttotal: 1.28s\tremaining: 16.5s\n",
      "72:\tlearn: 0.6661095\ttotal: 1.29s\tremaining: 16.4s\n",
      "73:\tlearn: 0.6660008\ttotal: 1.3s\tremaining: 16.3s\n",
      "74:\tlearn: 0.6658112\ttotal: 1.31s\tremaining: 16.2s\n",
      "75:\tlearn: 0.6655431\ttotal: 1.32s\tremaining: 16.1s\n",
      "76:\tlearn: 0.6654287\ttotal: 1.36s\tremaining: 16.4s\n",
      "77:\tlearn: 0.6653160\ttotal: 1.4s\tremaining: 16.5s\n",
      "78:\tlearn: 0.6651256\ttotal: 1.41s\tremaining: 16.5s\n",
      "79:\tlearn: 0.6648413\ttotal: 1.42s\tremaining: 16.4s\n",
      "80:\tlearn: 0.6647260\ttotal: 1.44s\tremaining: 16.4s\n",
      "81:\tlearn: 0.6644319\ttotal: 1.45s\tremaining: 16.3s\n",
      "82:\tlearn: 0.6641674\ttotal: 1.46s\tremaining: 16.2s\n",
      "83:\tlearn: 0.6640916\ttotal: 1.5s\tremaining: 16.4s\n",
      "84:\tlearn: 0.6639042\ttotal: 1.52s\tremaining: 16.4s\n",
      "85:\tlearn: 0.6638128\ttotal: 1.55s\tremaining: 16.5s\n",
      "86:\tlearn: 0.6637505\ttotal: 1.56s\tremaining: 16.4s\n",
      "87:\tlearn: 0.6637015\ttotal: 1.57s\tremaining: 16.3s\n",
      "88:\tlearn: 0.6634426\ttotal: 1.58s\tremaining: 16.2s\n",
      "89:\tlearn: 0.6633426\ttotal: 1.59s\tremaining: 16.1s\n",
      "90:\tlearn: 0.6632631\ttotal: 1.63s\tremaining: 16.3s\n",
      "91:\tlearn: 0.6631113\ttotal: 1.64s\tremaining: 16.1s\n",
      "92:\tlearn: 0.6630416\ttotal: 1.65s\tremaining: 16.1s\n",
      "93:\tlearn: 0.6627839\ttotal: 1.65s\tremaining: 15.9s\n",
      "94:\tlearn: 0.6627373\ttotal: 1.67s\tremaining: 15.9s\n",
      "95:\tlearn: 0.6625425\ttotal: 1.68s\tremaining: 15.8s\n",
      "96:\tlearn: 0.6623542\ttotal: 1.7s\tremaining: 15.8s\n",
      "97:\tlearn: 0.6622893\ttotal: 1.7s\tremaining: 15.7s\n",
      "98:\tlearn: 0.6620932\ttotal: 1.72s\tremaining: 15.6s\n",
      "99:\tlearn: 0.6619913\ttotal: 1.73s\tremaining: 15.6s\n",
      "100:\tlearn: 0.6618973\ttotal: 1.75s\tremaining: 15.6s\n",
      "101:\tlearn: 0.6617064\ttotal: 1.77s\tremaining: 15.6s\n",
      "102:\tlearn: 0.6616318\ttotal: 1.78s\tremaining: 15.5s\n",
      "103:\tlearn: 0.6615705\ttotal: 1.81s\tremaining: 15.6s\n",
      "104:\tlearn: 0.6613681\ttotal: 1.83s\tremaining: 15.6s\n",
      "105:\tlearn: 0.6612826\ttotal: 1.85s\tremaining: 15.6s\n",
      "106:\tlearn: 0.6611514\ttotal: 1.88s\tremaining: 15.7s\n",
      "107:\tlearn: 0.6608003\ttotal: 1.89s\tremaining: 15.6s\n",
      "108:\tlearn: 0.6606905\ttotal: 1.91s\tremaining: 15.6s\n",
      "109:\tlearn: 0.6605806\ttotal: 1.92s\tremaining: 15.6s\n",
      "110:\tlearn: 0.6605276\ttotal: 1.94s\tremaining: 15.5s\n",
      "111:\tlearn: 0.6604512\ttotal: 1.95s\tremaining: 15.4s\n",
      "112:\tlearn: 0.6601573\ttotal: 1.96s\tremaining: 15.4s\n",
      "113:\tlearn: 0.6600027\ttotal: 1.97s\tremaining: 15.3s\n",
      "114:\tlearn: 0.6599524\ttotal: 1.98s\tremaining: 15.3s\n",
      "115:\tlearn: 0.6596278\ttotal: 2s\tremaining: 15.2s\n",
      "116:\tlearn: 0.6594742\ttotal: 2.02s\tremaining: 15.2s\n",
      "117:\tlearn: 0.6593258\ttotal: 2.02s\tremaining: 15.1s\n",
      "118:\tlearn: 0.6590698\ttotal: 2.04s\tremaining: 15.1s\n",
      "119:\tlearn: 0.6589505\ttotal: 2.06s\tremaining: 15.1s\n",
      "120:\tlearn: 0.6588691\ttotal: 2.07s\tremaining: 15.1s\n",
      "121:\tlearn: 0.6588089\ttotal: 2.08s\tremaining: 15s\n",
      "122:\tlearn: 0.6585949\ttotal: 2.11s\tremaining: 15.1s\n",
      "123:\tlearn: 0.6585349\ttotal: 2.13s\tremaining: 15.1s\n",
      "124:\tlearn: 0.6584898\ttotal: 2.15s\tremaining: 15.1s\n",
      "125:\tlearn: 0.6584178\ttotal: 2.17s\tremaining: 15.1s\n",
      "126:\tlearn: 0.6583157\ttotal: 2.19s\tremaining: 15.1s\n",
      "127:\tlearn: 0.6580738\ttotal: 2.21s\tremaining: 15.1s\n",
      "128:\tlearn: 0.6579592\ttotal: 2.23s\tremaining: 15s\n",
      "129:\tlearn: 0.6576409\ttotal: 2.25s\tremaining: 15.1s\n",
      "130:\tlearn: 0.6572919\ttotal: 2.27s\tremaining: 15s\n",
      "131:\tlearn: 0.6572170\ttotal: 2.29s\tremaining: 15.1s\n",
      "132:\tlearn: 0.6571300\ttotal: 2.3s\tremaining: 15s\n",
      "133:\tlearn: 0.6570499\ttotal: 2.32s\tremaining: 15s\n",
      "134:\tlearn: 0.6569838\ttotal: 2.34s\tremaining: 15s\n",
      "135:\tlearn: 0.6569182\ttotal: 2.34s\tremaining: 14.9s\n",
      "136:\tlearn: 0.6568146\ttotal: 2.35s\tremaining: 14.8s\n",
      "137:\tlearn: 0.6566928\ttotal: 2.36s\tremaining: 14.7s\n",
      "138:\tlearn: 0.6564775\ttotal: 2.4s\tremaining: 14.9s\n",
      "139:\tlearn: 0.6563486\ttotal: 2.41s\tremaining: 14.8s\n",
      "140:\tlearn: 0.6562855\ttotal: 2.42s\tremaining: 14.8s\n",
      "141:\tlearn: 0.6561542\ttotal: 2.43s\tremaining: 14.7s\n",
      "142:\tlearn: 0.6560147\ttotal: 2.44s\tremaining: 14.6s\n",
      "143:\tlearn: 0.6558400\ttotal: 2.46s\tremaining: 14.6s\n",
      "144:\tlearn: 0.6557872\ttotal: 2.47s\tremaining: 14.6s\n",
      "145:\tlearn: 0.6556904\ttotal: 2.49s\tremaining: 14.6s\n",
      "146:\tlearn: 0.6556292\ttotal: 2.5s\tremaining: 14.5s\n",
      "147:\tlearn: 0.6555362\ttotal: 2.51s\tremaining: 14.4s\n",
      "148:\tlearn: 0.6554726\ttotal: 2.52s\tremaining: 14.4s\n",
      "149:\tlearn: 0.6553924\ttotal: 2.54s\tremaining: 14.4s\n",
      "150:\tlearn: 0.6552516\ttotal: 2.57s\tremaining: 14.4s\n",
      "151:\tlearn: 0.6550524\ttotal: 2.57s\tremaining: 14.4s\n",
      "152:\tlearn: 0.6548416\ttotal: 2.58s\tremaining: 14.3s\n",
      "153:\tlearn: 0.6547212\ttotal: 2.62s\tremaining: 14.4s\n",
      "154:\tlearn: 0.6546853\ttotal: 2.65s\tremaining: 14.4s\n",
      "155:\tlearn: 0.6545658\ttotal: 2.66s\tremaining: 14.4s\n",
      "156:\tlearn: 0.6545000\ttotal: 2.67s\tremaining: 14.3s\n",
      "157:\tlearn: 0.6544160\ttotal: 2.68s\tremaining: 14.3s\n",
      "158:\tlearn: 0.6542893\ttotal: 2.7s\tremaining: 14.3s\n",
      "159:\tlearn: 0.6541168\ttotal: 2.74s\tremaining: 14.4s\n",
      "160:\tlearn: 0.6540590\ttotal: 2.75s\tremaining: 14.4s\n",
      "161:\tlearn: 0.6539291\ttotal: 2.77s\tremaining: 14.3s\n",
      "162:\tlearn: 0.6538574\ttotal: 2.78s\tremaining: 14.3s\n",
      "163:\tlearn: 0.6536668\ttotal: 2.8s\tremaining: 14.3s\n",
      "164:\tlearn: 0.6533997\ttotal: 2.81s\tremaining: 14.2s\n",
      "165:\tlearn: 0.6532948\ttotal: 2.83s\tremaining: 14.2s\n",
      "166:\tlearn: 0.6532286\ttotal: 2.86s\tremaining: 14.3s\n",
      "167:\tlearn: 0.6531561\ttotal: 2.87s\tremaining: 14.2s\n",
      "168:\tlearn: 0.6531044\ttotal: 2.9s\tremaining: 14.2s\n",
      "169:\tlearn: 0.6530330\ttotal: 2.9s\tremaining: 14.2s\n",
      "170:\tlearn: 0.6528422\ttotal: 2.91s\tremaining: 14.1s\n",
      "171:\tlearn: 0.6526785\ttotal: 2.94s\tremaining: 14.2s\n",
      "172:\tlearn: 0.6525929\ttotal: 2.96s\tremaining: 14.1s\n",
      "173:\tlearn: 0.6524669\ttotal: 2.97s\tremaining: 14.1s\n",
      "174:\tlearn: 0.6523456\ttotal: 2.98s\tremaining: 14s\n",
      "175:\tlearn: 0.6522734\ttotal: 3s\tremaining: 14s\n",
      "176:\tlearn: 0.6520112\ttotal: 3.01s\tremaining: 14s\n",
      "177:\tlearn: 0.6519658\ttotal: 3.02s\tremaining: 14s\n",
      "178:\tlearn: 0.6518814\ttotal: 3.03s\tremaining: 13.9s\n",
      "179:\tlearn: 0.6517699\ttotal: 3.05s\tremaining: 13.9s\n",
      "180:\tlearn: 0.6517166\ttotal: 3.06s\tremaining: 13.9s\n",
      "181:\tlearn: 0.6516247\ttotal: 3.08s\tremaining: 13.8s\n",
      "182:\tlearn: 0.6514619\ttotal: 3.09s\tremaining: 13.8s\n",
      "183:\tlearn: 0.6513526\ttotal: 3.11s\tremaining: 13.8s\n",
      "184:\tlearn: 0.6512780\ttotal: 3.16s\tremaining: 13.9s\n",
      "185:\tlearn: 0.6511006\ttotal: 3.17s\tremaining: 13.9s\n",
      "186:\tlearn: 0.6509636\ttotal: 3.21s\tremaining: 13.9s\n",
      "187:\tlearn: 0.6508405\ttotal: 3.22s\tremaining: 13.9s\n",
      "188:\tlearn: 0.6505997\ttotal: 3.24s\tremaining: 13.9s\n",
      "189:\tlearn: 0.6504762\ttotal: 3.24s\tremaining: 13.8s\n",
      "190:\tlearn: 0.6503858\ttotal: 3.25s\tremaining: 13.8s\n",
      "191:\tlearn: 0.6502937\ttotal: 3.27s\tremaining: 13.8s\n",
      "192:\tlearn: 0.6502645\ttotal: 3.28s\tremaining: 13.7s\n",
      "193:\tlearn: 0.6501939\ttotal: 3.29s\tremaining: 13.7s\n",
      "194:\tlearn: 0.6500487\ttotal: 3.3s\tremaining: 13.6s\n",
      "195:\tlearn: 0.6499470\ttotal: 3.31s\tremaining: 13.6s\n",
      "196:\tlearn: 0.6498765\ttotal: 3.32s\tremaining: 13.5s\n",
      "197:\tlearn: 0.6497686\ttotal: 3.34s\tremaining: 13.5s\n",
      "198:\tlearn: 0.6496390\ttotal: 3.35s\tremaining: 13.5s\n",
      "199:\tlearn: 0.6495640\ttotal: 3.37s\tremaining: 13.5s\n",
      "200:\tlearn: 0.6494641\ttotal: 3.38s\tremaining: 13.5s\n",
      "201:\tlearn: 0.6493354\ttotal: 3.39s\tremaining: 13.4s\n",
      "202:\tlearn: 0.6491155\ttotal: 3.42s\tremaining: 13.4s\n",
      "203:\tlearn: 0.6490557\ttotal: 3.43s\tremaining: 13.4s\n",
      "204:\tlearn: 0.6489388\ttotal: 3.44s\tremaining: 13.3s\n",
      "205:\tlearn: 0.6488510\ttotal: 3.46s\tremaining: 13.4s\n",
      "206:\tlearn: 0.6487446\ttotal: 3.55s\tremaining: 13.6s\n",
      "207:\tlearn: 0.6485883\ttotal: 3.58s\tremaining: 13.7s\n",
      "208:\tlearn: 0.6485282\ttotal: 3.6s\tremaining: 13.6s\n",
      "209:\tlearn: 0.6483244\ttotal: 3.62s\tremaining: 13.6s\n",
      "210:\tlearn: 0.6482582\ttotal: 3.63s\tremaining: 13.6s\n",
      "211:\tlearn: 0.6481633\ttotal: 3.64s\tremaining: 13.5s\n",
      "212:\tlearn: 0.6480918\ttotal: 3.65s\tremaining: 13.5s\n",
      "213:\tlearn: 0.6480268\ttotal: 3.66s\tremaining: 13.4s\n",
      "214:\tlearn: 0.6479294\ttotal: 3.67s\tremaining: 13.4s\n",
      "215:\tlearn: 0.6478418\ttotal: 3.7s\tremaining: 13.4s\n",
      "216:\tlearn: 0.6477491\ttotal: 3.71s\tremaining: 13.4s\n",
      "217:\tlearn: 0.6476763\ttotal: 3.73s\tremaining: 13.4s\n",
      "218:\tlearn: 0.6476229\ttotal: 3.74s\tremaining: 13.3s\n",
      "219:\tlearn: 0.6475774\ttotal: 3.75s\tremaining: 13.3s\n",
      "220:\tlearn: 0.6474353\ttotal: 3.77s\tremaining: 13.3s\n",
      "221:\tlearn: 0.6473867\ttotal: 3.78s\tremaining: 13.3s\n",
      "222:\tlearn: 0.6472977\ttotal: 3.79s\tremaining: 13.2s\n",
      "223:\tlearn: 0.6470823\ttotal: 3.8s\tremaining: 13.2s\n",
      "224:\tlearn: 0.6469677\ttotal: 3.84s\tremaining: 13.2s\n",
      "225:\tlearn: 0.6468657\ttotal: 3.85s\tremaining: 13.2s\n",
      "226:\tlearn: 0.6468125\ttotal: 3.87s\tremaining: 13.2s\n",
      "227:\tlearn: 0.6467448\ttotal: 3.89s\tremaining: 13.2s\n",
      "228:\tlearn: 0.6466736\ttotal: 3.9s\tremaining: 13.1s\n",
      "229:\tlearn: 0.6465564\ttotal: 3.91s\tremaining: 13.1s\n",
      "230:\tlearn: 0.6464531\ttotal: 3.92s\tremaining: 13.1s\n",
      "231:\tlearn: 0.6462725\ttotal: 3.94s\tremaining: 13.1s\n",
      "232:\tlearn: 0.6462440\ttotal: 3.95s\tremaining: 13s\n",
      "233:\tlearn: 0.6461981\ttotal: 3.96s\tremaining: 13s\n",
      "234:\tlearn: 0.6461734\ttotal: 3.98s\tremaining: 12.9s\n",
      "235:\tlearn: 0.6460618\ttotal: 3.98s\tremaining: 12.9s\n",
      "236:\tlearn: 0.6459732\ttotal: 3.99s\tremaining: 12.8s\n",
      "237:\tlearn: 0.6458788\ttotal: 4s\tremaining: 12.8s\n",
      "238:\tlearn: 0.6457677\ttotal: 4.01s\tremaining: 12.8s\n",
      "239:\tlearn: 0.6456145\ttotal: 4.06s\tremaining: 12.8s\n",
      "240:\tlearn: 0.6455670\ttotal: 4.07s\tremaining: 12.8s\n",
      "241:\tlearn: 0.6455002\ttotal: 4.08s\tremaining: 12.8s\n",
      "242:\tlearn: 0.6454403\ttotal: 4.1s\tremaining: 12.8s\n",
      "243:\tlearn: 0.6453265\ttotal: 4.11s\tremaining: 12.7s\n",
      "244:\tlearn: 0.6452857\ttotal: 4.13s\tremaining: 12.7s\n",
      "245:\tlearn: 0.6451774\ttotal: 4.16s\tremaining: 12.8s\n",
      "246:\tlearn: 0.6450544\ttotal: 4.17s\tremaining: 12.7s\n",
      "247:\tlearn: 0.6449966\ttotal: 4.19s\tremaining: 12.7s\n",
      "248:\tlearn: 0.6448873\ttotal: 4.2s\tremaining: 12.7s\n",
      "249:\tlearn: 0.6447767\ttotal: 4.22s\tremaining: 12.7s\n",
      "250:\tlearn: 0.6446884\ttotal: 4.23s\tremaining: 12.6s\n",
      "251:\tlearn: 0.6446437\ttotal: 4.23s\tremaining: 12.6s\n",
      "252:\tlearn: 0.6446077\ttotal: 4.24s\tremaining: 12.5s\n",
      "253:\tlearn: 0.6445486\ttotal: 4.25s\tremaining: 12.5s\n",
      "254:\tlearn: 0.6444512\ttotal: 4.26s\tremaining: 12.4s\n",
      "255:\tlearn: 0.6443981\ttotal: 4.28s\tremaining: 12.4s\n",
      "256:\tlearn: 0.6442954\ttotal: 4.29s\tremaining: 12.4s\n",
      "257:\tlearn: 0.6442180\ttotal: 4.31s\tremaining: 12.4s\n",
      "258:\tlearn: 0.6441587\ttotal: 4.34s\tremaining: 12.4s\n",
      "259:\tlearn: 0.6441034\ttotal: 4.36s\tremaining: 12.4s\n",
      "260:\tlearn: 0.6440298\ttotal: 4.37s\tremaining: 12.4s\n",
      "261:\tlearn: 0.6439564\ttotal: 4.38s\tremaining: 12.4s\n",
      "262:\tlearn: 0.6438917\ttotal: 4.39s\tremaining: 12.3s\n",
      "263:\tlearn: 0.6438086\ttotal: 4.4s\tremaining: 12.3s\n",
      "264:\tlearn: 0.6437344\ttotal: 4.41s\tremaining: 12.2s\n",
      "265:\tlearn: 0.6437021\ttotal: 4.42s\tremaining: 12.2s\n",
      "266:\tlearn: 0.6436460\ttotal: 4.43s\tremaining: 12.2s\n",
      "267:\tlearn: 0.6436255\ttotal: 4.44s\tremaining: 12.1s\n",
      "268:\tlearn: 0.6435567\ttotal: 4.48s\tremaining: 12.2s\n",
      "269:\tlearn: 0.6434199\ttotal: 4.49s\tremaining: 12.1s\n",
      "270:\tlearn: 0.6433617\ttotal: 4.5s\tremaining: 12.1s\n",
      "271:\tlearn: 0.6432921\ttotal: 4.51s\tremaining: 12.1s\n",
      "272:\tlearn: 0.6432536\ttotal: 4.53s\tremaining: 12.1s\n",
      "273:\tlearn: 0.6431863\ttotal: 4.53s\tremaining: 12s\n",
      "274:\tlearn: 0.6431680\ttotal: 4.57s\tremaining: 12s\n",
      "275:\tlearn: 0.6430965\ttotal: 4.58s\tremaining: 12s\n",
      "276:\tlearn: 0.6430478\ttotal: 4.6s\tremaining: 12s\n",
      "277:\tlearn: 0.6429033\ttotal: 4.6s\tremaining: 12s\n",
      "278:\tlearn: 0.6428599\ttotal: 4.61s\tremaining: 11.9s\n",
      "279:\tlearn: 0.6428108\ttotal: 4.62s\tremaining: 11.9s\n",
      "280:\tlearn: 0.6427320\ttotal: 4.65s\tremaining: 11.9s\n",
      "281:\tlearn: 0.6426786\ttotal: 4.67s\tremaining: 11.9s\n",
      "282:\tlearn: 0.6426579\ttotal: 4.69s\tremaining: 11.9s\n",
      "283:\tlearn: 0.6426174\ttotal: 4.7s\tremaining: 11.9s\n",
      "284:\tlearn: 0.6425189\ttotal: 4.72s\tremaining: 11.8s\n",
      "285:\tlearn: 0.6424288\ttotal: 4.73s\tremaining: 11.8s\n",
      "286:\tlearn: 0.6423406\ttotal: 4.74s\tremaining: 11.8s\n",
      "287:\tlearn: 0.6422581\ttotal: 4.75s\tremaining: 11.7s\n",
      "288:\tlearn: 0.6421865\ttotal: 4.78s\tremaining: 11.8s\n",
      "289:\tlearn: 0.6421173\ttotal: 4.8s\tremaining: 11.8s\n",
      "290:\tlearn: 0.6420661\ttotal: 4.81s\tremaining: 11.7s\n",
      "291:\tlearn: 0.6420487\ttotal: 4.83s\tremaining: 11.7s\n",
      "292:\tlearn: 0.6419291\ttotal: 4.84s\tremaining: 11.7s\n",
      "293:\tlearn: 0.6418726\ttotal: 4.88s\tremaining: 11.7s\n",
      "294:\tlearn: 0.6417671\ttotal: 4.89s\tremaining: 11.7s\n",
      "295:\tlearn: 0.6416902\ttotal: 4.9s\tremaining: 11.7s\n",
      "296:\tlearn: 0.6416052\ttotal: 4.91s\tremaining: 11.6s\n",
      "297:\tlearn: 0.6415466\ttotal: 4.92s\tremaining: 11.6s\n",
      "298:\tlearn: 0.6414741\ttotal: 4.93s\tremaining: 11.6s\n",
      "299:\tlearn: 0.6414195\ttotal: 4.95s\tremaining: 11.6s\n",
      "300:\tlearn: 0.6413881\ttotal: 4.96s\tremaining: 11.5s\n",
      "301:\tlearn: 0.6413420\ttotal: 4.98s\tremaining: 11.5s\n",
      "302:\tlearn: 0.6412545\ttotal: 5s\tremaining: 11.5s\n",
      "303:\tlearn: 0.6411901\ttotal: 5.01s\tremaining: 11.5s\n",
      "304:\tlearn: 0.6411355\ttotal: 5.03s\tremaining: 11.5s\n",
      "305:\tlearn: 0.6411058\ttotal: 5.04s\tremaining: 11.4s\n",
      "306:\tlearn: 0.6410746\ttotal: 5.06s\tremaining: 11.4s\n",
      "307:\tlearn: 0.6409586\ttotal: 5.09s\tremaining: 11.4s\n",
      "308:\tlearn: 0.6408573\ttotal: 5.11s\tremaining: 11.4s\n",
      "309:\tlearn: 0.6407724\ttotal: 5.12s\tremaining: 11.4s\n",
      "310:\tlearn: 0.6407261\ttotal: 5.13s\tremaining: 11.4s\n",
      "311:\tlearn: 0.6406478\ttotal: 5.14s\tremaining: 11.3s\n",
      "312:\tlearn: 0.6405816\ttotal: 5.16s\tremaining: 11.3s\n",
      "313:\tlearn: 0.6404974\ttotal: 5.19s\tremaining: 11.3s\n",
      "314:\tlearn: 0.6404557\ttotal: 5.2s\tremaining: 11.3s\n",
      "315:\tlearn: 0.6403478\ttotal: 5.22s\tremaining: 11.3s\n",
      "316:\tlearn: 0.6402806\ttotal: 5.23s\tremaining: 11.3s\n",
      "317:\tlearn: 0.6402150\ttotal: 5.26s\tremaining: 11.3s\n",
      "318:\tlearn: 0.6401785\ttotal: 5.27s\tremaining: 11.2s\n",
      "319:\tlearn: 0.6401094\ttotal: 5.29s\tremaining: 11.2s\n",
      "320:\tlearn: 0.6400554\ttotal: 5.3s\tremaining: 11.2s\n",
      "321:\tlearn: 0.6399668\ttotal: 5.32s\tremaining: 11.2s\n",
      "322:\tlearn: 0.6398779\ttotal: 5.34s\tremaining: 11.2s\n",
      "323:\tlearn: 0.6398038\ttotal: 5.35s\tremaining: 11.2s\n",
      "324:\tlearn: 0.6397663\ttotal: 5.38s\tremaining: 11.2s\n",
      "325:\tlearn: 0.6396959\ttotal: 5.39s\tremaining: 11.1s\n",
      "326:\tlearn: 0.6396357\ttotal: 5.41s\tremaining: 11.1s\n",
      "327:\tlearn: 0.6395678\ttotal: 5.42s\tremaining: 11.1s\n",
      "328:\tlearn: 0.6394836\ttotal: 5.43s\tremaining: 11.1s\n",
      "329:\tlearn: 0.6394040\ttotal: 5.46s\tremaining: 11.1s\n",
      "330:\tlearn: 0.6393724\ttotal: 5.49s\tremaining: 11.1s\n",
      "331:\tlearn: 0.6392573\ttotal: 5.52s\tremaining: 11.1s\n",
      "332:\tlearn: 0.6392166\ttotal: 5.54s\tremaining: 11.1s\n",
      "333:\tlearn: 0.6391360\ttotal: 5.55s\tremaining: 11.1s\n",
      "334:\tlearn: 0.6390946\ttotal: 5.56s\tremaining: 11s\n",
      "335:\tlearn: 0.6390209\ttotal: 5.57s\tremaining: 11s\n",
      "336:\tlearn: 0.6389799\ttotal: 5.58s\tremaining: 11s\n",
      "337:\tlearn: 0.6389154\ttotal: 5.6s\tremaining: 11s\n",
      "338:\tlearn: 0.6388490\ttotal: 5.61s\tremaining: 10.9s\n",
      "339:\tlearn: 0.6387956\ttotal: 5.63s\tremaining: 10.9s\n",
      "340:\tlearn: 0.6387717\ttotal: 5.64s\tremaining: 10.9s\n",
      "341:\tlearn: 0.6387264\ttotal: 5.67s\tremaining: 10.9s\n",
      "342:\tlearn: 0.6387018\ttotal: 5.7s\tremaining: 10.9s\n",
      "343:\tlearn: 0.6386519\ttotal: 5.72s\tremaining: 10.9s\n",
      "344:\tlearn: 0.6386244\ttotal: 5.73s\tremaining: 10.9s\n",
      "345:\tlearn: 0.6385390\ttotal: 5.76s\tremaining: 10.9s\n",
      "346:\tlearn: 0.6384640\ttotal: 5.78s\tremaining: 10.9s\n",
      "347:\tlearn: 0.6384296\ttotal: 5.79s\tremaining: 10.9s\n",
      "348:\tlearn: 0.6383666\ttotal: 5.83s\tremaining: 10.9s\n",
      "349:\tlearn: 0.6383166\ttotal: 5.84s\tremaining: 10.9s\n",
      "350:\tlearn: 0.6382450\ttotal: 5.87s\tremaining: 10.9s\n",
      "351:\tlearn: 0.6381968\ttotal: 5.88s\tremaining: 10.8s\n",
      "352:\tlearn: 0.6381429\ttotal: 5.9s\tremaining: 10.8s\n",
      "353:\tlearn: 0.6380813\ttotal: 5.91s\tremaining: 10.8s\n",
      "354:\tlearn: 0.6380582\ttotal: 5.93s\tremaining: 10.8s\n",
      "355:\tlearn: 0.6380105\ttotal: 5.95s\tremaining: 10.8s\n",
      "356:\tlearn: 0.6379783\ttotal: 5.96s\tremaining: 10.7s\n",
      "357:\tlearn: 0.6379368\ttotal: 5.98s\tremaining: 10.7s\n",
      "358:\tlearn: 0.6378952\ttotal: 6s\tremaining: 10.7s\n",
      "359:\tlearn: 0.6378017\ttotal: 6.01s\tremaining: 10.7s\n",
      "360:\tlearn: 0.6377102\ttotal: 6.02s\tremaining: 10.7s\n",
      "361:\tlearn: 0.6376006\ttotal: 6.04s\tremaining: 10.7s\n",
      "362:\tlearn: 0.6374741\ttotal: 6.05s\tremaining: 10.6s\n",
      "363:\tlearn: 0.6373886\ttotal: 6.06s\tremaining: 10.6s\n",
      "364:\tlearn: 0.6373058\ttotal: 6.07s\tremaining: 10.6s\n",
      "365:\tlearn: 0.6372606\ttotal: 6.09s\tremaining: 10.6s\n",
      "366:\tlearn: 0.6372148\ttotal: 6.13s\tremaining: 10.6s\n",
      "367:\tlearn: 0.6371695\ttotal: 6.14s\tremaining: 10.5s\n",
      "368:\tlearn: 0.6370897\ttotal: 6.15s\tremaining: 10.5s\n",
      "369:\tlearn: 0.6370038\ttotal: 6.16s\tremaining: 10.5s\n",
      "370:\tlearn: 0.6369577\ttotal: 6.17s\tremaining: 10.5s\n",
      "371:\tlearn: 0.6368952\ttotal: 6.19s\tremaining: 10.4s\n",
      "372:\tlearn: 0.6368259\ttotal: 6.2s\tremaining: 10.4s\n",
      "373:\tlearn: 0.6367890\ttotal: 6.21s\tremaining: 10.4s\n",
      "374:\tlearn: 0.6367289\ttotal: 6.22s\tremaining: 10.4s\n",
      "375:\tlearn: 0.6366325\ttotal: 6.24s\tremaining: 10.4s\n",
      "376:\tlearn: 0.6365375\ttotal: 6.27s\tremaining: 10.4s\n",
      "377:\tlearn: 0.6365131\ttotal: 6.28s\tremaining: 10.3s\n",
      "378:\tlearn: 0.6364732\ttotal: 6.3s\tremaining: 10.3s\n",
      "379:\tlearn: 0.6364244\ttotal: 6.33s\tremaining: 10.3s\n",
      "380:\tlearn: 0.6363912\ttotal: 6.36s\tremaining: 10.3s\n",
      "381:\tlearn: 0.6363246\ttotal: 6.37s\tremaining: 10.3s\n",
      "382:\tlearn: 0.6362734\ttotal: 6.4s\tremaining: 10.3s\n",
      "383:\tlearn: 0.6362145\ttotal: 6.41s\tremaining: 10.3s\n",
      "384:\tlearn: 0.6361580\ttotal: 6.42s\tremaining: 10.3s\n",
      "385:\tlearn: 0.6360812\ttotal: 6.45s\tremaining: 10.3s\n",
      "386:\tlearn: 0.6360224\ttotal: 6.47s\tremaining: 10.2s\n",
      "387:\tlearn: 0.6359706\ttotal: 6.5s\tremaining: 10.3s\n",
      "388:\tlearn: 0.6359506\ttotal: 6.52s\tremaining: 10.2s\n",
      "389:\tlearn: 0.6359097\ttotal: 6.52s\tremaining: 10.2s\n",
      "390:\tlearn: 0.6358290\ttotal: 6.54s\tremaining: 10.2s\n",
      "391:\tlearn: 0.6357839\ttotal: 6.55s\tremaining: 10.2s\n",
      "392:\tlearn: 0.6357045\ttotal: 6.56s\tremaining: 10.1s\n",
      "393:\tlearn: 0.6356116\ttotal: 6.57s\tremaining: 10.1s\n",
      "394:\tlearn: 0.6355617\ttotal: 6.58s\tremaining: 10.1s\n",
      "395:\tlearn: 0.6355010\ttotal: 6.61s\tremaining: 10.1s\n",
      "396:\tlearn: 0.6354649\ttotal: 6.61s\tremaining: 10s\n",
      "397:\tlearn: 0.6354178\ttotal: 6.62s\tremaining: 10s\n",
      "398:\tlearn: 0.6353634\ttotal: 6.64s\tremaining: 10s\n",
      "399:\tlearn: 0.6352914\ttotal: 6.65s\tremaining: 9.97s\n",
      "400:\tlearn: 0.6352569\ttotal: 6.66s\tremaining: 9.94s\n",
      "401:\tlearn: 0.6351789\ttotal: 6.67s\tremaining: 9.91s\n",
      "402:\tlearn: 0.6351010\ttotal: 6.68s\tremaining: 9.9s\n",
      "403:\tlearn: 0.6350434\ttotal: 6.72s\tremaining: 9.91s\n",
      "404:\tlearn: 0.6349751\ttotal: 6.73s\tremaining: 9.89s\n",
      "405:\tlearn: 0.6349272\ttotal: 6.74s\tremaining: 9.86s\n",
      "406:\tlearn: 0.6348934\ttotal: 6.75s\tremaining: 9.83s\n",
      "407:\tlearn: 0.6348455\ttotal: 6.76s\tremaining: 9.81s\n",
      "408:\tlearn: 0.6347746\ttotal: 6.78s\tremaining: 9.79s\n",
      "409:\tlearn: 0.6347155\ttotal: 6.79s\tremaining: 9.78s\n",
      "410:\tlearn: 0.6346396\ttotal: 6.81s\tremaining: 9.76s\n",
      "411:\tlearn: 0.6345849\ttotal: 6.83s\tremaining: 9.74s\n",
      "412:\tlearn: 0.6345376\ttotal: 6.84s\tremaining: 9.72s\n",
      "413:\tlearn: 0.6344855\ttotal: 6.87s\tremaining: 9.73s\n",
      "414:\tlearn: 0.6344574\ttotal: 6.89s\tremaining: 9.71s\n",
      "415:\tlearn: 0.6343754\ttotal: 6.9s\tremaining: 9.69s\n",
      "416:\tlearn: 0.6343324\ttotal: 6.91s\tremaining: 9.66s\n",
      "417:\tlearn: 0.6342938\ttotal: 6.93s\tremaining: 9.65s\n",
      "418:\tlearn: 0.6342549\ttotal: 6.95s\tremaining: 9.63s\n",
      "419:\tlearn: 0.6342137\ttotal: 6.96s\tremaining: 9.62s\n",
      "420:\tlearn: 0.6341375\ttotal: 6.97s\tremaining: 9.59s\n",
      "421:\tlearn: 0.6340882\ttotal: 7s\tremaining: 9.59s\n",
      "422:\tlearn: 0.6340193\ttotal: 7.01s\tremaining: 9.56s\n",
      "423:\tlearn: 0.6339870\ttotal: 7.02s\tremaining: 9.54s\n",
      "424:\tlearn: 0.6339492\ttotal: 7.03s\tremaining: 9.51s\n",
      "425:\tlearn: 0.6339047\ttotal: 7.04s\tremaining: 9.49s\n",
      "426:\tlearn: 0.6338618\ttotal: 7.05s\tremaining: 9.47s\n",
      "427:\tlearn: 0.6338401\ttotal: 7.06s\tremaining: 9.44s\n",
      "428:\tlearn: 0.6337911\ttotal: 7.08s\tremaining: 9.42s\n",
      "429:\tlearn: 0.6337387\ttotal: 7.09s\tremaining: 9.39s\n",
      "430:\tlearn: 0.6337046\ttotal: 7.12s\tremaining: 9.4s\n",
      "431:\tlearn: 0.6336507\ttotal: 7.13s\tremaining: 9.38s\n",
      "432:\tlearn: 0.6336294\ttotal: 7.14s\tremaining: 9.35s\n",
      "433:\tlearn: 0.6335644\ttotal: 7.15s\tremaining: 9.33s\n",
      "434:\tlearn: 0.6335345\ttotal: 7.16s\tremaining: 9.3s\n",
      "435:\tlearn: 0.6334981\ttotal: 7.17s\tremaining: 9.28s\n",
      "436:\tlearn: 0.6334446\ttotal: 7.18s\tremaining: 9.25s\n",
      "437:\tlearn: 0.6334007\ttotal: 7.19s\tremaining: 9.22s\n",
      "438:\tlearn: 0.6333201\ttotal: 7.2s\tremaining: 9.2s\n",
      "439:\tlearn: 0.6332483\ttotal: 7.21s\tremaining: 9.18s\n",
      "440:\tlearn: 0.6331743\ttotal: 7.22s\tremaining: 9.16s\n",
      "441:\tlearn: 0.6331076\ttotal: 7.24s\tremaining: 9.14s\n",
      "442:\tlearn: 0.6330331\ttotal: 7.25s\tremaining: 9.12s\n",
      "443:\tlearn: 0.6329760\ttotal: 7.26s\tremaining: 9.1s\n",
      "444:\tlearn: 0.6329089\ttotal: 7.28s\tremaining: 9.08s\n",
      "445:\tlearn: 0.6328660\ttotal: 7.29s\tremaining: 9.05s\n",
      "446:\tlearn: 0.6328153\ttotal: 7.3s\tremaining: 9.03s\n",
      "447:\tlearn: 0.6327554\ttotal: 7.31s\tremaining: 9s\n",
      "448:\tlearn: 0.6327039\ttotal: 7.32s\tremaining: 8.98s\n",
      "449:\tlearn: 0.6326635\ttotal: 7.33s\tremaining: 8.96s\n",
      "450:\tlearn: 0.6326162\ttotal: 7.33s\tremaining: 8.93s\n",
      "451:\tlearn: 0.6325893\ttotal: 7.35s\tremaining: 8.91s\n",
      "452:\tlearn: 0.6325458\ttotal: 7.36s\tremaining: 8.89s\n",
      "453:\tlearn: 0.6325108\ttotal: 7.37s\tremaining: 8.86s\n",
      "454:\tlearn: 0.6324841\ttotal: 7.38s\tremaining: 8.84s\n",
      "455:\tlearn: 0.6324394\ttotal: 7.39s\tremaining: 8.81s\n",
      "456:\tlearn: 0.6323921\ttotal: 7.4s\tremaining: 8.79s\n",
      "457:\tlearn: 0.6323463\ttotal: 7.41s\tremaining: 8.77s\n",
      "458:\tlearn: 0.6322388\ttotal: 7.42s\tremaining: 8.75s\n",
      "459:\tlearn: 0.6321833\ttotal: 7.44s\tremaining: 8.74s\n",
      "460:\tlearn: 0.6321635\ttotal: 7.45s\tremaining: 8.72s\n",
      "461:\tlearn: 0.6321289\ttotal: 7.46s\tremaining: 8.69s\n",
      "462:\tlearn: 0.6320823\ttotal: 7.48s\tremaining: 8.67s\n",
      "463:\tlearn: 0.6319727\ttotal: 7.49s\tremaining: 8.65s\n",
      "464:\tlearn: 0.6319316\ttotal: 7.5s\tremaining: 8.63s\n",
      "465:\tlearn: 0.6318686\ttotal: 7.52s\tremaining: 8.62s\n",
      "466:\tlearn: 0.6318273\ttotal: 7.53s\tremaining: 8.59s\n",
      "467:\tlearn: 0.6317824\ttotal: 7.54s\tremaining: 8.57s\n",
      "468:\tlearn: 0.6317322\ttotal: 7.55s\tremaining: 8.54s\n",
      "469:\tlearn: 0.6316862\ttotal: 7.56s\tremaining: 8.53s\n",
      "470:\tlearn: 0.6316214\ttotal: 7.58s\tremaining: 8.51s\n",
      "471:\tlearn: 0.6315828\ttotal: 7.59s\tremaining: 8.49s\n",
      "472:\tlearn: 0.6315270\ttotal: 7.6s\tremaining: 8.47s\n",
      "473:\tlearn: 0.6314916\ttotal: 7.61s\tremaining: 8.44s\n",
      "474:\tlearn: 0.6314699\ttotal: 7.62s\tremaining: 8.42s\n",
      "475:\tlearn: 0.6314122\ttotal: 7.64s\tremaining: 8.41s\n",
      "476:\tlearn: 0.6313479\ttotal: 7.64s\tremaining: 8.38s\n",
      "477:\tlearn: 0.6313181\ttotal: 7.65s\tremaining: 8.36s\n",
      "478:\tlearn: 0.6312428\ttotal: 7.67s\tremaining: 8.34s\n",
      "479:\tlearn: 0.6311713\ttotal: 7.68s\tremaining: 8.33s\n",
      "480:\tlearn: 0.6311249\ttotal: 7.7s\tremaining: 8.31s\n",
      "481:\tlearn: 0.6310944\ttotal: 7.72s\tremaining: 8.29s\n",
      "482:\tlearn: 0.6310605\ttotal: 7.72s\tremaining: 8.27s\n",
      "483:\tlearn: 0.6310150\ttotal: 7.73s\tremaining: 8.24s\n",
      "484:\tlearn: 0.6309161\ttotal: 7.75s\tremaining: 8.23s\n",
      "485:\tlearn: 0.6308744\ttotal: 7.76s\tremaining: 8.21s\n",
      "486:\tlearn: 0.6308410\ttotal: 7.77s\tremaining: 8.19s\n",
      "487:\tlearn: 0.6307513\ttotal: 7.78s\tremaining: 8.17s\n",
      "488:\tlearn: 0.6306840\ttotal: 7.8s\tremaining: 8.16s\n",
      "489:\tlearn: 0.6306332\ttotal: 7.83s\tremaining: 8.15s\n",
      "490:\tlearn: 0.6305806\ttotal: 7.88s\tremaining: 8.17s\n",
      "491:\tlearn: 0.6305406\ttotal: 7.9s\tremaining: 8.15s\n",
      "492:\tlearn: 0.6304693\ttotal: 7.91s\tremaining: 8.13s\n",
      "493:\tlearn: 0.6304314\ttotal: 7.91s\tremaining: 8.11s\n",
      "494:\tlearn: 0.6304116\ttotal: 7.93s\tremaining: 8.09s\n",
      "495:\tlearn: 0.6303766\ttotal: 7.96s\tremaining: 8.09s\n",
      "496:\tlearn: 0.6303547\ttotal: 7.97s\tremaining: 8.07s\n",
      "497:\tlearn: 0.6302900\ttotal: 7.98s\tremaining: 8.04s\n",
      "498:\tlearn: 0.6302514\ttotal: 8s\tremaining: 8.04s\n",
      "499:\tlearn: 0.6302034\ttotal: 8.01s\tremaining: 8.01s\n",
      "500:\tlearn: 0.6301492\ttotal: 8.03s\tremaining: 8s\n",
      "501:\tlearn: 0.6301037\ttotal: 8.05s\tremaining: 7.99s\n",
      "502:\tlearn: 0.6300352\ttotal: 8.07s\tremaining: 7.97s\n",
      "503:\tlearn: 0.6299852\ttotal: 8.1s\tremaining: 7.97s\n",
      "504:\tlearn: 0.6299529\ttotal: 8.11s\tremaining: 7.95s\n",
      "505:\tlearn: 0.6299153\ttotal: 8.13s\tremaining: 7.93s\n",
      "506:\tlearn: 0.6298840\ttotal: 8.13s\tremaining: 7.91s\n",
      "507:\tlearn: 0.6298286\ttotal: 8.14s\tremaining: 7.88s\n",
      "508:\tlearn: 0.6297749\ttotal: 8.16s\tremaining: 7.87s\n",
      "509:\tlearn: 0.6297302\ttotal: 8.17s\tremaining: 7.85s\n",
      "510:\tlearn: 0.6297028\ttotal: 8.18s\tremaining: 7.82s\n",
      "511:\tlearn: 0.6296560\ttotal: 8.18s\tremaining: 7.8s\n",
      "512:\tlearn: 0.6296171\ttotal: 8.21s\tremaining: 7.79s\n",
      "513:\tlearn: 0.6295767\ttotal: 8.22s\tremaining: 7.77s\n",
      "514:\tlearn: 0.6295561\ttotal: 8.24s\tremaining: 7.76s\n",
      "515:\tlearn: 0.6294822\ttotal: 8.25s\tremaining: 7.74s\n",
      "516:\tlearn: 0.6294271\ttotal: 8.26s\tremaining: 7.71s\n",
      "517:\tlearn: 0.6293963\ttotal: 8.27s\tremaining: 7.69s\n",
      "518:\tlearn: 0.6293683\ttotal: 8.28s\tremaining: 7.67s\n",
      "519:\tlearn: 0.6293082\ttotal: 8.29s\tremaining: 7.65s\n",
      "520:\tlearn: 0.6292570\ttotal: 8.31s\tremaining: 7.64s\n",
      "521:\tlearn: 0.6291918\ttotal: 8.32s\tremaining: 7.62s\n",
      "522:\tlearn: 0.6291284\ttotal: 8.36s\tremaining: 7.62s\n",
      "523:\tlearn: 0.6291024\ttotal: 8.37s\tremaining: 7.6s\n",
      "524:\tlearn: 0.6290516\ttotal: 8.39s\tremaining: 7.59s\n",
      "525:\tlearn: 0.6290080\ttotal: 8.4s\tremaining: 7.57s\n",
      "526:\tlearn: 0.6289640\ttotal: 8.41s\tremaining: 7.55s\n",
      "527:\tlearn: 0.6289293\ttotal: 8.42s\tremaining: 7.53s\n",
      "528:\tlearn: 0.6288903\ttotal: 8.43s\tremaining: 7.5s\n",
      "529:\tlearn: 0.6288504\ttotal: 8.45s\tremaining: 7.49s\n",
      "530:\tlearn: 0.6287885\ttotal: 8.47s\tremaining: 7.48s\n",
      "531:\tlearn: 0.6287273\ttotal: 8.5s\tremaining: 7.47s\n",
      "532:\tlearn: 0.6286987\ttotal: 8.51s\tremaining: 7.45s\n",
      "533:\tlearn: 0.6286711\ttotal: 8.53s\tremaining: 7.45s\n",
      "534:\tlearn: 0.6286244\ttotal: 8.55s\tremaining: 7.43s\n",
      "535:\tlearn: 0.6285741\ttotal: 8.57s\tremaining: 7.42s\n",
      "536:\tlearn: 0.6285357\ttotal: 8.59s\tremaining: 7.4s\n",
      "537:\tlearn: 0.6285007\ttotal: 8.59s\tremaining: 7.38s\n",
      "538:\tlearn: 0.6284547\ttotal: 8.6s\tremaining: 7.36s\n",
      "539:\tlearn: 0.6284058\ttotal: 8.61s\tremaining: 7.33s\n",
      "540:\tlearn: 0.6283555\ttotal: 8.62s\tremaining: 7.31s\n",
      "541:\tlearn: 0.6282848\ttotal: 8.63s\tremaining: 7.29s\n",
      "542:\tlearn: 0.6282559\ttotal: 8.66s\tremaining: 7.29s\n",
      "543:\tlearn: 0.6281788\ttotal: 8.68s\tremaining: 7.27s\n",
      "544:\tlearn: 0.6281083\ttotal: 8.69s\tremaining: 7.26s\n",
      "545:\tlearn: 0.6280602\ttotal: 8.71s\tremaining: 7.24s\n",
      "546:\tlearn: 0.6280174\ttotal: 8.72s\tremaining: 7.22s\n",
      "547:\tlearn: 0.6279906\ttotal: 8.73s\tremaining: 7.2s\n",
      "548:\tlearn: 0.6279586\ttotal: 8.74s\tremaining: 7.18s\n",
      "549:\tlearn: 0.6279163\ttotal: 8.75s\tremaining: 7.16s\n",
      "550:\tlearn: 0.6278854\ttotal: 8.75s\tremaining: 7.13s\n",
      "551:\tlearn: 0.6278430\ttotal: 8.76s\tremaining: 7.11s\n",
      "552:\tlearn: 0.6277911\ttotal: 8.8s\tremaining: 7.11s\n",
      "553:\tlearn: 0.6277454\ttotal: 8.83s\tremaining: 7.11s\n",
      "554:\tlearn: 0.6277057\ttotal: 8.85s\tremaining: 7.09s\n",
      "555:\tlearn: 0.6276634\ttotal: 8.85s\tremaining: 7.07s\n",
      "556:\tlearn: 0.6275946\ttotal: 8.86s\tremaining: 7.05s\n",
      "557:\tlearn: 0.6275504\ttotal: 8.87s\tremaining: 7.03s\n",
      "558:\tlearn: 0.6275261\ttotal: 8.88s\tremaining: 7s\n",
      "559:\tlearn: 0.6274729\ttotal: 8.88s\tremaining: 6.98s\n",
      "560:\tlearn: 0.6274249\ttotal: 8.89s\tremaining: 6.96s\n",
      "561:\tlearn: 0.6273888\ttotal: 8.9s\tremaining: 6.93s\n",
      "562:\tlearn: 0.6273276\ttotal: 8.9s\tremaining: 6.91s\n",
      "563:\tlearn: 0.6272748\ttotal: 8.92s\tremaining: 6.9s\n",
      "564:\tlearn: 0.6272423\ttotal: 8.94s\tremaining: 6.88s\n",
      "565:\tlearn: 0.6272003\ttotal: 8.95s\tremaining: 6.86s\n",
      "566:\tlearn: 0.6271567\ttotal: 8.97s\tremaining: 6.85s\n",
      "567:\tlearn: 0.6270760\ttotal: 8.97s\tremaining: 6.83s\n",
      "568:\tlearn: 0.6270469\ttotal: 9s\tremaining: 6.81s\n",
      "569:\tlearn: 0.6270059\ttotal: 9s\tremaining: 6.79s\n",
      "570:\tlearn: 0.6269600\ttotal: 9.03s\tremaining: 6.78s\n",
      "571:\tlearn: 0.6269036\ttotal: 9.03s\tremaining: 6.76s\n",
      "572:\tlearn: 0.6268573\ttotal: 9.04s\tremaining: 6.74s\n",
      "573:\tlearn: 0.6268193\ttotal: 9.05s\tremaining: 6.72s\n",
      "574:\tlearn: 0.6267975\ttotal: 9.06s\tremaining: 6.69s\n",
      "575:\tlearn: 0.6267232\ttotal: 9.09s\tremaining: 6.69s\n",
      "576:\tlearn: 0.6266678\ttotal: 9.1s\tremaining: 6.67s\n",
      "577:\tlearn: 0.6266293\ttotal: 9.11s\tremaining: 6.65s\n",
      "578:\tlearn: 0.6266087\ttotal: 9.11s\tremaining: 6.62s\n",
      "579:\tlearn: 0.6265626\ttotal: 9.12s\tremaining: 6.6s\n",
      "580:\tlearn: 0.6264949\ttotal: 9.14s\tremaining: 6.59s\n",
      "581:\tlearn: 0.6264743\ttotal: 9.17s\tremaining: 6.58s\n",
      "582:\tlearn: 0.6264490\ttotal: 9.18s\tremaining: 6.56s\n",
      "583:\tlearn: 0.6263921\ttotal: 9.18s\tremaining: 6.54s\n",
      "584:\tlearn: 0.6263494\ttotal: 9.19s\tremaining: 6.52s\n",
      "585:\tlearn: 0.6262919\ttotal: 9.22s\tremaining: 6.51s\n",
      "586:\tlearn: 0.6262323\ttotal: 9.22s\tremaining: 6.49s\n",
      "587:\tlearn: 0.6262112\ttotal: 9.25s\tremaining: 6.48s\n",
      "588:\tlearn: 0.6261727\ttotal: 9.26s\tremaining: 6.46s\n",
      "589:\tlearn: 0.6261254\ttotal: 9.27s\tremaining: 6.44s\n",
      "590:\tlearn: 0.6260688\ttotal: 9.29s\tremaining: 6.43s\n",
      "591:\tlearn: 0.6260335\ttotal: 9.3s\tremaining: 6.41s\n",
      "592:\tlearn: 0.6260108\ttotal: 9.32s\tremaining: 6.4s\n",
      "593:\tlearn: 0.6259671\ttotal: 9.35s\tremaining: 6.39s\n",
      "594:\tlearn: 0.6259138\ttotal: 9.36s\tremaining: 6.37s\n",
      "595:\tlearn: 0.6258832\ttotal: 9.37s\tremaining: 6.35s\n",
      "596:\tlearn: 0.6258525\ttotal: 9.37s\tremaining: 6.33s\n",
      "597:\tlearn: 0.6258108\ttotal: 9.38s\tremaining: 6.31s\n",
      "598:\tlearn: 0.6257350\ttotal: 9.41s\tremaining: 6.3s\n",
      "599:\tlearn: 0.6256733\ttotal: 9.43s\tremaining: 6.29s\n",
      "600:\tlearn: 0.6256530\ttotal: 9.45s\tremaining: 6.27s\n",
      "601:\tlearn: 0.6256085\ttotal: 9.46s\tremaining: 6.25s\n",
      "602:\tlearn: 0.6255633\ttotal: 9.47s\tremaining: 6.24s\n",
      "603:\tlearn: 0.6255283\ttotal: 9.51s\tremaining: 6.23s\n",
      "604:\tlearn: 0.6254764\ttotal: 9.51s\tremaining: 6.21s\n",
      "605:\tlearn: 0.6254166\ttotal: 9.54s\tremaining: 6.2s\n",
      "606:\tlearn: 0.6253741\ttotal: 9.54s\tremaining: 6.18s\n",
      "607:\tlearn: 0.6253358\ttotal: 9.55s\tremaining: 6.16s\n",
      "608:\tlearn: 0.6252916\ttotal: 9.56s\tremaining: 6.14s\n",
      "609:\tlearn: 0.6252514\ttotal: 9.57s\tremaining: 6.12s\n",
      "610:\tlearn: 0.6252141\ttotal: 9.61s\tremaining: 6.12s\n",
      "611:\tlearn: 0.6251997\ttotal: 9.62s\tremaining: 6.1s\n",
      "612:\tlearn: 0.6251783\ttotal: 9.64s\tremaining: 6.09s\n",
      "613:\tlearn: 0.6251441\ttotal: 9.65s\tremaining: 6.07s\n",
      "614:\tlearn: 0.6250947\ttotal: 9.66s\tremaining: 6.05s\n",
      "615:\tlearn: 0.6250350\ttotal: 9.68s\tremaining: 6.03s\n",
      "616:\tlearn: 0.6249912\ttotal: 9.71s\tremaining: 6.03s\n",
      "617:\tlearn: 0.6249393\ttotal: 9.72s\tremaining: 6.01s\n",
      "618:\tlearn: 0.6249008\ttotal: 9.73s\tremaining: 5.99s\n",
      "619:\tlearn: 0.6248561\ttotal: 9.74s\tremaining: 5.97s\n",
      "620:\tlearn: 0.6247860\ttotal: 9.76s\tremaining: 5.96s\n",
      "621:\tlearn: 0.6247549\ttotal: 9.77s\tremaining: 5.94s\n",
      "622:\tlearn: 0.6247070\ttotal: 9.78s\tremaining: 5.92s\n",
      "623:\tlearn: 0.6246415\ttotal: 9.78s\tremaining: 5.89s\n",
      "624:\tlearn: 0.6246299\ttotal: 9.79s\tremaining: 5.87s\n",
      "625:\tlearn: 0.6245823\ttotal: 9.81s\tremaining: 5.86s\n",
      "626:\tlearn: 0.6245605\ttotal: 9.81s\tremaining: 5.84s\n",
      "627:\tlearn: 0.6245288\ttotal: 9.82s\tremaining: 5.82s\n",
      "628:\tlearn: 0.6244714\ttotal: 9.84s\tremaining: 5.8s\n",
      "629:\tlearn: 0.6244192\ttotal: 9.85s\tremaining: 5.78s\n",
      "630:\tlearn: 0.6244071\ttotal: 9.87s\tremaining: 5.77s\n",
      "631:\tlearn: 0.6243607\ttotal: 9.87s\tremaining: 5.75s\n",
      "632:\tlearn: 0.6243112\ttotal: 9.91s\tremaining: 5.75s\n",
      "633:\tlearn: 0.6242681\ttotal: 9.92s\tremaining: 5.72s\n",
      "634:\tlearn: 0.6242215\ttotal: 9.92s\tremaining: 5.7s\n",
      "635:\tlearn: 0.6242027\ttotal: 9.94s\tremaining: 5.69s\n",
      "636:\tlearn: 0.6241789\ttotal: 9.94s\tremaining: 5.67s\n",
      "637:\tlearn: 0.6241684\ttotal: 9.95s\tremaining: 5.64s\n",
      "638:\tlearn: 0.6241074\ttotal: 9.96s\tremaining: 5.63s\n",
      "639:\tlearn: 0.6240428\ttotal: 9.98s\tremaining: 5.61s\n",
      "640:\tlearn: 0.6240239\ttotal: 9.99s\tremaining: 5.59s\n",
      "641:\tlearn: 0.6240011\ttotal: 10s\tremaining: 5.58s\n",
      "642:\tlearn: 0.6239417\ttotal: 10s\tremaining: 5.57s\n",
      "643:\tlearn: 0.6239223\ttotal: 10s\tremaining: 5.55s\n",
      "644:\tlearn: 0.6238975\ttotal: 10.1s\tremaining: 5.53s\n",
      "645:\tlearn: 0.6238483\ttotal: 10.1s\tremaining: 5.52s\n",
      "646:\tlearn: 0.6237960\ttotal: 10.1s\tremaining: 5.5s\n",
      "647:\tlearn: 0.6237401\ttotal: 10.1s\tremaining: 5.48s\n",
      "648:\tlearn: 0.6237036\ttotal: 10.1s\tremaining: 5.46s\n",
      "649:\tlearn: 0.6236884\ttotal: 10.1s\tremaining: 5.46s\n",
      "650:\tlearn: 0.6236661\ttotal: 10.1s\tremaining: 5.44s\n",
      "651:\tlearn: 0.6236235\ttotal: 10.2s\tremaining: 5.42s\n",
      "652:\tlearn: 0.6235957\ttotal: 10.2s\tremaining: 5.41s\n",
      "653:\tlearn: 0.6235393\ttotal: 10.2s\tremaining: 5.39s\n",
      "654:\tlearn: 0.6234991\ttotal: 10.2s\tremaining: 5.38s\n",
      "655:\tlearn: 0.6234768\ttotal: 10.2s\tremaining: 5.36s\n",
      "656:\tlearn: 0.6234412\ttotal: 10.2s\tremaining: 5.34s\n",
      "657:\tlearn: 0.6234009\ttotal: 10.3s\tremaining: 5.33s\n",
      "658:\tlearn: 0.6233377\ttotal: 10.3s\tremaining: 5.32s\n",
      "659:\tlearn: 0.6233020\ttotal: 10.3s\tremaining: 5.3s\n",
      "660:\tlearn: 0.6232896\ttotal: 10.3s\tremaining: 5.29s\n",
      "661:\tlearn: 0.6232368\ttotal: 10.3s\tremaining: 5.28s\n",
      "662:\tlearn: 0.6232211\ttotal: 10.4s\tremaining: 5.26s\n",
      "663:\tlearn: 0.6231953\ttotal: 10.4s\tremaining: 5.25s\n",
      "664:\tlearn: 0.6231658\ttotal: 10.4s\tremaining: 5.23s\n",
      "665:\tlearn: 0.6231271\ttotal: 10.4s\tremaining: 5.21s\n",
      "666:\tlearn: 0.6230971\ttotal: 10.4s\tremaining: 5.2s\n",
      "667:\tlearn: 0.6230572\ttotal: 10.4s\tremaining: 5.18s\n",
      "668:\tlearn: 0.6230124\ttotal: 10.4s\tremaining: 5.16s\n",
      "669:\tlearn: 0.6229933\ttotal: 10.5s\tremaining: 5.16s\n",
      "670:\tlearn: 0.6229692\ttotal: 10.5s\tremaining: 5.14s\n",
      "671:\tlearn: 0.6229233\ttotal: 10.5s\tremaining: 5.12s\n",
      "672:\tlearn: 0.6228793\ttotal: 10.5s\tremaining: 5.11s\n",
      "673:\tlearn: 0.6228210\ttotal: 10.5s\tremaining: 5.09s\n",
      "674:\tlearn: 0.6227767\ttotal: 10.5s\tremaining: 5.08s\n",
      "675:\tlearn: 0.6227470\ttotal: 10.6s\tremaining: 5.06s\n",
      "676:\tlearn: 0.6227016\ttotal: 10.6s\tremaining: 5.04s\n",
      "677:\tlearn: 0.6226634\ttotal: 10.6s\tremaining: 5.02s\n",
      "678:\tlearn: 0.6226329\ttotal: 10.6s\tremaining: 5.01s\n",
      "679:\tlearn: 0.6225911\ttotal: 10.6s\tremaining: 5s\n",
      "680:\tlearn: 0.6225685\ttotal: 10.7s\tremaining: 4.99s\n",
      "681:\tlearn: 0.6225347\ttotal: 10.7s\tremaining: 4.98s\n",
      "682:\tlearn: 0.6225046\ttotal: 10.7s\tremaining: 4.96s\n",
      "683:\tlearn: 0.6224381\ttotal: 10.7s\tremaining: 4.95s\n",
      "684:\tlearn: 0.6224053\ttotal: 10.7s\tremaining: 4.93s\n",
      "685:\tlearn: 0.6223748\ttotal: 10.7s\tremaining: 4.91s\n",
      "686:\tlearn: 0.6223440\ttotal: 10.7s\tremaining: 4.89s\n",
      "687:\tlearn: 0.6222987\ttotal: 10.8s\tremaining: 4.88s\n",
      "688:\tlearn: 0.6222851\ttotal: 10.8s\tremaining: 4.86s\n",
      "689:\tlearn: 0.6222599\ttotal: 10.8s\tremaining: 4.84s\n",
      "690:\tlearn: 0.6222427\ttotal: 10.8s\tremaining: 4.83s\n",
      "691:\tlearn: 0.6221985\ttotal: 10.8s\tremaining: 4.82s\n",
      "692:\tlearn: 0.6221404\ttotal: 10.8s\tremaining: 4.8s\n",
      "693:\tlearn: 0.6221199\ttotal: 10.8s\tremaining: 4.78s\n",
      "694:\tlearn: 0.6220794\ttotal: 10.9s\tremaining: 4.77s\n",
      "695:\tlearn: 0.6220518\ttotal: 10.9s\tremaining: 4.76s\n",
      "696:\tlearn: 0.6220027\ttotal: 10.9s\tremaining: 4.74s\n",
      "697:\tlearn: 0.6219855\ttotal: 10.9s\tremaining: 4.73s\n",
      "698:\tlearn: 0.6219402\ttotal: 10.9s\tremaining: 4.71s\n",
      "699:\tlearn: 0.6218962\ttotal: 11s\tremaining: 4.7s\n",
      "700:\tlearn: 0.6218394\ttotal: 11s\tremaining: 4.68s\n",
      "701:\tlearn: 0.6218141\ttotal: 11s\tremaining: 4.66s\n",
      "702:\tlearn: 0.6217882\ttotal: 11s\tremaining: 4.65s\n",
      "703:\tlearn: 0.6217512\ttotal: 11.1s\tremaining: 4.65s\n",
      "704:\tlearn: 0.6216959\ttotal: 11.1s\tremaining: 4.64s\n",
      "705:\tlearn: 0.6216638\ttotal: 11.1s\tremaining: 4.62s\n",
      "706:\tlearn: 0.6216376\ttotal: 11.1s\tremaining: 4.6s\n",
      "707:\tlearn: 0.6216019\ttotal: 11.1s\tremaining: 4.59s\n",
      "708:\tlearn: 0.6215770\ttotal: 11.1s\tremaining: 4.58s\n",
      "709:\tlearn: 0.6215429\ttotal: 11.2s\tremaining: 4.56s\n",
      "710:\tlearn: 0.6215020\ttotal: 11.2s\tremaining: 4.55s\n",
      "711:\tlearn: 0.6214775\ttotal: 11.2s\tremaining: 4.53s\n",
      "712:\tlearn: 0.6214221\ttotal: 11.2s\tremaining: 4.51s\n",
      "713:\tlearn: 0.6213881\ttotal: 11.2s\tremaining: 4.5s\n",
      "714:\tlearn: 0.6213515\ttotal: 11.2s\tremaining: 4.48s\n",
      "715:\tlearn: 0.6212665\ttotal: 11.3s\tremaining: 4.47s\n",
      "716:\tlearn: 0.6212322\ttotal: 11.3s\tremaining: 4.46s\n",
      "717:\tlearn: 0.6211812\ttotal: 11.3s\tremaining: 4.45s\n",
      "718:\tlearn: 0.6211441\ttotal: 11.3s\tremaining: 4.43s\n",
      "719:\tlearn: 0.6211214\ttotal: 11.3s\tremaining: 4.41s\n",
      "720:\tlearn: 0.6210872\ttotal: 11.4s\tremaining: 4.39s\n",
      "721:\tlearn: 0.6210680\ttotal: 11.4s\tremaining: 4.37s\n",
      "722:\tlearn: 0.6210196\ttotal: 11.4s\tremaining: 4.35s\n",
      "723:\tlearn: 0.6209729\ttotal: 11.4s\tremaining: 4.33s\n",
      "724:\tlearn: 0.6209508\ttotal: 11.4s\tremaining: 4.32s\n",
      "725:\tlearn: 0.6209288\ttotal: 11.4s\tremaining: 4.3s\n",
      "726:\tlearn: 0.6209077\ttotal: 11.4s\tremaining: 4.29s\n",
      "727:\tlearn: 0.6208899\ttotal: 11.5s\tremaining: 4.28s\n",
      "728:\tlearn: 0.6208521\ttotal: 11.5s\tremaining: 4.26s\n",
      "729:\tlearn: 0.6208221\ttotal: 11.5s\tremaining: 4.25s\n",
      "730:\tlearn: 0.6207835\ttotal: 11.5s\tremaining: 4.23s\n",
      "731:\tlearn: 0.6207718\ttotal: 11.5s\tremaining: 4.21s\n",
      "732:\tlearn: 0.6207307\ttotal: 11.5s\tremaining: 4.2s\n",
      "733:\tlearn: 0.6207142\ttotal: 11.6s\tremaining: 4.19s\n",
      "734:\tlearn: 0.6206865\ttotal: 11.6s\tremaining: 4.17s\n",
      "735:\tlearn: 0.6206526\ttotal: 11.6s\tremaining: 4.15s\n",
      "736:\tlearn: 0.6205923\ttotal: 11.6s\tremaining: 4.13s\n",
      "737:\tlearn: 0.6205665\ttotal: 11.6s\tremaining: 4.11s\n",
      "738:\tlearn: 0.6205492\ttotal: 11.6s\tremaining: 4.09s\n",
      "739:\tlearn: 0.6205167\ttotal: 11.6s\tremaining: 4.08s\n",
      "740:\tlearn: 0.6205045\ttotal: 11.6s\tremaining: 4.06s\n",
      "741:\tlearn: 0.6204744\ttotal: 11.6s\tremaining: 4.04s\n",
      "742:\tlearn: 0.6204132\ttotal: 11.6s\tremaining: 4.02s\n",
      "743:\tlearn: 0.6203882\ttotal: 11.6s\tremaining: 4.01s\n",
      "744:\tlearn: 0.6203448\ttotal: 11.7s\tremaining: 3.99s\n",
      "745:\tlearn: 0.6203079\ttotal: 11.7s\tremaining: 3.97s\n",
      "746:\tlearn: 0.6202826\ttotal: 11.7s\tremaining: 3.95s\n",
      "747:\tlearn: 0.6202469\ttotal: 11.7s\tremaining: 3.94s\n",
      "748:\tlearn: 0.6202212\ttotal: 11.7s\tremaining: 3.92s\n",
      "749:\tlearn: 0.6201391\ttotal: 11.7s\tremaining: 3.9s\n",
      "750:\tlearn: 0.6201096\ttotal: 11.7s\tremaining: 3.88s\n",
      "751:\tlearn: 0.6200453\ttotal: 11.7s\tremaining: 3.87s\n",
      "752:\tlearn: 0.6199967\ttotal: 11.7s\tremaining: 3.85s\n",
      "753:\tlearn: 0.6199474\ttotal: 11.8s\tremaining: 3.83s\n",
      "754:\tlearn: 0.6199278\ttotal: 11.8s\tremaining: 3.82s\n",
      "755:\tlearn: 0.6198944\ttotal: 11.8s\tremaining: 3.8s\n",
      "756:\tlearn: 0.6198507\ttotal: 11.8s\tremaining: 3.79s\n",
      "757:\tlearn: 0.6198024\ttotal: 11.8s\tremaining: 3.77s\n",
      "758:\tlearn: 0.6197680\ttotal: 11.8s\tremaining: 3.75s\n",
      "759:\tlearn: 0.6197257\ttotal: 11.8s\tremaining: 3.73s\n",
      "760:\tlearn: 0.6196800\ttotal: 11.8s\tremaining: 3.72s\n",
      "761:\tlearn: 0.6196555\ttotal: 11.8s\tremaining: 3.7s\n",
      "762:\tlearn: 0.6196248\ttotal: 11.9s\tremaining: 3.69s\n",
      "763:\tlearn: 0.6195742\ttotal: 11.9s\tremaining: 3.67s\n",
      "764:\tlearn: 0.6195114\ttotal: 11.9s\tremaining: 3.65s\n",
      "765:\tlearn: 0.6194675\ttotal: 11.9s\tremaining: 3.64s\n",
      "766:\tlearn: 0.6194374\ttotal: 11.9s\tremaining: 3.62s\n",
      "767:\tlearn: 0.6194222\ttotal: 12s\tremaining: 3.61s\n",
      "768:\tlearn: 0.6194072\ttotal: 12s\tremaining: 3.59s\n",
      "769:\tlearn: 0.6193953\ttotal: 12s\tremaining: 3.57s\n",
      "770:\tlearn: 0.6193560\ttotal: 12s\tremaining: 3.56s\n",
      "771:\tlearn: 0.6193405\ttotal: 12s\tremaining: 3.54s\n",
      "772:\tlearn: 0.6193100\ttotal: 12s\tremaining: 3.52s\n",
      "773:\tlearn: 0.6192827\ttotal: 12s\tremaining: 3.5s\n",
      "774:\tlearn: 0.6192417\ttotal: 12s\tremaining: 3.48s\n",
      "775:\tlearn: 0.6191769\ttotal: 12s\tremaining: 3.47s\n",
      "776:\tlearn: 0.6191496\ttotal: 12s\tremaining: 3.45s\n",
      "777:\tlearn: 0.6191290\ttotal: 12s\tremaining: 3.44s\n",
      "778:\tlearn: 0.6190846\ttotal: 12.1s\tremaining: 3.42s\n",
      "779:\tlearn: 0.6190706\ttotal: 12.1s\tremaining: 3.4s\n",
      "780:\tlearn: 0.6190414\ttotal: 12.1s\tremaining: 3.39s\n",
      "781:\tlearn: 0.6190211\ttotal: 12.1s\tremaining: 3.37s\n",
      "782:\tlearn: 0.6189769\ttotal: 12.1s\tremaining: 3.35s\n",
      "783:\tlearn: 0.6189382\ttotal: 12.1s\tremaining: 3.35s\n",
      "784:\tlearn: 0.6188931\ttotal: 12.2s\tremaining: 3.33s\n",
      "785:\tlearn: 0.6188442\ttotal: 12.2s\tremaining: 3.32s\n",
      "786:\tlearn: 0.6188251\ttotal: 12.2s\tremaining: 3.3s\n",
      "787:\tlearn: 0.6188033\ttotal: 12.2s\tremaining: 3.29s\n",
      "788:\tlearn: 0.6187676\ttotal: 12.2s\tremaining: 3.27s\n",
      "789:\tlearn: 0.6187262\ttotal: 12.2s\tremaining: 3.25s\n",
      "790:\tlearn: 0.6186895\ttotal: 12.3s\tremaining: 3.24s\n",
      "791:\tlearn: 0.6186629\ttotal: 12.3s\tremaining: 3.22s\n",
      "792:\tlearn: 0.6186444\ttotal: 12.3s\tremaining: 3.21s\n",
      "793:\tlearn: 0.6186062\ttotal: 12.3s\tremaining: 3.19s\n",
      "794:\tlearn: 0.6185798\ttotal: 12.3s\tremaining: 3.17s\n",
      "795:\tlearn: 0.6185633\ttotal: 12.3s\tremaining: 3.15s\n",
      "796:\tlearn: 0.6185263\ttotal: 12.3s\tremaining: 3.13s\n",
      "797:\tlearn: 0.6185069\ttotal: 12.3s\tremaining: 3.12s\n",
      "798:\tlearn: 0.6184689\ttotal: 12.3s\tremaining: 3.1s\n",
      "799:\tlearn: 0.6184354\ttotal: 12.4s\tremaining: 3.09s\n",
      "800:\tlearn: 0.6183992\ttotal: 12.4s\tremaining: 3.07s\n",
      "801:\tlearn: 0.6183721\ttotal: 12.4s\tremaining: 3.06s\n",
      "802:\tlearn: 0.6183439\ttotal: 12.4s\tremaining: 3.05s\n",
      "803:\tlearn: 0.6183162\ttotal: 12.5s\tremaining: 3.04s\n",
      "804:\tlearn: 0.6183008\ttotal: 12.5s\tremaining: 3.02s\n",
      "805:\tlearn: 0.6182854\ttotal: 12.5s\tremaining: 3s\n",
      "806:\tlearn: 0.6182679\ttotal: 12.5s\tremaining: 2.99s\n",
      "807:\tlearn: 0.6182450\ttotal: 12.5s\tremaining: 2.98s\n",
      "808:\tlearn: 0.6182165\ttotal: 12.5s\tremaining: 2.96s\n",
      "809:\tlearn: 0.6181922\ttotal: 12.6s\tremaining: 2.94s\n",
      "810:\tlearn: 0.6181676\ttotal: 12.6s\tremaining: 2.93s\n",
      "811:\tlearn: 0.6181501\ttotal: 12.6s\tremaining: 2.91s\n",
      "812:\tlearn: 0.6180957\ttotal: 12.6s\tremaining: 2.89s\n",
      "813:\tlearn: 0.6180618\ttotal: 12.6s\tremaining: 2.88s\n",
      "814:\tlearn: 0.6180288\ttotal: 12.6s\tremaining: 2.86s\n",
      "815:\tlearn: 0.6180082\ttotal: 12.6s\tremaining: 2.84s\n",
      "816:\tlearn: 0.6179525\ttotal: 12.6s\tremaining: 2.83s\n",
      "817:\tlearn: 0.6179355\ttotal: 12.6s\tremaining: 2.81s\n",
      "818:\tlearn: 0.6179096\ttotal: 12.7s\tremaining: 2.8s\n",
      "819:\tlearn: 0.6178674\ttotal: 12.7s\tremaining: 2.78s\n",
      "820:\tlearn: 0.6178324\ttotal: 12.7s\tremaining: 2.76s\n",
      "821:\tlearn: 0.6178046\ttotal: 12.7s\tremaining: 2.75s\n",
      "822:\tlearn: 0.6177767\ttotal: 12.7s\tremaining: 2.73s\n",
      "823:\tlearn: 0.6177546\ttotal: 12.7s\tremaining: 2.71s\n",
      "824:\tlearn: 0.6177091\ttotal: 12.7s\tremaining: 2.7s\n",
      "825:\tlearn: 0.6176804\ttotal: 12.7s\tremaining: 2.68s\n",
      "826:\tlearn: 0.6176598\ttotal: 12.7s\tremaining: 2.66s\n",
      "827:\tlearn: 0.6176292\ttotal: 12.7s\tremaining: 2.65s\n",
      "828:\tlearn: 0.6175689\ttotal: 12.8s\tremaining: 2.63s\n",
      "829:\tlearn: 0.6175623\ttotal: 12.8s\tremaining: 2.62s\n",
      "830:\tlearn: 0.6175311\ttotal: 12.8s\tremaining: 2.6s\n",
      "831:\tlearn: 0.6174877\ttotal: 12.8s\tremaining: 2.58s\n",
      "832:\tlearn: 0.6174687\ttotal: 12.8s\tremaining: 2.57s\n",
      "833:\tlearn: 0.6174314\ttotal: 12.8s\tremaining: 2.55s\n",
      "834:\tlearn: 0.6174078\ttotal: 12.8s\tremaining: 2.53s\n",
      "835:\tlearn: 0.6173622\ttotal: 12.8s\tremaining: 2.52s\n",
      "836:\tlearn: 0.6173352\ttotal: 12.8s\tremaining: 2.5s\n",
      "837:\tlearn: 0.6173088\ttotal: 12.9s\tremaining: 2.48s\n",
      "838:\tlearn: 0.6172861\ttotal: 12.9s\tremaining: 2.47s\n",
      "839:\tlearn: 0.6172443\ttotal: 12.9s\tremaining: 2.45s\n",
      "840:\tlearn: 0.6171924\ttotal: 12.9s\tremaining: 2.44s\n",
      "841:\tlearn: 0.6171521\ttotal: 12.9s\tremaining: 2.42s\n",
      "842:\tlearn: 0.6171285\ttotal: 12.9s\tremaining: 2.4s\n",
      "843:\tlearn: 0.6171055\ttotal: 12.9s\tremaining: 2.38s\n",
      "844:\tlearn: 0.6170774\ttotal: 12.9s\tremaining: 2.37s\n",
      "845:\tlearn: 0.6170064\ttotal: 12.9s\tremaining: 2.35s\n",
      "846:\tlearn: 0.6169738\ttotal: 12.9s\tremaining: 2.33s\n",
      "847:\tlearn: 0.6169326\ttotal: 13s\tremaining: 2.32s\n",
      "848:\tlearn: 0.6169127\ttotal: 13s\tremaining: 2.3s\n",
      "849:\tlearn: 0.6168929\ttotal: 13s\tremaining: 2.29s\n",
      "850:\tlearn: 0.6168669\ttotal: 13s\tremaining: 2.27s\n",
      "851:\tlearn: 0.6168428\ttotal: 13s\tremaining: 2.25s\n",
      "852:\tlearn: 0.6168179\ttotal: 13s\tremaining: 2.24s\n",
      "853:\tlearn: 0.6167820\ttotal: 13s\tremaining: 2.22s\n",
      "854:\tlearn: 0.6167405\ttotal: 13s\tremaining: 2.21s\n",
      "855:\tlearn: 0.6167040\ttotal: 13s\tremaining: 2.19s\n",
      "856:\tlearn: 0.6166771\ttotal: 13.1s\tremaining: 2.18s\n",
      "857:\tlearn: 0.6166583\ttotal: 13.1s\tremaining: 2.16s\n",
      "858:\tlearn: 0.6166445\ttotal: 13.1s\tremaining: 2.15s\n",
      "859:\tlearn: 0.6166047\ttotal: 13.1s\tremaining: 2.13s\n",
      "860:\tlearn: 0.6165829\ttotal: 13.1s\tremaining: 2.12s\n",
      "861:\tlearn: 0.6165484\ttotal: 13.1s\tremaining: 2.1s\n",
      "862:\tlearn: 0.6165052\ttotal: 13.2s\tremaining: 2.09s\n",
      "863:\tlearn: 0.6164319\ttotal: 13.2s\tremaining: 2.07s\n",
      "864:\tlearn: 0.6164094\ttotal: 13.2s\tremaining: 2.06s\n",
      "865:\tlearn: 0.6163713\ttotal: 13.2s\tremaining: 2.04s\n",
      "866:\tlearn: 0.6163546\ttotal: 13.2s\tremaining: 2.02s\n",
      "867:\tlearn: 0.6163307\ttotal: 13.2s\tremaining: 2.01s\n",
      "868:\tlearn: 0.6162701\ttotal: 13.2s\tremaining: 1.99s\n",
      "869:\tlearn: 0.6162331\ttotal: 13.2s\tremaining: 1.97s\n",
      "870:\tlearn: 0.6162025\ttotal: 13.2s\tremaining: 1.96s\n",
      "871:\tlearn: 0.6161680\ttotal: 13.2s\tremaining: 1.94s\n",
      "872:\tlearn: 0.6161252\ttotal: 13.2s\tremaining: 1.93s\n",
      "873:\tlearn: 0.6160806\ttotal: 13.3s\tremaining: 1.91s\n",
      "874:\tlearn: 0.6160687\ttotal: 13.3s\tremaining: 1.9s\n",
      "875:\tlearn: 0.6160370\ttotal: 13.3s\tremaining: 1.88s\n",
      "876:\tlearn: 0.6160312\ttotal: 13.3s\tremaining: 1.86s\n",
      "877:\tlearn: 0.6160010\ttotal: 13.3s\tremaining: 1.85s\n",
      "878:\tlearn: 0.6159537\ttotal: 13.3s\tremaining: 1.83s\n",
      "879:\tlearn: 0.6159058\ttotal: 13.3s\tremaining: 1.82s\n",
      "880:\tlearn: 0.6158494\ttotal: 13.3s\tremaining: 1.8s\n",
      "881:\tlearn: 0.6158179\ttotal: 13.4s\tremaining: 1.79s\n",
      "882:\tlearn: 0.6157688\ttotal: 13.4s\tremaining: 1.77s\n",
      "883:\tlearn: 0.6157440\ttotal: 13.4s\tremaining: 1.76s\n",
      "884:\tlearn: 0.6157228\ttotal: 13.4s\tremaining: 1.74s\n",
      "885:\tlearn: 0.6156991\ttotal: 13.4s\tremaining: 1.73s\n",
      "886:\tlearn: 0.6156783\ttotal: 13.4s\tremaining: 1.71s\n",
      "887:\tlearn: 0.6156420\ttotal: 13.5s\tremaining: 1.7s\n",
      "888:\tlearn: 0.6155962\ttotal: 13.5s\tremaining: 1.68s\n",
      "889:\tlearn: 0.6155816\ttotal: 13.5s\tremaining: 1.67s\n",
      "890:\tlearn: 0.6155572\ttotal: 13.5s\tremaining: 1.65s\n",
      "891:\tlearn: 0.6155184\ttotal: 13.5s\tremaining: 1.64s\n",
      "892:\tlearn: 0.6154865\ttotal: 13.5s\tremaining: 1.62s\n",
      "893:\tlearn: 0.6154616\ttotal: 13.6s\tremaining: 1.61s\n",
      "894:\tlearn: 0.6154106\ttotal: 13.6s\tremaining: 1.59s\n",
      "895:\tlearn: 0.6153919\ttotal: 13.6s\tremaining: 1.58s\n",
      "896:\tlearn: 0.6153527\ttotal: 13.6s\tremaining: 1.56s\n",
      "897:\tlearn: 0.6153304\ttotal: 13.6s\tremaining: 1.55s\n",
      "898:\tlearn: 0.6152739\ttotal: 13.6s\tremaining: 1.53s\n",
      "899:\tlearn: 0.6152409\ttotal: 13.7s\tremaining: 1.52s\n",
      "900:\tlearn: 0.6152029\ttotal: 13.7s\tremaining: 1.5s\n",
      "901:\tlearn: 0.6151773\ttotal: 13.7s\tremaining: 1.49s\n",
      "902:\tlearn: 0.6151249\ttotal: 13.7s\tremaining: 1.47s\n",
      "903:\tlearn: 0.6151060\ttotal: 13.7s\tremaining: 1.46s\n",
      "904:\tlearn: 0.6151060\ttotal: 13.8s\tremaining: 1.44s\n",
      "905:\tlearn: 0.6150785\ttotal: 13.8s\tremaining: 1.43s\n",
      "906:\tlearn: 0.6150602\ttotal: 13.8s\tremaining: 1.41s\n",
      "907:\tlearn: 0.6150184\ttotal: 13.8s\tremaining: 1.4s\n",
      "908:\tlearn: 0.6149945\ttotal: 13.8s\tremaining: 1.38s\n",
      "909:\tlearn: 0.6149487\ttotal: 13.8s\tremaining: 1.37s\n",
      "910:\tlearn: 0.6149106\ttotal: 13.8s\tremaining: 1.35s\n",
      "911:\tlearn: 0.6148752\ttotal: 13.8s\tremaining: 1.34s\n",
      "912:\tlearn: 0.6148301\ttotal: 13.9s\tremaining: 1.32s\n",
      "913:\tlearn: 0.6148045\ttotal: 13.9s\tremaining: 1.31s\n",
      "914:\tlearn: 0.6147780\ttotal: 13.9s\tremaining: 1.29s\n",
      "915:\tlearn: 0.6147582\ttotal: 13.9s\tremaining: 1.27s\n",
      "916:\tlearn: 0.6147359\ttotal: 13.9s\tremaining: 1.26s\n",
      "917:\tlearn: 0.6147119\ttotal: 13.9s\tremaining: 1.24s\n",
      "918:\tlearn: 0.6146779\ttotal: 13.9s\tremaining: 1.23s\n",
      "919:\tlearn: 0.6146495\ttotal: 13.9s\tremaining: 1.21s\n",
      "920:\tlearn: 0.6146155\ttotal: 13.9s\tremaining: 1.2s\n",
      "921:\tlearn: 0.6145743\ttotal: 14s\tremaining: 1.18s\n",
      "922:\tlearn: 0.6145106\ttotal: 14s\tremaining: 1.16s\n",
      "923:\tlearn: 0.6144896\ttotal: 14s\tremaining: 1.15s\n",
      "924:\tlearn: 0.6144540\ttotal: 14s\tremaining: 1.13s\n",
      "925:\tlearn: 0.6144332\ttotal: 14s\tremaining: 1.12s\n",
      "926:\tlearn: 0.6143969\ttotal: 14s\tremaining: 1.1s\n",
      "927:\tlearn: 0.6143712\ttotal: 14s\tremaining: 1.09s\n",
      "928:\tlearn: 0.6143355\ttotal: 14s\tremaining: 1.07s\n",
      "929:\tlearn: 0.6142848\ttotal: 14.1s\tremaining: 1.06s\n",
      "930:\tlearn: 0.6142564\ttotal: 14.1s\tremaining: 1.04s\n",
      "931:\tlearn: 0.6142184\ttotal: 14.1s\tremaining: 1.03s\n",
      "932:\tlearn: 0.6141562\ttotal: 14.1s\tremaining: 1.01s\n",
      "933:\tlearn: 0.6141206\ttotal: 14.1s\tremaining: 999ms\n",
      "934:\tlearn: 0.6140631\ttotal: 14.2s\tremaining: 986ms\n",
      "935:\tlearn: 0.6140449\ttotal: 14.2s\tremaining: 970ms\n",
      "936:\tlearn: 0.6139956\ttotal: 14.2s\tremaining: 955ms\n",
      "937:\tlearn: 0.6139625\ttotal: 14.2s\tremaining: 939ms\n",
      "938:\tlearn: 0.6139275\ttotal: 14.2s\tremaining: 924ms\n",
      "939:\tlearn: 0.6138993\ttotal: 14.3s\tremaining: 910ms\n",
      "940:\tlearn: 0.6138635\ttotal: 14.3s\tremaining: 895ms\n",
      "941:\tlearn: 0.6138381\ttotal: 14.3s\tremaining: 881ms\n",
      "942:\tlearn: 0.6138263\ttotal: 14.3s\tremaining: 865ms\n",
      "943:\tlearn: 0.6138122\ttotal: 14.3s\tremaining: 850ms\n",
      "944:\tlearn: 0.6137755\ttotal: 14.4s\tremaining: 836ms\n",
      "945:\tlearn: 0.6137545\ttotal: 14.4s\tremaining: 821ms\n",
      "946:\tlearn: 0.6137209\ttotal: 14.4s\tremaining: 806ms\n",
      "947:\tlearn: 0.6137103\ttotal: 14.4s\tremaining: 790ms\n",
      "948:\tlearn: 0.6136781\ttotal: 14.4s\tremaining: 775ms\n",
      "949:\tlearn: 0.6136369\ttotal: 14.4s\tremaining: 760ms\n",
      "950:\tlearn: 0.6136155\ttotal: 14.5s\tremaining: 746ms\n",
      "951:\tlearn: 0.6135555\ttotal: 14.5s\tremaining: 730ms\n",
      "952:\tlearn: 0.6135164\ttotal: 14.5s\tremaining: 715ms\n",
      "953:\tlearn: 0.6134883\ttotal: 14.5s\tremaining: 700ms\n",
      "954:\tlearn: 0.6134606\ttotal: 14.5s\tremaining: 684ms\n",
      "955:\tlearn: 0.6134358\ttotal: 14.5s\tremaining: 669ms\n",
      "956:\tlearn: 0.6133892\ttotal: 14.5s\tremaining: 653ms\n",
      "957:\tlearn: 0.6133563\ttotal: 14.6s\tremaining: 638ms\n",
      "958:\tlearn: 0.6133335\ttotal: 14.6s\tremaining: 623ms\n",
      "959:\tlearn: 0.6133238\ttotal: 14.6s\tremaining: 608ms\n",
      "960:\tlearn: 0.6132902\ttotal: 14.6s\tremaining: 592ms\n",
      "961:\tlearn: 0.6132772\ttotal: 14.6s\tremaining: 578ms\n",
      "962:\tlearn: 0.6132614\ttotal: 14.6s\tremaining: 563ms\n",
      "963:\tlearn: 0.6132252\ttotal: 14.7s\tremaining: 547ms\n",
      "964:\tlearn: 0.6132107\ttotal: 14.7s\tremaining: 532ms\n",
      "965:\tlearn: 0.6131748\ttotal: 14.7s\tremaining: 517ms\n",
      "966:\tlearn: 0.6131501\ttotal: 14.7s\tremaining: 501ms\n",
      "967:\tlearn: 0.6131406\ttotal: 14.7s\tremaining: 486ms\n",
      "968:\tlearn: 0.6131157\ttotal: 14.7s\tremaining: 471ms\n",
      "969:\tlearn: 0.6130821\ttotal: 14.7s\tremaining: 455ms\n",
      "970:\tlearn: 0.6130471\ttotal: 14.7s\tremaining: 440ms\n",
      "971:\tlearn: 0.6130017\ttotal: 14.8s\tremaining: 425ms\n",
      "972:\tlearn: 0.6129730\ttotal: 14.8s\tremaining: 410ms\n",
      "973:\tlearn: 0.6129574\ttotal: 14.8s\tremaining: 394ms\n",
      "974:\tlearn: 0.6129409\ttotal: 14.8s\tremaining: 379ms\n",
      "975:\tlearn: 0.6129328\ttotal: 14.8s\tremaining: 364ms\n",
      "976:\tlearn: 0.6129208\ttotal: 14.8s\tremaining: 348ms\n",
      "977:\tlearn: 0.6129066\ttotal: 14.8s\tremaining: 333ms\n",
      "978:\tlearn: 0.6128785\ttotal: 14.8s\tremaining: 318ms\n",
      "979:\tlearn: 0.6128457\ttotal: 14.8s\tremaining: 302ms\n",
      "980:\tlearn: 0.6128175\ttotal: 14.8s\tremaining: 287ms\n",
      "981:\tlearn: 0.6127912\ttotal: 14.8s\tremaining: 272ms\n",
      "982:\tlearn: 0.6127591\ttotal: 14.9s\tremaining: 257ms\n",
      "983:\tlearn: 0.6127372\ttotal: 14.9s\tremaining: 242ms\n",
      "984:\tlearn: 0.6127136\ttotal: 14.9s\tremaining: 227ms\n",
      "985:\tlearn: 0.6126864\ttotal: 14.9s\tremaining: 212ms\n",
      "986:\tlearn: 0.6126671\ttotal: 14.9s\tremaining: 196ms\n",
      "987:\tlearn: 0.6126187\ttotal: 14.9s\tremaining: 181ms\n",
      "988:\tlearn: 0.6126063\ttotal: 14.9s\tremaining: 166ms\n",
      "989:\tlearn: 0.6125786\ttotal: 15s\tremaining: 151ms\n",
      "990:\tlearn: 0.6125541\ttotal: 15s\tremaining: 136ms\n",
      "991:\tlearn: 0.6125380\ttotal: 15s\tremaining: 121ms\n",
      "992:\tlearn: 0.6125185\ttotal: 15s\tremaining: 106ms\n",
      "993:\tlearn: 0.6124671\ttotal: 15s\tremaining: 90.5ms\n",
      "994:\tlearn: 0.6124410\ttotal: 15s\tremaining: 75.4ms\n",
      "995:\tlearn: 0.6124198\ttotal: 15s\tremaining: 60.3ms\n",
      "996:\tlearn: 0.6123848\ttotal: 15s\tremaining: 45.2ms\n",
      "997:\tlearn: 0.6123447\ttotal: 15s\tremaining: 30.1ms\n",
      "998:\tlearn: 0.6122954\ttotal: 15s\tremaining: 15.1ms\n",
      "999:\tlearn: 0.6122726\ttotal: 15.1s\tremaining: 0us\n"
     ]
    },
    {
     "data": {
      "text/plain": [
       "<catboost.core.CatBoostRegressor at 0x1c4dc613a90>"
      ]
     },
     "execution_count": 235,
     "metadata": {},
     "output_type": "execute_result"
    }
   ],
   "source": [
    "# reg=cb.CatBoostRegressor(loss_function='RMSE',depth=2,learning_rate=0.08,min_data_in_leaf=20)\n",
    "reg=cb.CatBoostRegressor()\n",
    "reg.fit(X_train, y_train)"
   ]
  },
  {
   "cell_type": "code",
   "execution_count": 236,
   "metadata": {},
   "outputs": [
    {
     "data": {
      "text/plain": [
       "0.43719703841772406"
      ]
     },
     "execution_count": 236,
     "metadata": {},
     "output_type": "execute_result"
    }
   ],
   "source": [
    "preds=reg.predict(X_train)\n",
    "r2_score(y_train,preds)"
   ]
  },
  {
   "cell_type": "code",
   "execution_count": null,
   "metadata": {},
   "outputs": [],
   "source": [
    "search=GridSearchCV(estimator=reg,param_grid={'min_data_in_leaf':[20,40,50]},scoring='r2',cv=5,return_train_score=True)\n",
    "search.fit(X_train, y_train)"
   ]
  },
  {
   "cell_type": "code",
   "execution_count": 212,
   "metadata": {},
   "outputs": [
    {
     "data": {
      "text/plain": [
       "{'min_data_in_leaf': 20}"
      ]
     },
     "execution_count": 212,
     "metadata": {},
     "output_type": "execute_result"
    }
   ],
   "source": [
    "search.best_params_"
   ]
  },
  {
   "cell_type": "code",
   "execution_count": 214,
   "metadata": {},
   "outputs": [],
   "source": [
    "estimator=search.best_estimator_"
   ]
  },
  {
   "cell_type": "code",
   "execution_count": 213,
   "metadata": {},
   "outputs": [
    {
     "data": {
      "text/plain": [
       "0.3054003834408499"
      ]
     },
     "execution_count": 213,
     "metadata": {},
     "output_type": "execute_result"
    }
   ],
   "source": [
    "search.best_score_"
   ]
  },
  {
   "cell_type": "code",
   "execution_count": 201,
   "metadata": {},
   "outputs": [],
   "source": [
    "def boosting(X,y,iterations,lr=0):\n",
    "    lambdaList=[]\n",
    "    base=DecisionTreeRegressor(max_depth=1,max_features=20)\n",
    "    base.fit(X,y)\n",
    "    preds=base.predict(X)\n",
    "    res=y-preds\n",
    "    residuals=res\n",
    "\n",
    "    for i in range(iterations):\n",
    "        base=DecisionTreeRegressor(max_depth=1,max_features=20)\n",
    "        base.fit(X,residuals)\n",
    "        preds1=base.predict(X)\n",
    "        res1=residuals-preds1\n",
    "        mean=res1.mean()\n",
    "        l=-1/2*(np.log2(mean+1) - np.log2((1-mean)+1))\n",
    "        print(l)\n",
    "        preds+= l*np.array(preds1)\n",
    "        residuals=res1\n",
    "\n",
    "    return preds\n",
    "\n",
    "\n",
    "\n"
   ]
  },
  {
   "cell_type": "code",
   "execution_count": 237,
   "metadata": {},
   "outputs": [
    {
     "data": {
      "text/plain": [
       "0.33790488233721916"
      ]
     },
     "execution_count": 237,
     "metadata": {},
     "output_type": "execute_result"
    }
   ],
   "source": [
    "preds=reg.predict(X_test)\n",
    "r2_score(y_test,preds)"
   ]
  },
  {
   "cell_type": "code",
   "execution_count": 238,
   "metadata": {},
   "outputs": [
    {
     "data": {
      "text/plain": [
       "0.4397033696666945"
      ]
     },
     "execution_count": 238,
     "metadata": {},
     "output_type": "execute_result"
    }
   ],
   "source": [
    "mean_squared_error(y_test,preds)"
   ]
  },
  {
   "cell_type": "code",
   "execution_count": 6,
   "metadata": {},
   "outputs": [
    {
     "data": {
      "text/plain": [
       "GridSearchCV(cv=3, estimator=KNeighborsRegressor(),\n",
       "             param_grid={'n_neighbors': [1, 2, 3, 4, 5, 6, 7, 8, 9, 10]},\n",
       "             return_train_score=True, scoring='r2')"
      ]
     },
     "execution_count": 6,
     "metadata": {},
     "output_type": "execute_result"
    }
   ],
   "source": [
    "knn=KNeighborsRegressor()\n",
    "\n",
    "search=GridSearchCV(estimator=knn,param_grid={'n_neighbors':[i for i in range(1,11)]},scoring='r2',cv=3,return_train_score=True)\n",
    "search.fit(X_train, y_train)"
   ]
  },
  {
   "cell_type": "code",
   "execution_count": 7,
   "metadata": {},
   "outputs": [
    {
     "data": {
      "text/plain": [
       "KNeighborsRegressor(n_neighbors=10)"
      ]
     },
     "execution_count": 7,
     "metadata": {},
     "output_type": "execute_result"
    }
   ],
   "source": [
    "search.best_estimator_"
   ]
  },
  {
   "cell_type": "code",
   "execution_count": 8,
   "metadata": {},
   "outputs": [
    {
     "data": {
      "text/plain": [
       "0.06830318996790534"
      ]
     },
     "execution_count": 8,
     "metadata": {},
     "output_type": "execute_result"
    }
   ],
   "source": [
    "search.best_score_"
   ]
  },
  {
   "cell_type": "code",
   "execution_count": null,
   "metadata": {},
   "outputs": [],
   "source": []
  }
 ],
 "metadata": {
  "interpreter": {
   "hash": "423d5580e5a70cfacc6726872e3658ff2836f3f7c1fd3c3256b5e5f36e2fe05e"
  },
  "kernelspec": {
   "display_name": "Python 3.9.7 ('tf')",
   "language": "python",
   "name": "python3"
  },
  "language_info": {
   "codemirror_mode": {
    "name": "ipython",
    "version": 3
   },
   "file_extension": ".py",
   "mimetype": "text/x-python",
   "name": "python",
   "nbconvert_exporter": "python",
   "pygments_lexer": "ipython3",
   "version": "3.9.7"
  },
  "orig_nbformat": 4
 },
 "nbformat": 4,
 "nbformat_minor": 2
}
